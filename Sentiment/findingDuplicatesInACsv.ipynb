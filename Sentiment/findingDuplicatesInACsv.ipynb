{
  "nbformat": 4,
  "nbformat_minor": 0,
  "metadata": {
    "colab": {
      "name": "Untitled3.ipynb",
      "provenance": [],
      "collapsed_sections": [],
      "authorship_tag": "ABX9TyOEMg+arfYqWGxRTXVcFs2d",
      "include_colab_link": true
    },
    "kernelspec": {
      "name": "python3",
      "display_name": "Python 3"
    }
  },
  "cells": [
    {
      "cell_type": "markdown",
      "metadata": {
        "id": "view-in-github",
        "colab_type": "text"
      },
      "source": [
        "<a href=\"https://colab.research.google.com/github/EleonoraBartolomucci/Fairness/blob/master/Sentiment/findingDuplicatesInACsv.ipynb\" target=\"_parent\"><img src=\"https://colab.research.google.com/assets/colab-badge.svg\" alt=\"Open In Colab\"/></a>"
      ]
    },
    {
      "cell_type": "code",
      "metadata": {
        "id": "EqBUUswyzxvg",
        "colab_type": "code",
        "outputId": "02e6af55-e0e3-4a53-862b-fac0a4b303c5",
        "colab": {
          "base_uri": "https://localhost:8080/",
          "height": 663
        }
      },
      "source": [
        "from pydrive.auth import GoogleAuth\n",
        "from pydrive.drive import GoogleDrive\n",
        "from oauth2client.client import GoogleCredentials\n",
        "from google.colab import auth\n",
        "import pandas as pd\n",
        "import csv\n",
        "\n",
        "auth.authenticate_user()\n",
        "gauth = GoogleAuth()\n",
        "gauth.credentials = GoogleCredentials.get_application_default()\n",
        "drive = GoogleDrive(gauth)\n",
        "\n",
        "nome_ristorante = 'CravingsBuffet'\n",
        "\n",
        "id_csv = '1psj_l0RXExzkfjGj-9TGEd-G_EMHTMGE'  # FILE ID, got on google drive with condivision link\n",
        "download = drive.CreateFile({'id': id_csv})\n",
        "download.GetContentFile('%s' % nome_ristorante + '_ultimiUtenti.csv')\n",
        "\n",
        "#Csv originale\n",
        "df = pd.read_csv('%s' % nome_ristorante + '_ultimiUtenti.csv')\n",
        "print(df)\n",
        "\n",
        "#Stampa duplicati\n",
        "print(df[df.duplicated(keep='first')])\n",
        "\n",
        "#Elimina i duplicati e salva il risultato in un csv\n",
        "df = pd.read_csv('%s' % nome_ristorante + '_ultimiUtenti.csv').drop_duplicates(keep='first')\n",
        "print(df)\n",
        "df.to_csv('%s' % nome_ristorante + '_ultimiUtenti.csv', index=False)\n",
        "\n",
        "folder_id = '1AOKysYzq1RwgkGSxVAtbT77qcmlsnkEJ'    #cartella dove metto il csv\n",
        "file_metadata = {'title': '%s' % nome_ristorante +'_ultimiUtenti.csv',\"parents\":[{\"id\": folder_id,\"kind\":\"drive#childList\"}]}\n",
        "folder = drive.CreateFile(file_metadata)\n",
        "folder.SetContentFile('%s' % nome_ristorante +'_ultimiUtenti.csv') #The contents of the file\n",
        "folder.Upload()"
      ],
      "execution_count": 30,
      "outputs": [
        {
          "output_type": "stream",
          "text": [
            "                     user_id                                        text_review\n",
            "0     xZDovqMdVGNOmjKK83VbUw  having lived in vegas for 20+ yrs, we have had...\n",
            "1     4Xkk4WJhTGUEjCrMcQzJCg  This place is my favorite buffet. The ambiance...\n",
            "2     WtXa80CoDZFpOwL54T--bw  Visited 4/15/2018 - first time and won&#39;t b...\n",
            "3     AGpnVxWBOSsLw4VuC81q7A  So we were hungry and we were looking for a le...\n",
            "4     lurEQkg-9bQ1pb793KWV5w  The only reason we chose to eat here was becau...\n",
            "...                      ...                                                ...\n",
            "1520  WBHEgf3o62W2iKuuulqAuQ  I don&#39;t understand the bad reviews for thi...\n",
            "1521  jUkfklC7mMEPBVLSOBeXNA  One of my favorite buffets! If you like seafoo...\n",
            "1522  QM9bRogGOTK8mo45bQ6dtQ  My wife and I went to Cravings while in town f...\n",
            "1523  QC13EpfxNDqTGkdgt05uJw  The first thing that struck me about this buff...\n",
            "1524  SBYq1zEWQsqEc8jjy329vg  I&#39;ve been a tourist that has been to this ...\n",
            "\n",
            "[1525 rows x 2 columns]\n",
            "                    user_id                                        text_review\n",
            "286  0XKbQ0ecQ2D3Dm8ZBVjVGw  Color me unimpressed.<br>I found much of the f...\n",
            "405  NRE3T9Floim2P6q0ymfUWw  We were staying at the Mirage and since we wer...\n",
            "412  I1dKh4olStlU7i-hEi4_TQ  Pretty impressive buffet. I&#39;m sure it&#39;...\n",
            "430  jcShB-2x8gHe6mREmbzqfw  This was the worst dining experience we had du...\n",
            "431  I1tTdj4RV7K0b4Or5xGyaw  I&#39;m a buffet nut and have been to enough b...\n",
            "432  uIaM3Upp9WFOCqHBmBEjXg  It was better than the buffett at Caesars. You...\n",
            "467  7rcrcTV47ibFscS2f-KjYA  I&#39;m kinda disappointed with the quality of...\n",
            "705  jURsdln9hCEauhMnWPoOBA  What happened to the Mirage Buffet that I reme...\n",
            "716  BQFRRP3Du-ZWgn9hZgiJhA  One of the best under-$20-buffet in Las Vegas....\n",
            "                     user_id                                        text_review\n",
            "0     xZDovqMdVGNOmjKK83VbUw  having lived in vegas for 20+ yrs, we have had...\n",
            "1     4Xkk4WJhTGUEjCrMcQzJCg  This place is my favorite buffet. The ambiance...\n",
            "2     WtXa80CoDZFpOwL54T--bw  Visited 4/15/2018 - first time and won&#39;t b...\n",
            "3     AGpnVxWBOSsLw4VuC81q7A  So we were hungry and we were looking for a le...\n",
            "4     lurEQkg-9bQ1pb793KWV5w  The only reason we chose to eat here was becau...\n",
            "...                      ...                                                ...\n",
            "1520  WBHEgf3o62W2iKuuulqAuQ  I don&#39;t understand the bad reviews for thi...\n",
            "1521  jUkfklC7mMEPBVLSOBeXNA  One of my favorite buffets! If you like seafoo...\n",
            "1522  QM9bRogGOTK8mo45bQ6dtQ  My wife and I went to Cravings while in town f...\n",
            "1523  QC13EpfxNDqTGkdgt05uJw  The first thing that struck me about this buff...\n",
            "1524  SBYq1zEWQsqEc8jjy329vg  I&#39;ve been a tourist that has been to this ...\n",
            "\n",
            "[1516 rows x 2 columns]\n"
          ],
          "name": "stdout"
        }
      ]
    }
  ]
}