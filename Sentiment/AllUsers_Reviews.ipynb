{
  "nbformat": 4,
  "nbformat_minor": 0,
  "metadata": {
    "colab": {
      "name": "Untitled4.ipynb",
      "provenance": [],
      "include_colab_link": true
    },
    "kernelspec": {
      "name": "python3",
      "display_name": "Python 3"
    }
  },
  "cells": [
    {
      "cell_type": "markdown",
      "metadata": {
        "id": "view-in-github",
        "colab_type": "text"
      },
      "source": [
        "<a href=\"https://colab.research.google.com/github/EleonoraBartolomucci/Fairness/blob/master/Sentiment/AllUsers_Reviews.ipynb\" target=\"_parent\"><img src=\"https://colab.research.google.com/assets/colab-badge.svg\" alt=\"Open In Colab\"/></a>"
      ]
    },
    {
      "cell_type": "code",
      "metadata": {
        "id": "Tbk6Ps8zkkHD",
        "colab_type": "code",
        "colab": {}
      },
      "source": [
        "#Crea il csv contenente il merge tra \n",
        "# -csv contenente tutti gli utenti con relative recensioni ordinati per Relevance\n",
        "# -csv contenente tutti gli utenti con relative recensioni ordinati per Date\n",
        "\n",
        "#da cambiare:\n",
        "#nome_ristorante\n",
        "#nome_ristorante_staccato\n",
        "#relevance (link condivisibile del csv con tutte le review per relevance)\n",
        "#date (link condivisibile del csv con tutte le review per date)\n",
        "from pydrive.auth import GoogleAuth\n",
        "from pydrive.drive import GoogleDrive\n",
        "from oauth2client.client import GoogleCredentials\n",
        "from google.colab import auth\n",
        "import json\n",
        "import pandas as pd\n",
        "import csv\n",
        "\n",
        "auth.authenticate_user()\n",
        "gauth = GoogleAuth()\n",
        "gauth.credentials = GoogleCredentials.get_application_default()\n",
        "drive = GoogleDrive(gauth)\n",
        "\n",
        "nome_ristorante = 'TupeloHoney'\n",
        "nome_ristorante_staccato = 'Tupelo Honey'\n",
        "\n",
        "\n",
        "# users_restaurant_id = id del file csv del ristorante (si trova in data > Scraping > Reviews_Relevance) > (nomeRistorante)_relevance_desc.csv)\n",
        "#File dove ci sono id e recensione\n",
        "relevance = '1OwogMEhBcycNrUEPHRAOcCyUeEa0S0Ho'  # FILE ID, got on google drive with condivision link\n",
        "download = drive.CreateFile({'id': relevance})\n",
        "download.GetContentFile('%s' % nome_ristorante_staccato + '_relevance_desc.csv')\n",
        "\n",
        "\n",
        "# users_restaurant_id = id del file csv del ristorante (si trova in data > Scraping > Reviews_date) > (nomeRistorante)_date_desc.csv)\n",
        "#File dove ci sono id e recensione\n",
        "date = '15LwpZqBUvtbuePS-7K0ezRtfUecInjx9'  # FILE ID, got on google drive with condivision link\n",
        "download = drive.CreateFile({'id': date})\n",
        "download.GetContentFile('%s' % nome_ristorante_staccato + '_date_desc.csv')\n",
        "\n",
        "#leggo il file csv del ristorante\n",
        "restaurant_relevance = pd.read_csv('%s' % nome_ristorante_staccato + '_relevance_desc.csv')\n",
        "\n",
        "#leggo il file csv del ristorante\n",
        "restaurant_date = pd.read_csv('%s' % nome_ristorante_staccato + '_date_desc.csv')\n",
        "\n",
        "merged =  pd.merge(restaurant_relevance,restaurant_date, how='outer', indicator=False)\n",
        "\n",
        "merged.to_csv('%s' % nome_ristorante + '_AllUsers.csv', index=False)\n",
        "\n",
        "folder_id = '1qd07afmJktKju4tsxYfanJWEafV3JSEb'    #cartella dove metto il csv\n",
        "file_metadata = {'title': '%s' % nome_ristorante + '_AllUsers.csv',\"parents\":[{\"id\": folder_id,\"kind\":\"drive#childList\"}]}\n",
        "folder = drive.CreateFile(file_metadata)\n",
        "folder.SetContentFile('%s' % nome_ristorante + '_AllUsers.csv') #The contents of the file\n",
        "folder.Upload()"
      ],
      "execution_count": 0,
      "outputs": []
    }
  ]
}