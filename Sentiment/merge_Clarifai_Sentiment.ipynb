{
  "nbformat": 4,
  "nbformat_minor": 0,
  "metadata": {
    "colab": {
      "name": "Untitled4.ipynb",
      "provenance": [],
      "include_colab_link": true
    },
    "kernelspec": {
      "name": "python3",
      "display_name": "Python 3"
    }
  },
  "cells": [
    {
      "cell_type": "markdown",
      "metadata": {
        "id": "view-in-github",
        "colab_type": "text"
      },
      "source": [
        "<a href=\"https://colab.research.google.com/github/EleonoraBartolomucci/Fairness/blob/master/Sentiment/merge_Clarifai_Sentiment.ipynb\" target=\"_parent\"><img src=\"https://colab.research.google.com/assets/colab-badge.svg\" alt=\"Open In Colab\"/></a>"
      ]
    },
    {
      "cell_type": "code",
      "metadata": {
        "id": "Tbk6Ps8zkkHD",
        "colab_type": "code",
        "colab": {}
      },
      "source": [
        "#da cambiare:\n",
        "#nome_ristorante_sort con il sort \n",
        "#users_restaurant_id (link condivisibile del csv clarifai)\n",
        "#sentiment_id (link condivisibile del csv sentiment)\n",
        "\n",
        "from pydrive.auth import GoogleAuth\n",
        "from pydrive.drive import GoogleDrive\n",
        "from oauth2client.client import GoogleCredentials\n",
        "from google.colab import auth\n",
        "import json\n",
        "import pandas as pd\n",
        "import csv\n",
        "\n",
        "auth.authenticate_user()\n",
        "gauth = GoogleAuth()\n",
        "gauth.credentials = GoogleCredentials.get_application_default()\n",
        "drive = GoogleDrive(gauth)\n",
        "\n",
        "nome_ristorante_sort = 'TupeloHoney_Date'\n",
        "\n",
        "# users_restaurant_id = id del file csv del ristorante (si trova in data > face_data > Clarifai) > (nomeRistorante) > (nomeRistorante)_(Sort)_UsersData.csv)\n",
        "#File dove ci sono id e recensione\n",
        "users_restaurant_id = '1dR5A1N9zpscaab_PYJhJz4W1ClSQmWmW'  # FILE ID, got on google drive with condivision link\n",
        "download = drive.CreateFile({'id': users_restaurant_id})\n",
        "download.GetContentFile('%s' % nome_ristorante_sort + '_UsersData.csv')\n",
        "\n",
        "#leggo il file csv del ristorante\n",
        "clarifai = pd.read_csv('%s' % nome_ristorante_sort + '_UsersData.csv')\n",
        "\n",
        "# sentiment_id = id del file csv del ristorante (si trova in data > Sentiment > Sentiment Analisys > (nomeRistorante) > (nomeRistorante)_(Sort)_ReviewSentiment.csv)\n",
        "sentiment_id = '1z4r5wJJVHy65OGWo4VFBz0vviAebPr9D'  # FILE ID, got on google drive with condivision link\n",
        "download = drive.CreateFile({'id': sentiment_id})\n",
        "download.GetContentFile('%s' % nome_ristorante_sort + '_ReviewSentiment.csv')\n",
        "\n",
        "#leggo il file csv del ristorante\n",
        "sentiment = pd.read_csv('%s' % nome_ristorante_sort + '_ReviewSentiment.csv')\n",
        "\n",
        "#foto = pd.read_csv('%s' % nome_ristorante + '_FotoRandom.csv')\n",
        "merged = clarifai.merge(sentiment,how = 'left',left_on='user_id', right_on='user_id')\n",
        "\n",
        "#review_random = merged.drop(columns=['user_id'])\n",
        "\n",
        "#csv contenente user_id e review\n",
        "merged.to_csv('%s' % nome_ristorante_sort + '_Analisys.csv', index=False)\n",
        "\n",
        "folder_id = '1K5kXpkOhp4CkyUnOfOdaLixbCklxi9yr'    #cartella dove metto il csv\n",
        "file_metadata = {'title': '%s' % nome_ristorante_sort + '_Analisys.csv',\"parents\":[{\"id\": folder_id,\"kind\":\"drive#childList\"}]}\n",
        "folder = drive.CreateFile(file_metadata)\n",
        "folder.SetContentFile('%s' % nome_ristorante_sort + '_Analisys.csv') #The contents of the file\n",
        "folder.Upload()"
      ],
      "execution_count": 0,
      "outputs": []
    }
  ]
}