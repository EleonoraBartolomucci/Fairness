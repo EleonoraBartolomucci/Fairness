{
  "nbformat": 4,
  "nbformat_minor": 0,
  "metadata": {
    "colab": {
      "name": "Untitled4.ipynb",
      "provenance": [],
      "include_colab_link": true
    },
    "kernelspec": {
      "name": "python3",
      "display_name": "Python 3"
    }
  },
  "cells": [
    {
      "cell_type": "markdown",
      "metadata": {
        "id": "view-in-github",
        "colab_type": "text"
      },
      "source": [
        "<a href=\"https://colab.research.google.com/github/EleonoraBartolomucci/Fairness/blob/master/Sentiment/Update.ipynb\" target=\"_parent\"><img src=\"https://colab.research.google.com/assets/colab-badge.svg\" alt=\"Open In Colab\"/></a>"
      ]
    },
    {
      "cell_type": "code",
      "metadata": {
        "id": "Tbk6Ps8zkkHD",
        "colab_type": "code",
        "colab": {}
      },
      "source": [
        "#Crea il csv contenente la differenza tra \n",
        "# -csv contenente tutti gli users con le relative recensioni\n",
        "# -csv contenente gli user del quale abbiamo già analizzato la review\n",
        "\n",
        "#da cambiare:\n",
        "#nome_ristorante\n",
        "#users_restaurant_id (link condivisibile del csv con tutti gli user)\n",
        "#merge_id (link condivisibile del csv con il merge)\n",
        "\n",
        "from pydrive.auth import GoogleAuth\n",
        "from pydrive.drive import GoogleDrive\n",
        "from oauth2client.client import GoogleCredentials\n",
        "from google.colab import auth\n",
        "import json\n",
        "import pandas as pd\n",
        "import csv\n",
        "\n",
        "auth.authenticate_user()\n",
        "gauth = GoogleAuth()\n",
        "gauth.credentials = GoogleCredentials.get_application_default()\n",
        "drive = GoogleDrive(gauth)\n",
        "\n",
        "nome_ristorante = 'TupeloHoney'\n",
        "\n",
        "# DOWNLOAD Restaurant.csv FROM DRIVE\n",
        "# users_restaurant_id = id del file csv del ristorante (si trova in data > Scraping > Reviews_Relevance) > (nomeRistorante)_relevance_desc.csv)\n",
        "#File dove ci sono id e recensione\n",
        "users_restaurant_id = '1-VkfBjYkrUQ4B0iAZbRqUoRHjWIQLgTO'  # FILE ID, got on google drive with condivision link\n",
        "download = drive.CreateFile({'id': users_restaurant_id})\n",
        "download.GetContentFile('%s' % nome_ristorante + '_AllUsers.csv')\n",
        "\n",
        "#leggo il file csv del ristorante\n",
        "#restaurant = pd.read_csv('%s' % nome_ristorante + '_AllUsers.csv')\n",
        "\n",
        "merge_id = '1tiSJIOE8XBvkTfsI__KWWeHtUsonSuyn'  # FILE ID, got on google drive with condivision link\n",
        "download = drive.CreateFile({'id': merge_id})\n",
        "download.GetContentFile('%s' % nome_ristorante + '_merge.csv')\n",
        "\n",
        "#leggo il file csv del ristorante\n",
        "#merge = pd.read_csv('%s' % nome_ristorante + '_merge.csv')\n",
        "\n",
        "\n",
        "with open('%s' % nome_ristorante + '_AllUsers.csv', 'r') as t1, open('%s' % nome_ristorante + '_merge.csv', 'r') as t2:\n",
        "    fileone = t1.readlines()\n",
        "    filetwo = t2.readlines()\n",
        "with open('%s' % nome_ristorante +'_update.csv', 'w') as outFile:\n",
        "    writer = csv.writer(outFile)\n",
        "    #creo header del csv\n",
        "    header = ['user_id','text_review']\n",
        "    writer.writerow(header)\n",
        "    for line in fileone:\n",
        "        print(line)\n",
        "        if line not in filetwo:\n",
        "            outFile.write(line)\n",
        "\n",
        "folder_id = '1qd07afmJktKju4tsxYfanJWEafV3JSEb'    #cartella dove metto il csv\n",
        "file_metadata = {'title': '%s' % nome_ristorante +'_update.csv',\"parents\":[{\"id\": folder_id,\"kind\":\"drive#childList\"}]}\n",
        "folder = drive.CreateFile(file_metadata)\n",
        "folder.SetContentFile('%s' % nome_ristorante +'_update.csv') #The contents of the file\n",
        "folder.Upload()"
      ],
      "execution_count": 0,
      "outputs": []
    }
  ]
}