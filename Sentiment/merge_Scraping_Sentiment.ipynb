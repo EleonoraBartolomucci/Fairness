{
  "nbformat": 4,
  "nbformat_minor": 0,
  "metadata": {
    "colab": {
      "name": "Untitled4.ipynb",
      "provenance": [],
      "include_colab_link": true
    },
    "kernelspec": {
      "name": "python3",
      "display_name": "Python 3"
    }
  },
  "cells": [
    {
      "cell_type": "markdown",
      "metadata": {
        "id": "view-in-github",
        "colab_type": "text"
      },
      "source": [
        "<a href=\"https://colab.research.google.com/github/EleonoraBartolomucci/Fairness/blob/master/Sentiment/merge_Scraping_Sentiment.ipynb\" target=\"_parent\"><img src=\"https://colab.research.google.com/assets/colab-badge.svg\" alt=\"Open In Colab\"/></a>"
      ]
    },
    {
      "cell_type": "code",
      "metadata": {
        "id": "Tbk6Ps8zkkHD",
        "colab_type": "code",
        "colab": {}
      },
      "source": [
        "#da cambiare:\n",
        "#nome_ristorante\n",
        "#nome_ristorante_staccato_sort con il sort (del file scraping)\n",
        "#nome_ristorante_sort con il sort \n",
        "#users_restaurant_id (link condivisibile del csv con tutte le review)\n",
        "#sentiment_id (link condivisibile del csv con il sentiment RANDOM)\n",
        "#file_list (cartella da cui prendo le foto)\n",
        "from pydrive.auth import GoogleAuth\n",
        "from pydrive.drive import GoogleDrive\n",
        "from oauth2client.client import GoogleCredentials\n",
        "from google.colab import auth\n",
        "import json\n",
        "import pandas as pd\n",
        "import csv\n",
        "\n",
        "auth.authenticate_user()\n",
        "gauth = GoogleAuth()\n",
        "gauth.credentials = GoogleCredentials.get_application_default()\n",
        "drive = GoogleDrive(gauth)\n",
        "\n",
        "nome_ristorante = 'TupeloHoney'\n",
        "nome_ristorante_staccato_sort = 'Tupelo Honey_relevance'\n",
        "nome_ristorante_sort = 'TupeloHoney_Relevance'\n",
        "\n",
        "# users_restaurant_id = id del file csv del ristorante (si trova in data > Scraping > Reviews_Relevance) > (nomeRistorante)_relevance_desc.csv)\n",
        "#File dove ci sono id e recensione\n",
        "users_restaurant_id = '1OwogMEhBcycNrUEPHRAOcCyUeEa0S0Ho'  # FILE ID, got on google drive with condivision link\n",
        "download = drive.CreateFile({'id': users_restaurant_id})\n",
        "download.GetContentFile('%s' % nome_ristorante_staccato_sort + '_desc.csv')\n",
        "\n",
        "#leggo il file csv del ristorante\n",
        "relevance = pd.read_csv('%s' % nome_ristorante_staccato_sort + '_desc.csv')\n",
        "\n",
        "# sentiment_id = id del file csv del ristorante (si trova in data > Sentiment > Sentiment Analisys > (nomeRistorante) > (nomeRistorante)_Random_ReviewSentiment.csv)\n",
        "sentiment_id = '1DsOTrTZepa8DAeSGf8v7suIwdc7bm8jB'  # FILE ID, got on google drive with condivision link\n",
        "download = drive.CreateFile({'id': sentiment_id})\n",
        "download.GetContentFile('%s' % nome_ristorante + '_Random_ReviewSentiment.csv')\n",
        "\n",
        "#leggo il file csv del ristorante\n",
        "sentiment = pd.read_csv('%s' % nome_ristorante + '_Random_ReviewSentiment.csv')\n",
        "\n",
        "#foto = pd.read_csv('%s' % nome_ristorante + '_FotoRandom.csv')\n",
        "merged = relevance.merge(sentiment,how = 'left',left_on='user_id', right_on='id')\n",
        "\n",
        "review_random = merged.drop(columns=['id'])\n",
        "\n",
        "#csv contenente user_id e review\n",
        "review_random.to_csv('%s' % nome_ristorante_sort + '_ReviewSentiment.csv', index=False)\n",
        "\n",
        "folder_id = '1HlpMhtIlXl53wp88WeiGvc7im4_9waYH'    #cartella dove metto il csv\n",
        "file_metadata = {'title': '%s' % nome_ristorante_sort + '_ReviewSentiment.csv',\"parents\":[{\"id\": folder_id,\"kind\":\"drive#childList\"}]}\n",
        "folder = drive.CreateFile(file_metadata)\n",
        "folder.SetContentFile('%s' % nome_ristorante_sort + '_ReviewSentiment.csv') #The contents of the file\n",
        "folder.Upload()"
      ],
      "execution_count": 0,
      "outputs": []
    }
  ]
}