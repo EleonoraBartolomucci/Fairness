{
  "nbformat": 4,
  "nbformat_minor": 0,
  "metadata": {
    "colab": {
      "name": "Untitled4.ipynb",
      "provenance": [],
      "authorship_tag": "ABX9TyN5ksxVxsb6K7+wBebuvj8S",
      "include_colab_link": true
    },
    "kernelspec": {
      "name": "python3",
      "display_name": "Python 3"
    }
  },
  "cells": [
    {
      "cell_type": "markdown",
      "metadata": {
        "id": "view-in-github",
        "colab_type": "text"
      },
      "source": [
        "<a href=\"https://colab.research.google.com/github/EleonoraBartolomucci/Fairness/blob/master/Sentiment/merge_clarifai_reviews.ipynb\" target=\"_parent\"><img src=\"https://colab.research.google.com/assets/colab-badge.svg\" alt=\"Open In Colab\"/></a>"
      ]
    },
    {
      "cell_type": "code",
      "metadata": {
        "id": "Tbk6Ps8zkkHD",
        "colab_type": "code",
        "colab": {}
      },
      "source": [
        "#Crea il csv contenente il merge tra \n",
        "# -csv contenente tutte le recensioni del ristorante\n",
        "# -csv contenente gli user presi random analizzati da Clarifai\n",
        "\n",
        "#da cambiare:\n",
        "#nome_ristorante\n",
        "#users_restaurant_id (link condivisibile del csv con tutte le review)\n",
        "#users_clarifai_id (link condivisibile del csv random di clarifai)\n",
        "from pydrive.auth import GoogleAuth\n",
        "from pydrive.drive import GoogleDrive\n",
        "from oauth2client.client import GoogleCredentials\n",
        "from google.colab import auth\n",
        "import json\n",
        "import pandas as pd\n",
        "import csv\n",
        "\n",
        "auth.authenticate_user()\n",
        "gauth = GoogleAuth()\n",
        "gauth.credentials = GoogleCredentials.get_application_default()\n",
        "drive = GoogleDrive(gauth)\n",
        "\n",
        "nome_ristorante = 'TupeloHoney'\n",
        "nome_ristorante_staccato = 'Tupelo Honey'\n",
        "\n",
        "# DOWNLOAD Restaurant.csv FROM DRIVE\n",
        "# users_restaurant_id = id del file csv del ristorante (si trova in data > Scraping > Reviews_Relevance) > (nomeRistorante)_relevance_desc.csv)\n",
        "#File dove ci sono id e recensione\n",
        "users_restaurant_id = '1aOTHWSNdkjzW7EyyaomdXxgnzjXdqN7S'  # FILE ID, got on google drive with condivision link\n",
        "download = drive.CreateFile({'id': users_restaurant_id})\n",
        "download.GetContentFile('%s' % nome_ristorante_staccato + '_relevance_desc.csv')\n",
        "\n",
        "#leggo il file csv del ristorante\n",
        "restaurant = pd.read_csv('%s' % nome_ristorante_staccato + '_relevance_desc.csv')\n",
        "\n",
        "\n",
        "#file con gli user che sono stati analizzati da Clarifai\n",
        "#users_clarifai_id = id del file csv di clarifai (si trova in data > face_data > Clarifai > nomeRistorante > (nomeRistorante)_10%Random_UsersData.csv)\n",
        "users_clarifai_id = '1lZM22vKH4DRjxgG0PIbuos4MbaF86MqU'  # FILE ID, got on google drive with condivision link\n",
        "download1 = drive.CreateFile({'id': users_clarifai_id})\n",
        "download1.GetContentFile('%s' % nome_ristorante + '_10%Random_UsersData.csv')\n",
        "\n",
        "#leggo il file csv di clarifai\n",
        "clarifai = pd.read_csv('%s' % nome_ristorante + '_10%Random_UsersData.csv')\n",
        "\n",
        "merged = clarifai.merge(restaurant,how = 'left',left_on='id', right_on='user_id')\n",
        "\n",
        "#file contenente informazioni di demographics e review per utente\n",
        "df_senza_duplicati = merged.drop_duplicates(subset=['id'], keep='first')\n",
        "\n",
        "review_random = df_senza_duplicati.drop(columns=['id','age', 'gender','ethnicity'])\n",
        "\n",
        "\n",
        "#csv contenente user_id e review\n",
        "review_random.to_csv('%s' % nome_ristorante + '_ReviewRandom.csv')\n",
        "\n",
        "\n",
        "folder_id = '1qd07afmJktKju4tsxYfanJWEafV3JSEb'    #cartella dove metto il csv\n",
        "file_metadata = {'title': '%s' % nome_ristorante + '_Random_Review.csv',\"parents\":[{\"id\": folder_id,\"kind\":\"drive#childList\"}]}\n",
        "folder = drive.CreateFile(file_metadata)\n",
        "folder.SetContentFile('%s' % nome_ristorante + '_Random_Review.csv') #The contents of the file\n",
        "folder.Upload()"
      ],
      "execution_count": 0,
      "outputs": []
    }
  ]
}