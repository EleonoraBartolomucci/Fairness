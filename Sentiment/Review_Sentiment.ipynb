{
  "nbformat": 4,
  "nbformat_minor": 0,
  "metadata": {
    "colab": {
      "name": "Untitled6.ipynb",
      "provenance": [],
      "authorship_tag": "ABX9TyO/+QMmud2sUeHQMp7b62ym",
      "include_colab_link": true
    },
    "kernelspec": {
      "name": "python3",
      "display_name": "Python 3"
    }
  },
  "cells": [
    {
      "cell_type": "markdown",
      "metadata": {
        "id": "view-in-github",
        "colab_type": "text"
      },
      "source": [
        "<a href=\"https://colab.research.google.com/github/EleonoraBartolomucci/Fairness/blob/master/Sentiment/Review_Sentiment.ipynb\" target=\"_parent\"><img src=\"https://colab.research.google.com/assets/colab-badge.svg\" alt=\"Open In Colab\"/></a>"
      ]
    },
    {
      "cell_type": "code",
      "metadata": {
        "id": "lEAE-HhyNWgv",
        "colab_type": "code",
        "colab": {
          "base_uri": "https://localhost:8080/",
          "height": 128
        },
        "outputId": "44c17749-01b5-4ded-ac1e-213390140215"
      },
      "source": [
        "import time\n",
        "\n",
        "def sentiment(review):\n",
        "  files = {\n",
        "        'text': (None, '%s' % review),\n",
        "                 #'[\"Come on,lets play together,Team performed well overall.\"]'),\n",
        "        'api_key': (None, 'SXiVV3pSbQodFZrTKytisrfihbCr9RWBEryJLMfYIOI'),\n",
        "  }\n",
        "  response = requests.post('https://apis.paralleldots.com/v4/sentiment_batch', files=files)\n",
        "\n",
        "    print(response.json())\n",
        "    f = open(\"response.json\", \"w\")\n",
        "    f.write(json.dumps(response.json(), indent=4))\n",
        "    f.close()"
      ],
      "execution_count": 21,
      "outputs": [
        {
          "output_type": "error",
          "ename": "IndentationError",
          "evalue": "ignored",
          "traceback": [
            "\u001b[0;36m  File \u001b[0;32m\"<ipython-input-21-09fb09feef02>\"\u001b[0;36m, line \u001b[0;32m11\u001b[0m\n\u001b[0;31m    print(response.json())\u001b[0m\n\u001b[0m    ^\u001b[0m\n\u001b[0;31mIndentationError\u001b[0m\u001b[0;31m:\u001b[0m unexpected indent\n"
          ]
        }
      ]
    },
    {
      "cell_type": "code",
      "metadata": {
        "id": "n5agWmoUgFEV",
        "colab_type": "code",
        "colab": {
          "base_uri": "https://localhost:8080/",
          "height": 229
        },
        "outputId": "4e470998-c159-4b1d-952c-e7678336943a"
      },
      "source": [
        "import requests\n",
        "import json\n",
        "files = {\n",
        "        'text': (None, '[\"Come on,lets play together,Team performed well overall.\"]'),\n",
        "        'api_key': (None, 'SXiVV3pSbQodFZrTKytisrfihbCr9RWBEryJLMfYIOI'),\n",
        "  }\n",
        "response = requests.post('https://apis.paralleldots.com/v4/sentiment_batch', files=files)\n",
        "\n",
        "\n",
        "f = open(\"response.json\", \"w\").read()\n",
        "f.write(json.dumps(response.json(), indent=4))\n",
        "\n",
        "data_parsed = json.loads(f)\n",
        "    \n",
        "for recensione in data_parsed:\n",
        "  for risp in recensione['sentiment']:\n",
        "      print( max(risp['positive'],risp['negative'],risp['neutral']))\n",
        "     "
      ],
      "execution_count": 35,
      "outputs": [
        {
          "output_type": "error",
          "ename": "UnsupportedOperation",
          "evalue": "ignored",
          "traceback": [
            "\u001b[0;31m---------------------------------------------------------------------------\u001b[0m",
            "\u001b[0;31mUnsupportedOperation\u001b[0m                      Traceback (most recent call last)",
            "\u001b[0;32m<ipython-input-35-5af533d82f68>\u001b[0m in \u001b[0;36m<module>\u001b[0;34m()\u001b[0m\n\u001b[1;32m      8\u001b[0m \u001b[0;34m\u001b[0m\u001b[0m\n\u001b[1;32m      9\u001b[0m \u001b[0;34m\u001b[0m\u001b[0m\n\u001b[0;32m---> 10\u001b[0;31m \u001b[0mf\u001b[0m \u001b[0;34m=\u001b[0m \u001b[0mopen\u001b[0m\u001b[0;34m(\u001b[0m\u001b[0;34m\"response.json\"\u001b[0m\u001b[0;34m,\u001b[0m \u001b[0;34m\"w\"\u001b[0m\u001b[0;34m)\u001b[0m\u001b[0;34m.\u001b[0m\u001b[0mread\u001b[0m\u001b[0;34m(\u001b[0m\u001b[0;34m)\u001b[0m\u001b[0;34m\u001b[0m\u001b[0;34m\u001b[0m\u001b[0m\n\u001b[0m\u001b[1;32m     11\u001b[0m \u001b[0mf\u001b[0m\u001b[0;34m.\u001b[0m\u001b[0mwrite\u001b[0m\u001b[0;34m(\u001b[0m\u001b[0mjson\u001b[0m\u001b[0;34m.\u001b[0m\u001b[0mdumps\u001b[0m\u001b[0;34m(\u001b[0m\u001b[0mresponse\u001b[0m\u001b[0;34m.\u001b[0m\u001b[0mjson\u001b[0m\u001b[0;34m(\u001b[0m\u001b[0;34m)\u001b[0m\u001b[0;34m,\u001b[0m \u001b[0mindent\u001b[0m\u001b[0;34m=\u001b[0m\u001b[0;36m4\u001b[0m\u001b[0;34m)\u001b[0m\u001b[0;34m)\u001b[0m\u001b[0;34m\u001b[0m\u001b[0;34m\u001b[0m\u001b[0m\n\u001b[1;32m     12\u001b[0m \u001b[0;34m\u001b[0m\u001b[0m\n",
            "\u001b[0;31mUnsupportedOperation\u001b[0m: not readable"
          ]
        }
      ]
    },
    {
      "cell_type": "code",
      "metadata": {
        "id": "TMI4fOtoNZRi",
        "colab_type": "code",
        "colab": {
          "base_uri": "https://localhost:8080/",
          "height": 246
        },
        "outputId": "49fdc5b6-65e9-4459-abe5-4a04d6c45156"
      },
      "source": [
        "#Da cambiare \n",
        "#nome_ristorante_sort\n",
        "#users_restaurant_id = id del file csv del ristorante e nome del file\n",
        "#cartella dove metto il csv (folder_id)\n",
        "\n",
        "\n",
        "from pydrive.auth import GoogleAuth\n",
        "from pydrive.drive import GoogleDrive\n",
        "from oauth2client.client import GoogleCredentials\n",
        "from google.colab import auth\n",
        "import json\n",
        "import pandas as pd\n",
        "import csv\n",
        "\n",
        "auth.authenticate_user()\n",
        "gauth = GoogleAuth()\n",
        "gauth.credentials = GoogleCredentials.get_application_default()\n",
        "drive = GoogleDrive(gauth)\n",
        "\n",
        "nome_ristorante_sort = 'TupeloHoney_10%Date'\n",
        "\n",
        "# DOWNLOAD Restaurant.csv FROM DRIVE\n",
        "# users_restaurant_id = id del file csv del ristorante (si trova in data > Scraping > Reviews_(strategia)) > (nomeRistorante)_(strategia).csv)\n",
        "users_restaurant_id = '15LwpZqBUvtbuePS-7K0ezRtfUecInjx9'  # FILE ID, got on google drive with condivision link\n",
        "download = drive.CreateFile({'id': users_restaurant_id})\n",
        "download.GetContentFile('Tupelo Honey_date_desc.csv')\n",
        "\n",
        "#leggo il file csv del ristorante\n",
        "restaurant = pd.read_csv('Tupelo Honey_date_desc.csv')\n",
        "\n",
        "#creo e apro un file .csv per scrivere\n",
        "file_parsed = open('%s' % nome_ristorante_sort + '_ReviewSentiment.csv', 'w')\n",
        "    \n",
        "#creo il writer\n",
        "writer = csv.writer(file_parsed)\n",
        "\n",
        "#creo header del csv\n",
        "header = ['id', 'review_sentiment']\n",
        "writer.writerow(header)\n",
        "\n",
        "#user_list = lista id utenti che ci sono anche nel dataset\n",
        "cnt =0\n",
        "for i, rev in restaurant.iterrows():\n",
        "  #10% per ogni ristorante\n",
        "  if cnt < 3:\n",
        "    id = rev['user_id']\n",
        "    response = sentiment(rev['text_review'])\n",
        "   # writer.writerow(['%s' % id, '%s' % response])\n",
        "    cnt = cnt + 1\n",
        "  else:\n",
        "    break\n",
        "\n",
        "#salvo e chiudo il file .csv\n",
        "file_parsed.close()\n",
        "\n",
        "folder_id = '1wfZ0d3cTufosLRhPKkShf7kQbJlUbBvH'    #cartella dove metto il csv\n",
        "file_metadata = {'title': '%s' % nome_ristorante_sort + '_ReviewSentiment.csv',\"parents\":[{\"id\": folder_id,\"kind\":\"drive#childList\"}]}\n",
        "folder = drive.CreateFile(file_metadata)\n",
        "folder.SetContentFile('%s' % nome_ristorante_sort + '_ReviewSentiment.csv') #The contents of the file\n",
        "folder.Upload()"
      ],
      "execution_count": 20,
      "outputs": [
        {
          "output_type": "stream",
          "text": [
            "TupeloHoney_10%Date_ReviewSentiment.csv\n"
          ],
          "name": "stdout"
        },
        {
          "output_type": "error",
          "ename": "NameError",
          "evalue": "ignored",
          "traceback": [
            "\u001b[0;31m---------------------------------------------------------------------------\u001b[0m",
            "\u001b[0;31mNameError\u001b[0m                                 Traceback (most recent call last)",
            "\u001b[0;32m<ipython-input-20-8ead803e5e98>\u001b[0m in \u001b[0;36m<module>\u001b[0;34m()\u001b[0m\n\u001b[1;32m     40\u001b[0m   \u001b[0;32mif\u001b[0m \u001b[0mcnt\u001b[0m \u001b[0;34m<\u001b[0m \u001b[0;36m3\u001b[0m\u001b[0;34m:\u001b[0m\u001b[0;34m\u001b[0m\u001b[0;34m\u001b[0m\u001b[0m\n\u001b[1;32m     41\u001b[0m     \u001b[0mid\u001b[0m \u001b[0;34m=\u001b[0m \u001b[0mrev\u001b[0m\u001b[0;34m[\u001b[0m\u001b[0;34m'user_id'\u001b[0m\u001b[0;34m]\u001b[0m\u001b[0;34m\u001b[0m\u001b[0;34m\u001b[0m\u001b[0m\n\u001b[0;32m---> 42\u001b[0;31m     \u001b[0mresponse\u001b[0m \u001b[0;34m=\u001b[0m \u001b[0msentiment\u001b[0m\u001b[0;34m(\u001b[0m\u001b[0mrev\u001b[0m\u001b[0;34m[\u001b[0m\u001b[0;34m'text_review'\u001b[0m\u001b[0;34m]\u001b[0m\u001b[0;34m)\u001b[0m\u001b[0;34m\u001b[0m\u001b[0;34m\u001b[0m\u001b[0m\n\u001b[0m\u001b[1;32m     43\u001b[0m    \u001b[0;31m# writer.writerow(['%s' % id, '%s' % response])\u001b[0m\u001b[0;34m\u001b[0m\u001b[0;34m\u001b[0m\u001b[0;34m\u001b[0m\u001b[0m\n\u001b[1;32m     44\u001b[0m     \u001b[0mcnt\u001b[0m \u001b[0;34m=\u001b[0m \u001b[0mcnt\u001b[0m \u001b[0;34m+\u001b[0m \u001b[0;36m1\u001b[0m\u001b[0;34m\u001b[0m\u001b[0;34m\u001b[0m\u001b[0m\n",
            "\u001b[0;31mNameError\u001b[0m: name 'sentiment' is not defined"
          ]
        }
      ]
    }
  ]
}