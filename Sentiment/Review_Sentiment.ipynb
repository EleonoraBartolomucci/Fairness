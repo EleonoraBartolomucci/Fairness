{
  "nbformat": 4,
  "nbformat_minor": 0,
  "metadata": {
    "colab": {
      "name": "Untitled6.ipynb",
      "provenance": [],
      "include_colab_link": true
    },
    "kernelspec": {
      "name": "python3",
      "display_name": "Python 3"
    }
  },
  "cells": [
    {
      "cell_type": "markdown",
      "metadata": {
        "id": "view-in-github",
        "colab_type": "text"
      },
      "source": [
        "<a href=\"https://colab.research.google.com/github/EleonoraBartolomucci/Fairness/blob/master/Sentiment/Review_Sentiment.ipynb\" target=\"_parent\"><img src=\"https://colab.research.google.com/assets/colab-badge.svg\" alt=\"Open In Colab\"/></a>"
      ]
    },
    {
      "cell_type": "code",
      "metadata": {
        "id": "lEAE-HhyNWgv",
        "colab_type": "code",
        "colab": {}
      },
      "source": [
        "import time\n",
        "import requests\n",
        "import json\n",
        "\n",
        "def sentiment(review):\n",
        "  files = {\n",
        "        'text': (None, '%s' % review),\n",
        "                 #'[\"Come on,lets play together,Team performed well overall.\"]'),\n",
        "        'api_key': (None, 'SXiVV3pSbQodFZrTKytisrfihbCr9RWBEryJLMfYIOI'),\n",
        "  }\n",
        "  response = requests.post('https://apis.paralleldots.com/v4/sentiment_batch', files=files)\n",
        "\n",
        "  f = open(\"response.json\", \"w\")\n",
        "  f.write(json.dumps(response.json(), indent=4))\n",
        "  f.close()\n",
        "  data = open(\"response.json\", \"r\").read()\n",
        "  data_parsed = json.loads(data)\n",
        "    \n",
        "  risp = data_parsed['sentiment'][0]\n",
        "\n",
        "  massimo = max(risp['positive'],risp['negative'],risp['neutral'])\n",
        "\n",
        "  if risp['negative'] == massimo:\n",
        "    return 'negative' + ' (' + '%s' % risp['negative'] + ')'\n",
        "\n",
        "  if risp['positive'] == massimo:\n",
        "    return 'positive' + ' (' + '%s' % risp['positive'] + ')'\n",
        "\n",
        "  if risp['neutral'] == massimo:\n",
        "    return 'neutral' + ' (' + '%s' % risp['neutral'] + ')'"
      ],
      "execution_count": 0,
      "outputs": []
    },
    {
      "cell_type": "code",
      "metadata": {
        "id": "TMI4fOtoNZRi",
        "colab_type": "code",
        "outputId": "33ef488e-aed9-45ee-ea23-3ee1d19bce84",
        "colab": {
          "base_uri": "https://localhost:8080/",
          "height": 510
        }
      },
      "source": [
        "#Da cambiare \n",
        "#nome_ristorante_sort\n",
        "#users_restaurant_id = id del file csv del ristorante e nome del file\n",
        "#cartella dove metto il csv (folder_id)\n",
        "\n",
        "\n",
        "from pydrive.auth import GoogleAuth\n",
        "from pydrive.drive import GoogleDrive\n",
        "from oauth2client.client import GoogleCredentials\n",
        "from google.colab import auth\n",
        "import json\n",
        "import pandas as pd\n",
        "import csv\n",
        "\n",
        "auth.authenticate_user()\n",
        "gauth = GoogleAuth()\n",
        "gauth.credentials = GoogleCredentials.get_application_default()\n",
        "drive = GoogleDrive(gauth)\n",
        "\n",
        "nome_ristorante_sort = 'CaboFishTaco_10%Date'\n",
        "\n",
        "# DOWNLOAD Restaurant.csv FROM DRIVE\n",
        "# users_restaurant_id = id del file csv del ristorante (si trova in data > Scraping > Reviews_(strategia)) > (nomeRistorante)_(strategia).csv)\n",
        "users_restaurant_id = '1yWVPwu3KRs4GJgsvfko4WPVep558WaG_'  # FILE ID, got on google drive with condivision link\n",
        "download = drive.CreateFile({'id': users_restaurant_id})\n",
        "download.GetContentFile('Cabo Fish Taco_date_desc.csv')\n",
        "\n",
        "#leggo il file csv del ristorante\n",
        "restaurant = pd.read_csv('Cabo Fish Taco_date_desc.csv')\n",
        "\n",
        "#creo e apro un file .csv per scrivere\n",
        "file_parsed = open('%s' % nome_ristorante_sort + '_ReviewSentiment.csv', 'a')\n",
        "    \n",
        "#creo il writer\n",
        "writer = csv.writer(file_parsed)\n",
        "\n",
        "#creo header del csv\n",
        "header = ['id', 'review_sentiment']\n",
        "writer.writerow(header)\n",
        "\n",
        "#user_list = lista id utenti che ci sono anche nel dataset\n",
        "cnt =0\n",
        "for i, rev in restaurant.iterrows():\n",
        "  #10% per ogni ristorante\n",
        "  if cnt < 29:\n",
        "    id = rev['user_id']\n",
        "    response = sentiment([rev['text_review']])\n",
        "    print(response)\n",
        "    writer.writerow(['%s' % id, '%s' % response])\n",
        "    cnt = cnt + 1\n",
        "  else:\n",
        "    break\n",
        "\n",
        "#salvo e chiudo il file .csv\n",
        "file_parsed.close()\n",
        "\n",
        "folder_id = '1etJ6Nt87YIEcYrFO0x-PLoYy612ez-5e'    #cartella dove metto il csv\n",
        "file_metadata = {'title': '%s' % nome_ristorante_sort + '_ReviewSentiment.csv',\"parents\":[{\"id\": folder_id,\"kind\":\"drive#childList\"}]}\n",
        "folder = drive.CreateFile(file_metadata)\n",
        "folder.SetContentFile('%s' % nome_ristorante_sort + '_ReviewSentiment.csv') #The contents of the file\n",
        "folder.Upload()"
      ],
      "execution_count": 17,
      "outputs": [
        {
          "output_type": "stream",
          "text": [
            "negative (0.968)\n",
            "positive (0.89)\n",
            "positive (0.9)\n",
            "negative (0.536)\n",
            "neutral (0.395)\n",
            "negative (0.615)\n",
            "neutral (0.395)\n",
            "neutral (0.501)\n",
            "negative (0.64)\n",
            "negative (0.919)\n",
            "positive (0.509)\n",
            "positive (0.41)\n",
            "positive (0.738)\n",
            "negative (0.367)\n",
            "positive (0.969)\n",
            "neutral (0.414)\n",
            "negative (0.465)\n",
            "negative (0.439)\n",
            "negative (0.867)\n",
            "negative (0.714)\n",
            "positive (0.58)\n",
            "negative (0.623)\n",
            "positive (0.431)\n",
            "negative (0.708)\n",
            "positive (0.758)\n",
            "positive (0.502)\n",
            "positive (0.741)\n",
            "positive (0.792)\n",
            "neutral (0.549)\n"
          ],
          "name": "stdout"
        }
      ]
    }
  ]
}