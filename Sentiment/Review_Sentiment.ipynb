{
  "nbformat": 4,
  "nbformat_minor": 0,
  "metadata": {
    "colab": {
      "name": "Untitled6.ipynb",
      "provenance": [],
      "include_colab_link": true
    },
    "kernelspec": {
      "name": "python3",
      "display_name": "Python 3"
    }
  },
  "cells": [
    {
      "cell_type": "markdown",
      "metadata": {
        "id": "view-in-github",
        "colab_type": "text"
      },
      "source": [
        "<a href=\"https://colab.research.google.com/github/EleonoraBartolomucci/Fairness/blob/master/Sentiment/Review_Sentiment.ipynb\" target=\"_parent\"><img src=\"https://colab.research.google.com/assets/colab-badge.svg\" alt=\"Open In Colab\"/></a>"
      ]
    },
    {
      "cell_type": "code",
      "metadata": {
        "id": "lEAE-HhyNWgv",
        "colab_type": "code",
        "colab": {}
      },
      "source": [
        "import time\n",
        "import requests\n",
        "import json\n",
        "\n",
        "def sentiment(review):\n",
        "  files = {\n",
        "        'text': (None, '%s' % review),\n",
        "                 #'[\"Come on,lets play together,Team performed well overall.\"]'),\n",
        "        'api_key': (None, 'F5vtfGFDxwA2LXPAgZHY8Ib9WiHXUccN7599XCf6ggc'),\n",
        "  }\n",
        "  response = requests.post('https://apis.paralleldots.com/v4/sentiment_batch', files=files)\n",
        "\n",
        "  f = open(\"response.json\", \"w\")\n",
        "  f.write(json.dumps(response.json(), indent=4))\n",
        "  f.close()\n",
        "  data = open(\"response.json\", \"r\").read()\n",
        "  data_parsed = json.loads(data)\n",
        "  \n",
        "  #print(data_parsed)\n",
        "\n",
        "  risp = data_parsed['sentiment'][0]\n",
        "\n",
        "  #print(risp)\n",
        "\n",
        "  massimo = max(risp['positive'],risp['negative'],risp['neutral'])\n",
        "\n",
        "  #print(massimo)\n",
        "\n",
        "  if risp['negative'] == massimo:\n",
        "    return 'negative' + ' (' + '%s' % risp['negative'] + ')'\n",
        "\n",
        "  if risp['positive'] == massimo:\n",
        "    return 'positive' + ' (' + '%s' % risp['positive'] + ')'\n",
        "\n",
        "  if risp['neutral'] == massimo:\n",
        "    return 'neutral' + ' (' + '%s' % risp['neutral'] + ')'"
      ],
      "execution_count": 0,
      "outputs": []
    },
    {
      "cell_type": "code",
      "metadata": {
        "id": "yS6ct8Lqkk1x",
        "colab_type": "code",
        "colab": {
          "base_uri": "https://localhost:8080/",
          "height": 85
        },
        "outputId": "29211040-03c9-48f8-c190-4ad16b2dc325"
      },
      "source": [
        "print(sentiment([\"Come on,lets play together,Team performed well overall.\"]))"
      ],
      "execution_count": 13,
      "outputs": [
        {
          "output_type": "stream",
          "text": [
            "{'sentiment': [{'negative': 0.01, 'neutral': 0.125, 'positive': 0.866}]}\n",
            "{'negative': 0.01, 'neutral': 0.125, 'positive': 0.866}\n",
            "0.866\n",
            "positive (0.866)\n"
          ],
          "name": "stdout"
        }
      ]
    },
    {
      "cell_type": "code",
      "metadata": {
        "id": "TMI4fOtoNZRi",
        "colab_type": "code",
        "outputId": "9dda0aae-5f2f-4736-e7f1-63bdb4df3a40",
        "colab": {
          "base_uri": "https://localhost:8080/",
          "height": 404
        }
      },
      "source": [
        "#Da cambiare \n",
        "#nome_ristorante_sort\n",
        "#users_restaurant_id = id del file csv del ristorante e nome del file\n",
        "#cartella dove metto il csv (folder_id)\n",
        "\n",
        "# Se sono i PRIMI 30\n",
        "\n",
        "from pydrive.auth import GoogleAuth\n",
        "from pydrive.drive import GoogleDrive\n",
        "from oauth2client.client import GoogleCredentials\n",
        "from google.colab import auth\n",
        "import json\n",
        "import pandas as pd\n",
        "import csv\n",
        "\n",
        "auth.authenticate_user()\n",
        "gauth = GoogleAuth()\n",
        "gauth.credentials = GoogleCredentials.get_application_default()\n",
        "drive = GoogleDrive(gauth)\n",
        "\n",
        "nome_ristorante_sort = 'CaboFishTaco_10%Date'\n",
        "\n",
        "# DOWNLOAD Restaurant.csv FROM DRIVE\n",
        "# users_restaurant_id = id del file csv del ristorante (si trova in data > Scraping > Reviews_(strategia)) > (nomeRistorante)_(strategia).csv)\n",
        "users_restaurant_id = '1H95krkw4soImvw5nGeoET1GZzfV5--ZC'  # FILE ID, got on google drive with condivision link\n",
        "download = drive.CreateFile({'id': users_restaurant_id})\n",
        "download.GetContentFile('Cabo Fish Taco_date_desc.csv')\n",
        "\n",
        "#leggo il file csv del ristorante\n",
        "restaurant = pd.read_csv('Cabo Fish Taco_date_desc.csv')\n",
        "\n",
        "#creo e apro un file .csv per scrivere\n",
        "file_parsed = open('%s' % nome_ristorante_sort + '_ReviewSentiment.csv', 'a')\n",
        "    \n",
        "#creo il writer\n",
        "writer = csv.writer(file_parsed)\n",
        "\n",
        "#creo header del csv\n",
        "header = ['id', 'review_sentiment']\n",
        "writer.writerow(header)\n",
        "\n",
        "#user_list = lista id utenti che ci sono anche nel dataset\n",
        "cnt = 0\n",
        "for i, rev in restaurant.iterrows():\n",
        "  #10% per ogni ristorante\n",
        "  if cnt < 29:\n",
        "    id = rev['user_id']\n",
        "    print([rev['text_review']])\n",
        "    response = sentiment([rev['text_review']])\n",
        "    writer.writerow(['%s' % id, '%s' % response])\n",
        "    cnt = cnt + 1\n",
        "  else:\n",
        "    break\n",
        "\n",
        "#salvo e chiudo il file .csv\n",
        "file_parsed.close()\n",
        "\n",
        "#folder_id si trova in data > Sentiment > (nomeRistorante)\n",
        "folder_id = '1etJ6Nt87YIEcYrFO0x-PLoYy612ez-5e'    #cartella dove metto il csv\n",
        "file_metadata = {'title': '%s' % nome_ristorante_sort + '_ReviewSentiment.csv',\"parents\":[{\"id\": folder_id,\"kind\":\"drive#childList\"}]}\n",
        "folder = drive.CreateFile(file_metadata)\n",
        "folder.SetContentFile('%s' % nome_ristorante_sort + '_ReviewSentiment.csv') #The contents of the file\n",
        "folder.Upload()"
      ],
      "execution_count": 15,
      "outputs": [
        {
          "output_type": "stream",
          "text": [
            "['So completely irritated. I&#39;ve spent the last 3 weeks stuck inside and laid off work from the service industry, cooking multiple times a day for my household. Today I decided to treat the family \\xa0to some appetizers to try and do something nice for us. \\xa0I wanted to support local and not a chain. $19.70 for guacamole and shrimp and crab dip. We requested chips instead of pita points for the shrimp and crab dip since there are 3 of us. Not only were there not 2 orders of chips, there also wasn&#39;t any pita so it&#39;s not like they forgot to read the instructions. I&#39;ve worked for Cabo in the past. I know what orders are supposed to look like and come with. I&#39;m just so disappointed and irritated that I spent almost $20 on two dips and this is the amount of chips we got. Also they were completely staleI&#39;m leaving 4 stars because I don&#39;t want to drop y&#39;alls rating down. However, totally ruined the one thing I&#39;ve done in a month to treat myself and family.']\n",
            "{'Error': 'Daily Limit Exceeded. Please upgrade your account from your user dashboard at https://user.apis.paralleldots.com/user_dashboard', 'code': 403}\n"
          ],
          "name": "stdout"
        },
        {
          "output_type": "error",
          "ename": "KeyError",
          "evalue": "ignored",
          "traceback": [
            "\u001b[0;31m---------------------------------------------------------------------------\u001b[0m",
            "\u001b[0;31mKeyError\u001b[0m                                  Traceback (most recent call last)",
            "\u001b[0;32m<ipython-input-15-4a47307b37b7>\u001b[0m in \u001b[0;36m<module>\u001b[0;34m()\u001b[0m\n\u001b[1;32m     41\u001b[0m     \u001b[0mid\u001b[0m \u001b[0;34m=\u001b[0m \u001b[0mrev\u001b[0m\u001b[0;34m[\u001b[0m\u001b[0;34m'user_id'\u001b[0m\u001b[0;34m]\u001b[0m\u001b[0;34m\u001b[0m\u001b[0;34m\u001b[0m\u001b[0m\n\u001b[1;32m     42\u001b[0m     \u001b[0mprint\u001b[0m\u001b[0;34m(\u001b[0m\u001b[0;34m[\u001b[0m\u001b[0mrev\u001b[0m\u001b[0;34m[\u001b[0m\u001b[0;34m'text_review'\u001b[0m\u001b[0;34m]\u001b[0m\u001b[0;34m]\u001b[0m\u001b[0;34m)\u001b[0m\u001b[0;34m\u001b[0m\u001b[0;34m\u001b[0m\u001b[0m\n\u001b[0;32m---> 43\u001b[0;31m     \u001b[0mresponse\u001b[0m \u001b[0;34m=\u001b[0m \u001b[0msentiment\u001b[0m\u001b[0;34m(\u001b[0m\u001b[0;34m[\u001b[0m\u001b[0mrev\u001b[0m\u001b[0;34m[\u001b[0m\u001b[0;34m'text_review'\u001b[0m\u001b[0;34m]\u001b[0m\u001b[0;34m]\u001b[0m\u001b[0;34m)\u001b[0m\u001b[0;34m\u001b[0m\u001b[0;34m\u001b[0m\u001b[0m\n\u001b[0m\u001b[1;32m     44\u001b[0m     \u001b[0mwriter\u001b[0m\u001b[0;34m.\u001b[0m\u001b[0mwriterow\u001b[0m\u001b[0;34m(\u001b[0m\u001b[0;34m[\u001b[0m\u001b[0;34m'%s'\u001b[0m \u001b[0;34m%\u001b[0m \u001b[0mid\u001b[0m\u001b[0;34m,\u001b[0m \u001b[0;34m'%s'\u001b[0m \u001b[0;34m%\u001b[0m \u001b[0mresponse\u001b[0m\u001b[0;34m]\u001b[0m\u001b[0;34m)\u001b[0m\u001b[0;34m\u001b[0m\u001b[0;34m\u001b[0m\u001b[0m\n\u001b[1;32m     45\u001b[0m     \u001b[0mcnt\u001b[0m \u001b[0;34m=\u001b[0m \u001b[0mcnt\u001b[0m \u001b[0;34m+\u001b[0m \u001b[0;36m1\u001b[0m\u001b[0;34m\u001b[0m\u001b[0;34m\u001b[0m\u001b[0m\n",
            "\u001b[0;32m<ipython-input-12-85c704274d94>\u001b[0m in \u001b[0;36msentiment\u001b[0;34m(review)\u001b[0m\n\u001b[1;32m     19\u001b[0m   \u001b[0mprint\u001b[0m\u001b[0;34m(\u001b[0m\u001b[0mdata_parsed\u001b[0m\u001b[0;34m)\u001b[0m\u001b[0;34m\u001b[0m\u001b[0;34m\u001b[0m\u001b[0m\n\u001b[1;32m     20\u001b[0m \u001b[0;34m\u001b[0m\u001b[0m\n\u001b[0;32m---> 21\u001b[0;31m   \u001b[0mrisp\u001b[0m \u001b[0;34m=\u001b[0m \u001b[0mdata_parsed\u001b[0m\u001b[0;34m[\u001b[0m\u001b[0;34m'sentiment'\u001b[0m\u001b[0;34m]\u001b[0m\u001b[0;34m[\u001b[0m\u001b[0;36m0\u001b[0m\u001b[0;34m]\u001b[0m\u001b[0;34m\u001b[0m\u001b[0;34m\u001b[0m\u001b[0m\n\u001b[0m\u001b[1;32m     22\u001b[0m \u001b[0;34m\u001b[0m\u001b[0m\n\u001b[1;32m     23\u001b[0m   \u001b[0mprint\u001b[0m\u001b[0;34m(\u001b[0m\u001b[0mrisp\u001b[0m\u001b[0;34m)\u001b[0m\u001b[0;34m\u001b[0m\u001b[0;34m\u001b[0m\u001b[0m\n",
            "\u001b[0;31mKeyError\u001b[0m: 'sentiment'"
          ]
        }
      ]
    },
    {
      "cell_type": "code",
      "metadata": {
        "id": "4ifcw3oX3fCl",
        "colab_type": "code",
        "colab": {}
      },
      "source": [
        "#Da cambiare \n",
        "#nome_ristorante_sort\n",
        "#users_restaurant_id = id del file csv del ristorante e nome del file\n",
        "#cartella dove metto il csv (folder_id)\n",
        "\n",
        "# Se sono gli ALTRI\n",
        "\n",
        "from pydrive.auth import GoogleAuth\n",
        "from pydrive.drive import GoogleDrive\n",
        "from oauth2client.client import GoogleCredentials\n",
        "from google.colab import auth\n",
        "import json\n",
        "import pandas as pd\n",
        "import csv\n",
        "\n",
        "auth.authenticate_user()\n",
        "gauth = GoogleAuth()\n",
        "gauth.credentials = GoogleCredentials.get_application_default()\n",
        "drive = GoogleDrive(gauth)\n",
        "\n",
        "nome_ristorante_sort = 'CaboFishTaco_10%Date'\n",
        "\n",
        "# DOWNLOAD Restaurant.csv FROM DRIVE\n",
        "# users_restaurant_id = id del file csv del ristorante (si trova in data > Scraping > Reviews_(strategia)) > (nomeRistorante)_(strategia).csv)\n",
        "users_restaurant_id = '1yWVPwu3KRs4GJgsvfko4WPVep558WaG_'  # FILE ID, got on google drive with condivision link\n",
        "download = drive.CreateFile({'id': users_restaurant_id})\n",
        "download.GetContentFile('Cabo Fish Taco_date_desc.csv')\n",
        "\n",
        "# DOWNLOAD Restaurant_10%(strategia)_ReviewSentiment.csv FROM DRIVE\n",
        "# users_restaurant_id = id del file csv del ristorante (si trova in data > Sentiment > (nomeRistorante)_10%(strategia)_ReviewSentiment.csv)\n",
        "restaurant_id_sentiment = '1O7C6kPtBCttCCPjRGF1Xu7-9VVPZbeMi'  # FILE ID, got on google drive with condivision link\n",
        "download = drive.CreateFile({'id': restaurant_id_sentiment})\n",
        "download.GetContentFile('CaboFishTaco_10%Date_ReviewSentiment.csv')\n",
        "\n",
        "#leggo il file csv del ristorante\n",
        "restaurant = pd.read_csv('Cabo Fish Taco_date_desc.csv')\n",
        "\n",
        "#creo e apro un file .csv per scrivere\n",
        "file_parsed = open('%s' % nome_ristorante_sort + '_ReviewSentiment.csv', 'a')\n",
        "    \n",
        "#creo il writer\n",
        "writer = csv.writer(file_parsed)\n",
        "\n",
        "#user_list = lista id utenti che ci sono anche nel dataset\n",
        "cnt = 0\n",
        "for i, rev in restaurant.iterrows():\n",
        "  #10% per ogni ristorante\n",
        "  if cnt < 59:\n",
        "    cnt = cnt + 1\n",
        "  else:\n",
        "    if cnt < 89:\n",
        "      id = rev['user_id']\n",
        "      response = sentiment([rev['text_review']])\n",
        "      print(response)\n",
        "      writer.writerow(['%s' % id, '%s' % response])\n",
        "      cnt = cnt + 1\n",
        "    else:\n",
        "      break\n",
        "\n",
        "#salvo e chiudo il file .csv\n",
        "file_parsed.close()\n",
        "\n",
        "#folder_id si trova in data > Sentiment > (nomeRistorante)\n",
        "folder_id = '1etJ6Nt87YIEcYrFO0x-PLoYy612ez-5e'    #cartella dove metto il csv\n",
        "file_metadata = {'title': '%s' % nome_ristorante_sort + '_ReviewSentiment.csv',\"parents\":[{\"id\": folder_id,\"kind\":\"drive#childList\"}]}\n",
        "folder = drive.CreateFile(file_metadata)\n",
        "folder.SetContentFile('%s' % nome_ristorante_sort + '_ReviewSentiment.csv') #The contents of the file\n",
        "folder.Upload()"
      ],
      "execution_count": 0,
      "outputs": []
    }
  ]
}