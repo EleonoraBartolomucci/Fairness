{
  "nbformat": 4,
  "nbformat_minor": 0,
  "metadata": {
    "colab": {
      "name": "Untitled4.ipynb",
      "provenance": [],
      "include_colab_link": true
    },
    "kernelspec": {
      "name": "python3",
      "display_name": "Python 3"
    }
  },
  "cells": [
    {
      "cell_type": "markdown",
      "metadata": {
        "id": "view-in-github",
        "colab_type": "text"
      },
      "source": [
        "<a href=\"https://colab.research.google.com/github/EleonoraBartolomucci/Fairness/blob/master/Sentiment/merge_Clarifai_Sentiment_Random.ipynb\" target=\"_parent\"><img src=\"https://colab.research.google.com/assets/colab-badge.svg\" alt=\"Open In Colab\"/></a>"
      ]
    },
    {
      "cell_type": "code",
      "metadata": {
        "id": "Tbk6Ps8zkkHD",
        "colab_type": "code",
        "colab": {}
      },
      "source": [
        "#da cambiare:\n",
        "#nome_ristorante_sort con il sort \n",
        "#users_restaurant_id (link condivisibile del csv clarifai)\n",
        "#sentiment_id (link condivisibile del csv sentiment)\n",
        "\n",
        "from pydrive.auth import GoogleAuth\n",
        "from pydrive.drive import GoogleDrive\n",
        "from oauth2client.client import GoogleCredentials\n",
        "from google.colab import auth\n",
        "import json\n",
        "import pandas as pd\n",
        "import csv\n",
        "\n",
        "auth.authenticate_user()\n",
        "gauth = GoogleAuth()\n",
        "gauth.credentials = GoogleCredentials.get_application_default()\n",
        "drive = GoogleDrive(gauth)\n",
        "\n",
        "nome_ristorante_sort = 'CulinaryDropout'\n",
        "\n",
        "# users_restaurant_id = id del file csv del ristorante (si trova in data > face_data > Clarifai) > (nomeRistorante) > (nomeRistorante)__NoDuplicati_Random_UsersData.csv)\n",
        "#File dove ci sono id e recensione\n",
        "users_restaurant_id = '1alWrWOEzAwrThey-B7qaR2CTGAfxEFPP'  # FILE ID, got on google drive with condivision link\n",
        "download = drive.CreateFile({'id': users_restaurant_id})\n",
        "download.GetContentFile('%s' % nome_ristorante_sort + '_NoDuplicati_Random_UsersData.csv')\n",
        "\n",
        "#leggo il file csv del ristorante\n",
        "clarifai = pd.read_csv('%s' % nome_ristorante_sort + '_NoDuplicati_Random_UsersData.csv')\n",
        "\n",
        "# sentiment_id = id del file csv del ristorante (si trova in data > Sentiment > Sentiment Analisys > (nomeRistorante) > (nomeRistorante)_Random_ReviewSentiment.csv)\n",
        "sentiment_id = '1lV9wxvN4zYf2-VxpwoYVBncCpZQPxmTv'  # FILE ID, got on google drive with condivision link\n",
        "download = drive.CreateFile({'id': sentiment_id})\n",
        "download.GetContentFile('%s' % nome_ristorante_sort + '_Random_ReviewSentiment.csv')\n",
        "\n",
        "#leggo il file csv del ristorante\n",
        "sentiment = pd.read_csv('%s' % nome_ristorante_sort + '_Random_ReviewSentiment.csv')\n",
        "\n",
        "#foto = pd.read_csv('%s' % nome_ristorante + '_FotoRandom.csv')\n",
        "merged = sentiment.merge(clarifai,how = 'left',on='id')\n",
        "\n",
        "df = merged.rename(columns={\"id\": \"user_id\"})\n",
        "\n",
        "columnsTitles=[\"user_id\",\"age\",\"gender\",\"ethnicity\",\"review_sentiment\"]\n",
        "df1=df.reindex(columns=columnsTitles)\n",
        "\n",
        "#csv contenente user_id e review\n",
        "df1.to_csv('%s' % nome_ristorante_sort + '_Analisys.csv', index=False)\n",
        "\n",
        "# making data frame from csv file \n",
        "nba = pd.read_csv('%s' % nome_ristorante_sort + '_Analisys.csv')\n",
        "\n",
        "# replacing na values in college with No college \n",
        "nba[\"age\"].fillna(\"Not recognized\", inplace = True) \n",
        "nba[\"gender\"].fillna(\"Not recognized\", inplace = True) \n",
        "nba[\"ethnicity\"].fillna(\"Not recognized\", inplace = True) \n",
        "\n",
        "#csv contenente user_id e review\n",
        "nba.to_csv('%s' % nome_ristorante_sort + '_Analisys.csv', index=False)\n",
        "\n",
        "folder_id = '1K5kXpkOhp4CkyUnOfOdaLixbCklxi9yr'    #cartella dove metto il csv\n",
        "file_metadata = {'title': '%s' % nome_ristorante_sort + '_Analisys.csv',\"parents\":[{\"id\": folder_id,\"kind\":\"drive#childList\"}]}\n",
        "folder = drive.CreateFile(file_metadata)\n",
        "folder.SetContentFile('%s' % nome_ristorante_sort + '_Analisys.csv') #The contents of the file\n",
        "folder.Upload()"
      ],
      "execution_count": 0,
      "outputs": []
    }
  ]
}