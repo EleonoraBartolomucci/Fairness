{
  "nbformat": 4,
  "nbformat_minor": 0,
  "metadata": {
    "colab": {
      "name": "Untitled6.ipynb",
      "provenance": [],
      "include_colab_link": true
    },
    "kernelspec": {
      "name": "python3",
      "display_name": "Python 3"
    }
  },
  "cells": [
    {
      "cell_type": "markdown",
      "metadata": {
        "id": "view-in-github",
        "colab_type": "text"
      },
      "source": [
        "<a href=\"https://colab.research.google.com/github/EleonoraBartolomucci/Fairness/blob/master/Sentiment/Review_Sentiment_Random.ipynb\" target=\"_parent\"><img src=\"https://colab.research.google.com/assets/colab-badge.svg\" alt=\"Open In Colab\"/></a>"
      ]
    },
    {
      "cell_type": "code",
      "metadata": {
        "id": "lEAE-HhyNWgv",
        "colab_type": "code",
        "colab": {}
      },
      "source": [
        "import time\n",
        "import requests\n",
        "import json\n",
        "\n",
        "def sentiment(review):\n",
        "  files = {\n",
        "        'text': (None, '%s' % review),\n",
        "                 #'[\"Come on,lets play together,Team performed well overall.\"]'),\n",
        "        'api_key': (None, 'F5vtfGFDxwA2LXPAgZHY8Ib9WiHXUccN7599XCf6ggc'),\n",
        "  }\n",
        "  response = requests.post('https://apis.paralleldots.com/v4/sentiment_batch', files=files)\n",
        "\n",
        "  f = open(\"response.json\", \"w\")\n",
        "  f.write(json.dumps(response.json(), indent=4))\n",
        "  f.close()\n",
        "  data = open(\"response.json\", \"r\").read()\n",
        "  data_parsed = json.loads(data)\n",
        "\n",
        "  risp = data_parsed['sentiment'][0]\n",
        "\n",
        "  massimo = max(risp['positive'],risp['negative'],risp['neutral'])\n",
        "\n",
        "  if risp['negative'] == massimo:\n",
        "    return 'negative' + ' (' + '%s' % risp['negative'] + ')'\n",
        "\n",
        "  if risp['positive'] == massimo:\n",
        "    return 'positive' + ' (' + '%s' % risp['positive'] + ')'\n",
        "\n",
        "  if risp['neutral'] == massimo:\n",
        "    return 'neutral' + ' (' + '%s' % risp['neutral'] + ')'"
      ],
      "execution_count": 0,
      "outputs": []
    },
    {
      "cell_type": "code",
      "metadata": {
        "id": "TMI4fOtoNZRi",
        "colab_type": "code",
        "colab": {
          "base_uri": "https://localhost:8080/",
          "height": 129
        },
        "outputId": "c0bd6522-2121-4d97-d93d-481ecc041c5c"
      },
      "source": [
        "#sentiment di random, TO DO\n",
        "#Da cambiare \n",
        "#nome_ristorante_sort\n",
        "#users_restaurant_id = id del file csv del ristorante e nome del file\n",
        "#cartella dove metto il csv (folder_id)\n",
        "\n",
        "# Se sono i PRIMI 30\n",
        "\n",
        "from pydrive.auth import GoogleAuth\n",
        "from pydrive.drive import GoogleDrive\n",
        "from oauth2client.client import GoogleCredentials\n",
        "from google.colab import auth\n",
        "import json\n",
        "import pandas as pd\n",
        "import csv\n",
        "import time\n",
        "\n",
        "auth.authenticate_user()\n",
        "gauth = GoogleAuth()\n",
        "gauth.credentials = GoogleCredentials.get_application_default()\n",
        "drive = GoogleDrive(gauth)\n",
        "\n",
        "nome_ristorante = 'TupleoHoney'\n",
        "# DOWNLOAD merge.csv FROM DRIVE\n",
        "# users_restaurant_id = id del file csv del ristorante (si trova in data > Sentiment > Random_Reviews > (nomeRistorante)_merge.csv)\n",
        "#File dove ci sono id e recensione\n",
        "restaurant_merge_id = '1aOTHWSNdkjzW7EyyaomdXxgnzjXdqN7S'  # FILE ID, got on google drive with condivision link\n",
        "download = drive.CreateFile({'id': restaurant_merge_id})\n",
        "download.GetContentFile('%s' % nome_ristorante + '_merge.csv')\n",
        "\n",
        "user_review = pd.read_csv('%s' % nome_ristorante + '_merge.csv')\n",
        "\n",
        "#creo e apro un file .csv per scrivere\n",
        "file_parsed = open('%s' % nome_ristorante + '_Random_ReviewSentiment.csv', 'a')\n",
        "    \n",
        "#creo il writer\n",
        "writer = csv.writer(file_parsed)\n",
        "\n",
        "#creo header del csv\n",
        "header = ['id', 'review_sentiment']\n",
        "writer.writerow(header)\n",
        "\n",
        "cnt = 1\n",
        "api_number = 0\n",
        "\n",
        "for i, rev in user_review.iterrows():\n",
        "  #10% per ogni ristorante\n",
        "  #if api_number < 300:\n",
        "    if cnt < 30 :\n",
        "      id = rev['user_id']\n",
        "      response = sentiment([rev['text_review']])\n",
        "      writer.writerow(['%s' % id, '%s' % response])\n",
        "      cnt = cnt + 1\n",
        "      api_number = api_number +1\n",
        "    else:\n",
        "      time.sleep(61)\n",
        "      cnt =1\n",
        "    else: \n",
        "      break\n",
        "\n",
        "#salvo e chiudo il file .csv\n",
        "file_parsed.close()\n",
        "\n",
        "#folder_id si trova in data > Sentiment > (nomeRistorante)\n",
        "#folder_id = '1etJ6Nt87YIEcYrFO0x-PLoYy612ez-5e'    #cartella dove metto il csv\n",
        "#file_metadata = {'title': '%s' % nome_ristorante_sort + '_ReviewSentiment.csv',\"parents\":[{\"id\": folder_id,\"kind\":\"drive#childList\"}]}\n",
        "#folder = drive.CreateFile(file_metadata)\n",
        "#folder.SetContentFile('%s' % nome_ristorante_sort + '_ReviewSentiment.csv') #The contents of the file\n",
        "#folder.Upload()"
      ],
      "execution_count": 23,
      "outputs": [
        {
          "output_type": "error",
          "ename": "SyntaxError",
          "evalue": "ignored",
          "traceback": [
            "\u001b[0;36m  File \u001b[0;32m\"<ipython-input-23-bd45f56c0a05>\"\u001b[0;36m, line \u001b[0;32m51\u001b[0m\n\u001b[0;31m    else:\u001b[0m\n\u001b[0m       ^\u001b[0m\n\u001b[0;31mSyntaxError\u001b[0m\u001b[0;31m:\u001b[0m invalid syntax\n"
          ]
        }
      ]
    }
  ]
}