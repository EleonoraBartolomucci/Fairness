{
  "nbformat": 4,
  "nbformat_minor": 0,
  "metadata": {
    "colab": {
      "name": "Untitled6.ipynb",
      "provenance": [],
      "include_colab_link": true
    },
    "kernelspec": {
      "name": "python3",
      "display_name": "Python 3"
    }
  },
  "cells": [
    {
      "cell_type": "markdown",
      "metadata": {
        "id": "view-in-github",
        "colab_type": "text"
      },
      "source": [
        "<a href=\"https://colab.research.google.com/github/EleonoraBartolomucci/Fairness/blob/master/Sentiment/Review_Sentiment_Random.ipynb\" target=\"_parent\"><img src=\"https://colab.research.google.com/assets/colab-badge.svg\" alt=\"Open In Colab\"/></a>"
      ]
    },
    {
      "cell_type": "code",
      "metadata": {
        "id": "lEAE-HhyNWgv",
        "colab_type": "code",
        "colab": {}
      },
      "source": [
        "import time\n",
        "import requests\n",
        "import json\n",
        "\n",
        "def sentiment(review):\n",
        "  files = {\n",
        "        'text': (None, '%s' % review),\n",
        "                 #'[\"Come on,lets play together,Team performed well overall.\"]'),\n",
        "        'api_key': (None, 'ZgdR6KHBIJprH1G1wBsiC0ENCqcsNNcAhhgMFw6SbG8'),\n",
        "  }\n",
        "  response = requests.post('https://apis.paralleldots.com/v4/sentiment_batch', files=files)\n",
        "\n",
        "  f = open(\"response.json\", \"w\")\n",
        "  f.write(json.dumps(response.json(), indent=4))\n",
        "  f.close()\n",
        "  data = open(\"response.json\", \"r\").read()\n",
        "  data_parsed = json.loads(data)\n",
        "\n",
        "  risp = data_parsed['sentiment'][0]\n",
        "\n",
        "  massimo = max(risp['positive'],risp['negative'],risp['neutral'])\n",
        "\n",
        "  if risp['negative'] == massimo:\n",
        "    return 'negative' + ' (' + '%s' % risp['negative'] + ')'\n",
        "\n",
        "  if risp['positive'] == massimo:\n",
        "    return 'positive' + ' (' + '%s' % risp['positive'] + ')'\n",
        "\n",
        "  if risp['neutral'] == massimo:\n",
        "    return 'neutral' + ' (' + '%s' % risp['neutral'] + ')'"
      ],
      "execution_count": 0,
      "outputs": []
    },
    {
      "cell_type": "code",
      "metadata": {
        "id": "HmQUDMW-m5Aq",
        "colab_type": "code",
        "outputId": "d050695a-d6f1-4066-c37e-68e63a47b079",
        "colab": {
          "base_uri": "https://localhost:8080/",
          "height": 229
        }
      },
      "source": [
        "#AGGIORNO IL csv\n",
        "\n",
        "#Da cambiare \n",
        "#nome_ristorante\n",
        "#restaurant_ultimiUtenti_id = link condivisibile di (nomeRistorante)_ultimiUtenti.csv\n",
        "#restaurant_sentiment = link condivisibile di (nomeRistorante)_Random_ReviewSentiment\n",
        "#tot da cambiare: ci va l'ultimo numeretto nero presente nel csv (nomeRistorante)_Random_ReviewSentiment\n",
        "\n",
        "from pydrive.auth import GoogleAuth\n",
        "from pydrive.drive import GoogleDrive\n",
        "from oauth2client.client import GoogleCredentials\n",
        "from google.colab import auth\n",
        "import json\n",
        "import pandas as pd\n",
        "import csv\n",
        "import time\n",
        "\n",
        "auth.authenticate_user()\n",
        "gauth = GoogleAuth()\n",
        "gauth.credentials = GoogleCredentials.get_application_default()\n",
        "drive = GoogleDrive(gauth)\n",
        "\n",
        "nome_ristorante = 'TupeloHoney'\n",
        "\n",
        "# DOWNLOAD merge.csv FROM DRIVE\n",
        "# users_restaurant_id = id del file csv del ristorante (si trova in data > Sentiment > Random_Reviews > (nomeRistorante)_ultimiUtenti.csv)\n",
        "#File dove ci sono id e recensione\n",
        "restaurant_ultimiUtenti_id = '128opWrhFQnk6cQvlrIZQp8D3RevH4f8w'  # FILE ID, got on google drive with condivision link\n",
        "download = drive.CreateFile({'id': restaurant_ultimiUtenti_id})\n",
        "download.GetContentFile('%s' % nome_ristorante + '_ultimiUtenti.csv')\n",
        "\n",
        "user_review = pd.read_csv('%s' % nome_ristorante + '_ultimiUtenti.csv')\n",
        "\n",
        "#csv review analizzate per ristorante\n",
        "# restaurant_sentiment = id del file csv con le review analizzate (si trova in data > Sentiment > Sentiment_Analysis > (nomeRistorante)_Random_ReviewSentiment.csv)\n",
        "restaurant_sentiment = '1sIHc1BZcBWT3Iqd94-PaA4BF5elxcEYi'  # FILE ID, got on google drive with condivision link\n",
        "download1 = drive.CreateFile({'id': restaurant_sentiment})\n",
        "download1.GetContentFile('%s' % nome_ristorante + '_Random_ReviewSentiment.csv')\n",
        "\n",
        "#creo e apro un file .csv per scrivere\n",
        "file_parsed = open('%s' % nome_ristorante + '_Random_ReviewSentiment.csv', 'a')\n",
        "    \n",
        "#creo il writer\n",
        "writer = csv.writer(file_parsed)\n",
        "\n",
        "cnt = 1    #30 al minuto\n",
        "api_number = 1    #max 300 reviews\n",
        "tot = 1    #totale reviews\n",
        "\n",
        "for i, rev in user_review.iterrows():\n",
        "  #10% per ogni ristorante\n",
        "  if tot >= 1394:\n",
        "    if api_number <= 300:\n",
        "      if cnt < 30 :\n",
        "        id = rev['user_id']\n",
        "        response = sentiment([rev['text_review']])\n",
        "        writer.writerow(['%s' % id, '%s' % response])\n",
        "        cnt = cnt + 1\n",
        "        api_number = api_number + 1\n",
        "      else:\n",
        "        id = rev['user_id']\n",
        "        response = sentiment([rev['text_review']])\n",
        "        writer.writerow(['%s' % id, '%s' % response])\n",
        "        api_number = api_number + 1\n",
        "        time.sleep(61)\n",
        "        cnt = 1\n",
        "    else: \n",
        "      break\n",
        "  else: \n",
        "    tot = tot + 1\n",
        "\n",
        "#salvo e chiudo il file .csv\n",
        "file_parsed.close()\n",
        "\n",
        "download1.SetContentFile('%s' % nome_ristorante + '_Random_ReviewSentiment.csv') #The contents of the file\n",
        "download1.Upload()"
      ],
      "execution_count": 2,
      "outputs": [
        {
          "output_type": "error",
          "ename": "NameError",
          "evalue": "ignored",
          "traceback": [
            "\u001b[0;31m---------------------------------------------------------------------------\u001b[0m",
            "\u001b[0;31mNameError\u001b[0m                                 Traceback (most recent call last)",
            "\u001b[0;32m<ipython-input-2-5f61fa456f99>\u001b[0m in \u001b[0;36m<module>\u001b[0;34m()\u001b[0m\n\u001b[1;32m     27\u001b[0m \u001b[0;31m#File dove ci sono id e recensione\u001b[0m\u001b[0;34m\u001b[0m\u001b[0;34m\u001b[0m\u001b[0;34m\u001b[0m\u001b[0m\n\u001b[1;32m     28\u001b[0m \u001b[0mrestaurant_ultimiUtenti_id\u001b[0m \u001b[0;34m=\u001b[0m \u001b[0;34m'128opWrhFQnk6cQvlrIZQp8D3RevH4f8w'\u001b[0m  \u001b[0;31m# FILE ID, got on google drive with condivision link\u001b[0m\u001b[0;34m\u001b[0m\u001b[0;34m\u001b[0m\u001b[0m\n\u001b[0;32m---> 29\u001b[0;31m \u001b[0mdownload\u001b[0m \u001b[0;34m=\u001b[0m \u001b[0mdrive\u001b[0m\u001b[0;34m.\u001b[0m\u001b[0mCreateFile\u001b[0m\u001b[0;34m(\u001b[0m\u001b[0;34m{\u001b[0m\u001b[0;34m'id'\u001b[0m\u001b[0;34m:\u001b[0m \u001b[0mrestaurant_update_id\u001b[0m\u001b[0;34m}\u001b[0m\u001b[0;34m)\u001b[0m\u001b[0;34m\u001b[0m\u001b[0;34m\u001b[0m\u001b[0m\n\u001b[0m\u001b[1;32m     30\u001b[0m \u001b[0mdownload\u001b[0m\u001b[0;34m.\u001b[0m\u001b[0mGetContentFile\u001b[0m\u001b[0;34m(\u001b[0m\u001b[0;34m'%s'\u001b[0m \u001b[0;34m%\u001b[0m \u001b[0mnome_ristorante\u001b[0m \u001b[0;34m+\u001b[0m \u001b[0;34m'_ultimiUtenti.csv'\u001b[0m\u001b[0;34m)\u001b[0m\u001b[0;34m\u001b[0m\u001b[0;34m\u001b[0m\u001b[0m\n\u001b[1;32m     31\u001b[0m \u001b[0;34m\u001b[0m\u001b[0m\n",
            "\u001b[0;31mNameError\u001b[0m: name 'restaurant_update_id' is not defined"
          ]
        }
      ]
    }
  ]
}