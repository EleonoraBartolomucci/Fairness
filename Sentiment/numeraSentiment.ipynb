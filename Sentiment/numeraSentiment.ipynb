{
  "nbformat": 4,
  "nbformat_minor": 0,
  "metadata": {
    "colab": {
      "name": "Untitled7.ipynb",
      "provenance": [],
      "authorship_tag": "ABX9TyNEEcJ7mCA89FvphunB57KP",
      "include_colab_link": true
    },
    "kernelspec": {
      "name": "python3",
      "display_name": "Python 3"
    }
  },
  "cells": [
    {
      "cell_type": "markdown",
      "metadata": {
        "id": "view-in-github",
        "colab_type": "text"
      },
      "source": [
        "<a href=\"https://colab.research.google.com/github/EleonoraBartolomucci/Fairness/blob/master/Sentiment/numeraSentiment.ipynb\" target=\"_parent\"><img src=\"https://colab.research.google.com/assets/colab-badge.svg\" alt=\"Open In Colab\"/></a>"
      ]
    },
    {
      "cell_type": "code",
      "metadata": {
        "id": "fyyV5TC9w672",
        "colab_type": "code",
        "colab": {}
      },
      "source": [
        "#Da cambiare\n",
        "# nome \n",
        "# sentiment_id\n",
        "\n",
        "from pydrive.auth import GoogleAuth\n",
        "from pydrive.drive import GoogleDrive\n",
        "from oauth2client.client import GoogleCredentials\n",
        "from google.colab import auth\n",
        "import json\n",
        "import pandas as pd\n",
        "import csv\n",
        "\n",
        "auth.authenticate_user()\n",
        "gauth = GoogleAuth()\n",
        "gauth.credentials = GoogleCredentials.get_application_default()\n",
        "drive = GoogleDrive(gauth)\n",
        "\n",
        "nome = 'TupeloHoney_10%Date'\n",
        "\n",
        "# DOWNLOAD Restaurant.csv FROM DRIVE\n",
        "# users_restaurant_id = id del file csv del ristorante (si trova in data > Sentiment > Sentiment_Analysis > (nomeRistorante)_10%(strategia)_ReviewSentiment.csv)\n",
        "sentiment_id = '1Ag8mNyxd_QQWfLlCwDODVUJin1kpFjR4'  # FILE ID, got on google drive with condivision link\n",
        "download = drive.CreateFile({'id': sentiment_id})\n",
        "download.GetContentFile('%s' % nome + '_ReviewSentiment.csv')\n",
        "\n",
        "output = pd.read_csv('%s' % nome + '_ReviewSentiment.csv')\n",
        "\n",
        "output.index += 1\n",
        "output.to_csv('%s' % nome + '_ReviewSentiment.csv', index=True)\n",
        "\n",
        "download.SetContentFile('%s' % nome + '_ReviewSentiment.csv') #The contents of the file\n",
        "download.Upload()"
      ],
      "execution_count": 0,
      "outputs": []
    }
  ]
}