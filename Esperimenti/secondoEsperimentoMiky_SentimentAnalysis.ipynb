{
  "nbformat": 4,
  "nbformat_minor": 0,
  "metadata": {
    "colab": {
      "name": "Untitled9.ipynb",
      "provenance": [],
      "include_colab_link": true
    },
    "kernelspec": {
      "name": "python3",
      "display_name": "Python 3"
    }
  },
  "cells": [
    {
      "cell_type": "markdown",
      "metadata": {
        "id": "view-in-github",
        "colab_type": "text"
      },
      "source": [
        "<a href=\"https://colab.research.google.com/github/EleonoraBartolomucci/Fairness/blob/master/Esperimenti/secondoEsperimentoMiky_SentimentAnalysis.ipynb\" target=\"_parent\"><img src=\"https://colab.research.google.com/assets/colab-badge.svg\" alt=\"Open In Colab\"/></a>"
      ]
    },
    {
      "cell_type": "code",
      "metadata": {
        "id": "T7nTej7jgxuR",
        "colab_type": "code",
        "colab": {}
      },
      "source": [
        "from pydrive.auth import GoogleAuth\n",
        "from pydrive.drive import GoogleDrive\n",
        "from oauth2client.client import GoogleCredentials\n",
        "from google.colab import auth\n",
        "import pandas as pd\n",
        "import csv\n",
        "import matplotlib\n",
        "import matplotlib.pyplot as plt\n",
        "import numpy as np\n",
        "\n",
        "auth.authenticate_user()\n",
        "gauth = GoogleAuth()\n",
        "gauth.credentials = GoogleCredentials.get_application_default()\n",
        "drive = GoogleDrive(gauth)\n",
        "\n",
        "sort = 'Random'\n",
        "\n",
        "# file con i dati di tutti i ristoranti random\n",
        "all_analysis = '1n9vdCnppJGdE6M6HdKYlksuTntQYHA7P'  # FILE ID, got on google drive with condivision link\n",
        "download = drive.CreateFile({'id': all_analysis})\n",
        "download.GetContentFile('AllRestaurant_' + '%s' % sort + '_Analysis.csv')\n",
        "\n",
        "# leggo il csv con pandas\n",
        "res = pd.read_csv('AllRestaurant_' + '%s' % sort + '_Analysis.csv')\n"
      ],
      "execution_count": 1,
      "outputs": []
    },
    {
      "cell_type": "code",
      "metadata": {
        "id": "nRkTfycKzn_J",
        "colab_type": "code",
        "colab": {
          "base_uri": "https://localhost:8080/",
          "height": 71
        },
        "outputId": "9ee30a61-237d-4f2d-a99d-f5a21c845efd"
      },
      "source": [
        "# Prendo i dati che mi servono dei ristoranti\n",
        "\n",
        "#Osservazione: prendo il totale complessivo non il totale della categoria \n",
        "\n",
        "import numpy as np\n",
        "\n",
        "# elimino dal dataframe le righe che non sono state riconosciute e presentano questa scritta\n",
        "res = res[((res.age != 'Not recognized'))]\n",
        "# converto le stringhe di age in int\n",
        "res.age = pd.to_numeric(res.age, errors='coerce').fillna(0).astype(np.int64)\n",
        "\n",
        "# df con le età minori di 40\n",
        "res_u40 = res[(res['age'] < 40)]\n",
        "# df con le età maggiori di 40\n",
        "res_o40 = res[(res['age'] > 40)]\n",
        "\n",
        "# df con le donne di età minore di 40\n",
        "women_u40 = (res_u40['gender'] == 'feminine')\n",
        "# df con le donne di età maggiore di 40\n",
        "women_o40 = (res_o40['gender'] == 'feminine')\n",
        "# df con gli uomini di età minore di 40\n",
        "men_u40 = (res_u40['gender'] == 'masculine')\n",
        "# df con gli uomini di età maggiore di 40\n",
        "men_o40 = (res_o40['gender'] == 'masculine')\n",
        "\n",
        "positive = res['review_sentiment'] == 'positive'\n",
        "negative = res['review_sentiment'] == 'negative'\n",
        "neutral = res['review_sentiment'] == 'neutral'\n",
        "\n",
        "# AMERICAN\n",
        "\n",
        "totaleTupelo = len(res[(res['restaurant'] == 'TupeloHoney')])\n",
        "totaleCravings = len(res[(res['restaurant'] == 'CravingsBuffet')])\n",
        "totaleCulinary = len(res[(res['restaurant'] == 'CulinaryDropout')])\n",
        "\n",
        "totAmericanUsers = totaleTupelo + totaleCravings + totaleCulinary\n",
        "\n",
        "restaurant_typology = 'American'\n",
        "typology = len(res[(res['typology'] == '%s' % restaurant_typology)])\n",
        "\n",
        "# POSITIVI\n",
        "# numero medio di donne e uomini al di sopra e al di sotto dei 40 annni sul totale degli utenti per tipologia di ristorante\n",
        "women_u40_american_positive = (len(res[(res['typology'] == '%s' % restaurant_typology) & (women_u40) & (positive)]) * 100) / totAmericanUsers\n",
        "women_o40_american_positive = (len(res[(res['typology'] == '%s' % restaurant_typology) & (women_o40) & (positive)]) * 100) / totAmericanUsers\n",
        "men_u40_american_positive = (len(res[(res['typology'] == '%s' % restaurant_typology) & (men_u40) & (positive)]) * 100) / totAmericanUsers\n",
        "men_o40_american_positive = (len(res[(res['typology'] == '%s' % restaurant_typology) & (men_o40) & (positive)]) * 100) / totAmericanUsers\n",
        "\n",
        "\n",
        "# NEGATIVI\n",
        "# numero medio di utenti asiatici, messicani e americani sul totale\n",
        "women_u40_american_negative = (len(res[(res['typology'] == '%s' % restaurant_typology) & (women_u40) & (negative)]) * 100) / totAmericanUsers\n",
        "women_o40_american_negative = (len(res[(res['typology'] == '%s' % restaurant_typology) & (women_o40) & (negative)]) * 100) / totAmericanUsers\n",
        "men_u40_american_negative = (len(res[(res['typology'] == '%s' % restaurant_typology) & (men_u40) & (negative)]) * 100) / totAmericanUsers\n",
        "men_o40_american_negative = (len(res[(res['typology'] == '%s' % restaurant_typology) & (men_o40) & (negative)]) * 100) / totAmericanUsers\n",
        "\n",
        "\n",
        "# NEUTRI\n",
        "# numero medio di utenti asiatici, messicani e americani sul totale\n",
        "women_u40_american_neutral = (len(res[(res['typology'] == '%s' % restaurant_typology) & (women_u40) & (neutral)]) * 100) / totAmericanUsers\n",
        "women_o40_american_neutral = (len(res[(res['typology'] == '%s' % restaurant_typology) & (women_o40) & (neutral)]) * 100) / totAmericanUsers\n",
        "men_u40_american_neutral = (len(res[(res['typology'] == '%s' % restaurant_typology) & (men_u40) & (neutral)]) * 100) / totAmericanUsers\n",
        "men_o40_american_neutral = (len(res[(res['typology'] == '%s' % restaurant_typology) & (men_o40) & (neutral)]) * 100) / totAmericanUsers\n",
        "\n"
      ],
      "execution_count": 9,
      "outputs": [
        {
          "output_type": "stream",
          "text": [
            "/usr/local/lib/python3.6/dist-packages/pandas/core/ops/array_ops.py:253: FutureWarning: elementwise comparison failed; returning scalar instead, but in the future will perform elementwise comparison\n",
            "  res_values = method(rvalues)\n"
          ],
          "name": "stderr"
        }
      ]
    },
    {
      "cell_type": "code",
      "metadata": {
        "id": "pyAFQHr-0EDp",
        "colab_type": "code",
        "colab": {
          "base_uri": "https://localhost:8080/",
          "height": 217
        },
        "outputId": "c76be034-1778-4f61-a365-328ca5895fb8"
      },
      "source": [
        "fig, ax = plt.subplots(figsize=(6, 3), subplot_kw=dict(aspect=\"equal\"))\n",
        "\n",
        "# percentuali\n",
        "percentuale_women_u40 = \"{:.2%}\".format(women_u40_american_positive/100)\n",
        "percentuale_women_o40 = \"{:.2%}\".format(women_o40_american_positive/100)\n",
        "percentuale_men_u40 = \"{:.2%}\".format(men_u40_american_positive/100)\n",
        "percentuale_men_o40 = \"{:.2%}\".format(men_o40_american_positive/100)\n",
        "\n",
        "recipe = [\"women under 40: \" + \"%s\" % percentuale_women_u40,\n",
        "          \"women over 40: \" + \"%s\" % percentuale_women_o40,\n",
        "          \"men under 40: \" + \"%s\" % percentuale_men_u40,\n",
        "          \"men over 40: \" + \"%s\" % percentuale_men_o40]\n",
        "\n",
        "# GRAFICO PER POSITIVI AMERICANI\n",
        "\n",
        "data = [women_u40_american_positive, women_o40_american_positive, men_u40_american_positive, men_o40_american_positive]\n",
        "\n",
        "wedges, texts = ax.pie(data, wedgeprops=dict(width=0.5), startangle=-40)\n",
        "\n",
        "bbox_props = dict(boxstyle=\"square,pad=0.3\", fc=\"w\", ec=\"k\", lw=0.72)\n",
        "kw = dict(arrowprops=dict(arrowstyle=\"-\"),\n",
        "          bbox=bbox_props, zorder=0, va=\"center\")\n",
        "\n",
        "for i, p in enumerate(wedges):\n",
        "    ang = (p.theta2 - p.theta1)/2. + p.theta1\n",
        "    y = np.sin(np.deg2rad(ang))\n",
        "    x = np.cos(np.deg2rad(ang))\n",
        "    horizontalalignment = {-1: \"right\", 1: \"left\"}[int(np.sign(x))]\n",
        "    connectionstyle = \"angle,angleA=0,angleB={}\".format(ang)\n",
        "    kw[\"arrowprops\"].update({\"connectionstyle\": connectionstyle})\n",
        "    ax.annotate(recipe[i], xy=(x, y), xytext=(1.35*np.sign(x), 1.4*y),\n",
        "                horizontalalignment=horizontalalignment, **kw)\n",
        "\n",
        "ax.set_title(\"Positive sentiment by group of american women and men\")\n",
        "\n",
        "plt.show()\n"
      ],
      "execution_count": 25,
      "outputs": [
        {
          "output_type": "display_data",
          "data": {
            "image/png": "[encoded data removed]",
            "text/plain": [
              "<Figure size 432x216 with 1 Axes>"
            ]
          },
          "metadata": {
            "tags": []
          }
        }
      ]
    },
    {
      "cell_type": "code",
      "metadata": {
        "id": "8mu-wRbOW5hb",
        "colab_type": "code",
        "colab": {}
      },
      "source": [
        "-----------------------------------------------------------------------------------------------------------\n",
        "# Costruisco il grafico\n",
        "\n",
        "labels = ['AmericanRestaurants', 'AsianRestaurants', 'MexicanRestaurants']\n",
        "\n",
        "# GRAFICO PER ASIATICI\n",
        "\n",
        "asianPositive = [asian_american_positive, asian_asian_positive, asian_mexican_positive]\n",
        "asianNegative = [asian_american_negative, asian_asian_negative, asian_mexican_negative]\n",
        "asianNeutral = [asian_american_neutral, asian_asian_neutral, asian_mexican_neutral]\n",
        "\n",
        "x = np.arange(len(labels))  # the label locations\n",
        "width = 0.15  # the width of the bars\n",
        "\n",
        "fig, ax = plt.subplots()\n",
        "rects1 = ax.bar(x - width, asianPositive, width, label='positive')\n",
        "rects2 = ax.bar(x, asianNegative, width, label='negative')\n",
        "rects3 = ax.bar(x + width, asianNeutral, width, label='neutral')\n",
        "\n",
        "# Add some text for labels, title and custom x-axis tick labels, etc.\n",
        "ax.set_ylabel('sentiment_analysis')\n",
        "ax.set_title('Asian sentiment by group of restaurant typology')\n",
        "ax.set_xticks(x)\n",
        "ax.set_xticklabels(labels)\n",
        "ax.legend()\n",
        "\n",
        "def autolabel(rects):\n",
        "    \"\"\"Attach a text label above each bar in *rects*, displaying its height.\"\"\"\n",
        "    for rect in rects:\n",
        "        height = rect.get_height()\n",
        "        ax.annotate('{}'.format(height),\n",
        "                    xy=(rect.get_x() + rect.get_width(), height),\n",
        "                    xytext=(0, 3),  # 3 points vertical offset\n",
        "                    textcoords=\"offset points\",\n",
        "                    ha='center', va='bottom')\n",
        "\n",
        "autolabel(rects1)\n",
        "autolabel(rects2)\n",
        "autolabel(rects3)\n",
        "\n",
        "fig.tight_layout()\n",
        "\n",
        "plt.show()"
      ],
      "execution_count": null,
      "outputs": []
    }
  ]
}