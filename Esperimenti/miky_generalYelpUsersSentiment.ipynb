{
  "nbformat": 4,
  "nbformat_minor": 0,
  "metadata": {
    "colab": {
      "name": "Untitled9.ipynb",
      "provenance": [],
      "include_colab_link": true
    },
    "kernelspec": {
      "name": "python3",
      "display_name": "Python 3"
    }
  },
  "cells": [
    {
      "cell_type": "markdown",
      "metadata": {
        "id": "view-in-github",
        "colab_type": "text"
      },
      "source": [
        "<a href=\"https://colab.research.google.com/github/EleonoraBartolomucci/Fairness/blob/master/Esperimenti/miky_generalYelpUsersSentiment.ipynb\" target=\"_parent\"><img src=\"https://colab.research.google.com/assets/colab-badge.svg\" alt=\"Open In Colab\"/></a>"
      ]
    },
    {
      "cell_type": "code",
      "metadata": {
        "id": "T7nTej7jgxuR",
        "colab_type": "code",
        "colab": {}
      },
      "source": [
        "from pydrive.auth import GoogleAuth\n",
        "from pydrive.drive import GoogleDrive\n",
        "from oauth2client.client import GoogleCredentials\n",
        "from google.colab import auth\n",
        "import pandas as pd\n",
        "import csv\n",
        "import matplotlib\n",
        "import matplotlib.pyplot as plt\n",
        "import numpy as np\n",
        "\n",
        "auth.authenticate_user()\n",
        "gauth = GoogleAuth()\n",
        "gauth.credentials = GoogleCredentials.get_application_default()\n",
        "drive = GoogleDrive(gauth)\n",
        "\n",
        "sort = 'Random'\n",
        "\n",
        "# file con i dati di tutti i ristoranti random\n",
        "all_analysis = '1n9vdCnppJGdE6M6HdKYlksuTntQYHA7P'  # FILE ID, got on google drive with condivision link\n",
        "download = drive.CreateFile({'id': all_analysis})\n",
        "download.GetContentFile('AllRestaurant_' + '%s' % sort + '_Analysis.csv')\n",
        "\n",
        "# leggo il csv con pandas\n",
        "res = pd.read_csv('AllRestaurant_' + '%s' % sort + '_Analysis.csv')\n",
        "\n",
        "#res_agg = res.groupby(['restaurant','ethnicity']).count()[['user_id']]    #agg({'user_id':count})\n",
        "#res_agg = res[res['restaurant'] == 'TupeloHoney'].groupby('ethnicity').count() "
      ],
      "execution_count": 1,
      "outputs": []
    },
    {
      "cell_type": "code",
      "metadata": {
        "id": "nRkTfycKzn_J",
        "colab_type": "code",
        "colab": {}
      },
      "source": [
        "# Prendo i dati che mi servono di tutti i ristoranti\n",
        "\n",
        "# Percentuali di opinione di una etnia in generale su yelp, in base al numero effettivo di utenti della stessa etnia\n",
        "\n",
        "asian = res['ethnicity'] == 'asian'\n",
        "mexican = res['ethnicity'] == 'hispanic, latino, or spanish origin'\n",
        "black_american = res['ethnicity'] == 'black or african american'\n",
        "white_american = res['ethnicity'] == 'white'\n",
        "positive = res['review_sentiment'] == 'positive'\n",
        "negative = res['review_sentiment'] == 'negative'\n",
        "neutral = res['review_sentiment'] == 'neutral'\n",
        "\n",
        "# ALL RESTAURANTS\n",
        "\n",
        "totAmericanUsers = len(res[(black_american) | (white_american)])\n",
        "totAsianUsers = len(res[(asian)])\n",
        "totMexicanUsers = len(res[(mexican)])\n",
        "\n",
        "# POSITIVI\n",
        "# numero medio di utenti asiatici, messicani e americani sul totale\n",
        "american_positive = ((len(res[((black_american) & (positive)) | ((white_american) & (positive))])) * 100) / totAmericanUsers\n",
        "asian_positive = (len(res[(asian) & (positive)]) * 100) / totAsianUsers\n",
        "mexican_positive = (len(res[(mexican) & (positive)]) * 100) / totMexicanUsers\n",
        "\n",
        "# NEGATIVI\n",
        "# numero medio di utenti asiatici, messicani e americani sul totale\n",
        "american_negative = ((len(res[((black_american) & (negative)) | ((white_american) & (negative))])) * 100) / totAmericanUsers\n",
        "asian_negative = (len(res[(asian) & (negative)]) * 100) / totAsianUsers\n",
        "mexican_negative = (len(res[(mexican) & (negative)]) * 100) / totMexicanUsers\n",
        "\n",
        "# NEUTRI\n",
        "# numero medio di utenti asiatici, messicani e americani sul totale\n",
        "american_neutral = ((len(res[((black_american) & (neutral)) | ((white_american) & (neutral))])) * 100) / totAmericanUsers\n",
        "asian_neutral = (len(res[(asian) & (neutral)]) * 100) / totAsianUsers\n",
        "mexican_neutral = (len(res[(mexican) & (neutral)]) * 100) / totMexicanUsers\n",
        "\n"
      ],
      "execution_count": 7,
      "outputs": []
    },
    {
      "cell_type": "code",
      "metadata": {
        "id": "pyAFQHr-0EDp",
        "colab_type": "code",
        "colab": {
          "base_uri": "https://localhost:8080/",
          "height": 492
        },
        "outputId": "e7555986-f079-4648-a3b0-553f667f0d20"
      },
      "source": [
        "# Costruisco il grafico\n",
        "\n",
        "labels = ['AmericanSentiment', 'AsianSentiment', 'MexicanSentiment']\n",
        "\n",
        "# GRAFICO PER TUTTI GLI UTENTI\n",
        "\n",
        "# valori barre\n",
        "positive = [american_positive, asian_positive, mexican_positive]\n",
        "negative = [american_negative, asian_negative, mexican_negative]\n",
        "neutral = [american_neutral, asian_neutral, mexican_neutral]\n",
        "\n",
        "x = np.arange(len(labels))  # the label locations\n",
        "width = 0.15  # the width of the bars\n",
        "\n",
        "matplotlib.rcParams['figure.figsize'] = (10.0, 6.0)\n",
        "fig, ax = plt.subplots()\n",
        "\n",
        "rects1 = ax.bar(x - width, positive, width, label='positive')\n",
        "rects2 = ax.bar(x, negative, width, label='negative')\n",
        "rects3 = ax.bar(x + width, neutral, width, label='neutral')\n",
        "\n",
        "# Add some text for labels, title and custom x-axis tick labels, etc.\n",
        "ax.set_ylabel('All Restaurants Users')\n",
        "ax.set_title('General yelp users sentiment')\n",
        "ax.set_xticks(x)\n",
        "ax.set_xticklabels(labels)\n",
        "ax.legend()\n",
        "\n",
        "def autolabel(rects):\n",
        "    \"\"\"Attach a text label above each bar in *rects*, displaying its height.\"\"\"\n",
        "    for rect in rects:\n",
        "        height = rect.get_height()\n",
        "        ax.annotate('{:.2%}'.format(height/100),\n",
        "                    xy=(rect.get_x() + rect.get_width(), height),\n",
        "                    xytext=(0, 3),  # 3 points vertical offset\n",
        "                    textcoords=\"offset points\",\n",
        "                    ha='center', va='bottom')\n",
        "\n",
        "autolabel(rects1)\n",
        "autolabel(rects2)\n",
        "autolabel(rects3)\n",
        "\n",
        "fig.tight_layout()\n",
        "\n",
        "plt.show()"
      ],
      "execution_count": 17,
      "outputs": [
        {
          "output_type": "stream",
          "text": [
            "100.0\n",
            "100.0\n",
            "100.0\n"
          ],
          "name": "stdout"
        },
        {
          "output_type": "display_data",
          "data": {
            "image/png": "[encoded data removed]",
            "text/plain": [
              "<Figure size 720x432 with 1 Axes>"
            ]
          },
          "metadata": {
            "tags": [],
            "needs_background": "light"
          }
        }
      ]
    }
  ]
}