{
  "nbformat": 4,
  "nbformat_minor": 0,
  "metadata": {
    "colab": {
      "name": "Untitled9.ipynb",
      "provenance": [],
      "include_colab_link": true
    },
    "kernelspec": {
      "name": "python3",
      "display_name": "Python 3"
    }
  },
  "cells": [
    {
      "cell_type": "markdown",
      "metadata": {
        "id": "view-in-github",
        "colab_type": "text"
      },
      "source": [
        "<a href=\"https://colab.research.google.com/github/EleonoraBartolomucci/Fairness/blob/master/Esperimenti/MelaSecondoEsperimento.ipynb\" target=\"_parent\"><img src=\"https://colab.research.google.com/assets/colab-badge.svg\" alt=\"Open In Colab\"/></a>"
      ]
    },
    {
      "cell_type": "code",
      "metadata": {
        "id": "T7nTej7jgxuR",
        "colab_type": "code",
        "colab": {}
      },
      "source": [
        "from pydrive.auth import GoogleAuth\n",
        "from pydrive.drive import GoogleDrive\n",
        "from oauth2client.client import GoogleCredentials\n",
        "from google.colab import auth\n",
        "import json\n",
        "import pandas as pd\n",
        "import csv\n",
        "import matplotlib.pyplot as plt\n",
        "import numpy as np\n",
        "\n",
        "auth.authenticate_user()\n",
        "gauth = GoogleAuth()\n",
        "gauth.credentials = GoogleCredentials.get_application_default()\n",
        "drive = GoogleDrive(gauth)\n",
        "\n",
        "sort = 'Relevance'\n",
        "\n",
        "relevance = '1nwGbyk8q2S-0BkLcyFVqdK6emTooxHJv'  # FILE ID, got on google drive with condivision link\n",
        "download = drive.CreateFile({'id': relevance})\n",
        "download.GetContentFile('AllRestaurant_' + '%s' % sort + '_Analysis.csv')\n",
        "\n",
        "dfr = pd.read_csv('AllRestaurant_' + '%s' % sort + '_Analysis.csv')\n",
        "\n",
        "sort = 'Date'\n",
        "\n",
        "date = '1Pb2It9WPid9Irjp6bRVgCF7B3Y5ARBjT'  # FILE ID, got on google drive with condivision link\n",
        "download = drive.CreateFile({'id': date})\n",
        "download.GetContentFile('AllRestaurant_' + '%s' % sort + '_Analysis.csv')\n",
        "\n",
        "dfd = pd.read_csv('AllRestaurant_' + '%s' % sort + '_Analysis.csv')\n",
        "dfr['sort'] = 'yelp'\n",
        "dfd['sort'] ='date'"
      ],
      "execution_count": 6,
      "outputs": []
    },
    {
      "cell_type": "code",
      "metadata": {
        "id": "Px1E2D_EKqlV",
        "colab_type": "code",
        "colab": {
          "base_uri": "https://localhost:8080/",
          "height": 775
        },
        "outputId": "d71388d2-dc25-4e36-de96-e2c780c2e710"
      },
      "source": [
        "#filtro il df prendendo solo le righe che mi interessano\n",
        "df1 = dfr[(dfr['restaurant']=='TupeloHoney') & (dfr['gender']=='male')]\n",
        "df2 = dfd[(dfd['restaurant']=='TupeloHoney')  & (dfd['gender']=='female')]\n",
        "\n",
        "df = pd.concat([df1, df2])\n",
        "df = df[(df['number']<40)]\n",
        "\n",
        "df = df.sort_values('number')\n",
        "y1 = df['number'].tolist()\n",
        "x1 = df['sort'].tolist()\n",
        "\n",
        "#filtro il df prendendo solo le righe che mi interessano\n",
        "df1 = dfr[(dfr['restaurant']=='TupeloHoney') & (dfr['ethnicity']=='asian')]\n",
        "df2 = dfd[(dfd['restaurant']=='TupeloHoney')  & (dfd['ethnicity']=='asian')]\n",
        "\n",
        "df = pd.concat([df1, df2])\n",
        "df = df[(df['number']<40)]\n",
        "\n",
        "df = df.sort_values('number')\n",
        "y2 = df['number'].tolist()\n",
        "x2 = df['sort'].tolist()\n",
        "\n",
        "#filtro il df prendendo solo le righe che mi interessano\n",
        "df1 = dfr[(dfr['restaurant']=='TupeloHoney') & (dfr['ethnicity']=='hispanic, latino, or spanish origin')]\n",
        "df2 = dfd[(dfd['restaurant']=='TupeloHoney')  & (dfd['ethnicity']=='hispanic, latino, or spanish origin')]\n",
        "\n",
        "df = pd.concat([df1, df2])\n",
        "df = df[(df['number']<40)]\n",
        "\n",
        "df = df.sort_values('number')\n",
        "y3 = df['number'].tolist()\n",
        "x3 = df['sort'].tolist()\n",
        "\n",
        "plt.scatter(x1,y1, s=10, color='red')\n",
        "plt.scatter(x2,y2, s=10, color='green')\n",
        "plt.scatter(x3,y3, s=10, color='blue')\n",
        "plt.show()\n",
        "#=============================================================================================================================\n",
        "\n",
        "#filtro il df prendendo solo le righe che mi interessano\n",
        "df1 = dfr[(dfr['restaurant']=='CulinaryDropout') & (dfr['ethnicity']=='white')]\n",
        "df2 = dfd[(dfd['restaurant']=='CulinaryDropout')  & (dfd['ethnicity']=='white')]\n",
        "\n",
        "df = pd.concat([df1, df2])\n",
        "df = df[(df['number']<40)]\n",
        "\n",
        "df = df.sort_values('number')\n",
        "y1 = df['number'].tolist()\n",
        "x1 = df['sort'].tolist()\n",
        "\n",
        "#filtro il df prendendo solo le righe che mi interessano\n",
        "df1 = dfr[(dfr['restaurant']=='CulinaryDropout') & (dfr['ethnicity']=='asian')]\n",
        "df2 = dfd[(dfd['restaurant']=='CulinaryDropout')  & (dfd['ethnicity']=='asian')]\n",
        "\n",
        "df = pd.concat([df1, df2])\n",
        "df = df[(df['number']<40)]\n",
        "\n",
        "df = df.sort_values('number')\n",
        "y2 = df['number'].tolist()\n",
        "x2 = df['sort'].tolist()\n",
        "\n",
        "#filtro il df prendendo solo le righe che mi interessano\n",
        "df1 = dfr[(dfr['restaurant']=='CulinaryDropout') & (dfr['ethnicity']=='hispanic, latino, or spanish origin')]\n",
        "df2 = dfd[(dfd['restaurant']=='CulinaryDropout')  & (dfd['ethnicity']=='hispanic, latino, or spanish origin')]\n",
        "\n",
        "df = pd.concat([df1, df2])\n",
        "df = df[(df['number']<40)]\n",
        "\n",
        "df = df.sort_values('number')\n",
        "y3 = df['number'].tolist()\n",
        "x3 = df['sort'].tolist()\n",
        "\n",
        "plt.scatter(x1,y1, s=10, color='red')\n",
        "plt.scatter(x2,y2, s=10, color='green')\n",
        "plt.scatter(x3,y3, s=10, color='blue')\n",
        "plt.show()\n",
        "#=============================================================================================================================\n",
        "#filtro il df prendendo solo le righe che mi interessano\n",
        "df1 = dfr[(dfr['restaurant']=='CravingsBuffet') & (dfr['ethnicity']=='white')]\n",
        "df2 = dfd[(dfd['restaurant']=='CravingsBuffet')  & (dfd['ethnicity']=='white')]\n",
        "\n",
        "df = pd.concat([df1, df2])\n",
        "df = df[(df['number']<40)]\n",
        "\n",
        "df = df.sort_values('number')\n",
        "y1 = df['number'].tolist()\n",
        "x1 = df['sort'].tolist()\n",
        "\n",
        "#filtro il df prendendo solo le righe che mi interessano\n",
        "df1 = dfr[(dfr['restaurant']=='CravingsBuffet') & (dfr['ethnicity']=='asian')]\n",
        "df2 = dfd[(dfd['restaurant']=='CravingsBuffet')  & (dfd['ethnicity']=='asian')]\n",
        "\n",
        "df = pd.concat([df1, df2])\n",
        "df = df[(df['number']<40)]\n",
        "\n",
        "df = df.sort_values('number')\n",
        "y2 = df['number'].tolist()\n",
        "x2 = df['sort'].tolist()\n",
        "\n",
        "#filtro il df prendendo solo le righe che mi interessano\n",
        "df1 = dfr[(dfr['restaurant']=='CravingsBuffet') & (dfr['ethnicity']=='hispanic, latino, or spanish origin')]\n",
        "df2 = dfd[(dfd['restaurant']=='CravingsBuffet')  & (dfd['ethnicity']=='hispanic, latino, or spanish origin')]\n",
        "\n",
        "df = pd.concat([df1, df2])\n",
        "df = df[(df['number']<40)]\n",
        "\n",
        "df = df.sort_values('number')\n",
        "y3 = df['number'].tolist()\n",
        "x3 = df['sort'].tolist()\n",
        "\n",
        "plt.scatter(x1,y1, s=10, color='red')\n",
        "plt.scatter(x2,y2, s=10, color='green')\n",
        "plt.scatter(x3,y3, s=10, color='blue')\n",
        "#=================================================================================================\n",
        "labels = ['Yelp1', 'date1', 'yelp2','date2', 'yelp3', 'date3']\n",
        "\n",
        "#servono per mettere la griglia\n",
        "axes = plt.gca()\n",
        "axes.yaxis.grid()\n",
        "#mi definisce i limiti della y\n",
        "axes.set_ylim([1,40])\n",
        "axes.set_xticklabels(labels)\n",
        "\n",
        "#scegliere dove mettere le etichette\n",
        "plt.yticks(np.arange(0, 40, 10.0))\n",
        "\n",
        "#plt.scatter(x1,y1)\n",
        "\n",
        "#plt.legend(loc=\"upper center\")\n",
        "plt.xlabel('Ordinamento')\n",
        "plt.ylabel('Posizione in classifica')\n",
        "\n",
        "\n",
        "# disable ticks in the x axis\n",
        "#plt.xticks([])\n",
        "\n",
        "\n",
        "#plt.legend(reversed_handles,correct_labels)\n",
        "\n",
        "plt.show()\n"
      ],
      "execution_count": 10,
      "outputs": [
        {
          "output_type": "display_data",
          "data": {
            "image/png": "[encoded data removed]",
            "text/plain": [
              "<Figure size 432x288 with 1 Axes>"
            ]
          },
          "metadata": {
            "tags": [],
            "needs_background": "light"
          }
        },
        {
          "output_type": "display_data",
          "data": {
            "image/png": "[encoded data removed]",
            "text/plain": [
              "<Figure size 432x288 with 1 Axes>"
            ]
          },
          "metadata": {
            "tags": [],
            "needs_background": "light"
          }
        },
        {
          "output_type": "display_data",
          "data": {
            "image/png": "[encoded data removed]",
            "text/plain": [
              "<Figure size 432x288 with 1 Axes>"
            ]
          },
          "metadata": {
            "tags": [],
            "needs_background": "light"
          }
        }
      ]
    }
  ]
}