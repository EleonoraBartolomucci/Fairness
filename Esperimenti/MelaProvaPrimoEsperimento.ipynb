{
  "nbformat": 4,
  "nbformat_minor": 0,
  "metadata": {
    "colab": {
      "name": "Untitled9.ipynb",
      "provenance": [],
      "include_colab_link": true
    },
    "kernelspec": {
      "name": "python3",
      "display_name": "Python 3"
    }
  },
  "cells": [
    {
      "cell_type": "markdown",
      "metadata": {
        "id": "view-in-github",
        "colab_type": "text"
      },
      "source": [
        "<a href=\"https://colab.research.google.com/github/EleonoraBartolomucci/Fairness/blob/master/Esperimenti/MelaProvaPrimoEsperimento.ipynb\" target=\"_parent\"><img src=\"https://colab.research.google.com/assets/colab-badge.svg\" alt=\"Open In Colab\"/></a>"
      ]
    },
    {
      "cell_type": "code",
      "metadata": {
        "id": "T7nTej7jgxuR",
        "colab_type": "code",
        "colab": {
          "base_uri": "https://localhost:8080/",
          "height": 296
        },
        "outputId": "d6ebb1ba-b404-4ed6-b264-e0b6103e2803"
      },
      "source": [
        "from pydrive.auth import GoogleAuth\n",
        "from pydrive.drive import GoogleDrive\n",
        "from oauth2client.client import GoogleCredentials\n",
        "from google.colab import auth\n",
        "import json\n",
        "import pandas as pd\n",
        "import csv\n",
        "import matplotlib.pyplot as plt\n",
        "import numpy as np\n",
        "\n",
        "auth.authenticate_user()\n",
        "gauth = GoogleAuth()\n",
        "gauth.credentials = GoogleCredentials.get_application_default()\n",
        "drive = GoogleDrive(gauth)\n",
        "\n",
        "sort = 'Relevance'\n",
        "\n",
        "relevance = '1nwGbyk8q2S-0BkLcyFVqdK6emTooxHJv'  # FILE ID, got on google drive with condivision link\n",
        "download = drive.CreateFile({'id': relevance})\n",
        "download.GetContentFile('AllRestaurant_' + '%s' % sort + '_Analysis.csv')\n",
        "\n",
        "dfr = pd.read_csv('AllRestaurant_' + '%s' % sort + '_Analysis.csv')\n",
        "\n",
        "sort = 'Date'\n",
        "\n",
        "date = '1Pb2It9WPid9Irjp6bRVgCF7B3Y5ARBjT'  # FILE ID, got on google drive with condivision link\n",
        "download = drive.CreateFile({'id': date})\n",
        "download.GetContentFile('AllRestaurant_' + '%s' % sort + '_Analysis.csv')\n",
        "\n",
        "dfd = pd.read_csv('AllRestaurant_' + '%s' % sort + '_Analysis.csv')\n",
        "\n",
        "#restaurant.plot(kind='bar',x='name',y='num_children',ax=ax)\n",
        "#restaurant.groupby('ethnicity')['user_id'].nunique().plot(kind='bar')\n",
        "\n",
        "#restaurant.assign(dummy = 1).groupby(['ethnicity','restaurant']).size().groupby(level=0).apply(lambda x: 100 * x / x.sum()).to_frame().unstack().plot(kind='bar',stacked=True,legend=True)\n",
        "\n",
        "dfr['sort'] = 'yelp'\n",
        "dfd['sort'] ='date'\n",
        "\n",
        "#filtro il df prendendo solo le righe che mi interessano\n",
        "df1 = dfr[(dfr['restaurant']=='TupeloHoney') & (dfr['ethnicity']=='white')]\n",
        "df2 = dfd[(dfd['restaurant']=='TupeloHoney')  & (dfd['ethnicity']=='white')]\n",
        "df = pd.concat([df1, df2])\n",
        "df = df[(df['number']<40)]\n",
        "\n",
        "df = df.sort_values('number')\n",
        "y1 = df['number'].tolist()\n",
        "x1 = df['sort'].tolist()\n",
        "\n",
        "#filtro il df prendendo solo le righe che mi interessano\n",
        "df1 = dfr[(dfr['restaurant']=='TupeloHoney') & (dfr['ethnicity']=='asian')]\n",
        "df2 = dfd[(dfd['restaurant']=='TupeloHoney')  & (dfd['ethnicity']=='asian')]\n",
        "df = pd.concat([df1, df2])\n",
        "df = df[(df['number']<40)]\n",
        "\n",
        "df = df.sort_values('number')\n",
        "y2 = df['number'].tolist()\n",
        "x2 = df['sort'].tolist()\n",
        "\n",
        "#filtro il df prendendo solo le righe che mi interessano\n",
        "df1 = dfr[(dfr['restaurant']=='TupeloHoney') & (dfr['ethnicity']=='mexican')]\n",
        "df2 = dfd[(dfd['restaurant']=='TupeloHoney')  & (dfd['ethnicity']=='mexican')]\n",
        "df = pd.concat([df1, df2])\n",
        "df = df[(df['number']<40)]\n",
        "\n",
        "df = df.sort_values('number')\n",
        "y3 = df['number'].tolist()\n",
        "x3 = df['sort'].tolist()\n",
        "#servono per mettere la griglia\n",
        "axes = plt.gca()\n",
        "axes.yaxis.grid()\n",
        "#mi definisce i limiti della y\n",
        "axes.set_ylim([1,40])\n",
        "\n",
        "#scegliere dove mettere le etichette\n",
        "plt.yticks(np.arange(0, 40, 5.0))\n",
        "\n",
        "#plt.scatter(x1,y1)\n",
        "plt.scatter(x1,y1, s=10, color='red', label='white')\n",
        "plt.scatter(x2,y2, s=10, color='green', label='asian')\n",
        "plt.scatter(x3,y3, s=10, color='blue', label='mexican')\n",
        "plt.legend(loc=\"upper center\")\n",
        "plt.xlabel('Ordinamento')\n",
        "plt.ylabel('Posizione in classifica')\n",
        "#plt.xlabel('etnia')\n",
        "\n",
        "# disable ticks in the x axis\n",
        "#plt.xticks([])\n",
        "\n",
        "# fix the legend or it'll include the dummy variable\n",
        "#current_handles, _ = plt.gca().get_legend_handles_labels()\n",
        "#reversed_handles = reversed(current_handles)\n",
        "#correct_labels = reversed(restaurant['restaurant'].unique())\n",
        "\n",
        "#plt.legend(reversed_handles,correct_labels)\n",
        "\n",
        "#plt.show()\n"
      ],
      "execution_count": null,
      "outputs": [
        {
          "output_type": "execute_result",
          "data": {
            "text/plain": [
              "Text(0, 0.5, 'Posizione in classifica')"
            ]
          },
          "metadata": {
            "tags": []
          },
          "execution_count": 9
        },
        {
          "output_type": "display_data",
          "data": {
            "image/png": "[encoded data removed]",
            "text/plain": [
              "<Figure size 432x288 with 1 Axes>"
            ]
          },
          "metadata": {
            "tags": [],
            "needs_background": "light"
          }
        }
      ]
    }
  ]
}