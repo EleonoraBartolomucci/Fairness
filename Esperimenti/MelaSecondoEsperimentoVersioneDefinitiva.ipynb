{
  "nbformat": 4,
  "nbformat_minor": 0,
  "metadata": {
    "colab": {
      "name": "Untitled9.ipynb",
      "provenance": [],
      "include_colab_link": true
    },
    "kernelspec": {
      "name": "python3",
      "display_name": "Python 3"
    }
  },
  "cells": [
    {
      "cell_type": "markdown",
      "metadata": {
        "id": "view-in-github",
        "colab_type": "text"
      },
      "source": [
        "<a href=\"https://colab.research.google.com/github/EleonoraBartolomucci/Fairness/blob/master/Esperimenti/MelaSecondoEsperimentoVersioneDefinitiva.ipynb\" target=\"_parent\"><img src=\"https://colab.research.google.com/assets/colab-badge.svg\" alt=\"Open In Colab\"/></a>"
      ]
    },
    {
      "cell_type": "code",
      "metadata": {
        "id": "BbyXOukNjlyk",
        "colab_type": "code",
        "colab": {}
      },
      "source": [
        "from pydrive.auth import GoogleAuth\n",
        "from pydrive.drive import GoogleDrive\n",
        "from oauth2client.client import GoogleCredentials\n",
        "from google.colab import auth\n",
        "import pandas as pd\n",
        "import csv\n",
        "import matplotlib.pyplot as plt\n",
        "import numpy as np\n",
        "\n",
        "auth.authenticate_user()\n",
        "gauth = GoogleAuth()\n",
        "gauth.credentials = GoogleCredentials.get_application_default()\n",
        "drive = GoogleDrive(gauth)\n",
        "\n",
        "sort = 'Relevance'\n",
        "\n",
        "relevance = '1nwGbyk8q2S-0BkLcyFVqdK6emTooxHJv'  # FILE ID, got on google drive with condivision link\n",
        "download = drive.CreateFile({'id': relevance})\n",
        "download.GetContentFile('AllRestaurant_' + '%s' % sort + '_Analysis.csv')\n",
        "\n",
        "dfr = pd.read_csv('AllRestaurant_' + '%s' % sort + '_Analysis.csv')\n",
        "\n",
        "sort = 'Date'\n",
        "\n",
        "date = '1Pb2It9WPid9Irjp6bRVgCF7B3Y5ARBjT'  # FILE ID, got on google drive with condivision link\n",
        "download = drive.CreateFile({'id': date})\n",
        "download.GetContentFile('AllRestaurant_' + '%s' % sort + '_Analysis.csv')\n",
        "\n",
        "dfd = pd.read_csv('AllRestaurant_' + '%s' % sort + '_Analysis.csv')"
      ],
      "execution_count": 1,
      "outputs": []
    },
    {
      "cell_type": "code",
      "metadata": {
        "id": "T7nTej7jgxuR",
        "colab_type": "code",
        "colab": {}
      },
      "source": [
        "american_male_relevance = dfr[(dfr['typology']=='American') & (dfr['gender']=='masculine') & (dfr['number']<=20)]\n",
        "american_male_date = dfd[(dfd['typology']=='American')  & (dfd['gender']=='masculine') & (dfd['number']<=20)]\n",
        "american_female_relevance = dfr[(dfr['typology']=='American') & (dfr['gender']=='feminine') & (dfr['number']<=20)]\n",
        "american_female_date = dfd[(dfd['typology']=='American')  & (dfd['gender']=='feminine') & (dfd['number']<=20)]\n",
        "\n",
        "tot_american_male_relevance = sum(american_male_relevance['number']) / len(american_male_relevance)\n",
        "tot_american_male_date = sum(american_male_date['number']) / len(american_male_date)\n",
        "tot_american_female_relevance = sum(american_female_relevance['number']) / len(american_female_relevance)\n",
        "tot_american_female_date = sum(american_female_date['number']) / len(american_female_date)\n",
        "\n",
        "\n",
        "#labels = ['OrdinamentoYelp', 'OrdinamentoData']\n",
        "american_male = [tot_american_male_relevance, tot_american_male_date] \n",
        "american_female = [tot_american_female_relevance, tot_american_female_date]\n",
        "\n"
      ],
      "execution_count": null,
      "outputs": []
    },
    {
      "cell_type": "code",
      "metadata": {
        "id": "f8iXeCqSouRq",
        "colab_type": "code",
        "colab": {}
      },
      "source": [
        "asian_male_relevance = dfr[(dfr['typology']=='Japanese') & (dfr['gender']=='masculine') & (dfr['number']<=20)]\n",
        "asian_male_date = dfd[(dfd['typology']=='Japanese')  & (dfd['gender']=='masculine') & (dfd['number']<=20)]\n",
        "asian_female_relevance = dfr[(dfr['typology']=='Japanese') & (dfr['gender']=='feminine') & (dfr['number']<=20)]\n",
        "asian_female_date = dfd[(dfd['typology']=='Japanese')  & (dfd['gender']=='feminine') & (dfd['number']<=20)]\n",
        "\n",
        "tot_asian_male_relevance = sum(asian_male_relevance['number']) / len(asian_male_relevance)\n",
        "tot_asian_male_date = sum(asian_male_date['number']) / len(asian_male_date)\n",
        "tot_asian_female_relevance = sum(asian_female_relevance['number']) / len(asian_female_relevance)\n",
        "tot_asian_female_date = sum(asian_female_date['number']) / len(asian_female_date)\n",
        "\n",
        "\n",
        "#labels = ['OrdinamentoYelp', 'OrdinamentoData']\n",
        "asian_male = [tot_asian_male_relevance, tot_asian_male_date] \n",
        "asian_female = [tot_asian_female_relevance, tot_asian_female_date]\n",
        "\n",
        "\n",
        "\n"
      ],
      "execution_count": null,
      "outputs": []
    },
    {
      "cell_type": "code",
      "metadata": {
        "id": "dYxBzKEFvR32",
        "colab_type": "code",
        "colab": {}
      },
      "source": [
        "mexican_male_relevance = dfr[(dfr['typology']=='Mexican') & (dfr['gender']=='masculine') & (dfr['number']<=20)]\n",
        "mexican_male_date = dfd[(dfd['typology']=='Mexican')  & (dfd['gender']=='masculine') & (dfd['number']<=20)]\n",
        "mexican_female_relevance = dfr[(dfr['typology']=='Mexican') & (dfr['gender']=='feminine') & (dfr['number']<=20)]\n",
        "mexican_female_date = dfd[(dfd['typology']=='Mexican')  & (dfd['gender']=='feminine') & (dfd['number']<=20)]\n",
        "\n",
        "tot_mexican_male_relevance = sum(mexican_male_relevance['number']) / len(mexican_male_relevance)\n",
        "tot_mexican_male_date = sum(mexican_male_date['number']) / len(mexican_male_date)\n",
        "tot_mexican_female_relevance = sum(mexican_female_relevance['number']) / len(mexican_female_relevance)\n",
        "tot_mexican_female_date = sum(mexican_female_date['number']) / len(mexican_female_date)\n",
        "\n",
        "\n",
        "labels = ['OrdinamentoYelp', 'OrdinamentoData']\n",
        "male = [tot_mexican_male_relevance, tot_mexican_male_date] \n",
        "female = [tot_mexican_female_relevance, tot_mexican_female_date]\n",
        "\n",
        "x = np.arange(len(labels))  # the label locations\n",
        "width = 0.15  # the width of the bars\n",
        "\n",
        "fig, ax = plt.subplots()\n",
        "rects1 = ax.bar(x - width/2, male, width, label='male')\n",
        "rects2 = ax.bar(x + width/2, female, width,label ='female')\n"
      ],
      "execution_count": null,
      "outputs": []
    },
    {
      "cell_type": "code",
      "metadata": {
        "id": "FxP4E3j2bao7",
        "colab_type": "code",
        "colab": {
          "base_uri": "https://localhost:8080/",
          "height": 281
        },
        "outputId": "691f91fe-b781-47ae-8d5e-48c45653e37e"
      },
      "source": [
        "#==============COSTRUISCO IL GRAFICO========================\n",
        "\n",
        "\n",
        "labels = ['YelpAmer', 'DateAmer', 'YelpJao', 'DateJap','YelpMex','DateMex']\n",
        "\n",
        "\n",
        "male = [tot_american_male_relevance, tot_american_male_date,tot_asian_male_relevance, tot_asian_male_date,tot_mexican_male_relevance, tot_mexican_male_date]\n",
        "female = [tot_american_female_relevance, tot_american_female_date,tot_asian_female_relevance, tot_asian_female_date,tot_mexican_female_relevance, tot_mexican_female_date]\n",
        "\n",
        "x = np.arange(len(labels))  # the label locations\n",
        "width = 0.2  # the width of the bars\n",
        "\n",
        "fig, ax = plt.subplots()\n",
        "rects1 = ax.bar(x - width/2, male, width, label='male')\n",
        "rects2 = ax.bar(x + width/2, female, width,label ='female')\n",
        "\n",
        "# Add some text for labels, title and custom x-axis tick labels, etc.\n",
        "ax.set_ylabel('Posizione media in classifica')\n",
        "ax.set_title('Posizione media in classifica nei ristoranti raggruppati per categoria')\n",
        "ax.set_xticks(x)\n",
        "ax.set_xticklabels(labels)\n",
        "ax.legend()\n",
        "\n",
        "def autolabel(rects):\n",
        "    \"\"\"Attach a text label above each bar in *rects*, displaying its height.\"\"\"\n",
        "    for rect in rects:\n",
        "        height = rect.get_height()\n",
        "        ax.annotate('{:.4}'.format(height),\n",
        "                    xy=(rect.get_x() + rect.get_width(), height),\n",
        "                    xytext=(0, 3),  # 3 points vertical offset\n",
        "                    textcoords=\"offset points\",\n",
        "                    ha='center', va='bottom')\n",
        "\n",
        "autolabel(rects1)\n",
        "autolabel(rects2)\n",
        "\n",
        "\n",
        "\n",
        "plt.show()\n"
      ],
      "execution_count": null,
      "outputs": [
        {
          "output_type": "display_data",
          "data": {
            "image/png": "[encoded data removed]",
            "text/plain": [
              "<Figure size 432x288 with 1 Axes>"
            ]
          },
          "metadata": {
            "tags": [],
            "needs_background": "light"
          }
        }
      ]
    },
    {
      "cell_type": "code",
      "metadata": {
        "id": "wmp344lgfE2g",
        "colab_type": "code",
        "colab": {
          "base_uri": "https://localhost:8080/",
          "height": 281
        },
        "outputId": "906bdc21-a02e-4064-8311-40476f1ae4e2"
      },
      "source": [
        "#==============COSTRUISCO IL GRAFICO========================\n",
        "\n",
        "\n",
        "labels = ['DataAmer', 'YelpAmer', 'DataJap', 'YelpJap','DataMex','YelpMex']\n",
        "\n",
        "\n",
        "male = [tot_american_male_date, tot_american_male_relevance,tot_asian_male_date, tot_asian_male_relevance,tot_mexican_male_date, tot_mexican_male_relevance]\n",
        "female = [tot_american_female_date, tot_american_female_relevance,tot_asian_female_date, tot_asian_female_relevance,tot_mexican_female_date, tot_mexican_female_relevance]\n",
        "\n",
        "x = np.arange(len(labels))  # the label locations\n",
        "width = 0.29  # the width of the bars\n",
        "\n",
        "fig, ax = plt.subplots()\n",
        "rects1 = ax.bar(x - width/2, male, width, label='male')\n",
        "rects2 = ax.bar(x + width/2, female, width,label ='female',color='pink')\n",
        "\n",
        "# Add some text for labels, title and custom x-axis tick labels, etc.\n",
        "ax.set_ylabel('Posizione media in classifica')\n",
        "ax.set_title('Posizione media in classifica nei ristoranti raggruppati per categoria')\n",
        "ax.set_xticks(x)\n",
        "ax.set_xticklabels(labels)\n",
        "ax.set_ylim([1,18])\n",
        "ax.legend()\n",
        "\n",
        "def autolabel(rects):\n",
        "    \"\"\"Attach a text label above each bar in *rects*, displaying its height.\"\"\"\n",
        "    for rect in rects:\n",
        "        height = rect.get_height()\n",
        "        ax.annotate('{:.1f}'.format(height),\n",
        "                    xy=(rect.get_x() + rect.get_width(), height),\n",
        "                    xytext=(0, 3),  # 3 points vertical offset\n",
        "                    textcoords=\"offset points\",\n",
        "                    ha='center', va='bottom')\n",
        "\n",
        "autolabel(rects1)\n",
        "autolabel(rects2)\n",
        "\n",
        "plt.show()"
      ],
      "execution_count": null,
      "outputs": [
        {
          "output_type": "display_data",
          "data": {
            "image/png": "[encoded data removed]",
            "text/plain": [
              "<Figure size 432x288 with 1 Axes>"
            ]
          },
          "metadata": {
            "tags": [],
            "needs_background": "light"
          }
        }
      ]
    },
    {
      "cell_type": "code",
      "metadata": {
        "id": "DuE09ec70hwh",
        "colab_type": "code",
        "colab": {}
      },
      "source": [
        "primo_masculine = len(dfr[(dfr['gender']=='masculine') & (dfr['number']==1)]) \n",
        "primo_feminine = len(dfr[(dfr['gender']=='feminine') & (dfr['number']==1)]) \n",
        "\n",
        "secondo_masculine = len(dfr[(dfr['gender']=='masculine') & (dfr['number']==2)]) \n",
        "secondo_feminine = len(dfr[(dfr['gender']=='feminine') & (dfr['number']==2)]) \n",
        "\n",
        "terzo_masculine = len(dfr[(dfr['gender']=='masculine') & (dfr['number']==3)]) \n",
        "terzo_feminine = len(dfr[(dfr['gender']=='feminine') & (dfr['number']==3)]) \n",
        "\n",
        "quarto_masculine = len(dfr[(dfr['gender']=='masculine') & (dfr['number']==4)]) \n",
        "quarto_feminine = len(dfr[(dfr['gender']=='feminine') & (dfr['number']==4)]) \n",
        "\n",
        "quinto_masculine = len(dfr[(dfr['gender']=='masculine') & (dfr['number']==5)]) \n",
        "quinto_feminine = len(dfr[(dfr['gender']=='feminine') & (dfr['number']==5)]) \n",
        "\n",
        "sesto_masculine = len(dfr[(dfr['gender']=='masculine') & (dfr['number']==6)]) \n",
        "sesto_feminine = len(dfr[(dfr['gender']=='feminine') & (dfr['number']==6)]) \n",
        "\n",
        "settimo_masculine = len(dfr[(dfr['gender']=='masculine') & (dfr['number']==7)]) \n",
        "settimo_feminine = len(dfr[(dfr['gender']=='feminine') & (dfr['number']==7)]) \n",
        "\n",
        "ottavo_masculine = len(dfr[(dfr['gender']=='masculine') & (dfr['number']==8)]) \n",
        "ottavo_feminine = len(dfr[(dfr['gender']=='feminine') & (dfr['number']==8)]) \n",
        "\n",
        "nono_masculine = len(dfr[(dfr['gender']=='masculine') & (dfr['number']==9)]) \n",
        "nono_feminine = len(dfr[(dfr['gender']=='feminine') & (dfr['number']==9)]) \n",
        "\n",
        "decimo_masculine = len(dfr[(dfr['gender']=='masculine') & (dfr['number']==10)]) \n",
        "decimo_feminine = len(dfr[(dfr['gender']=='feminine') & (dfr['number']==10)]) \n",
        "\n",
        "undicesimo_masculine = len(dfr[(dfr['gender']=='masculine') & (dfr['number']==11)]) \n",
        "undicesimo_feminine = len(dfr[(dfr['gender']=='feminine') & (dfr['number']==11)]) \n",
        "\n",
        "dodicesimo_masculine = len(dfr[(dfr['gender']=='masculine') & (dfr['number']==12)]) \n",
        "dodicesimo_feminine = len(dfr[(dfr['gender']=='feminine') & (dfr['number']==12)]) \n",
        "\n",
        "tredi_masculine = len(dfr[(dfr['gender']=='masculine') & (dfr['number']==13)]) \n",
        "tredi_feminine = len(dfr[(dfr['gender']=='feminine') & (dfr['number']==13)]) \n",
        "\n",
        "quattordi_masculine = len(dfr[(dfr['gender']=='masculine') & (dfr['number']==14)]) \n",
        "quattordi_feminine = len(dfr[(dfr['gender']=='feminine') & (dfr['number']==14)]) \n",
        "\n",
        "quindi_masculine = len(dfr[(dfr['gender']=='masculine') & (dfr['number']==15)]) \n",
        "quindi_feminine = len(dfr[(dfr['gender']=='feminine') & (dfr['number']==15)]) \n",
        "\n",
        "sedi_masculine = len(dfr[(dfr['gender']=='masculine') & (dfr['number']==16)]) \n",
        "sedi_feminine = len(dfr[(dfr['gender']=='feminine') & (dfr['number']==16)]) \n",
        "\n",
        "dicia_masculine = len(dfr[(dfr['gender']=='masculine') & (dfr['number']==17)]) \n",
        "dicia_feminine = len(dfr[(dfr['gender']=='feminine') & (dfr['number']==17)]) \n",
        "\n",
        "dicio_masculine = len(dfr[(dfr['gender']=='masculine') & (dfr['number']==18)]) \n",
        "dicio_feminine = len(dfr[(dfr['gender']=='feminine') & (dfr['number']==18)]) \n",
        "\n",
        "dician_masculine = len(dfr[(dfr['gender']=='masculine') & (dfr['number']==19)]) \n",
        "dician_feminine = len(dfr[(dfr['gender']=='feminine') & (dfr['number']==19)]) \n",
        "\n",
        "venti_masculine = len(dfr[(dfr['gender']=='masculine') & (dfr['number']==20)]) \n",
        "venti_feminine = len(dfr[(dfr['gender']=='feminine') & (dfr['number']==20)]) "
      ],
      "execution_count": null,
      "outputs": []
    },
    {
      "cell_type": "code",
      "metadata": {
        "id": "VxZics1S8g2J",
        "colab_type": "code",
        "colab": {
          "base_uri": "https://localhost:8080/",
          "height": 307
        },
        "outputId": "3935306b-3217-400e-a7d6-1619093cbd3c"
      },
      "source": [
        "plt.subplot()\n",
        "#fig, ax = plt.subplots()\n",
        "\n",
        "#=======MASCULINE=======\n",
        "plt.scatter(1, 1, s=primo_masculine*20, color= 'blue' , alpha=0.8, label='masculine')\n",
        "plt.scatter(1, 2, s = secondo_masculine*20, color= 'blue',  alpha=0.8)\n",
        "plt.scatter(1, 3, s=terzo_masculine*20,color= 'blue', alpha=0.8)\n",
        "plt.scatter(1, 4, s=quarto_masculine*20, color= 'blue' , alpha=0.8)\n",
        "plt.scatter(1, 5, s = quinto_masculine*20, color= 'blue',  alpha=0.8)\n",
        "plt.scatter(1, 6, s=sesto_masculine*20,color= 'blue', alpha=0.8)\n",
        "plt.scatter(1, 7, s=settimo_masculine*20, color= 'blue' , alpha=0.8)\n",
        "plt.scatter(1, 8, s = ottavo_masculine*20, color= 'blue',  alpha=0.8)\n",
        "plt.scatter(1, 9, s=nono_masculine*20,color= 'blue', alpha=0.8)\n",
        "plt.scatter(1, 10, s=decimo_masculine*20, color= 'blue' , alpha=0.8)\n",
        "plt.scatter(1, 11, s=undicesimo_masculine*20, color= 'blue' , alpha=0.8)\n",
        "plt.scatter(1, 12, s = dodicesimo_masculine*20, color= 'blue',  alpha=0.8)\n",
        "plt.scatter(1, 13, s=tredi_masculine*20,color= 'blue', alpha=0.8)\n",
        "plt.scatter(1, 14, s=quattordi_masculine*20, color= 'blue' , alpha=0.8)\n",
        "plt.scatter(1, 15, s = quindi_masculine*20, color= 'blue',  alpha=0.8)\n",
        "plt.scatter(1, 16, s=sedi_masculine*20,color= 'blue', alpha=0.8)\n",
        "plt.scatter(1, 17, s=dicia_masculine*20, color= 'blue' , alpha=0.8)\n",
        "plt.scatter(1, 18, s = dicio_masculine*20, color= 'blue',  alpha=0.8)\n",
        "plt.scatter(1, 19, s=dician_masculine*20,color= 'blue', alpha=0.8)\n",
        "plt.scatter(1, 20, s=venti_masculine*20, color= 'blue' , alpha=0.8)\n",
        "\n",
        "\n",
        "#====FEMININE=====\n",
        "plt.scatter(2, 1, s=primo_feminine*20, color= 'green' , alpha=0.5, label='feminine')\n",
        "plt.scatter(2, 2, s = secondo_feminine*20, color= 'green',  alpha=0.5)\n",
        "plt.scatter(2, 3, s=terzo_feminine*20,color= 'green', alpha=0.5)\n",
        "plt.scatter(2, 4, s=quarto_feminine*20, color= 'green' , alpha=0.5)\n",
        "plt.scatter(2, 5, s = quinto_feminine*20, color= 'green',  alpha=0.5)\n",
        "plt.scatter(2, 6, s=sesto_feminine*20,color= 'green', alpha=0.5)\n",
        "plt.scatter(2, 7, s=settimo_feminine*20, color= 'green' , alpha=0.5)\n",
        "plt.scatter(2, 8, s = ottavo_feminine*20, color= 'green',  alpha=0.5)\n",
        "plt.scatter(2, 9, s=nono_feminine*20,color= 'green', alpha=0.5)\n",
        "plt.scatter(2, 10, s=decimo_feminine*20, color= 'green' , alpha=0.5)\n",
        "plt.scatter(2, 11, s=undicesimo_feminine*20, color= 'green' , alpha=0.5)\n",
        "plt.scatter(2, 12, s = dodicesimo_feminine*20, color= 'green',  alpha=0.5)\n",
        "plt.scatter(2, 13, s=tredi_feminine*20,color= 'green', alpha=0.5)\n",
        "plt.scatter(2, 14, s=quattordi_feminine*20, color= 'green' , alpha=0.5)\n",
        "plt.scatter(2, 15, s = quindi_feminine*20, color= 'green',  alpha=0.5)\n",
        "plt.scatter(2, 16, s=sedi_feminine*20,color= 'green', alpha=0.5)\n",
        "plt.scatter(2, 17, s=dicia_feminine*20, color= 'green' , alpha=0.5)\n",
        "plt.scatter(2, 18, s = dicio_feminine*20, color= 'green',  alpha=0.5)\n",
        "plt.scatter(2, 19, s=dician_feminine*20,color= 'green', alpha=0.5)\n",
        "plt.scatter(2, 20, s=venti_feminine*20, color= 'green' , alpha=0.5)\n",
        "\n",
        "#=======RIFINITURE========\n",
        "plt.hlines(y=11, xmin=1, xmax=2)\n",
        "\n",
        "plt.title('Distribuzione del genere nelle prime 20 posizioni secondo ordinamento di Yelp ')\n",
        "plt.ylabel('Posizione in classifica', labelpad = 16)\n",
        "plt.xlabel('Genere' , labelpad = 16)\n",
        "#setta ogni quante y ti fa vedere\n",
        "plt.yticks(np.arange(0, 20, 5.0))\n",
        "plt.xticks(np.arange(1, 3, 1.0))\n",
        "plt.xticks([1,2],['masculine','feminine'])\n",
        "plt.show()\n"
      ],
      "execution_count": null,
      "outputs": [
        {
          "output_type": "display_data",
          "data": {
            "image/png": "[encoded data removed]",
            "text/plain": [
              "<Figure size 432x288 with 1 Axes>"
            ]
          },
          "metadata": {
            "tags": [],
            "needs_background": "light"
          }
        }
      ]
    },
    {
      "cell_type": "code",
      "metadata": {
        "id": "krt2eT45-z4R",
        "colab_type": "code",
        "colab": {}
      },
      "source": [
        "primo_masculine = len(dfd[(dfd['gender']=='masculine') & (dfd['number']==1)]) \n",
        "primo_feminine = len(dfd[(dfd['gender']=='feminine') & (dfd['number']==1)]) \n",
        "\n",
        "secondo_masculine = len(dfd[(dfd['gender']=='masculine') & (dfd['number']==2)]) \n",
        "secondo_feminine = len(dfd[(dfd['gender']=='feminine') & (dfd['number']==2)]) \n",
        "\n",
        "terzo_masculine = len(dfd[(dfd['gender']=='masculine') & (dfd['number']==3)]) \n",
        "terzo_feminine = len(dfd[(dfd['gender']=='feminine') & (dfd['number']==3)]) \n",
        "\n",
        "quarto_masculine = len(dfd[(dfd['gender']=='masculine') & (dfd['number']==4)]) \n",
        "quarto_feminine = len(dfd[(dfd['gender']=='feminine') & (dfd['number']==4)]) \n",
        "\n",
        "quinto_masculine = len(dfd[(dfd['gender']=='masculine') & (dfd['number']==5)]) \n",
        "quinto_feminine = len(dfd[(dfd['gender']=='feminine') & (dfd['number']==5)]) \n",
        "\n",
        "sesto_masculine = len(dfd[(dfd['gender']=='masculine') & (dfd['number']==6)]) \n",
        "sesto_feminine = len(dfd[(dfd['gender']=='feminine') & (dfd['number']==6)]) \n",
        "\n",
        "settimo_masculine = len(dfd[(dfd['gender']=='masculine') & (dfd['number']==7)]) \n",
        "settimo_feminine = len(dfd[(dfd['gender']=='feminine') & (dfd['number']==7)]) \n",
        "\n",
        "ottavo_masculine = len(dfd[(dfd['gender']=='masculine') & (dfd['number']==8)]) \n",
        "ottavo_feminine = len(dfd[(dfd['gender']=='feminine') & (dfd['number']==8)]) \n",
        "\n",
        "nono_masculine = len(dfd[(dfd['gender']=='masculine') & (dfd['number']==9)]) \n",
        "nono_feminine = len(dfd[(dfd['gender']=='feminine') & (dfd['number']==9)]) \n",
        "\n",
        "decimo_masculine = len(dfd[(dfd['gender']=='masculine') & (dfd['number']==10)]) \n",
        "decimo_feminine = len(dfd[(dfd['gender']=='feminine') & (dfd['number']==10)]) \n",
        "\n",
        "undicesimo_masculine = len(dfd[(dfd['gender']=='masculine') & (dfd['number']==11)]) \n",
        "undicesimo_feminine = len(dfd[(dfd['gender']=='feminine') & (dfd['number']==11)]) \n",
        "\n",
        "dodicesimo_masculine = len(dfd[(dfd['gender']=='masculine') & (dfd['number']==12)]) \n",
        "dodicesimo_feminine = len(dfd[(dfd['gender']=='feminine') & (dfd['number']==12)]) \n",
        "\n",
        "tredi_masculine = len(dfd[(dfd['gender']=='masculine') & (dfd['number']==13)]) \n",
        "tredi_feminine = len(dfd[(dfd['gender']=='feminine') & (dfd['number']==13)]) \n",
        "\n",
        "quattordi_masculine = len(dfd[(dfd['gender']=='masculine') & (dfd['number']==14)]) \n",
        "quattordi_feminine = len(dfd[(dfd['gender']=='feminine') & (dfd['number']==14)]) \n",
        "\n",
        "quindi_masculine = len(dfd[(dfd['gender']=='masculine') & (dfd['number']==15)]) \n",
        "quindi_feminine = len(dfd[(dfd['gender']=='feminine') & (dfd['number']==15)]) \n",
        "\n",
        "sedi_masculine = len(dfd[(dfd['gender']=='masculine') & (dfd['number']==16)]) \n",
        "sedi_feminine = len(dfd[(dfd['gender']=='feminine') & (dfd['number']==16)]) \n",
        "\n",
        "dicia_masculine = len(dfd[(dfd['gender']=='masculine') & (dfd['number']==17)]) \n",
        "dicia_feminine = len(dfd[(dfd['gender']=='feminine') & (dfd['number']==17)]) \n",
        "\n",
        "dicio_masculine = len(dfd[(dfd['gender']=='masculine') & (dfd['number']==18)]) \n",
        "dicio_feminine = len(dfd[(dfd['gender']=='feminine') & (dfd['number']==18)]) \n",
        "\n",
        "dician_masculine = len(dfd[(dfd['gender']=='masculine') & (dfd['number']==19)]) \n",
        "dician_feminine = len(dfd[(dfd['gender']=='feminine') & (dfd['number']==19)]) \n",
        "\n",
        "venti_masculine = len(dfd[(dfd['gender']=='masculine') & (dfd['number']==20)]) \n",
        "venti_feminine = len(dfd[(dfd['gender']=='feminine') & (dfd['number']==20)]) "
      ],
      "execution_count": null,
      "outputs": []
    },
    {
      "cell_type": "code",
      "metadata": {
        "id": "vKsSa4ch-1f6",
        "colab_type": "code",
        "colab": {
          "base_uri": "https://localhost:8080/",
          "height": 307
        },
        "outputId": "0faa9dd4-f1cf-42df-c1f8-745385322035"
      },
      "source": [
        "plt.subplot()\n",
        "#fig, ax = plt.subplots()\n",
        "\n",
        "#=======MASCULINE=======\n",
        "plt.scatter(1, 1, s=primo_masculine*20, color= 'blue' , alpha=0.8, label='masculine')\n",
        "plt.scatter(1, 2, s = secondo_masculine*20, color= 'blue',  alpha=0.8)\n",
        "plt.scatter(1, 3, s=terzo_masculine*20,color= 'blue', alpha=0.8)\n",
        "plt.scatter(1, 4, s=quarto_masculine*20, color= 'blue' , alpha=0.8)\n",
        "plt.scatter(1, 5, s = quinto_masculine*20, color= 'blue',  alpha=0.8)\n",
        "plt.scatter(1, 6, s=sesto_masculine*20,color= 'blue', alpha=0.8)\n",
        "plt.scatter(1, 7, s=settimo_masculine*20, color= 'blue' , alpha=0.8)\n",
        "plt.scatter(1, 8, s = ottavo_masculine*20, color= 'blue',  alpha=0.8)\n",
        "plt.scatter(1, 9, s=nono_masculine*20,color= 'blue', alpha=0.8)\n",
        "plt.scatter(1, 10, s=decimo_masculine*20, color= 'blue' , alpha=0.8)\n",
        "plt.scatter(1, 11, s=undicesimo_masculine*20, color= 'blue' , alpha=0.8)\n",
        "plt.scatter(1, 12, s = dodicesimo_masculine*20, color= 'blue',  alpha=0.8)\n",
        "plt.scatter(1, 13, s=tredi_masculine*20,color= 'blue', alpha=0.8)\n",
        "plt.scatter(1, 14, s=quattordi_masculine*20, color= 'blue' , alpha=0.8)\n",
        "plt.scatter(1, 15, s = quindi_masculine*20, color= 'blue',  alpha=0.8)\n",
        "plt.scatter(1, 16, s=sedi_masculine*20,color= 'blue', alpha=0.8)\n",
        "plt.scatter(1, 17, s=dicia_masculine*20, color= 'blue' , alpha=0.8)\n",
        "plt.scatter(1, 18, s = dicio_masculine*20, color= 'blue',  alpha=0.8)\n",
        "plt.scatter(1, 19, s=dician_masculine*20,color= 'blue', alpha=0.8)\n",
        "plt.scatter(1, 20, s=venti_masculine*20, color= 'blue' , alpha=0.8)\n",
        "\n",
        "\n",
        "#====FEMININE=====\n",
        "plt.scatter(2, 1, s=primo_feminine*20, color= 'green' , alpha=0.5, label='feminine')\n",
        "plt.scatter(2, 2, s = secondo_feminine*20, color= 'green',  alpha=0.5)\n",
        "plt.scatter(2, 3, s=terzo_feminine*20,color= 'green', alpha=0.5)\n",
        "plt.scatter(2, 4, s=quarto_feminine*20, color= 'green' , alpha=0.5)\n",
        "plt.scatter(2, 5, s = quinto_feminine*20, color= 'green',  alpha=0.5)\n",
        "plt.scatter(2, 6, s=sesto_feminine*20,color= 'green', alpha=0.5)\n",
        "plt.scatter(2, 7, s=settimo_feminine*20, color= 'green' , alpha=0.5)\n",
        "plt.scatter(2, 8, s = ottavo_feminine*20, color= 'green',  alpha=0.5)\n",
        "plt.scatter(2, 9, s=nono_feminine*20,color= 'green', alpha=0.5)\n",
        "plt.scatter(2, 10, s=decimo_feminine*20, color= 'green' , alpha=0.5)\n",
        "plt.scatter(2, 11, s=undicesimo_feminine*20, color= 'green' , alpha=0.5)\n",
        "plt.scatter(2, 12, s = dodicesimo_feminine*20, color= 'green',  alpha=0.5)\n",
        "plt.scatter(2, 13, s=tredi_feminine*20,color= 'green', alpha=0.5)\n",
        "plt.scatter(2, 14, s=quattordi_feminine*20, color= 'green' , alpha=0.5)\n",
        "plt.scatter(2, 15, s = quindi_feminine*20, color= 'green',  alpha=0.5)\n",
        "plt.scatter(2, 16, s=sedi_feminine*20,color= 'green', alpha=0.5)\n",
        "plt.scatter(2, 17, s=dicia_feminine*20, color= 'green' , alpha=0.5)\n",
        "plt.scatter(2, 18, s = dicio_feminine*20, color= 'green',  alpha=0.5)\n",
        "plt.scatter(2, 19, s=dician_feminine*20,color= 'green', alpha=0.5)\n",
        "plt.scatter(2, 20, s=venti_feminine*20, color= 'green' , alpha=0.5)\n",
        "\n",
        "#=======RIFINITURE========\n",
        "plt.hlines(y=11, xmin=1, xmax=2)\n",
        "\n",
        "plt.title('Distribuzione del genere nelle prime 20 posizioni secondo ordinamento per data ')\n",
        "plt.ylabel('Posizione in classifica', labelpad = 16)\n",
        "plt.xlabel('Genere' , labelpad = 16)\n",
        "#setta ogni quante y ti fa vedere\n",
        "plt.yticks(np.arange(0, 20, 5.0))\n",
        "plt.xticks(np.arange(1, 3, 1.0))\n",
        "plt.xticks([1,2],['masculine','feminine'])\n",
        "#matplotlib.rcParams['figure.figsize'] = (4,4)\n",
        "plt.show()\n"
      ],
      "execution_count": null,
      "outputs": [
        {
          "output_type": "display_data",
          "data": {
            "image/png": "[encoded data removed]",
            "text/plain": [
              "<Figure size 432x288 with 1 Axes>"
            ]
          },
          "metadata": {
            "tags": [],
            "needs_background": "light"
          }
        }
      ]
    },
    {
      "cell_type": "code",
      "metadata": {
        "id": "s4DpzLV_r1_0",
        "colab_type": "code",
        "colab": {}
      },
      "source": [
        "tupelo_male_relevance = dfr[(dfr['restaurant']=='TupeloHoney') & (dfr['gender']=='masculine') & (dfr['number']<=20)]\n",
        "tupelo_male_date = dfd[(dfd['restaurant']=='TupeloHoney')  & (dfd['gender']=='masculine') & (dfd['number']<=20)]\n",
        "tupelo_female_relevance = dfr[(dfr['restaurant']=='TupeloHoney') & (dfr['gender']=='feminine') & (dfr['number']<=20)]\n",
        "tupelo_female_date = dfd[(dfd['restaurant']=='TupeloHoney')  & (dfd['gender']=='feminine') & (dfd['number']<=20)]\n",
        "\n",
        "tot_tupelo_male_relevance = sum(tupelo_male_relevance['number']) / len(tupelo_male_relevance)\n",
        "tot_tupelo_male_date = sum(tupelo_male_date['number']) / len(tupelo_male_date)\n",
        "tot_tupelo_female_relevance = sum(tupelo_female_relevance['number']) / len(tupelo_female_relevance)\n",
        "tot_tupelo_female_date = sum(tupelo_female_date['number']) / len(tupelo_female_date)"
      ],
      "execution_count": null,
      "outputs": []
    },
    {
      "cell_type": "code",
      "metadata": {
        "id": "4FmbvywJtTVV",
        "colab_type": "code",
        "colab": {}
      },
      "source": [
        "crav_male_relevance = dfr[(dfr['restaurant']=='CravingsBuffet') & (dfr['gender']=='masculine') & (dfr['number']<=20)]\n",
        "crav_male_date = dfd[(dfd['restaurant']=='CravingsBuffet')  & (dfd['gender']=='masculine') & (dfd['number']<=20)]\n",
        "crav_female_relevance = dfr[(dfr['restaurant']=='CravingsBuffet') & (dfr['gender']=='feminine') & (dfr['number']<=20)]\n",
        "crav_female_date = dfd[(dfd['restaurant']=='CravingsBuffet')  & (dfd['gender']=='feminine') & (dfd['number']<=20)]\n",
        "\n",
        "tot_crav_male_relevance = sum(crav_male_relevance['number']) / len(crav_male_relevance)\n",
        "tot_crav_male_date = sum(crav_male_date['number']) / len(crav_male_date)\n",
        "tot_crav_female_relevance = sum(crav_female_relevance['number']) / len(crav_female_relevance)\n",
        "tot_crav_female_date = sum(crav_female_date['number']) / len(crav_female_date)"
      ],
      "execution_count": 5,
      "outputs": []
    },
    {
      "cell_type": "code",
      "metadata": {
        "id": "2AwUwCL5t7LK",
        "colab_type": "code",
        "colab": {}
      },
      "source": [
        "culina_male_relevance = dfr[(dfr['restaurant']=='CulinaryDropout') & (dfr['gender']=='masculine') & (dfr['number']<=20)]\n",
        "culina_male_date = dfd[(dfd['restaurant']=='CulinaryDropout')  & (dfd['gender']=='masculine') & (dfd['number']<=20)]\n",
        "culina_female_relevance = dfr[(dfr['restaurant']=='CulinaryDropout') & (dfr['gender']=='feminine') & (dfr['number']<=20)]\n",
        "culina_female_date = dfd[(dfd['restaurant']=='CulinaryDropout')  & (dfd['gender']=='feminine') & (dfd['number']<=20)]\n",
        "\n",
        "tot_culina_male_relevance = sum(culina_male_relevance['number']) / len(culina_male_relevance)\n",
        "tot_culina_male_date = sum(culina_male_date['number']) / len(culina_male_date)\n",
        "tot_culina_female_relevance = sum(culina_female_relevance['number']) / len(culina_female_relevance)\n",
        "tot_culina_female_date = sum(culina_female_date['number']) / len(culina_female_date)"
      ],
      "execution_count": 6,
      "outputs": []
    },
    {
      "cell_type": "code",
      "metadata": {
        "id": "zhj97524uJoP",
        "colab_type": "code",
        "colab": {}
      },
      "source": [
        "futo_male_relevance = dfr[(dfr['restaurant']=='FutoButa') & (dfr['gender']=='masculine') & (dfr['number']<=20)]\n",
        "futo_male_date = dfd[(dfd['restaurant']=='FutoButa')  & (dfd['gender']=='masculine') & (dfd['number']<=20)]\n",
        "futo_female_relevance = dfr[(dfr['restaurant']=='FutoButa') & (dfr['gender']=='feminine') & (dfr['number']<=20)]\n",
        "futo_female_date = dfd[(dfd['restaurant']=='FutoButa')  & (dfd['gender']=='feminine') & (dfd['number']<=20)]\n",
        "\n",
        "tot_futo_male_relevance = sum(futo_male_relevance['number']) / len(futo_male_relevance)\n",
        "tot_futo_male_date = sum(futo_male_date['number']) / len(futo_male_date)\n",
        "tot_futo_female_relevance = sum(futo_female_relevance['number']) / len(futo_female_relevance)\n",
        "tot_futo_female_date = sum(futo_female_date['number']) / len(futo_female_date)"
      ],
      "execution_count": 7,
      "outputs": []
    },
    {
      "cell_type": "code",
      "metadata": {
        "id": "DOO0P9gOu2Ee",
        "colab_type": "code",
        "colab": {}
      },
      "source": [
        "haru_male_relevance = dfr[(dfr['restaurant']=='HarumiSushi') & (dfr['gender']=='masculine') & (dfr['number']<=20)]\n",
        "haru_male_date = dfd[(dfd['restaurant']=='HarumiSushi')  & (dfd['gender']=='masculine') & (dfd['number']<=20)]\n",
        "haru_female_relevance = dfr[(dfr['restaurant']=='HarumiSushi') & (dfr['gender']=='feminine') & (dfr['number']<=20)]\n",
        "haru_female_date = dfd[(dfd['restaurant']=='HarumiSushi')  & (dfd['gender']=='feminine') & (dfd['number']<=20)]\n",
        "\n",
        "tot_haru_male_relevance = sum(haru_male_relevance['number']) / len(haru_male_relevance)\n",
        "tot_haru_male_date = sum(haru_male_date['number']) / len(haru_male_date)\n",
        "tot_haru_female_relevance = sum(haru_female_relevance['number']) / len(haru_female_relevance)\n",
        "tot_haru_female_date = sum(haru_female_date['number']) / len(haru_female_date)"
      ],
      "execution_count": 10,
      "outputs": []
    },
    {
      "cell_type": "code",
      "metadata": {
        "id": "NKL998h6u_z2",
        "colab_type": "code",
        "colab": {}
      },
      "source": [
        "ichi_male_relevance = dfr[(dfr['restaurant']=='Ichiza') & (dfr['gender']=='masculine') & (dfr['number']<=20)]\n",
        "ichi_male_date = dfd[(dfd['restaurant']=='Ichiza')  & (dfd['gender']=='masculine') & (dfd['number']<=20)]\n",
        "ichi_female_relevance = dfr[(dfr['restaurant']=='Ichiza') & (dfr['gender']=='feminine') & (dfr['number']<=20)]\n",
        "ichi_female_date = dfd[(dfd['restaurant']=='Ichiza')  & (dfd['gender']=='feminine') & (dfd['number']<=20)]\n",
        "\n",
        "tot_ichi_male_relevance = sum(ichi_male_relevance['number']) / len(ichi_male_relevance)\n",
        "tot_ichi_male_date = sum(ichi_male_date['number']) / len(ichi_male_date)\n",
        "tot_ichi_female_relevance = sum(ichi_female_relevance['number']) / len(ichi_female_relevance)\n",
        "tot_ichi_female_date = sum(ichi_female_date['number']) / len(ichi_female_date)"
      ],
      "execution_count": 9,
      "outputs": []
    },
    {
      "cell_type": "code",
      "metadata": {
        "id": "SFfPgStJvGpa",
        "colab_type": "code",
        "colab": {}
      },
      "source": [
        "cabo_male_relevance = dfr[(dfr['restaurant']=='CaboFishTaco') & (dfr['gender']=='masculine') & (dfr['number']<=20)]\n",
        "cabo_male_date = dfd[(dfd['restaurant']=='CaboFishTaco')  & (dfd['gender']=='masculine') & (dfd['number']<=20)]\n",
        "cabo_female_relevance = dfr[(dfr['restaurant']=='CaboFishTaco') & (dfr['gender']=='feminine') & (dfr['number']<=20)]\n",
        "cabo_female_date = dfd[(dfd['restaurant']=='CaboFishTaco')  & (dfd['gender']=='feminine') & (dfd['number']<=20)]\n",
        "\n",
        "tot_cabo_male_relevance = sum(cabo_male_relevance['number']) / len(cabo_male_relevance)\n",
        "tot_cabo_male_date = sum(cabo_male_date['number']) / len(cabo_male_date)\n",
        "tot_cabo_female_relevance = sum(cabo_female_relevance['number']) / len(cabo_female_relevance)\n",
        "tot_cabo_female_date = sum(cabo_female_date['number']) / len(cabo_female_date)"
      ],
      "execution_count": 11,
      "outputs": []
    },
    {
      "cell_type": "code",
      "metadata": {
        "id": "hlRK00zOvR7x",
        "colab_type": "code",
        "colab": {}
      },
      "source": [
        "backy_male_relevance = dfr[(dfr['restaurant']=='BackyardTaco') & (dfr['gender']=='masculine') & (dfr['number']<=20)]\n",
        "backy_male_date = dfd[(dfd['restaurant']=='BackyardTaco')  & (dfd['gender']=='masculine') & (dfd['number']<=20)]\n",
        "backy_female_relevance = dfr[(dfr['restaurant']=='BackyardTaco') & (dfr['gender']=='feminine') & (dfr['number']<=20)]\n",
        "backy_female_date = dfd[(dfd['restaurant']=='BackyardTaco')  & (dfd['gender']=='feminine') & (dfd['number']<=20)]\n",
        "\n",
        "tot_backy_male_relevance = sum(backy_male_relevance['number']) / len(backy_male_relevance)\n",
        "tot_backy_male_date = sum(backy_male_date['number']) / len(backy_male_date)\n",
        "tot_backy_female_relevance = sum(backy_female_relevance['number']) / len(backy_female_relevance)\n",
        "tot_backy_female_date = sum(backy_female_date['number']) / len(backy_female_date)"
      ],
      "execution_count": 12,
      "outputs": []
    },
    {
      "cell_type": "code",
      "metadata": {
        "id": "TKkIuddAvkLv",
        "colab_type": "code",
        "colab": {}
      },
      "source": [
        "lindo_male_relevance = dfr[(dfr['restaurant']=='LindoMichoacan') & (dfr['gender']=='masculine') & (dfr['number']<=20)]\n",
        "lindo_male_date = dfd[(dfd['restaurant']=='LindoMichoacan')  & (dfd['gender']=='masculine') & (dfd['number']<=20)]\n",
        "lindo_female_relevance = dfr[(dfr['restaurant']=='LindoMichoacan') & (dfr['gender']=='feminine') & (dfr['number']<=20)]\n",
        "lindo_female_date = dfd[(dfd['restaurant']=='LindoMichoacan')  & (dfd['gender']=='feminine') & (dfd['number']<=20)]\n",
        "\n",
        "tot_lindo_male_relevance = sum(lindo_male_relevance['number']) / len(lindo_male_relevance)\n",
        "tot_lindo_male_date = sum(lindo_male_date['number']) / len(lindo_male_date)\n",
        "tot_lindo_female_relevance = sum(lindo_female_relevance['number']) / len(lindo_female_relevance)\n",
        "tot_lindo_female_date = sum(lindo_female_date['number']) / len(lindo_female_date)"
      ],
      "execution_count": 13,
      "outputs": []
    },
    {
      "cell_type": "code",
      "metadata": {
        "id": "F1hF2dsTwfAa",
        "colab_type": "code",
        "colab": {}
      },
      "source": [
        "tot_american_male_relevance = (tot_tupelo_male_relevance + tot_crav_male_relevance + tot_culina_male_relevance)/3\n",
        "tot_american_male_date = (tot_tupelo_male_date + tot_crav_male_date + tot_culina_male_date)/3\n",
        "\n",
        "tot_asian_male_relevance = (tot_futo_male_relevance + tot_haru_male_relevance + tot_ichi_male_relevance)/3\n",
        "tot_asian_male_date = (tot_futo_male_date + tot_haru_male_date + tot_ichi_male_date)/3\n",
        "\n",
        "tot_mexican_male_relevance = (tot_cabo_male_relevance + tot_backy_male_relevance + tot_lindo_male_relevance)/3\n",
        "tot_mexican_male_date = (tot_cabo_male_date + tot_backy_male_date + tot_lindo_male_date)/3\n",
        "\n",
        "tot_american_female_relevance = (tot_tupelo_female_relevance + tot_crav_female_relevance + tot_culina_female_relevance)/3\n",
        "tot_american_female_date = (tot_tupelo_female_date + tot_crav_female_date + tot_culina_female_date)/3\n",
        "\n",
        "tot_asian_female_relevance = (tot_futo_female_relevance + tot_haru_female_relevance + tot_ichi_female_relevance)/3\n",
        "tot_asian_female_date = (tot_futo_female_date + tot_haru_female_date + tot_ichi_female_date)/3\n",
        "\n",
        "tot_mexican_female_relevance = (tot_cabo_female_relevance + tot_backy_female_relevance + tot_lindo_female_relevance)/3\n",
        "tot_mexican_female_date = (tot_cabo_female_date + tot_backy_female_date + tot_lindo_female_date)/3"
      ],
      "execution_count": 14,
      "outputs": []
    },
    {
      "cell_type": "code",
      "metadata": {
        "id": "VSldmLPZvzya",
        "colab_type": "code",
        "colab": {
          "base_uri": "https://localhost:8080/",
          "height": 315
        },
        "outputId": "964c4fd2-1b8b-4f43-9ce5-2a2f46057e70"
      },
      "source": [
        "#==============COSTRUISCO IL GRAFICO========================\n",
        "\n",
        "\n",
        "labels = ['DataAmer', 'YelpAmer', 'DataJap', 'YelpJap','DataMex','YelpMex']\n",
        "\n",
        "\n",
        "male = [tot_american_male_date, tot_american_male_relevance,tot_asian_male_date, tot_asian_male_relevance,tot_mexican_male_date, tot_mexican_male_relevance]\n",
        "female = [tot_american_female_date, tot_american_female_relevance,tot_asian_female_date, tot_asian_female_relevance,tot_mexican_female_date, tot_mexican_female_relevance]\n",
        "\n",
        "print(male)\n",
        "print(female)\n",
        "x = np.arange(len(labels))  # the label locations\n",
        "width = 0.29  # the width of the bars\n",
        "\n",
        "fig, ax = plt.subplots()\n",
        "rects1 = ax.bar(x - width/2, male, width, label='masculine')\n",
        "rects2 = ax.bar(x + width/2, female, width,label ='feminine',color='pink')\n",
        "\n",
        "# Add some text for labels, title and custom x-axis tick labels, etc.\n",
        "ax.set_ylabel('Posizione media in classifica')\n",
        "ax.set_title('Posizione media in classifica nei ristoranti raggruppati per categoria')\n",
        "ax.set_xticks(x)\n",
        "ax.set_xticklabels(labels)\n",
        "ax.set_ylim([1,18])\n",
        "ax.legend()\n",
        "\n",
        "def autolabel(rects):\n",
        "    \"\"\"Attach a text label above each bar in *rects*, displaying its height.\"\"\"\n",
        "    for rect in rects:\n",
        "        height = rect.get_height()\n",
        "        ax.annotate('{:.1f}'.format(height),\n",
        "                    xy=(rect.get_x() + rect.get_width(), height),\n",
        "                    xytext=(0, 3),  # 3 points vertical offset\n",
        "                    textcoords=\"offset points\",\n",
        "                    ha='center', va='bottom')\n",
        "\n",
        "autolabel(rects1)\n",
        "autolabel(rects2)\n",
        "\n",
        "plt.show()"
      ],
      "execution_count": 20,
      "outputs": [
        {
          "output_type": "stream",
          "text": [
            "[7.416666666666667, 11.928571428571429, 7.805555555555556, 9.055555555555555, 8.25, 10.813888888888888]\n",
            "[11.899999999999999, 10.340909090909092, 13.5, 11.634615384615385, 13.866666666666667, 10.33068783068783]\n"
          ],
          "name": "stdout"
        },
        {
          "output_type": "display_data",
          "data": {
            "image/png": "[encoded data removed]",
            "text/plain": [
              "<Figure size 432x288 with 1 Axes>"
            ]
          },
          "metadata": {
            "tags": [],
            "needs_background": "light"
          }
        }
      ]
    },
    {
      "cell_type": "code",
      "metadata": {
        "id": "uLguI7KK0uPk",
        "colab_type": "code",
        "colab": {}
      },
      "source": [
        "tot_male_date =  (tot_tupelo_male_date + tot_crav_male_date + tot_culina_male_date + tot_futo_male_date + tot_haru_male_date + tot_ichi_male_date +tot_cabo_male_date + tot_backy_male_date + tot_lindo_male_date)/9\n",
        "tot_male_relevance = (tot_tupelo_male_relevance + tot_crav_male_relevance + tot_culina_male_relevance + tot_futo_male_relevance + tot_haru_male_relevance + tot_ichi_male_relevance +tot_cabo_male_relevance + tot_backy_male_relevance + tot_lindo_male_relevance)/9\n",
        "\n",
        "tot_female_date =  (tot_tupelo_female_date + tot_crav_female_date + tot_culina_female_date + tot_futo_female_date + tot_haru_female_date + tot_ichi_female_date +tot_cabo_female_date + tot_backy_female_date + tot_lindo_female_date)/9\n",
        "tot_female_relevance = (tot_tupelo_female_relevance + tot_crav_female_relevance + tot_culina_female_relevance + tot_futo_female_relevance + tot_haru_female_relevance + tot_ichi_female_relevance +tot_cabo_female_relevance + tot_backy_female_relevance + tot_lindo_female_relevance)/9\n"
      ],
      "execution_count": 21,
      "outputs": []
    },
    {
      "cell_type": "code",
      "metadata": {
        "id": "3-YABsOA0fXk",
        "colab_type": "code",
        "colab": {
          "base_uri": "https://localhost:8080/",
          "height": 315
        },
        "outputId": "e5dbbac9-d68e-4e6f-b1de-8808fb9dae35"
      },
      "source": [
        "#==============COSTRUISCO IL GRAFICO========================\n",
        "\n",
        "\n",
        "labels = ['Data', 'Yelp']\n",
        "\n",
        "\n",
        "male = [tot_male_date, tot_male_relevance]\n",
        "print(male)\n",
        "female = [tot_female_date, tot_female_relevance]\n",
        "print(female)\n",
        "\n",
        "x = np.arange(len(labels))  # the label locations\n",
        "width = 0.15  # the width of the bars\n",
        "\n",
        "fig, ax = plt.subplots()\n",
        "rects1 = ax.bar(x + width/2, male, width, label='masculine',color='blue')\n",
        "rects2 = ax.bar(x - width/2, female, width,label ='feminine',color='pink')\n",
        "\n",
        "# Add some text for labels, title and custom x-axis tick labels, etc.\n",
        "ax.set_ylabel('Posizione media in classifica')\n",
        "ax.set_title('Posizione media in classifica nei ristoranti raggruppati per categoria')\n",
        "ax.set_xticks(x)\n",
        "ax.set_xticklabels(labels)\n",
        "ax.set_ylim([1,18])\n",
        "ax.legend()\n",
        "\n",
        "def autolabel(rects):\n",
        "    \"\"\"Attach a text label above each bar in *rects*, displaying its height.\"\"\"\n",
        "    for rect in rects:\n",
        "        height = rect.get_height()\n",
        "        ax.annotate('{:.1f}'.format(height),\n",
        "                    xy=(rect.get_x() + rect.get_width(), height),\n",
        "                    xytext=(0, 3),  # 3 points vertical offset\n",
        "                    textcoords=\"offset points\",\n",
        "                    ha='center', va='bottom')\n",
        "\n",
        "autolabel(rects1)\n",
        "autolabel(rects2)\n",
        "\n",
        "plt.show()"
      ],
      "execution_count": 29,
      "outputs": [
        {
          "output_type": "stream",
          "text": [
            "[7.824074074074074, 10.599338624338625]\n",
            "[13.088888888888887, 10.768737435404104]\n"
          ],
          "name": "stdout"
        },
        {
          "output_type": "display_data",
          "data": {
            "image/png": "[encoded data removed]",
            "text/plain": [
              "<Figure size 432x288 with 1 Axes>"
            ]
          },
          "metadata": {
            "tags": [],
            "needs_background": "light"
          }
        }
      ]
    }
  ]
}