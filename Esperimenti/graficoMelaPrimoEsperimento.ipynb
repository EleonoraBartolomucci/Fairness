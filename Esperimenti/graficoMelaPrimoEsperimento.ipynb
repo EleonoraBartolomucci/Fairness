{
  "nbformat": 4,
  "nbformat_minor": 0,
  "metadata": {
    "colab": {
      "name": "Untitled9.ipynb",
      "provenance": [],
      "include_colab_link": true
    },
    "kernelspec": {
      "name": "python3",
      "display_name": "Python 3"
    }
  },
  "cells": [
    {
      "cell_type": "markdown",
      "metadata": {
        "id": "view-in-github",
        "colab_type": "text"
      },
      "source": [
        "<a href=\"https://colab.research.google.com/github/EleonoraBartolomucci/Fairness/blob/master/Esperimenti/graficoMelaPrimoEsperimento.ipynb\" target=\"_parent\"><img src=\"https://colab.research.google.com/assets/colab-badge.svg\" alt=\"Open In Colab\"/></a>"
      ]
    },
    {
      "cell_type": "code",
      "metadata": {
        "id": "T7nTej7jgxuR",
        "colab_type": "code",
        "colab": {
          "base_uri": "https://localhost:8080/",
          "height": 520
        },
        "outputId": "64bbfe91-a9dd-4e86-cad7-a6580610c0d0"
      },
      "source": [
        "from pydrive.auth import GoogleAuth\n",
        "from pydrive.drive import GoogleDrive\n",
        "from oauth2client.client import GoogleCredentials\n",
        "from google.colab import auth\n",
        "import json\n",
        "import pandas as pd\n",
        "import csv\n",
        "import matplotlib.pyplot as plt\n",
        "import numpy as np\n",
        "\n",
        "auth.authenticate_user()\n",
        "gauth = GoogleAuth()\n",
        "gauth.credentials = GoogleCredentials.get_application_default()\n",
        "drive = GoogleDrive(gauth)\n",
        "\n",
        "sort = 'Relevance'\n",
        "\n",
        "relevance = '1nwGbyk8q2S-0BkLcyFVqdK6emTooxHJv'  # FILE ID, got on google drive with condivision link\n",
        "download = drive.CreateFile({'id': relevance})\n",
        "download.GetContentFile('AllRestaurant_' + '%s' % sort + '_Analysis.csv')\n",
        "\n",
        "df1 = pd.read_csv('AllRestaurant_' + '%s' % sort + '_Analysis.csv')\n",
        "\n",
        "sort = 'Date'\n",
        "\n",
        "date = '1Pb2It9WPid9Irjp6bRVgCF7B3Y5ARBjT'  # FILE ID, got on google drive with condivision link\n",
        "download = drive.CreateFile({'id': date})\n",
        "download.GetContentFile('AllRestaurant_' + '%s' % sort + '_Analysis.csv')\n",
        "\n",
        "df2 = pd.read_csv('AllRestaurant_' + '%s' % sort + '_Analysis.csv')\n",
        "\n",
        "#restaurant.plot(kind='bar',x='name',y='num_children',ax=ax)\n",
        "#restaurant.groupby('ethnicity')['user_id'].nunique().plot(kind='bar')\n",
        "\n",
        "#restaurant.assign(dummy = 1).groupby(['ethnicity','restaurant']).size().groupby(level=0).apply(lambda x: 100 * x / x.sum()).to_frame().unstack().plot(kind='bar',stacked=True,legend=True)\n",
        "\n",
        "\n",
        "#filtro il df prendendo solo le righe che mi interessano\n",
        "df1 = df1[(df1['restaurant']=='TupeloHoney') & (df1['ethnicity']=='asian')]\n",
        "#df1 = df1[(df1['restaurant']=='TupeloHoney')]\n",
        "df2 = df2[(df2['restaurant']=='TupeloHoney')  & (df1['ethnicity']=='asian')]\n",
        "\n",
        "df1['sort'] = 'yelp'\n",
        "df2['sort'] ='date'\n",
        "df = pd.concat([df1, df2])\n",
        "df = df[(df['number']<40)]\n",
        "\n",
        "df = df.sort_values('number')\n",
        "print(df)\n",
        "y1 = df['number'].tolist()\n",
        "x1 = df['sort'].tolist()\n",
        "\n",
        "#servono per mettere la griglia\n",
        "axes = plt.gca()\n",
        "axes.yaxis.grid()\n",
        "#mi definisce i limiti della y\n",
        "axes.set_ylim([1,40])\n",
        "\n",
        "#scegliere dove mettere le etichette\n",
        "plt.yticks(np.arange(0, 40, 5.0))\n",
        "\n",
        "#plt.scatter(x1,y1)\n",
        "plt.scatter(x1,y1, s=10, color='red', label='white')\n",
        "plt.scatter(x2,y2, s=10, color='green', label='asian')\n",
        "plt.scatter(x3,y3, s=10, color='blue', label='mexican')\n",
        "plt.legend(loc=\"upper center\")\n",
        "plt.xlabel('Group id')\n",
        "plt.ylabel('Exposure')\n",
        "#plt.xlabel('etnia')\n",
        "\n",
        "# disable ticks in the x axis\n",
        "#plt.xticks([])\n",
        "\n",
        "# fix the legend or it'll include the dummy variable\n",
        "#current_handles, _ = plt.gca().get_legend_handles_labels()\n",
        "#reversed_handles = reversed(current_handles)\n",
        "#correct_labels = reversed(restaurant['restaurant'].unique())\n",
        "\n",
        "#plt.legend(reversed_handles,correct_labels)\n",
        "\n",
        "#plt.show()\n"
      ],
      "execution_count": 28,
      "outputs": [
        {
          "output_type": "stream",
          "text": [
            "     restaurant  typology  ... review_sentiment  sort\n",
            "0   TupeloHoney  American  ...         positive  yelp\n",
            "0   TupeloHoney  American  ...         positive  date\n",
            "1   TupeloHoney  American  ...          neutral  yelp\n",
            "1   TupeloHoney  American  ...         positive  date\n",
            "2   TupeloHoney  American  ...         negative  yelp\n",
            "..          ...       ...  ...              ...   ...\n",
            "36  TupeloHoney  American  ...         negative  yelp\n",
            "37  TupeloHoney  American  ...         negative  date\n",
            "37  TupeloHoney  American  ...         positive  yelp\n",
            "38  TupeloHoney  American  ...         positive  yelp\n",
            "38  TupeloHoney  American  ...         negative  date\n",
            "\n",
            "[78 rows x 11 columns]\n"
          ],
          "name": "stdout"
        },
        {
          "output_type": "execute_result",
          "data": {
            "text/plain": [
              "<matplotlib.collections.PathCollection at 0x7f3d1bab9a20>"
            ]
          },
          "metadata": {
            "tags": []
          },
          "execution_count": 28
        },
        {
          "output_type": "display_data",
          "data": {
            "image/png": "[encoded data removed]",
            "text/plain": [
              "<Figure size 432x288 with 1 Axes>"
            ]
          },
          "metadata": {
            "tags": [],
            "needs_background": "light"
          }
        }
      ]
    }
  ]
}