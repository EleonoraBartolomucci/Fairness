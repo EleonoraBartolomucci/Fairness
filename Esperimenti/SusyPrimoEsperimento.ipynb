{
  "nbformat": 4,
  "nbformat_minor": 0,
  "metadata": {
    "colab": {
      "name": "Untitled9.ipynb",
      "provenance": [],
      "authorship_tag": "ABX9TyPTOIBpYkiFEDHMxdhl+0e9",
      "include_colab_link": true
    },
    "kernelspec": {
      "name": "python3",
      "display_name": "Python 3"
    }
  },
  "cells": [
    {
      "cell_type": "markdown",
      "metadata": {
        "id": "view-in-github",
        "colab_type": "text"
      },
      "source": [
        "<a href=\"https://colab.research.google.com/github/EleonoraBartolomucci/Fairness/blob/master/Esperimenti/SusyPrimoEsperimento.ipynb\" target=\"_parent\"><img src=\"https://colab.research.google.com/assets/colab-badge.svg\" alt=\"Open In Colab\"/></a>"
      ]
    },
    {
      "cell_type": "code",
      "metadata": {
        "id": "T7nTej7jgxuR",
        "colab_type": "code",
        "colab": {
          "base_uri": "https://localhost:8080/",
          "height": 314
        },
        "outputId": "82f0fa3d-b441-4eaf-c64e-912560ed086c"
      },
      "source": [
        "from pydrive.auth import GoogleAuth\n",
        "from pydrive.drive import GoogleDrive\n",
        "from oauth2client.client import GoogleCredentials\n",
        "from google.colab import auth\n",
        "import json\n",
        "import pandas as pd\n",
        "import csv\n",
        "import matplotlib\n",
        "import matplotlib.pyplot as plt\n",
        "import numpy as np\n",
        "\n",
        "auth.authenticate_user()\n",
        "gauth = GoogleAuth()\n",
        "gauth.credentials = GoogleCredentials.get_application_default()\n",
        "drive = GoogleDrive(gauth)\n",
        "\n",
        "sort = 'Relevance'\n",
        "\n",
        "relevance = '1nwGbyk8q2S-0BkLcyFVqdK6emTooxHJv'  # FILE ID, got on google drive with condivision link\n",
        "download = drive.CreateFile({'id': relevance})\n",
        "download.GetContentFile('AllRestaurant_' + '%s' % sort + '_Analysis.csv')\n",
        "\n",
        "res = pd.read_csv('AllRestaurant_' + '%s' % sort + '_Analysis.csv')\n",
        "\n",
        "#res_agg = res.groupby(['restaurant','ethnicity']).count()[['user_id']]    #agg({'user_id':count})\n",
        "#res_agg = res[res['restaurant'] == 'TupeloHoney'].groupby('ethnicity').count() \n",
        "\n",
        "totaleTupelo = len(res[(res['restaurant'] == 'TupeloHoney')])\n",
        "asianTupelo = (len(res[(res['restaurant'] == 'TupeloHoney') & (res['ethnicity'] == 'asian')]) * 100) / totaleTupelo\n",
        "messicanTupelo = (len(res[(res['restaurant'] == 'TupeloHoney') & (res['ethnicity'] == 'hispanic, latino, or spanish origin')]) * 100) / totaleTupelo\n",
        "americanTupelo = ((len(res[((res['restaurant'] == 'TupeloHoney') & (res['ethnicity'] == 'black or african american')) | \n",
        "                          ((res['restaurant'] == 'TupeloHoney') & (res['ethnicity'] == 'white'))])) * 100) / totaleTupelo\n",
        "\n",
        "totaleHarumi = len(res[(res['restaurant'] == 'HarumiSushi')])\n",
        "asianHarumi = (len(res[(res['restaurant'] == 'HarumiSushi') & (res['ethnicity'] == 'asian')]) * 100) / totaleHarumi\n",
        "messicanHarumi = (len(res[(res['restaurant'] == 'HarumiSushi') & (res['ethnicity'] == 'hispanic, latino, or spanish origin')]) * 100) / totaleHarumi\n",
        "americanHarumi = ((len(res[((res['restaurant'] == 'HarumiSushi') & (res['ethnicity'] == 'black or african american')) | \n",
        "                          ((res['restaurant'] == 'HarumiSushi') & (res['ethnicity'] == 'white'))])) * 100) / totaleHarumi\n",
        "\n",
        "print(americanTupelo)\n",
        "\n",
        "labels = ['ristAmericani', 'ristAsiatici']\n",
        "asian = [asianTupelo, asianHarumi] \n",
        "american = [americanTupelo, americanHarumi]\n",
        "\n",
        "x = np.arange(len(labels))  # the label locations\n",
        "width = 0.35  # the width of the bars\n",
        "\n",
        "fig, ax = plt.subplots()\n",
        "rects1 = ax.bar(x - width/2, asian, width, label='asian')\n",
        "rects2 = ax.bar(x + width/2, american, width, label='american')\n",
        "\n",
        "# Add some text for labels, title and custom x-axis tick labels, etc.\n",
        "ax.set_ylabel('Scores')\n",
        "ax.set_title('Scores by group and gender')\n",
        "ax.set_xticks(x)\n",
        "ax.set_xticklabels(labels)\n",
        "ax.legend()\n",
        "\n",
        "def autolabel(rects):\n",
        "    \"\"\"Attach a text label above each bar in *rects*, displaying its height.\"\"\"\n",
        "    for rect in rects:\n",
        "        height = rect.get_height()\n",
        "        ax.annotate('{}'.format(height),\n",
        "                    xy=(rect.get_x() + rect.get_width() / 2, height),\n",
        "                    xytext=(0, 3),  # 3 points vertical offset\n",
        "                    textcoords=\"offset points\",\n",
        "                    ha='center', va='bottom')\n",
        "\n",
        "autolabel(rects1)\n",
        "autolabel(rects2)\n",
        "\n",
        "fig.tight_layout()\n",
        "\n",
        "plt.show()\n",
        "\n",
        "#restaurant.plot(kind='bar',x='name',y='num_children',ax=ax)\n",
        "#restaurant.groupby('ethnicity')['user_id'].nunique().plot(kind='bar')\n",
        "\n",
        "#restaurant.assign(dummy = 1).groupby(['ethnicity','restaurant']).size().groupby(level=0).apply(lambda x: 100 * x / x.sum()).to_frame().unstack().plot(kind='bar',stacked=True,legend=True)\n",
        "#plt.bar(x1,y1)\n",
        "#plt.xlabel('etnia')\n",
        "\n",
        "# disable ticks in the x axis\n",
        "#plt.xticks([])\n",
        "\n",
        "# fix the legend or it'll include the dummy variable\n",
        "#current_handles, _ = plt.gca().get_legend_handles_labels()\n",
        "#reversed_handles = reversed(current_handles)\n",
        "#correct_labels = reversed(restaurant['restaurant'].unique())\n",
        "\n",
        "#plt.legend(reversed_handles,correct_labels)\n",
        "\n"
      ],
      "execution_count": null,
      "outputs": [
        {
          "output_type": "stream",
          "text": [
            "44.85891917742707\n"
          ],
          "name": "stdout"
        },
        {
          "output_type": "display_data",
          "data": {
            "image/png": "[encoded data removed]",
            "text/plain": [
              "<Figure size 432x288 with 1 Axes>"
            ]
          },
          "metadata": {
            "tags": [],
            "needs_background": "light"
          }
        }
      ]
    }
  ]
}