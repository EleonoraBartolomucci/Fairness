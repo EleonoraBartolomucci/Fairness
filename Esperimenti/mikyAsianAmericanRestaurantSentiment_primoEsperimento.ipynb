{
  "nbformat": 4,
  "nbformat_minor": 0,
  "metadata": {
    "colab": {
      "name": "Untitled5.ipynb",
      "provenance": [],
      "authorship_tag": "ABX9TyMUWn+88t2EjYbC+uanXW1c",
      "include_colab_link": true
    },
    "kernelspec": {
      "name": "python3",
      "display_name": "Python 3"
    }
  },
  "cells": [
    {
      "cell_type": "markdown",
      "metadata": {
        "id": "view-in-github",
        "colab_type": "text"
      },
      "source": [
        "<a href=\"https://colab.research.google.com/github/EleonoraBartolomucci/Fairness/blob/master/Esperimenti/mikyAsianAmericanRestaurantSentiment_primoEsperimento.ipynb\" target=\"_parent\"><img src=\"https://colab.research.google.com/assets/colab-badge.svg\" alt=\"Open In Colab\"/></a>"
      ]
    },
    {
      "cell_type": "code",
      "metadata": {
        "id": "HZY5t56qpIGf",
        "colab_type": "code",
        "colab": {}
      },
      "source": [
        "from pydrive.auth import GoogleAuth\n",
        "from pydrive.drive import GoogleDrive\n",
        "from oauth2client.client import GoogleCredentials\n",
        "from google.colab import auth\n",
        "import pandas as pd\n",
        "import csv\n",
        "import matplotlib\n",
        "import matplotlib.pyplot as plt\n",
        "import numpy as np\n",
        "\n",
        "auth.authenticate_user()\n",
        "gauth = GoogleAuth()\n",
        "gauth.credentials = GoogleCredentials.get_application_default()\n",
        "drive = GoogleDrive(gauth)\n",
        "\n",
        "sort = 'Random'\n",
        "\n",
        "# file con i dati di tutti i ristoranti random\n",
        "all_analysis = '1n9vdCnppJGdE6M6HdKYlksuTntQYHA7P'  # FILE ID, got on google drive with condivision link\n",
        "download = drive.CreateFile({'id': all_analysis})\n",
        "download.GetContentFile('AllRestaurant_' + '%s' % sort + '_Analysis.csv')\n",
        "\n",
        "# leggo il csv con pandas\n",
        "res = pd.read_csv('AllRestaurant_' + '%s' % sort + '_Analysis.csv')\n"
      ],
      "execution_count": 1,
      "outputs": []
    },
    {
      "cell_type": "code",
      "metadata": {
        "id": "hFn2fHuXpJf7",
        "colab_type": "code",
        "colab": {}
      },
      "source": [
        "asian = res['ethnicity'] == 'asian'\n",
        "mexican = res['ethnicity'] == 'hispanic, latino, or spanish origin'\n",
        "black_american = res['ethnicity'] == 'black or african american'\n",
        "white_american = res['ethnicity'] == 'white'\n",
        "positive = res['review_sentiment'] == 'positive'\n",
        "negative = res['review_sentiment'] == 'negative'\n",
        "neutral = res['review_sentiment'] == 'neutral'\n",
        "\n",
        "# TUPELO HONEY\n",
        "\n",
        "restaurant = 'TupeloHoney'\n",
        "totaleTupelo = len(res[(res['restaurant'] == '%s' % restaurant)])\n",
        "\n",
        "# POSITIVI\n",
        "# numero medio di utenti asiatici, messicani e americani sul totale\n",
        "asianTupelo_positive = (len(res[(res['restaurant'] == '%s' % restaurant) & (asian) & (positive)]) * 100) / totaleTupelo\n",
        "\n",
        "\n",
        "# NEGATIVI\n",
        "# numero medio di utenti asiatici, messicani e americani sul totale\n",
        "asianTupelo_negative = (len(res[(res['restaurant'] == '%s' % restaurant) & (asian) & (negative)]) * 100) / totaleTupelo\n",
        "\n",
        "\n",
        "# NEUTRI\n",
        "# numero medio di utenti asiatici, messicani e americani sul totale\n",
        "asianTupelo_neutral = (len(res[(res['restaurant'] == '%s' % restaurant) & (asian) & (neutral)]) * 100) / totaleTupelo\n",
        "\n",
        "# CRAVINGS BUFFET\n",
        "\n",
        "restaurant = 'CravingsBuffet'\n",
        "totaleCravings = len(res[(res['restaurant'] == '%s' % restaurant)])\n",
        "\n",
        "# POSITIVI\n",
        "# numero medio di utenti asiatici, messicani e americani sul totale\n",
        "asianCravings_positive = (len(res[(res['restaurant'] == '%s' % restaurant) & (asian) & (positive)]) * 100) / totaleCravings\n",
        "\n",
        "# NEGATIVI\n",
        "# numero medio di utenti asiatici, messicani e americani sul totale\n",
        "asianCravings_negative = (len(res[(res['restaurant'] == '%s' % restaurant) & (asian) & (negative)]) * 100) / totaleCravings\n",
        "\n",
        "# NEUTRI\n",
        "# numero medio di utenti asiatici, messicani e americani sul totale\n",
        "asianCravings_neutral = (len(res[(res['restaurant'] == '%s' % restaurant) & (asian) & (neutral)]) * 100) / totaleCravings\n",
        "\n",
        "\n",
        "\n",
        "# CULINARY DROPOUT\n",
        "\n",
        "restaurant = 'CulinaryDropout'\n",
        "totaleCulinary = len(res[(res['restaurant'] == '%s' % restaurant)])\n",
        "\n",
        "# POSITIVI\n",
        "# numero medio di utenti asiatici, messicani e americani sul totale\n",
        "asianCulinary_positive = (len(res[(res['restaurant'] == '%s' % restaurant) & (asian) & (positive)]) * 100) / totaleCulinary\n",
        "\n",
        "# NEGATIVI\n",
        "# numero medio di utenti asiatici, messicani e americani sul totale\n",
        "asianCulinary_negative = (len(res[(res['restaurant'] == '%s' % restaurant) & (asian) & (negative)]) * 100) / totaleCulinary\n",
        "\n",
        "# NEUTRI\n",
        "# numero medio di utenti asiatici, messicani e americani sul totale\n",
        "asianCulinary_neutral = (len(res[(res['restaurant'] == '%s' % restaurant) & (asian) & (neutral)]) * 100) / totaleCulinary\n",
        "\n",
        "asian_american_positive = (asianTupelo_positive + asianCravings_positive + asianCulinary_positive) / 3\n",
        "asian_american_negative = (asianTupelo_negative + asianCravings_negative + asianCulinary_negative) / 3\n",
        "asian_american_neutral = (asianTupelo_neutral + asianCravings_neutral + asianCulinary_neutral) / 3\n",
        " "
      ],
      "execution_count": 2,
      "outputs": []
    },
    {
      "cell_type": "code",
      "metadata": {
        "id": "R-KRLDTNpOgm",
        "colab_type": "code",
        "colab": {
          "base_uri": "https://localhost:8080/",
          "height": 297
        },
        "outputId": "8245a754-0fa6-4330-f931-8399f1d733fd"
      },
      "source": [
        "# Costruisco il grafico\n",
        "\n",
        "labels = ['AmericanRestaurants']\n",
        "\n",
        "# GRAFICO PER ASIATICI\n",
        "\n",
        "asianPositive = [asian_american_positive]\n",
        "asianNegative = [asian_american_negative]\n",
        "asianNeutral = [asian_american_neutral]\n",
        "\n",
        "x = np.arange(len(labels))  # the label locations\n",
        "width = 0.15  # the width of the bars\n",
        "\n",
        "fig, ax = plt.subplots()\n",
        "rects1 = ax.bar(x - width, asianPositive, width, label='positive')\n",
        "rects2 = ax.bar(x, asianNegative, width, label='negative')\n",
        "rects3 = ax.bar(x + width, asianNeutral, width, label='neutral')\n",
        "\n",
        "# Add some text for labels, title and custom x-axis tick labels, etc.\n",
        "ax.set_ylabel('sentiment_analysis')\n",
        "ax.set_title('Asian sentiment by group of restaurant typology')\n",
        "ax.set_xticks(x)\n",
        "ax.set_xticklabels(labels)\n",
        "ax.legend()\n",
        "\n",
        "def autolabel(rects):\n",
        "    \"\"\"Attach a text label above each bar in *rects*, displaying its height.\"\"\"\n",
        "    for rect in rects:\n",
        "        height = rect.get_height()\n",
        "        ax.annotate('{}'.format(height),\n",
        "                    xy=(rect.get_x() + rect.get_width(), height),\n",
        "                    xytext=(0, 3),  # 3 points vertical offset\n",
        "                    textcoords=\"offset points\",\n",
        "                    ha='center', va='bottom')\n",
        "\n",
        "autolabel(rects1)\n",
        "autolabel(rects2)\n",
        "autolabel(rects3)\n",
        "\n",
        "fig.tight_layout()\n",
        "\n",
        "plt.show()"
      ],
      "execution_count": 3,
      "outputs": [
        {
          "output_type": "display_data",
          "data": {
            "image/png": "[encoded data removed]",
            "text/plain": [
              "<Figure size 432x288 with 1 Axes>"
            ]
          },
          "metadata": {
            "tags": [],
            "needs_background": "light"
          }
        }
      ]
    }
  ]
}