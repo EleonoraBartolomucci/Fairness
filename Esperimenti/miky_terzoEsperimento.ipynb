{
  "nbformat": 4,
  "nbformat_minor": 0,
  "metadata": {
    "colab": {
      "name": "Untitled8.ipynb",
      "provenance": [],
      "authorship_tag": "ABX9TyNlHoua3T5O9+vd26Zrkawx",
      "include_colab_link": true
    },
    "kernelspec": {
      "name": "python3",
      "display_name": "Python 3"
    }
  },
  "cells": [
    {
      "cell_type": "markdown",
      "metadata": {
        "id": "view-in-github",
        "colab_type": "text"
      },
      "source": [
        "<a href=\"https://colab.research.google.com/github/EleonoraBartolomucci/Fairness/blob/master/Esperimenti/miky_terzoEsperimento.ipynb\" target=\"_parent\"><img src=\"https://colab.research.google.com/assets/colab-badge.svg\" alt=\"Open In Colab\"/></a>"
      ]
    },
    {
      "cell_type": "code",
      "metadata": {
        "id": "aVa9NGCMnDWq",
        "colab_type": "code",
        "colab": {}
      },
      "source": [
        "from pydrive.auth import GoogleAuth\n",
        "from pydrive.drive import GoogleDrive\n",
        "from oauth2client.client import GoogleCredentials\n",
        "from google.colab import auth\n",
        "import pandas as pd\n",
        "import csv\n",
        "import matplotlib\n",
        "import matplotlib.pyplot as plt\n",
        "import numpy as np\n",
        "\n",
        "auth.authenticate_user()\n",
        "gauth = GoogleAuth()\n",
        "gauth.credentials = GoogleCredentials.get_application_default()\n",
        "drive = GoogleDrive(gauth)\n",
        "\n",
        "sort = 'Random'\n",
        "\n",
        "# file con i dati di tutti i ristoranti random\n",
        "all_analysis = '1n9vdCnppJGdE6M6HdKYlksuTntQYHA7P'  # FILE ID, got on google drive with condivision link\n",
        "download = drive.CreateFile({'id': all_analysis})\n",
        "download.GetContentFile('AllRestaurant_' + '%s' % sort + '_Analysis.csv')\n",
        "\n",
        "# leggo il csv con pandas\n",
        "res = pd.read_csv('AllRestaurant_' + '%s' % sort + '_Analysis.csv')"
      ],
      "execution_count": 14,
      "outputs": []
    },
    {
      "cell_type": "code",
      "metadata": {
        "id": "1CJtjmhXnVrD",
        "colab_type": "code",
        "colab": {}
      },
      "source": [
        "# Prendo i dati che mi servono dei ristoranti\n",
        "\n",
        "asian = res['ethnicity'] == 'asian'\n",
        "mexican = res['ethnicity'] == 'hispanic, latino, or spanish origin'\n",
        "black_american = res['ethnicity'] == 'black or african american'\n",
        "white_american = res['ethnicity'] == 'white'\n",
        "positive = res['review_sentiment'] == 'positive'\n",
        "negative = res['review_sentiment'] == 'negative'\n",
        "neutral = res['review_sentiment'] == 'neutral'\n",
        "american_restaurant = res['typology'] == 'American'\n",
        "asian_restaurant = res['typology'] == 'Japanese'\n",
        "mexican_restaurant = res['typology'] == 'Mexican'\n",
        "nc = res['zone'] == 'NC'  # North Carolina\n",
        "az = res['zone'] == 'AZ'  # Arizona\n",
        "nv = res['zone'] == 'NV'  # Nevada\n",
        "feminine = res['gender'] == 'feminine'\n",
        "masculine = res['gender'] == 'masculine'\n",
        "\n",
        "# elimino dal dataframe le righe che non sono state riconosciute e presentano questa scritta\n",
        "res = res[((res.age != 'Not recognized'))]\n",
        "\n",
        "# WOMEN AND MEN SENTIMENT GROUP BY ZONE\n",
        "\n",
        "totWomen_NorthCarolinaRestaurants = len(res[(feminine) & (nc)])\n",
        "totWomen_ArizonaRestaurants = len(res[(feminine) & (az)])\n",
        "totWomen_NevadaRestaurants = len(res[(feminine) & (nv)])\n",
        "\n",
        "totMen_NorthCarolinaRestaurants = len(res[(masculine) & (nc)])\n",
        "totMen_ArizonaRestaurants = len(res[(masculine) & (az)])\n",
        "totMen_NevadaRestaurants = len(res[(masculine) & (nv)])\n",
        "\n",
        "# POSITIVI\n",
        "# numero medio di positive sentiment di donne e uomini nelle rispettive zone\n",
        "nc_women_positive = (len(res[(feminine) & (nc) & (positive)]) * 100) / totWomen_NorthCarolinaRestaurants\n",
        "az_women_positive = (len(res[(feminine) & (az) & (positive)]) * 100) / totWomen_ArizonaRestaurants\n",
        "nv_women_positive = ((len(res[(feminine) & (nv) & (positive)])) * 100) / totWomen_NevadaRestaurants\n",
        "\n",
        "nc_men_positive = (len(res[(masculine) & (nc) & (positive)]) * 100) / totMen_NorthCarolinaRestaurants\n",
        "az_men_positive = (len(res[(masculine) & (az) & (positive)]) * 100) / totMen_ArizonaRestaurants\n",
        "nv_men_positive = ((len(res[(masculine) & (nv) & (positive)])) * 100) / totMen_NevadaRestaurants\n",
        "                          \n",
        "# NEGATIVI\n",
        "# numero medio di negative sentiment di donne e uomini nelle rispettive zone\n",
        "nc_women_negative = (len(res[(feminine) & (nc) & (negative)]) * 100) / totWomen_NorthCarolinaRestaurants\n",
        "az_women_negative = (len(res[(feminine) & (az) & (negative)]) * 100) / totWomen_ArizonaRestaurants\n",
        "nv_women_negative = ((len(res[(feminine) & (nv) & (negative)])) * 100) / totWomen_NevadaRestaurants\n",
        "\n",
        "nc_men_negative = (len(res[(masculine) & (nc) & (negative)]) * 100) / totMen_NorthCarolinaRestaurants\n",
        "az_men_negative = (len(res[(masculine) & (az) & (negative)]) * 100) / totMen_ArizonaRestaurants\n",
        "nv_men_negative = ((len(res[(masculine) & (nv) & (negative)])) * 100) / totMen_NevadaRestaurants\n",
        "\n",
        "# NEUTRI\n",
        "# numero medio di neutral sentiment di donne e uomini nelle rispettive zone\n",
        "nc_women_neutral = (len(res[(feminine) & (nc) & (neutral)]) * 100) / totWomen_NorthCarolinaRestaurants\n",
        "az_women_neutral = (len(res[(feminine) & (az) & (neutral)]) * 100) / totWomen_ArizonaRestaurants\n",
        "nv_women_neutral = ((len(res[(feminine) & (nv) & (neutral)])) * 100) / totWomen_NevadaRestaurants\n",
        "\n",
        "nc_men_neutral = (len(res[(masculine) & (nc) & (neutral)]) * 100) / totMen_NorthCarolinaRestaurants\n",
        "az_men_neutral = (len(res[(masculine) & (az) & (neutral)]) * 100) / totMen_ArizonaRestaurants\n",
        "nv_men_neutral = ((len(res[(masculine) & (nv) & (neutral)])) * 100) / totMen_NevadaRestaurants\n"
      ],
      "execution_count": null,
      "outputs": []
    },
    {
      "cell_type": "code",
      "metadata": {
        "id": "ovscJ8wctwkr",
        "colab_type": "code",
        "colab": {
          "base_uri": "https://localhost:8080/",
          "height": 543
        },
        "outputId": "d9d00a4b-5c72-438b-b072-2c9b14740407"
      },
      "source": [
        "# Costruisco il grafico\n",
        "\n",
        "labels = ['NC Women', 'NC Men', 'AZ Women', 'AZ Men', 'NV Women', 'NV Men']\n",
        "\n",
        "# GRAFICO PER I RISTORANTI PER ZONA -> CHI E' CHE HA PIU RECENSIONI POSITIVE, NEGATIVE E NEUTRE TRA I TRE RISTORANTI AMERICANI\n",
        "\n",
        "# valori barre\n",
        "positive = [nc_women_positive, nc_men_positive, az_women_positive, az_men_positive, nv_women_positive, nv_men_positive]\n",
        "negative = [nc_women_negative, nc_men_negative, az_women_negative, az_men_negative, nv_women_negative, nv_men_negative]\n",
        "neutral = [nc_women_neutral, nc_men_neutral, az_women_neutral, az_men_neutral, nv_women_neutral, nv_men_neutral]\n",
        "\n",
        "print(nc_women_positive + nc_women_negative + nc_women_neutral)\n",
        "print(nc_men_positive + nc_men_negative + nc_men_neutral)\n",
        "print(az_women_positive + az_women_negative + az_women_neutral)\n",
        "print(az_men_positive + az_men_negative + az_men_neutral)\n",
        "print(nv_women_positive + nv_women_negative + nv_women_neutral)\n",
        "print(nv_men_positive + nv_men_negative + nv_men_neutral)\n",
        "\n",
        "x = np.arange(len(labels))  # the label locations\n",
        "width = 0.15  # the width of the bars\n",
        "\n",
        "matplotlib.rcParams['figure.figsize'] = (10.0, 6.0)\n",
        "fig, ax = plt.subplots()\n",
        "\n",
        "rects1 = ax.bar(x - width, positive, width, label='positive')\n",
        "rects2 = ax.bar(x, negative, width, label='negative', color='red')\n",
        "rects3 = ax.bar(x + width, neutral, width, label='neutral', color='orange')\n",
        "\n",
        "# Add some text for labels, title and custom x-axis tick labels, etc.\n",
        "ax.set_ylabel('All Zone Restaurants')\n",
        "ax.set_title('General yelp users sentiment')\n",
        "ax.set_xticks(x)\n",
        "ax.set_xticklabels(labels)\n",
        "ax.legend()\n",
        "\n",
        "def autolabel(rects):\n",
        "    \"\"\"Attach a text label above each bar in *rects*, displaying its height.\"\"\"\n",
        "    for rect in rects:\n",
        "        height = rect.get_height()\n",
        "        ax.annotate('{:.2%}'.format(height/100),\n",
        "                    xy=(rect.get_x() + rect.get_width(), height),\n",
        "                    xytext=(0, 3),  # 3 points vertical offset\n",
        "                    textcoords=\"offset points\",\n",
        "                    ha='center', va='bottom')\n",
        "\n",
        "autolabel(rects1)\n",
        "autolabel(rects2)\n",
        "autolabel(rects3)\n",
        "\n",
        "fig.tight_layout()\n",
        "\n",
        "plt.show()"
      ],
      "execution_count": 16,
      "outputs": [
        {
          "output_type": "stream",
          "text": [
            "100.0\n",
            "100.0\n",
            "100.0\n",
            "100.0\n",
            "99.99999999999999\n",
            "100.0\n"
          ],
          "name": "stdout"
        },
        {
          "output_type": "display_data",
          "data": {
            "image/png": "[encoded data removed]",
            "text/plain": [
              "<Figure size 720x432 with 1 Axes>"
            ]
          },
          "metadata": {
            "tags": [],
            "needs_background": "light"
          }
        }
      ]
    }
  ]
}