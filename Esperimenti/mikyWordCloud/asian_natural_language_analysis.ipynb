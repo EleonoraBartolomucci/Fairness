{
  "nbformat": 4,
  "nbformat_minor": 0,
  "metadata": {
    "colab": {
      "name": "Untitled7.ipynb",
      "provenance": [],
      "include_colab_link": true
    },
    "kernelspec": {
      "name": "python3",
      "display_name": "Python 3"
    }
  },
  "cells": [
    {
      "cell_type": "markdown",
      "metadata": {
        "id": "view-in-github",
        "colab_type": "text"
      },
      "source": [
        "<a href=\"https://colab.research.google.com/github/EleonoraBartolomucci/Fairness/blob/master/Esperimenti/mikyWordCloud/asian_natural_language_analysis.ipynb\" target=\"_parent\"><img src=\"https://colab.research.google.com/assets/colab-badge.svg\" alt=\"Open In Colab\"/></a>"
      ]
    },
    {
      "cell_type": "code",
      "metadata": {
        "id": "XIOw41s7KiP7",
        "colab_type": "code",
        "colab": {}
      },
      "source": [
        "from pydrive.auth import GoogleAuth\n",
        "from pydrive.drive import GoogleDrive\n",
        "from oauth2client.client import GoogleCredentials\n",
        "from google.colab import auth\n",
        "import pandas as pd\n",
        "import csv\n",
        "import matplotlib\n",
        "import matplotlib.pyplot as plt\n",
        "import numpy as np\n",
        "\n",
        "auth.authenticate_user()\n",
        "gauth = GoogleAuth()\n",
        "gauth.credentials = GoogleCredentials.get_application_default()\n",
        "drive = GoogleDrive(gauth)\n",
        "\n",
        "sort = 'Random'\n",
        "\n",
        "# file con i dati di tutti i ristoranti random\n",
        "all_analysis = '1n9vdCnppJGdE6M6HdKYlksuTntQYHA7P'  # FILE ID, got on google drive with condivision link\n",
        "download = drive.CreateFile({'id': all_analysis})\n",
        "download.GetContentFile('AllRestaurant_' + '%s' % sort + '_Analysis.csv')\n",
        "\n",
        "# leggo il csv con pandas\n",
        "res = pd.read_csv('AllRestaurant_' + '%s' % sort + '_Analysis.csv')\n"
      ],
      "execution_count": null,
      "outputs": []
    },
    {
      "cell_type": "code",
      "metadata": {
        "id": "9WiPAg03QlyH",
        "colab_type": "code",
        "colab": {}
      },
      "source": [
        "def contaparole(x):\n",
        "\n",
        "  #creazione di una variabile con valore 0\n",
        "  parole=0\n",
        "  \n",
        "  #analizza la stringa partendo dal primo carattere, quando trova uno spazio si blocca ed inserisce la porzione di stringa in una lista (vettore).\n",
        "  a = x.split(\" \")\n",
        "\n",
        "  #la lista creata potrebbe anche contenere parole composte da un valore vuoto. Tramite il ciclo for si esegue una verifica e vengono contate solo i valori che contengano almeno un carattere che non sia lo spazio.\n",
        "  for i in a:\n",
        "    if (i!=\"\"):\n",
        "      parole = parole + 1\n",
        "\n",
        "  return parole"
      ],
      "execution_count": 32,
      "outputs": []
    },
    {
      "cell_type": "code",
      "metadata": {
        "id": "YUjQudHpK_Gf",
        "colab_type": "code",
        "colab": {
          "base_uri": "https://localhost:8080/",
          "height": 51
        },
        "outputId": "bfe3c9fd-4039-4411-a3e7-9ab0c148d51c"
      },
      "source": [
        "# lunghezza media delle recensioni degli asiatici in tutti i ristoranti\n",
        "asian = res[(res['ethnicity'] == 'asian')]\n",
        "\n",
        "lenCaratteriTot = -25976  #numero di \"<br>\" all'interno del testo come caratteri\n",
        "lenParoleTot = -6494  #numero di \"<br>\" all'interno del testo\n",
        "for text in asian['text_review']:\n",
        "    lenCaratteriTot = len(text) + lenCaratteriTot\n",
        "    lenParoleTot = contaparole(text) + lenParoleTot\n",
        "\n",
        "avg_asian_characters_reviews = lenCaratteriTot/(len(asian) - 1)\n",
        "avg_asian_words_reviews = lenParoleTot/(len(asian) - 1)\n",
        "\n",
        "print(avg_asian_characters_reviews)   # media dei caratteri scritti dagli asiatici in generale su yelp\n",
        "print(avg_asian_words_reviews)   # media delle parole scritte dagli asiatici in generale su yelp"
      ],
      "execution_count": 27,
      "outputs": [
        {
          "output_type": "stream",
          "text": [
            "718.9670138888889\n",
            "125.8761574074074\n"
          ],
          "name": "stdout"
        }
      ]
    },
    {
      "cell_type": "code",
      "metadata": {
        "id": "-CO_cHC2OkFT",
        "colab_type": "code",
        "colab": {
          "base_uri": "https://localhost:8080/",
          "height": 51
        },
        "outputId": "c1abd4b0-f8b9-454c-ea22-4b74a48da58c"
      },
      "source": [
        "# lunghezza media delle recensioni degli asiatici nei ristoranti americani\n",
        "\n",
        "asian_american_restaurant = res[(res['ethnicity'] == 'asian') & (res['typology'] == 'American')]\n",
        "\n",
        "lenCaratteriTot = -8444  #numero di \"<br>\" all'interno del testo\n",
        "lenParoleTot = -2111  #numero di \"<br>\" all'interno del testo\n",
        "\n",
        "for text in asian_american_restaurant['text_review']:\n",
        "    lenCaratteriTot = len(text) + lenCaratteriTot\n",
        "    lenParoleTot = contaparole(text) + lenParoleTot\n",
        "\n",
        "avg_c_asian_american_restaurant_reviews = lenCaratteriTot/(len(asian_american_restaurant) - 1)\n",
        "avg_p_asian_american_restaurant_reviews = lenParoleTot/(len(asian_american_restaurant) - 1)\n",
        "\n",
        "print(avg_c_asian_american_restaurant_reviews)    # media dei caratteri scritti dagli asiatici in generale nei ristoranti americani\n",
        "print(avg_p_asian_american_restaurant_reviews)   # media delle parole scritte dagli asiatici in generale nei ristoranti americani"
      ],
      "execution_count": 28,
      "outputs": [
        {
          "output_type": "stream",
          "text": [
            "731.8741610738255\n",
            "128.20805369127515\n"
          ],
          "name": "stdout"
        }
      ]
    },
    {
      "cell_type": "code",
      "metadata": {
        "id": "1r3nqV66PdhK",
        "colab_type": "code",
        "colab": {
          "base_uri": "https://localhost:8080/",
          "height": 51
        },
        "outputId": "b3cae497-d005-4ad4-fef6-6c6f4eec5c1e"
      },
      "source": [
        "# lunghezza media delle recensioni degli asiatici nei ristoranti messicani\n",
        "asian_mexican_restaurant = res[(res['ethnicity'] == 'asian') & (res['typology'] == 'Mexican')]\n",
        "\n",
        "lenCaratteriTot = -2704  #numero di \"<br>\" all'interno del testo\n",
        "lenParoleTot = -676  #numero di \"<br>\" all'interno del testo\n",
        "\n",
        "for text in asian_mexican_restaurant['text_review']:\n",
        "    lenCaratteriTot = len(text) + lenCaratteriTot\n",
        "    lenParoleTot = contaparole(text) + lenParoleTot\n",
        "\n",
        "avg_c_asian_mexican_restaurant_reviews = lenCaratteriTot/(len(asian_mexican_restaurant) - 1)\n",
        "avg_p_asian_mexican_restaurant_reviews = lenParoleTot/(len(asian_mexican_restaurant) - 1)\n",
        "\n",
        "print(avg_c_asian_mexican_restaurant_reviews)    # media dei caratteri scritti dagli asiatici in generale nei ristoranti messicani\n",
        "print(avg_p_asian_mexican_restaurant_reviews)   # media delle parole scritte dagli asiatici in generale nei ristoranti messicani"
      ],
      "execution_count": 29,
      "outputs": [
        {
          "output_type": "stream",
          "text": [
            "565.2455516014235\n",
            "100.31316725978648\n"
          ],
          "name": "stdout"
        }
      ]
    },
    {
      "cell_type": "code",
      "metadata": {
        "id": "zHvVPWoFVSUo",
        "colab_type": "code",
        "colab": {
          "base_uri": "https://localhost:8080/",
          "height": 51
        },
        "outputId": "98a297c1-b74c-4eab-b7c0-0d493a3d4e3f"
      },
      "source": [
        "# lunghezza media delle recensioni degli asiatici nei ristoranti asiatici\n",
        "asian_japanese_restaurant = res[(res['ethnicity'] == 'asian') & (res['typology'] == 'Japanese')]\n",
        "\n",
        "lenCaratteriTot = -14828  #numero di \"<br>\" all'interno del testo\n",
        "lenParoleTot = -3707  #numero di \"<br>\" all'interno del testo\n",
        "\n",
        "for text in asian_japanese_restaurant['text_review']:\n",
        "    lenCaratteriTot = len(text) + lenCaratteriTot\n",
        "    lenParoleTot = contaparole(text) + lenParoleTot\n",
        "\n",
        "avg_c_asian_japanese_restaurant_reviews = lenCaratteriTot/(len(asian_japanese_restaurant) - 1)\n",
        "avg_p_asian_japanese_restaurant_reviews = lenParoleTot/(len(asian_japanese_restaurant) - 1)\n",
        "\n",
        "print(avg_c_asian_japanese_restaurant_reviews)    # media dei caratteri scritti dagli asiatici in generale nei ristoranti asiatici\n",
        "print(avg_p_asian_japanese_restaurant_reviews)   # media delle parole scritte dagli asiatici in generale nei ristoranti asiatici"
      ],
      "execution_count": 30,
      "outputs": [
        {
          "output_type": "stream",
          "text": [
            "762.4782096584216\n",
            "132.9964664310954\n"
          ],
          "name": "stdout"
        }
      ]
    },
    {
      "cell_type": "code",
      "metadata": {
        "id": "dvle2bKzZdZA",
        "colab_type": "code",
        "colab": {
          "base_uri": "https://localhost:8080/",
          "height": 294
        },
        "outputId": "9f252b9a-a40c-4f11-8c0b-e11cbfe69ae7"
      },
      "source": [
        "import matplotlib.pyplot as plt\n",
        "\n",
        "# Asse delle x = ristoranti, Asse delle y = valori delle medie\n",
        "\n",
        "names = ['RistorantiMessicani', 'RistorantiAmericani', 'RistorantiAsiatici']\n",
        "values = [avg_p_asian_mexican_restaurant_reviews, avg_p_asian_american_restaurant_reviews, avg_p_asian_japanese_restaurant_reviews]\n",
        "\n",
        "plt.figure(figsize=(20, 4))\n",
        "\n",
        "plt.subplot(131)\n",
        "plt.bar(names, values)\n",
        "plt.subplot(132)\n",
        "plt.scatter(names, values)\n",
        "plt.subplot(133)\n",
        "plt.plot(names, values)\n",
        "plt.suptitle('Numero medio delle parole scritte nelle recensioni dagli utenti asiatici nei vari ristoranti')\n",
        "plt.show()\n"
      ],
      "execution_count": 62,
      "outputs": [
        {
          "output_type": "display_data",
          "data": {
            "image/png": "[encoded data removed]",
            "text/plain": [
              "<Figure size 1440x288 with 3 Axes>"
            ]
          },
          "metadata": {
            "tags": [],
            "needs_background": "light"
          }
        }
      ]
    },
    {
      "cell_type": "code",
      "metadata": {
        "id": "JQIsxEhZfPzv",
        "colab_type": "code",
        "colab": {
          "base_uri": "https://localhost:8080/",
          "height": 273
        },
        "outputId": "7790f69e-fff2-436d-8d36-96f827103b72"
      },
      "source": [
        "# Asse delle x = valori delle medie, Asse delle y = ristoranti\n",
        "values = ['RistorantiMessicani', 'RistorantiAmericani', 'RistorantiAsiatici']\n",
        "names = [avg_p_asian_mexican_restaurant_reviews, avg_p_asian_american_restaurant_reviews, avg_p_asian_japanese_restaurant_reviews]\n",
        "\n",
        "plt.figure(figsize=(19, 4))\n",
        "\n",
        "plt.subplot(131)\n",
        "plt.bar(names, values)\n",
        "plt.tight_layout()\n",
        "\n",
        "plt.subplot(132)\n",
        "plt.scatter(names, values)\n",
        "plt.tight_layout()\n",
        "\n",
        "plt.subplot(133)\n",
        "plt.plot(names, values)\n",
        "\n",
        "#plt.suptitle('Numero medio delle parole scritte nelle recensioni dagli utenti asiatici nei vari ristoranti')\n",
        "plt.show()"
      ],
      "execution_count": 57,
      "outputs": [
        {
          "output_type": "display_data",
          "data": {
            "image/png": "[encoded data removed]",
            "text/plain": [
              "<Figure size 1368x288 with 3 Axes>"
            ]
          },
          "metadata": {
            "tags": [],
            "needs_background": "light"
          }
        }
      ]
    }
  ]
}