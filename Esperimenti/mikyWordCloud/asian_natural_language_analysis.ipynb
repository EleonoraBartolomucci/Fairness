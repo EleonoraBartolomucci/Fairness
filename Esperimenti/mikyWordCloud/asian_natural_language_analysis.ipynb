{
  "nbformat": 4,
  "nbformat_minor": 0,
  "metadata": {
    "colab": {
      "name": "Untitled7.ipynb",
      "provenance": [],
      "include_colab_link": true
    },
    "kernelspec": {
      "name": "python3",
      "display_name": "Python 3"
    }
  },
  "cells": [
    {
      "cell_type": "markdown",
      "metadata": {
        "id": "view-in-github",
        "colab_type": "text"
      },
      "source": [
        "<a href=\"https://colab.research.google.com/github/EleonoraBartolomucci/Fairness/blob/master/Esperimenti/mikyWordCloud/asian_natural_language_analysis.ipynb\" target=\"_parent\"><img src=\"https://colab.research.google.com/assets/colab-badge.svg\" alt=\"Open In Colab\"/></a>"
      ]
    },
    {
      "cell_type": "code",
      "metadata": {
        "id": "XIOw41s7KiP7",
        "colab_type": "code",
        "colab": {}
      },
      "source": [
        "from pydrive.auth import GoogleAuth\n",
        "from pydrive.drive import GoogleDrive\n",
        "from oauth2client.client import GoogleCredentials\n",
        "from google.colab import auth\n",
        "import pandas as pd\n",
        "import csv\n",
        "import matplotlib\n",
        "import matplotlib.pyplot as plt\n",
        "import numpy as np\n",
        "\n",
        "auth.authenticate_user()\n",
        "gauth = GoogleAuth()\n",
        "gauth.credentials = GoogleCredentials.get_application_default()\n",
        "drive = GoogleDrive(gauth)\n",
        "\n",
        "sort = 'Random'\n",
        "\n",
        "# file con i dati di tutti i ristoranti random\n",
        "all_analysis = '1n9vdCnppJGdE6M6HdKYlksuTntQYHA7P'  # FILE ID, got on google drive with condivision link\n",
        "download = drive.CreateFile({'id': all_analysis})\n",
        "download.GetContentFile('AllRestaurant_' + '%s' % sort + '_Analysis.csv')\n",
        "\n",
        "# leggo il csv con pandas\n",
        "res = pd.read_csv('AllRestaurant_' + '%s' % sort + '_Analysis.csv')\n"
      ],
      "execution_count": 4,
      "outputs": []
    },
    {
      "cell_type": "code",
      "metadata": {
        "id": "9WiPAg03QlyH",
        "colab_type": "code",
        "colab": {}
      },
      "source": [
        "def contaparole(x):\n",
        "\n",
        "  #creazione di una variabile con valore 0\n",
        "  parole=0\n",
        "  \n",
        "  #analizza la stringa partendo dal primo carattere, quando trova uno spazio si blocca ed inserisce la porzione di stringa in una lista (vettore).\n",
        "  a = x.split(\" \")\n",
        "\n",
        "  #la lista creata potrebbe anche contenere parole composte da un valore vuoto. Tramite il ciclo for si esegue una verifica e vengono contate solo i valori che contengano almeno un carattere che non sia lo spazio.\n",
        "  for i in a:\n",
        "    if (i!=\"\"):\n",
        "      parole = parole + 1\n",
        "\n",
        "  return parole"
      ],
      "execution_count": 5,
      "outputs": []
    },
    {
      "cell_type": "code",
      "metadata": {
        "id": "YUjQudHpK_Gf",
        "colab_type": "code",
        "colab": {
          "base_uri": "https://localhost:8080/",
          "height": 51
        },
        "outputId": "48bfe6c6-6c86-4730-d6d6-114dcf512cda"
      },
      "source": [
        "# lunghezza media delle recensioni degli asiatici in tutti i ristoranti\n",
        "asian = res[(res['ethnicity'] == 'asian')]\n",
        "\n",
        "lenCaratteriTot = -25976  #numero di \"<br>\" all'interno del testo come caratteri\n",
        "lenParoleTot = -6494  #numero di \"<br>\" all'interno del testo\n",
        "for text in asian['text_review']:\n",
        "    lenCaratteriTot = len(text) + lenCaratteriTot\n",
        "    lenParoleTot = contaparole(text) + lenParoleTot\n",
        "\n",
        "avg_asian_characters_reviews = lenCaratteriTot/(len(asian) - 1)\n",
        "avg_asian_words_reviews = lenParoleTot/(len(asian) - 1)\n",
        "\n",
        "print(avg_asian_characters_reviews)   # media dei caratteri scritti dagli asiatici in generale su yelp\n",
        "print(avg_asian_words_reviews)   # media delle parole scritte dagli asiatici in generale su yelp"
      ],
      "execution_count": 6,
      "outputs": [
        {
          "output_type": "stream",
          "text": [
            "718.9670138888889\n",
            "125.8761574074074\n"
          ],
          "name": "stdout"
        }
      ]
    },
    {
      "cell_type": "code",
      "metadata": {
        "id": "-CO_cHC2OkFT",
        "colab_type": "code",
        "colab": {
          "base_uri": "https://localhost:8080/",
          "height": 51
        },
        "outputId": "0f81c981-ec07-4956-8fd5-78cb2a36e206"
      },
      "source": [
        "# lunghezza media delle recensioni degli asiatici nei ristoranti americani\n",
        "\n",
        "asian_american_restaurant = res[(res['ethnicity'] == 'asian') & (res['typology'] == 'American')]\n",
        "\n",
        "lenCaratteriTot = -8444  #numero di \"<br>\" all'interno del testo\n",
        "lenParoleTot = -2111  #numero di \"<br>\" all'interno del testo\n",
        "\n",
        "for text in asian_american_restaurant['text_review']:\n",
        "    lenCaratteriTot = len(text) + lenCaratteriTot\n",
        "    lenParoleTot = contaparole(text) + lenParoleTot\n",
        "\n",
        "avg_c_asian_american_restaurant_reviews = lenCaratteriTot/(len(asian_american_restaurant) - 1)\n",
        "avg_p_asian_american_restaurant_reviews = lenParoleTot/(len(asian_american_restaurant) - 1)\n",
        "\n",
        "print(avg_c_asian_american_restaurant_reviews)    # media dei caratteri scritti dagli asiatici in generale nei ristoranti americani\n",
        "print(avg_p_asian_american_restaurant_reviews)   # media delle parole scritte dagli asiatici in generale nei ristoranti americani"
      ],
      "execution_count": 7,
      "outputs": [
        {
          "output_type": "stream",
          "text": [
            "731.8741610738255\n",
            "128.20805369127515\n"
          ],
          "name": "stdout"
        }
      ]
    },
    {
      "cell_type": "code",
      "metadata": {
        "id": "1r3nqV66PdhK",
        "colab_type": "code",
        "colab": {
          "base_uri": "https://localhost:8080/",
          "height": 51
        },
        "outputId": "e5cf5dc6-215b-439f-c59c-fb4e794ecaf9"
      },
      "source": [
        "# lunghezza media delle recensioni degli asiatici nei ristoranti messicani\n",
        "asian_mexican_restaurant = res[(res['ethnicity'] == 'asian') & (res['typology'] == 'Mexican')]\n",
        "\n",
        "lenCaratteriTot = -2704  #numero di \"<br>\" all'interno del testo\n",
        "lenParoleTot = -676  #numero di \"<br>\" all'interno del testo\n",
        "\n",
        "for text in asian_mexican_restaurant['text_review']:\n",
        "    lenCaratteriTot = len(text) + lenCaratteriTot\n",
        "    lenParoleTot = contaparole(text) + lenParoleTot\n",
        "\n",
        "avg_c_asian_mexican_restaurant_reviews = lenCaratteriTot/(len(asian_mexican_restaurant) - 1)\n",
        "avg_p_asian_mexican_restaurant_reviews = lenParoleTot/(len(asian_mexican_restaurant) - 1)\n",
        "\n",
        "print(avg_c_asian_mexican_restaurant_reviews)    # media dei caratteri scritti dagli asiatici in generale nei ristoranti messicani\n",
        "print(avg_p_asian_mexican_restaurant_reviews)   # media delle parole scritte dagli asiatici in generale nei ristoranti messicani"
      ],
      "execution_count": 8,
      "outputs": [
        {
          "output_type": "stream",
          "text": [
            "565.2455516014235\n",
            "100.31316725978648\n"
          ],
          "name": "stdout"
        }
      ]
    },
    {
      "cell_type": "code",
      "metadata": {
        "id": "zHvVPWoFVSUo",
        "colab_type": "code",
        "colab": {
          "base_uri": "https://localhost:8080/",
          "height": 51
        },
        "outputId": "a65e58ea-e550-41d8-d811-d9e9311e0bde"
      },
      "source": [
        "# lunghezza media delle recensioni degli asiatici nei ristoranti asiatici\n",
        "asian_japanese_restaurant = res[(res['ethnicity'] == 'asian') & (res['typology'] == 'Japanese')]\n",
        "\n",
        "lenCaratteriTot = -14828  #numero di \"<br>\" all'interno del testo\n",
        "lenParoleTot = -3707  #numero di \"<br>\" all'interno del testo\n",
        "\n",
        "for text in asian_japanese_restaurant['text_review']:\n",
        "    lenCaratteriTot = len(text) + lenCaratteriTot\n",
        "    lenParoleTot = contaparole(text) + lenParoleTot\n",
        "\n",
        "avg_c_asian_japanese_restaurant_reviews = lenCaratteriTot/(len(asian_japanese_restaurant) - 1)\n",
        "avg_p_asian_japanese_restaurant_reviews = lenParoleTot/(len(asian_japanese_restaurant) - 1)\n",
        "\n",
        "print(avg_c_asian_japanese_restaurant_reviews)    # media dei caratteri scritti dagli asiatici in generale nei ristoranti asiatici\n",
        "print(avg_p_asian_japanese_restaurant_reviews)   # media delle parole scritte dagli asiatici in generale nei ristoranti asiatici"
      ],
      "execution_count": 9,
      "outputs": [
        {
          "output_type": "stream",
          "text": [
            "762.4782096584216\n",
            "132.9964664310954\n"
          ],
          "name": "stdout"
        }
      ]
    },
    {
      "cell_type": "code",
      "metadata": {
        "id": "dvle2bKzZdZA",
        "colab_type": "code",
        "colab": {
          "base_uri": "https://localhost:8080/",
          "height": 294
        },
        "outputId": "45442a97-c43a-4109-abc4-d21095d22756"
      },
      "source": [
        "import matplotlib.pyplot as plt\n",
        "\n",
        "# Asse delle x = ristoranti, Asse delle y = valori delle medie\n",
        "\n",
        "names = ['RistorantiMessicani', 'RistorantiAmericani', 'RistorantiAsiatici']\n",
        "values = [avg_p_asian_mexican_restaurant_reviews, avg_p_asian_american_restaurant_reviews, avg_p_asian_japanese_restaurant_reviews]\n",
        "\n",
        "plt.figure(figsize=(20, 4))\n",
        "\n",
        "plt.subplot(131)\n",
        "plt.bar(names, values)\n",
        "plt.subplot(132)\n",
        "plt.scatter(names, values)\n",
        "plt.subplot(133)\n",
        "plt.plot(names, values)\n",
        "plt.suptitle('Numero medio delle parole scritte nelle recensioni dagli utenti asiatici nei vari ristoranti', fontsize = 13)\n",
        "plt.show()\n"
      ],
      "execution_count": 10,
      "outputs": [
        {
          "output_type": "display_data",
          "data": {
            "image/png": "[encoded data removed]",
            "text/plain": [
              "<Figure size 1440x288 with 3 Axes>"
            ]
          },
          "metadata": {
            "tags": [],
            "needs_background": "light"
          }
        }
      ]
    },
    {
      "cell_type": "code",
      "metadata": {
        "id": "JQIsxEhZfPzv",
        "colab_type": "code",
        "colab": {
          "base_uri": "https://localhost:8080/",
          "height": 273
        },
        "outputId": "7790f69e-fff2-436d-8d36-96f827103b72"
      },
      "source": [
        "# Asse delle x = valori delle medie, Asse delle y = ristoranti\n",
        "values = ['RistorantiMessicani', 'RistorantiAmericani', 'RistorantiAsiatici']\n",
        "names = [avg_p_asian_mexican_restaurant_reviews, avg_p_asian_american_restaurant_reviews, avg_p_asian_japanese_restaurant_reviews]\n",
        "\n",
        "plt.figure(figsize=(19, 4))\n",
        "\n",
        "plt.subplot(131)\n",
        "plt.bar(names, values)\n",
        "plt.tight_layout()\n",
        "\n",
        "plt.subplot(132)\n",
        "plt.scatter(names, values)\n",
        "plt.tight_layout()\n",
        "\n",
        "plt.subplot(133)\n",
        "plt.plot(names, values)\n",
        "\n",
        "#plt.suptitle('Numero medio delle parole scritte nelle recensioni dagli utenti asiatici nei vari ristoranti')\n",
        "plt.show()"
      ],
      "execution_count": null,
      "outputs": [
        {
          "output_type": "display_data",
          "data": {
            "image/png": "[encoded data removed]",
            "text/plain": [
              "<Figure size 1368x288 with 3 Axes>"
            ]
          },
          "metadata": {
            "tags": [],
            "needs_background": "light"
          }
        }
      ]
    },
    {
      "cell_type": "code",
      "metadata": {
        "id": "S9rVWpgcTglC",
        "colab_type": "code",
        "colab": {
          "base_uri": "https://localhost:8080/",
          "height": 68
        },
        "outputId": "a4f07de6-1713-4afd-a8e6-f852e88d5371"
      },
      "source": [
        "# scaletta delle recensioni negative\n",
        "\n",
        "asian_negative_sentiment = res[(res['ethnicity'] == 'asian') & (res['review_sentiment'] == 'negative')]\n",
        "\n",
        "asian_negative_sentiment_amr = len(asian_negative_sentiment[(asian_negative_sentiment['typology'] == 'American')])\n",
        "asian_negative_sentiment_mex = len(asian_negative_sentiment[(asian_negative_sentiment['typology'] == 'Mexican')])\n",
        "asian_negative_sentiment_as = len(asian_negative_sentiment[(asian_negative_sentiment['typology'] == 'Japanese')])\n",
        "\n",
        "if ((asian_negative_sentiment_amr > asian_negative_sentiment_mex) & (asian_negative_sentiment_amr > asian_negative_sentiment_as)):\n",
        "  primo = asian_negative_sentiment_amr\n",
        "elif ((asian_negative_sentiment_mex > asian_negative_sentiment_amr) & (asian_negative_sentiment_mex > asian_negative_sentiment_as)):\n",
        "  primo = asian_negative_sentiment_mex\n",
        "elif ((asian_negative_sentiment_as > asian_negative_sentiment_amr) & (asian_negative_sentiment_as > asian_negative_sentiment_mex)):\n",
        "  primo = asian_negative_sentiment_as\n",
        "\n",
        "if (asian_negative_sentiment_amr < primo):\n",
        "  secondo = asian_negative_sentiment_amr\n",
        "elif (asian_negative_sentiment_mex < primo):\n",
        "  secondo = asian_negative_sentiment_mex\n",
        "elif (asian_negative_sentiment_as < primo):\n",
        "  secondo = asian_negative_sentiment_as\n",
        "\n",
        "if (asian_negative_sentiment_amr < secondo):\n",
        "  terzo = asian_negative_sentiment_amr\n",
        "elif (asian_negative_sentiment_mex < secondo):\n",
        "  terzo = asian_negative_sentiment_mex\n",
        "elif (asian_negative_sentiment_as < secondo):\n",
        "  terzo = asian_negative_sentiment_as\n",
        "\n",
        "# stampe\n",
        "\n",
        "if (primo == asian_negative_sentiment_amr):\n",
        "  print('primo: American with ' + '%s' % primo + ' reviews')\n",
        "elif (primo == asian_negative_sentiment_mex):\n",
        "  print('primo: Mexican with ' + '%s' % primo + ' reviews')\n",
        "elif (primo == asian_negative_sentiment_as):\n",
        "  print('primo: Asian with ' + '%s' % primo + ' reviews')\n",
        "\n",
        "if (secondo == asian_negative_sentiment_amr):\n",
        "  print('secondo: American with ' + '%s' % secondo + ' reviews')\n",
        "elif (secondo == asian_negative_sentiment_mex):\n",
        "  print('secondo: Mexican with ' + '%s' % secondo + ' reviews')\n",
        "elif (secondo == asian_negative_sentiment_as):\n",
        "  print('secondo: Asian with ' + '%s' % secondo + ' reviews')\n",
        "\n",
        "if (terzo == asian_negative_sentiment_amr):\n",
        "  print('terzo: American with ' + '%s' % terzo + ' reviews')\n",
        "elif (terzo == asian_negative_sentiment_mex):\n",
        "  print('terzo: Mexican with ' + '%s' % terzo + ' reviews')\n",
        "elif (terzo == asian_negative_sentiment_as):\n",
        "  print('terzo: Asian with ' + '%s' % terzo + ' reviews')\n"
      ],
      "execution_count": 17,
      "outputs": [
        {
          "output_type": "stream",
          "text": [
            "primo: Asian with 264 reviews\n",
            "secondo: American with 218 reviews\n",
            "terzo: Mexican with 72 reviews\n"
          ],
          "name": "stdout"
        }
      ]
    }
  ]
}