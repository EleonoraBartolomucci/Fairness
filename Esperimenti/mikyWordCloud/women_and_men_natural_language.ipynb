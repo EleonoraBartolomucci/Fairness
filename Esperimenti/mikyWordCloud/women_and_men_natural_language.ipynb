{
  "nbformat": 4,
  "nbformat_minor": 0,
  "metadata": {
    "colab": {
      "name": "Untitled10.ipynb",
      "provenance": [],
      "authorship_tag": "ABX9TyMHAYHwnwtC+3AbC/h5rkG2",
      "include_colab_link": true
    },
    "kernelspec": {
      "name": "python3",
      "display_name": "Python 3"
    }
  },
  "cells": [
    {
      "cell_type": "markdown",
      "metadata": {
        "id": "view-in-github",
        "colab_type": "text"
      },
      "source": [
        "<a href=\"https://colab.research.google.com/github/EleonoraBartolomucci/Fairness/blob/master/Esperimenti/mikyWordCloud/women_and_men_natural_language.ipynb\" target=\"_parent\"><img src=\"https://colab.research.google.com/assets/colab-badge.svg\" alt=\"Open In Colab\"/></a>"
      ]
    },
    {
      "cell_type": "code",
      "metadata": {
        "id": "ixi4gO8YqV2S",
        "colab_type": "code",
        "colab": {}
      },
      "source": [
        "from pydrive.auth import GoogleAuth\n",
        "from pydrive.drive import GoogleDrive\n",
        "from oauth2client.client import GoogleCredentials\n",
        "from google.colab import auth\n",
        "import pandas as pd\n",
        "import csv\n",
        "import matplotlib\n",
        "import matplotlib.pyplot as plt\n",
        "import numpy as np\n",
        "\n",
        "auth.authenticate_user()\n",
        "gauth = GoogleAuth()\n",
        "gauth.credentials = GoogleCredentials.get_application_default()\n",
        "drive = GoogleDrive(gauth)\n",
        "\n",
        "sort = 'Random'\n",
        "\n",
        "# file con i dati di tutti i ristoranti random\n",
        "all_analysis = '1n9vdCnppJGdE6M6HdKYlksuTntQYHA7P'  # FILE ID, got on google drive with condivision link\n",
        "download = drive.CreateFile({'id': all_analysis})\n",
        "download.GetContentFile('AllRestaurant_' + '%s' % sort + '_Analysis.csv')\n",
        "\n",
        "# leggo il csv con pandas\n",
        "res = pd.read_csv('AllRestaurant_' + '%s' % sort + '_Analysis.csv')\n",
        "\n",
        "# elimino dal dataframe le righe che non sono state riconosciute e presentano questa scritta\n",
        "res = res[((res.age != 'Not recognized'))]"
      ],
      "execution_count": 1,
      "outputs": []
    },
    {
      "cell_type": "code",
      "metadata": {
        "id": "k9SogqVkqYTV",
        "colab_type": "code",
        "colab": {}
      },
      "source": [
        "def contaparole(x):\n",
        "\n",
        "  #creazione di una variabile con valore 0\n",
        "  parole=0\n",
        "  \n",
        "  #analizza la stringa partendo dal primo carattere, quando trova uno spazio si blocca ed inserisce la porzione di stringa in una lista (vettore).\n",
        "  a = x.split(\" \")\n",
        "\n",
        "  #la lista creata potrebbe anche contenere parole composte da un valore vuoto. Tramite il ciclo for si esegue una verifica e vengono contate solo i valori che contengano almeno un carattere che non sia lo spazio.\n",
        "  for i in a:\n",
        "    if (i!=\"\"):\n",
        "      parole = parole + 1\n",
        "\n",
        "  return parole"
      ],
      "execution_count": 2,
      "outputs": []
    },
    {
      "cell_type": "code",
      "metadata": {
        "id": "grKFLqytp38t",
        "colab_type": "code",
        "colab": {
          "base_uri": "https://localhost:8080/",
          "height": 68
        },
        "outputId": "a7d0a96e-f2f9-443c-b003-b84806cea496"
      },
      "source": [
        "# lunghezza media delle recensioni delle donne in tutti i ristoranti\n",
        "women = res[(res['gender'] == 'feminine')]\n",
        "print(len(women))\n",
        "\n",
        "lenCaratteriTot = -42800  #numero di \"<br>\" all'interno del testo\n",
        "lenParoleTot = -10700  #numero di \"<br>\" all'interno del testo\n",
        "\n",
        "for text in women['text_review']:\n",
        "    lenCaratteriTot = len(text) + lenCaratteriTot\n",
        "    lenParoleTot = contaparole(text) + lenParoleTot\n",
        "\n",
        "avg_c_women_reviews = lenCaratteriTot/(len(women) - 1)\n",
        "avg_p_women_reviews = lenParoleTot/(len(women) - 1)\n",
        "\n",
        "print(avg_c_women_reviews)    # media dei caratteri scritti dagli asiatici in generale nei ristoranti asiatici\n",
        "print(avg_p_women_reviews)   # media delle parole scritte dagli asiatici in generale nei ristoranti asiatici"
      ],
      "execution_count": 5,
      "outputs": [
        {
          "output_type": "stream",
          "text": [
            "4791\n",
            "581.2137787056367\n",
            "103.28288100208768\n"
          ],
          "name": "stdout"
        }
      ]
    },
    {
      "cell_type": "code",
      "metadata": {
        "id": "Xj4R-b5erm1A",
        "colab_type": "code",
        "colab": {
          "base_uri": "https://localhost:8080/",
          "height": 51
        },
        "outputId": "bb58df67-e97c-41fb-bfea-d474ba207652"
      },
      "source": [
        "# lunghezza media delle recensioni delle donne in tutti i ristoranti\n",
        "men = res[(res['gender'] == 'masculine')]\n",
        "\n",
        "lenCaratteriTot = -29840  #numero di \"<br>\" all'interno del testo\n",
        "lenParoleTot = -7460  #numero di \"<br>\" all'interno del testo\n",
        "\n",
        "for text in men['text_review']:\n",
        "    lenCaratteriTot = len(text) + lenCaratteriTot\n",
        "    lenParoleTot = contaparole(text) + lenParoleTot\n",
        "\n",
        "avg_c_men_reviews = lenCaratteriTot/(len(men) - 1)\n",
        "avg_p_men_reviews = lenParoleTot/(len(men) - 1)\n",
        "\n",
        "print(avg_c_men_reviews)    # media dei caratteri scritti dagli asiatici in generale nei ristoranti asiatici\n",
        "print(avg_p_men_reviews)   # media delle parole scritte dagli asiatici in generale nei ristoranti asiatici"
      ],
      "execution_count": 6,
      "outputs": [
        {
          "output_type": "stream",
          "text": [
            "562.9328566987876\n",
            "99.44358097606465\n"
          ],
          "name": "stdout"
        }
      ]
    },
    {
      "cell_type": "code",
      "metadata": {
        "id": "sT2_zx1FsF37",
        "colab_type": "code",
        "colab": {
          "base_uri": "https://localhost:8080/",
          "height": 294
        },
        "outputId": "17cd2569-106a-49d8-d096-9709e483fdca"
      },
      "source": [
        "import matplotlib.pyplot as plt\n",
        "\n",
        "# Asse delle x = ristoranti, Asse delle y = valori delle medie\n",
        "\n",
        "names = ['Women Written Words', 'Men Written Words']\n",
        "values = [avg_p_women_reviews, avg_p_men_reviews]\n",
        "\n",
        "plt.figure(figsize=(20, 4))\n",
        "\n",
        "plt.subplot(131)\n",
        "plt.bar(names, values)\n",
        "plt.subplot(132)\n",
        "plt.scatter(names, values)\n",
        "plt.subplot(133)\n",
        "plt.plot(names, values)\n",
        "plt.suptitle('Numero medio delle parole scritte nelle recensioni da donne e uomini in tutti i ristoranti', fontsize = 13)\n",
        "plt.show()\n"
      ],
      "execution_count": 7,
      "outputs": [
        {
          "output_type": "display_data",
          "data": {
            "image/png": "[encoded data removed]",
            "text/plain": [
              "<Figure size 1440x288 with 3 Axes>"
            ]
          },
          "metadata": {
            "tags": [],
            "needs_background": "light"
          }
        }
      ]
    }
  ]
}