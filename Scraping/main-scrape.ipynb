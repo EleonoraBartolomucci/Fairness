{
  "nbformat": 4,
  "nbformat_minor": 0,
  "metadata": {
    "colab": {
      "name": "main-scrape.ipynb",
      "provenance": [],
      "include_colab_link": true
    },
    "kernelspec": {
      "name": "python3",
      "display_name": "Python 3"
    }
  },
  "cells": [
    {
      "cell_type": "markdown",
      "metadata": {
        "id": "view-in-github",
        "colab_type": "text"
      },
      "source": [
        "<a href=\"https://colab.research.google.com/github/EleonoraBartolomucci/Fairness/blob/master/Scraping/main-scrape.ipynb\" target=\"_parent\"><img src=\"https://colab.research.google.com/assets/colab-badge.svg\" alt=\"Open In Colab\"/></a>"
      ]
    },
    {
      "cell_type": "code",
      "metadata": {
        "id": "xf07wI7ciknk",
        "colab_type": "code",
        "outputId": "75c0a434-fef5-417d-ccc4-756ee5d8e817",
        "colab": {
          "base_uri": "https://localhost:8080/",
          "height": 34
        }
      },
      "source": [
        "print(\"hello scraping\")"
      ],
      "execution_count": 1,
      "outputs": [
        {
          "output_type": "stream",
          "text": [
            "hello scraping\n"
          ],
          "name": "stdout"
        }
      ]
    },
    {
      "cell_type": "markdown",
      "metadata": {
        "id": "CcXyLXMPjAV7",
        "colab_type": "text"
      },
      "source": [
        ""
      ]
    },
    {
      "cell_type": "code",
      "metadata": {
        "id": "gfeOh_UojBS-",
        "colab_type": "code",
        "colab": {
          "base_uri": "https://localhost:8080/",
          "height": 87
        },
        "outputId": "cb282ab9-c9d6-4c78-da29-ce277b7c5391"
      },
      "source": [
        "import requests\n",
        "from lxml import html\n",
        "\n",
        "\n",
        "#def get_ranking(url):\n",
        "page_content = requests.get('https://www.yelp.com/biz/noche-de-margaritas-new-york')\n",
        "tree = html.fromstring(page_content.content)\n",
        "\n",
        "recommended_reviews_text = \"Recommended Reviews\"\n",
        "reviews_list = tree.xpath('//section[div[div[h3[text()=\"%s\"]]]]/div/div/ul/*' % recommended_reviews_text)\n",
        "print(reviews_list)\n",
        "\n",
        "# Index for ranking\n",
        "i = 1\n",
        "reviews_text = []\n",
        "reviews_date = []\n",
        "\n",
        "    # TODO: in url start=x to scroll pages of the ranking\n",
        "for review in reviews_list:\n",
        "    reviews_text.append((i, tree.xpath('//section[div[div[h3[text()=\"%s\"]]]]/div/div/ul/li[%d]/div/div[last()]/div[p]/p/span' % (recommended_reviews_text, i))[0].text))\n",
        "    reviews_date.append((i, tree.xpath('//section[div[div[h3[text()=\"%s\"]]]]/div/div/ul/li[%d]/div/div[last()]/div[1]/div/div[2]/span' % (recommended_reviews_text, i))[0].text))\n",
        "    i = i + 1\n",
        "\n",
        "print(reviews_text)\n",
        "print(reviews_date)\n",
        "\n",
        "\n"
      ],
      "execution_count": 5,
      "outputs": [
        {
          "output_type": "stream",
          "text": [
            "[<Element li at 0x7f64af8120e8>, <Element li at 0x7f64af812188>, <Element li at 0x7f64af812318>, <Element li at 0x7f64af8121d8>, <Element li at 0x7f64af812368>, <Element li at 0x7f64af8123b8>, <Element li at 0x7f64af812688>, <Element li at 0x7f64af8126d8>, <Element li at 0x7f64af812728>, <Element li at 0x7f64af812778>, <Element li at 0x7f64af8127c8>, <Element li at 0x7f64af812818>, <Element li at 0x7f64af812868>, <Element li at 0x7f64af8128b8>, <Element li at 0x7f64af812908>, <Element li at 0x7f64af812958>, <Element li at 0x7f64af8129a8>, <Element li at 0x7f64af8129f8>, <Element li at 0x7f64af812a48>, <Element li at 0x7f64af812a98>]\n",
            "[(1, \"I came here late one evening with a large group to celebrate a friend's birthday. The interior is extremely colorful and festive with mirrors lining one wall, along with sombrero hats, paintings down the other side and lights of purple, yellow, red, blue, green throughout the place. There are white table cloths, wood chairs, as well as a bar in the back. I enjoyed the warm and cozy ambiance.\"), (2, 'Free chips and salsa while you wait- bonus! '), (3, \"Don't know why it took me so long to come here!! I always went to Selena Rosa literally less than a block away but this is totally the new spot!\"), (4, 'After a makeup shopping date with a friend, I convinced her to come with me for lunch and drinks. I do a Yelp search for HH in the area and choose Noche....'), (5, 'Solid family-owned neighborhood Mexican restuarnt with a solid HH ($6 Margaritas!) \\xa0and classic fare with good portions and very friendly service. \\xa0The ambiance is lively and festive, and the owner is very sweet and truly cares about his customers. \\xa0Plus free chips and salsa! \\xa0'), (6, 'Quaint restaurant - very clearly family run with great service and a warm feel. Food was very well done, guacamole is made fresh at the table & happy hour goes until 7 even on a Sunday! Great UES find'), (7, 'Came here for dinner and found this place at random. Ordered chimichangas, jalapeño margarita, house made pineapple tequila, and the tres leches. Everything was delicious! Service was great and the atmosphere was very festive. Their hot sauce is made in house and if you like spicy food definitely order the green sauce. Will definitely come back!'), (8, \"The place went way downhill I came here a while ago When it was decent. Went there other day for brunch It's around the block from my house. I had to sit outside because the smell of cleaning chemicals was unbearable. We had ordered tacos and fajita they were both a disappointment. They brought out salsa and chips the salsa was in a 2 ounce dish when the food came I asked for more salsa for the tacos there was an \\xa01.50 charge for another 2 ounces. They only brought three soft tacos for the fajita that's overpriced $17 they wanted to charge me The more soft tacos at that wanted to charge I decided not to come here again. I don't know what I was thinking there's 10 other good Mexican restaurants in the area. This dish salsa the more .05 I've never been to a Mexican restaurant that charges for Salsa when you're eating a full meal. It's not the price it's the point!\"), (9, \"Came here on a Saturday night for a quick Mexican meal as there weren't that many people inside. Welcoming decor with seating both inside as well as outside.\"), (10, \"As a native Texas this was legit the worst fajitas I've had in my entire life. \"), (11, 'Honestly... maybe I was at the wrong restaurant but I found this to be one of the worst places I have ever been to.'), (12, 'Love getting take out from this place. Portions are big, food is tasty (and not just salty), and the people are nice. '), (13, 'I lived for at least a year in the UES and for some reason never ate here, but while recently visiting some friends we came here for a bite. I wish I had known about this place before! Both the food and drinks we got here were great. Plus you get free chips and salsa, which is always appreciated.'), (14, '5 Stars for best margaritas in the UES. They are in close competition with Mole, but SO much better than Selena Rosa. '), (15, 'Removed Content:'), (16, \"Just OK in my opinion but a thousand times better than Selena Rose. I came here on a Friday night with one of my friends for dinner and a drink. We both got jalapeño margaritas which were pretty good! We didn't receive any chips and salsa to start, but it looked like most tables had. For dinner we shared chicken enchiladas and mole chicken. Both were good, but could be better! The mole sauce surprised me, it was pleasantly rich in flavor. Enchiladas were average. Nothing about this place really impressed me - I still prefer Canyon Road or Conmigo for Mexican food on UES. I was also not happy that they charge $2 for hot sauce! That surprised me.\"), (17, 'Such a hidden gem on the UES. Authentic Mexican cuisine at reasonable prices. The food is delicious and so fresh! My favorite is the Super Burrito Relleno with chicken. I wish I knew about this place sooner!'), (18, 'This is probably the best Mexican spot on the upper east side. Came here for Cinco De Mayo'), (19, 'Make sure never to send back food.....they will charge you for the trouble of recooking to your liking!!'), (20, 'My employer had the audacity to have me work on a Saturday so naturally I wanted to drown myself in a margarita when it was time to clock out. Stepped in here during happy hour and had a delicious and semi-potent passion fruit frozen margarita which wiped my tears away.')]\n",
            "[(1, '11/12/2019'), (2, '2/17/2020'), (3, '7/8/2019'), (4, '6/5/2019'), (5, '5/9/2019'), (6, '2/23/2020'), (7, '12/29/2019'), (8, '10/27/2019'), (9, '10/16/2018'), (10, '9/2/2019'), (11, '8/17/2019'), (12, '3/5/2019'), (13, '2/2/2019'), (14, '7/10/2019'), (15, '1/10/2020'), (16, '7/16/2019'), (17, '8/11/2019'), (18, '5/13/2018'), (19, '11/5/2019'), (20, '11/3/2018')]\n"
          ],
          "name": "stdout"
        }
      ]
    }
  ]
}