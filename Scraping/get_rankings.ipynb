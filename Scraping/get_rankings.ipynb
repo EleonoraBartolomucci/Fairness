{
  "nbformat": 4,
  "nbformat_minor": 0,
  "metadata": {
    "colab": {
      "name": "Untitled1.ipynb",
      "provenance": [],
      "authorship_tag": "ABX9TyO9+gO7IzO2FRnv+5bUxXuG",
      "include_colab_link": true
    },
    "kernelspec": {
      "name": "python3",
      "display_name": "Python 3"
    }
  },
  "cells": [
    {
      "cell_type": "markdown",
      "metadata": {
        "id": "view-in-github",
        "colab_type": "text"
      },
      "source": [
        "<a href=\"https://colab.research.google.com/github/EleonoraBartolomucci/Fairness/blob/master/Scraping/get_rankings.ipynb\" target=\"_parent\"><img src=\"https://colab.research.google.com/assets/colab-badge.svg\" alt=\"Open In Colab\"/></a>"
      ]
    },
    {
      "cell_type": "code",
      "metadata": {
        "id": "dSseOUuzc58f",
        "colab_type": "code",
        "colab": {}
      },
      "source": [
        "import requests\n",
        "\n",
        "def get_ranking_from_call(url_business, lang, sort, query):\n",
        "    headers = [{\"name\": \"Accept\", \"value\": \"*/*\"}, {\"name\": \"Accept-Encoding\", \"value\": \"gzip, deflate, br\"},\n",
        "               {\"name\": \"Accept-Language\", \"value\": \"it-IT,it;q=0.8,en-US;q=0.5,en;q=0.3\"},\n",
        "               {\"name\": \"Connection\", \"value\": \"keep-alive\"},\n",
        "               {\"name\": \"Content-Type\", \"value\": \"application/x-www-form-urlencoded; charset=utf-8\"}, {\"name\": \"Cookie\",\n",
        "                                                                                                       \"value\": \"qntcst=D; hl=en_US; wdi=1|3C26116D69138F61|0x1.78d019f71a444p+30|a7756ff94751d3a9; _ga=GA1.2.3C26116D69138F61; location=%7B%22city%22%3A+%22New+York%22%2C+%22state%22%3A+%22NY%22%2C+%22country%22%3A+%22US%22%2C+%22latitude%22%3A+40.713%2C+%22longitude%22%3A+-74.0072%2C+%22max_latitude%22%3A+40.8523%2C+%22min_latitude%22%3A+40.5597%2C+%22max_longitude%22%3A+-73.7938%2C+%22min_longitude%22%3A+-74.1948%2C+%22zip%22%3A+%22%22%2C+%22address1%22%3A+%22%22%2C+%22address2%22%3A+%22%22%2C+%22address3%22%3A+null%2C+%22neighborhood%22%3A+null%2C+%22borough%22%3A+null%2C+%22provenance%22%3A+%22YELP_GEOCODING_ENGINE%22%2C+%22display%22%3A+%22New+York%2C+NY%22%2C+%22unformatted%22%3A+%22New+York%2C+NY%2C+US%22%2C+%22accuracy%22%3A+4.0%2C+%22language%22%3A+null%7D; xcj=1|Ptt9P03gfc75x_PBT9zmqCkUuSuyB7PR-wWUBvABNi4; __qca=P0-60561249-1581956668708; G_ENABLED_IDPS=google; __cfduid=db8764ff59d8028a6c2e1b214867927d81583160194; _gid=GA1.2.2014867238.1583835527; bse=05dcd9d5de304ef0b1d9a76fa768b10f; sc=8a1ca0dbc2; pid=505721aa4569e7bb\"},\n",
        "               {\"name\": \"Host\", \"value\": \"www.yelp.com\"},\n",
        "               {\"name\": \"Referer\", \"value\": \"https://www.yelp.com/biz/noche-de-margaritas-new-york\"},\n",
        "               {\"name\": \"TE\", \"value\": \"Trailers\"}, {\"name\": \"User-Agent\",\n",
        "                                                     \"value\": \"Mozilla/5.0 (X11; Ubuntu; Linux x86_64; rv:73.0) Gecko/20100101 Firefox/73.0\"},\n",
        "               {\"name\": \"X-Requested-By-React\", \"value\": \"true\"},\n",
        "               {\"name\": \"X-Requested-With\", \"value\": \"XMLHttpRequest\"}]\n",
        "    headers_ok = {}\n",
        "    for header in headers:\n",
        "        temp = {\n",
        "            header['name']: header['value']\n",
        "        }\n",
        "        headers_ok.update(temp)\n",
        "\n",
        "    x = 0\n",
        "    reviews_list = []\n",
        "    position = 1\n",
        "    url = url_business + \"/review_feed?rl=\" + lang + \"&sort_by=\" + sort + \"&q=\" + query\n",
        "\n",
        "    while 1:\n",
        "        if x == 0:\n",
        "            page_load = requests.get(url + '&start=', headers=headers_ok)\n",
        "        else:\n",
        "            page_load = requests.get(url + '&start=' + str(x), headers=headers_ok)\n",
        "        x = x + 20\n",
        "        reviews = page_load.json()['reviews']\n",
        "        # print(json.dumps(reviews, indent=4, sort_keys=True))\n",
        "        if not reviews:\n",
        "            break\n",
        "        for review in reviews:\n",
        "\n",
        "            # Qui potete modificare, prendendovi tutti i dati che volete e scegliete anche in che tipo di struttura dati\n",
        "            # metterli. Io ho usato una semplice lista, ma se dovete prendere tanti dati di tante review vi consiglio un\n",
        "            # dataframe\n",
        "            reviews_list.append((position, review['userId'], review['user']['reviewCount']))\n",
        "\n",
        "            position = position + 1\n",
        "    print(reviews_list)\n",
        "    return reviews_list"
      ],
      "execution_count": 0,
      "outputs": []
    },
    {
      "cell_type": "code",
      "metadata": {
        "id": "5WtjtSBidF9C",
        "colab_type": "code",
        "colab": {
          "base_uri": "https://localhost:8080/",
          "height": 54
        },
        "outputId": "cff20380-3635-43ef-9ce0-406d8354549d"
      },
      "source": [
        "# ESEMPIO DI CHIAMATA AL METODO\n",
        "business_id = 'ci0-GO_iMb0NdTCUYWjocQ'\n",
        "language = 'en'\n",
        "sorting = 'relevance_desc'  # relevance è l'ordinamento di default di Yelp, descending\n",
        "                            # altri valori possibili: date_desc, date_asc, relevance_asc\n",
        "query = ''\n",
        "ranking = get_ranking_from_call(\"https://www.yelp.com/biz/\" + business_id, language, sorting, query)"
      ],
      "execution_count": 2,
      "outputs": [
        {
          "output_type": "stream",
          "text": [
            "[(1, 'RJH925_Ci598EuRx9JoGwA', 508), (2, 'cd2eHx12PMHIws65ChDfYQ', 56), (3, 'nRV0VIm-7fwB-_UgL5PQjA', 21), (4, 'E6-NNryKZzt0eBlQFvqtYw', 2), (5, 'SziKmSU5nW1TYnQE1s-zGA', 136), (6, 'xpDVPSLlZnU8MQaOS2HAwA', 170), (7, 'ouODopBKF3AqfCkuQEnrDg', 2038), (8, 'rnvljaN99l4ZcjH69rKLzQ', 36), (9, 'uDBnapEGywTQ0ovaCu7Orw', 1746), (10, 'KRs1_BWofrey9L2jL5xeeA', 27), (11, 'WwZrmap7gLB5Bm_5l-L9LA', 2), (12, 'OpkcCxKVQEi1eTtpCho87Q', 11), (13, 'xtVcWcIKVORcBKhmdbrFiA', 462), (14, 'Qy0zhduJMSLeOaqDaXYGJQ', 189), (15, 'BSat-Dsl5CDCgcX6INo83w', 44), (16, 'Z-w8e86U76_-UHmnR_on2g', 157), (17, 'bV9IYVYOkbm8gEyBd8Gq5g', 107), (18, 'sMfzdYpg2oUYUUd-9EnnIQ', 186), (19, 'OEdWrFmr01T9pfDb6Auu4g', 3), (20, 'hxknn8DNhg7XDFCFQFuzpQ', 42), (21, 'rahkAG8IZ9sqZPA2gPRDwg', 2), (22, 'aVRPfNY7aaR3DZtAkQY_Hw', 85), (23, 't0Y_Hgg7H8W030BNcQvl1A', 34), (24, 'uuJ-QTsCXe69ABdxOWKNOg', 141), (25, 'LiA3AUNmTH9ALw6PWR45JA', 4), (26, 'HwIIv3dU2bjh36XXUecxog', 5), (27, 'Xqo1ru1F7srvbUJaCNHkvQ', 459), (28, 'Zq6uLNtQ_LSbiDk1BNewQg', 6), (29, 'nxO6hC_qtFkKYe07I5bPAQ', 9), (30, 'qRB3eBE7dm1uEe6VBxxC1Q', 48), (31, '7iruCfIKVc7sIIW84vbgMw', 8), (32, '4E8xk4Q4npb5QhvVu7jQ1A', 1), (33, 'BO5uPZqVspbOLsDLE5c5jQ', 2), (34, '4E6WGB8XZrSa_26UcVTSvQ', 83), (35, 'qsZ6hRVKb7HaWu2lOz4YEw', 5), (36, 'whp2b_6melUtfkTMr0Rs3A', 21), (37, 'NLnxvTdm5MC8JBzlRZYtug', 39), (38, 'qEhqu0XB-ius765_EsVWFw', 74), (39, 'h2w160yqcEVKVYRQ-1Maog', 9), (40, 'TVNjhBFC96XtfvJOwpLsJw', 33), (41, 'vXMzPNKRkec1jFBsz24wjA', 424), (42, 'rukix1QxEpNH2Epj2FG0IA', 113), (43, 'xWvCNWJoNo5fNRkJDbR1tg', 16), (44, 'fkzDDUW5TYHhnX_lCtkhOw', 557), (45, 'WvY708qLHJ7mjp1h1v_cXg', 2), (46, 'cFZWTC2NGMDvkmSNT-R4jg', 7), (47, '84D-jzt9QhDlaKwETIBv5A', 156), (48, 'n7kdeoh6diQICW1YJh6N_A', 2), (49, 'Hh7ZLceB64UeFx5YhTih3g', 81), (50, 'uuUHt5E6SbWjP3TKkB8bDQ', 1), (51, 's7ZUHG-Kh1dDx1Q8GaLWhg', 31), (52, 'WvO9c0jdp6bCrKaS4rjVeQ', 4), (53, 'tq9-CpDo60Jqx4YsJeBNoA', 23), (54, 'PWuMY7QvAOH9JoTucUR1ww', 51), (55, 'tu2XGdn2dR1VGqTVsCxSHg', 35), (56, '7O1_x_3IlgjpY9BkiZ16xQ', 1209), (57, 'Kii5j7FOLnHqT4vOEvAGqQ', 16), (58, 'jxMw-oGOplY-0xnyo6t_Lg', 13), (59, '9vVQKryP8mrFYFOfxj7Vtg', 275), (60, 'y22jM83qCgsNGryv9328gQ', 1354), (61, 'OJhmpYw0Q5QIiehks-O0sQ', 1), (62, 'McInV4tgKiBUBFSyJWzJaw', 26), (63, 'a9nryBZwyv814VO5EE-1gQ', 40), (64, 'hcgtYw4L83SNTvQG5Wf7aA', 28), (65, '8fzZu3fM0L-moXwag-zdJw', 8), (66, 'b4IR7Qs8PCk0VRU4UK88RQ', 115), (67, 'nAuv9MCcHzhF5hcJQ9Xdfw', 155), (68, 'E0SGM5SS-I98lmQrPmFsuw', 8), (69, 'hKxuzKKl15c6vIUMjCKYAA', 8), (70, 'cS1zo880UKC7NTZ4FjrpKA', 7), (71, '_JGcUXwKGyQHBJjLkhMz7w', 25), (72, '_eNyjcH0VA847pfU-3GZsQ', 151), (73, '7isR_looV-0S04XK-H3xDQ', 13), (74, '4i2muT4yfbJYVB-_9A9yvQ', 23), (75, '0JN2Ur07CN2LaZzvSj3jYA', 80), (76, 'LGl727K-OEacErvC-SZamQ', 5), (77, 'YttDgOC9AlM4HcAlDsbB2A', 3404), (78, 'hT1myDgcfJZjUXJ4lGp75A', 73), (79, 'XQlyMWzvgt0t62xAUY0fWg', 198), (80, 'CQyN4MMEq25X1yl5nONxIQ', 7), (81, 'TIHyAJK7IwUQheBzEmg3Bg', 196), (82, 'Kf5PVQUdDvQYf-MXoeWqZA', 1530), (83, 'HDpa2XhycKLAssuVuzoiFg', 29), (84, '8Qn7g6i6S1z7PoKhRs5yWg', 2), (85, 'ZkVmvzSgePDfYKZAthRjEA', 3), (86, 'LJfRSQmgZmhtsTE0xzQeDA', 15), (87, 'hPZAJe_YLDekQ4lANYjH9Q', 9), (88, 'QchEBSoT2oK8xFvFqYEQiQ', 12), (89, 'IdKe2TV1Ngb0DWS3Z_rjvQ', 45), (90, 'ZKAGw2rQKpKrsC-vjyvBTw', 13), (91, '4m5r38m8ucnM9dlARsIK5A', 96), (92, 'Lgld-Q6z8zOGdm4E_dLCzw', 207), (93, 't0BJOllrqq7bus0eZN_wjQ', 23), (94, 'dfzfFP4pdX2TICk0ouDukg', 90), (95, 'Qt8Sx9IHgutRARmOZ4zccA', 10), (96, 'DvkkNm6I3iNYVAKzEl2WgQ', 222), (97, 'hA0EYw3weyjFl2CYVPbvTA', 102), (98, 'QeH41D9kHhbqp1JUsB60ug', 28), (99, 'IVPNqzvW1oYVWUuHpiJS3Q', 111), (100, 'GYyeimuUR1f7ePTQC2-eOg', 1), (101, 'tw1bpY0N7f0RPktmaddyrA', 24), (102, 'EvrT_21w6SsR7c5No-QcLQ', 1637), (103, 'PGPl3X59BXwoTRntKophqg', 2), (104, 'JLX6s_BzWu6DK7vzuS35sg', 37), (105, 'GzjO23BRWh88VmWhePVBLw', 70), (106, 'YXlM6x1Jk_qWBWMXpFt9cg', 142), (107, 'KjR6WnRacwJgALjSNe0Tlw', 57), (108, 'JRq5IvruD4pXQYaDEVDFKQ', 131), (109, '8nXPIfCdJ3xYw-UmAz7oKg', 44), (110, 'Zzki9YMObPa19AmjetqMOg', 12), (111, 'MjzfXh2r-wFyofYW0PN9Vg', 27), (112, 'DbQnWxwY6or04Ig4KcmWyQ', 59), (113, 'WqtZprA_J818PWc9RYJIkQ', 98), (114, 'OyAfSC4KjjlsT0AorOySqg', 220), (115, 'UHZ1UGRQtfNMyanoOIpOog', 62), (116, 'vGMW9PMAHu-mVWAZ91hRqQ', 88), (117, 'VbETnc4oAS7IQNAnTzfXeg', 100), (118, 'YoxE57KlR5-FORNjuN0m5Q', 214), (119, 'ieuA3VYIgGX02eyadSeXcQ', 13), (120, 'bPVn3zHqqXRUc-39HqK9tg', 113), (121, 'HZwPKGb161MpC-Ts4nNgeQ', 10), (122, '0320AR_gf0RDuSIgrW-Rgg', 41), (123, 'rgE7iUN2ibB56GNcgxesTg', 193), (124, 'tsnH60AmDpkIR_Rv3VZaMw', 48), (125, '_-qFnxE8aANMHh3htZyIPA', 68), (126, 'E4pnEtFO1C4BUV0-KVZJWA', 21), (127, 'o22xETPxIrrEEs9yeLVxDA', 14), (128, 'MPVEnMhiOAeafBb01Zcjww', 22), (129, 'H1FsC1pgc3tqoLwWw7Z5gA', 5), (130, 'qKXRHRJF21GXx-ckB9rN6w', 28), (131, '96z4r5CZSLz2bxuZZVKQIg', 30), (132, '_Pm3yFq75_1ByEJ7GcSFvA', 28), (133, 'Le9KD2nTc1VR8vGykR6qLg', 185), (134, 'SLBnjSVxsMQI5c-87FNKJw', 28), (135, 'vZk5V9PfiT9Rk9nKWS3Rng', 2), (136, '5I-1ty2qem8DZgUAsJMQ_A', 4), (137, 'eG_uSruj6-P4sDYFmGevAg', 4), (138, 'iVDpYkWyPSpEYAgF2DcDnQ', 7), (139, 'fkR8e6qKaVXkGo-sTvGxLw', 131), (140, '43R4H_HkWK31tmVAwXT2Yg', 3), (141, 'HxTo5WAO02jk46eS4mKRdw', 18), (142, 'mxyzKmpVXMJv6X3RiSQIMg', 106), (143, 'NLq3qEt7jxJSnaErSZUvzg', 4), (144, 'vj8bIwLtKj9Y2ld8h5WYQg', 535), (145, 'RSWhYc6vUsRdl5I8F5NAgA', 34), (146, '1RJQthzZLfYgZF0eEa2C-w', 3), (147, 'Kpqoi4PNJgeCIcweWoG95w', 13), (148, 'YyFOc5_43EEcBZTY32UMuw', 2), (149, 'CRQEQBs_Gj_BZx7bJjR_pA', 4), (150, 'bGab5DdUG8CkUotrfWWUKQ', 31), (151, 'GsmyHWft3TLhRP-8jrgGgg', 9), (152, 'zXA4T4N7Inr9HRjePp8maw', 8), (153, 'emn4976zbR7_GRE4xca_gQ', 6), (154, '9cq8nwIZ1G9vtlz_kN5DcQ', 17), (155, 'MqcD0Cyq4ruHSLYZ_xdLYQ', 22), (156, '6E3Z4yiajuHAd_NKBPiROA', 216), (157, 'Y5jKEbn36RQGQGtLdG8wUA', 74), (158, 'sB1DZOWU3EwMf9xOFuMP_Q', 56), (159, 'ABgQuo2VN-46P3mV7g0-KA', 41), (160, 'Jjguos0kRKYE-6QCxWuSeA', 7), (161, 'MLJeAE7A5hESZwOEkQZt3w', 4), (162, 'YOFgysFQ1M7RXpg4iFrk3A', 11), (163, '98VqqV1CkTz0s9_XedIEZg', 52), (164, 'KiTJ2c_UPJHJJWZBF3m8aA', 29), (165, 'DQvPclL0knM8qkdc69nkyQ', 51), (166, 'id_hkieK2Tylo7FMqJ8P6A', 4), (167, 'd3nSAzx6yToCzMX6kdjibg', 48), (168, 'Im6zQeB8NnTJTLpzc90O5g', 140), (169, 'sO7K4jCOfjATweHQcQQsig', 14), (170, 'tRaBEG8_H4zatxCHkjdiFw', 188), (171, 'ogDYeAMFRzqWiUZ2lNHGCg', 47), (172, 'ax9fx2Um_jqBRElvxQ7zSA', 88), (173, 'FS9ZizeHpffS-KjTWxTjnA', 92), (174, 'DxH2yuHDeMPUnDQ8F-AONA', 10), (175, 'lHjIVvRw-90gtbu6-rhNHA', 362), (176, 'jfvnYrSR_KsIGOEXFCFBlQ', 1), (177, '1S5qWrpmhzpdJjQxcJcQEA', 8), (178, 'dbjEu3C5nMqL7w5wkAajSg', 157), (179, 'fZ9NqK_2qtmUm9ZSPyxFkA', 2), (180, 'EwYlgLnvnqAWRh-5c7pAvg', 47), (181, 'KAUC-JNDSoXfr12tI2sQcg', 24), (182, 'pC2AHLCpmEiNfjrWpqaUfQ', 4), (183, 'JL7pHf6Pwri73KSALyrNKg', 123), (184, 'iKt-CC9llnZ7sztNr2sKIg', 24), (185, 'jmO5-dQuNZVUqPTw2XdBdw', 36), (186, 'Zk0-wvM40P8F7tSah2v61w', 303), (187, 'LcHVGxDKd_dtE2eBppWS_Q', 5), (188, 'pLY_0W0cXMdohVqx8jCDrA', 52), (189, 'FufWBAK6ycLaQgl_v3FAlQ', 5), (190, 'oIQPQtOux-XaZIj9Q2_uTA', 43), (191, '6IKblDsCVAez3XmfNZQ3Yg', 54), (192, 'L1A0QKeZQOSGj2YagZ_Yyw', 44), (193, 'yjFzUiYy5RNeNW0ZUQFGcQ', 105), (194, 'kf03V1n6cs-wVT_Q7u6h0A', 76), (195, 'FekacfLT0iJv6fn6T1xTOg', 12), (196, 'hJpr_QtTQ8w2p8_Yr1u4Ew', 81), (197, 'b8aH4DPTbmxgYnEjGHhnNw', 26), (198, 'BaZ5Ibj2hrFG8mjDqa3YdQ', 50), (199, 'OpOtrroGu4fYEtl5tHXphQ', 20), (200, 'p-siPnHgAaLf3V7_ar7ENA', 13), (201, 'kK_gOGH3oQ_zW2kg2VU-Bg', 5), (202, 'N-sZEJFyGx5UmEWXUlIGsg', 78), (203, 'W0MN0Gg-seVa2DEjzBD1uw', 4), (204, '0RIUAeNAGw9qIZN-K4_W2A', 7), (205, 'u4IpL4LnF4s-LLA_DD316g', 8), (206, 'LIOHf0V8EGEDxmMkApIFHg', 39), (207, 'q-APNc37nxe3fxhTFIDb1g', 15), (208, 'caleqpVU2a9Eyx3o3tsuAw', 4), (209, 'yebTxXdgm84WGtQv6GjUgQ', 44), (210, 'sIAmhIlTDE6eab3aeAUA1A', 3), (211, 'bFW0XzWGKSf5HLVUls6BvA', 3), (212, 'AG2Nbx6T4vGEsmk_Z7TZfA', 194), (213, 'hzxNsUt7KstnH7qbpsWuUg', 143), (214, 'irpTgAX4sefrOrrJmxe-mw', 17), (215, 'w0eAONuIcXREB_vd_VyUmA', 23), (216, 'wW8vT7XKP3zdRnrsRJrkUw', 19), (217, 'mUlaw6B_c6QJ3yNVGc4wiQ', 262), (218, 'BvyIaF9FbopBBbft0n3P0A', 83), (219, 'YqXL0YzXX-dkpPtSM6BfYA', 5), (220, 'cT3yiCrUC6CLjFvga7W2HA', 3), (221, 'MIDUK97UMuGKOido3cxjHg', 40), (222, 'aB4OJReCk4vEJA00phGGpw', 30), (223, '50auN62gWdWM4POhHMEvyg', 70), (224, 'i8GxbsSWb8tBFNaI_NroEQ', 8), (225, 'mNnLyoRxqC89daUzW-IdwA', 68), (226, 'AZgyoSrdkNvJZHs7Un5pww', 16), (227, 'juGKuWbdkhAdfaZgKA2ktw', 109), (228, 'IxpLdHE0nfnmKkXd4pcZ2g', 1), (229, 'BGD4nEIgCdk6m01_DUrYcw', 27), (230, 'J_ZWdDmxDrYGH8l7SPPoGw', 389), (231, 'EnZq8bgQ6_GuCu2dJIiKAQ', 1), (232, 'bVyKT8zwd_tY2FxOonDh2w', 8), (233, 'OWYZe9Mda_LXgSkP-jXOmQ', 5), (234, '4f7dugDU4UQpdAsP68rdTQ', 14), (235, 'r-0lkLKqtxiKLK_xOTdblA', 108), (236, 'ZcWFX49Rq-3S0IaG0F0fyw', 27), (237, 'epYMhaGnfM6dUhGU_XXTHw', 163), (238, 'n27qmXI0WZ94-ot83bUeUQ', 9), (239, 'Pvw2m_grxW0K03osu33uVA', 114), (240, 'hVgMjKCDMWRix-1PVDtVfg', 468), (241, 'qi1UXJuS6MaP3w-Ocl1L0Q', 123), (242, 'h_Jphi7ddsBCJTC72K_NaA', 1), (243, 'k4DWNIfC9g1n0N4fzTSy_g', 28), (244, 'k9RSz-Di97EwfwG5vQCMLw', 315), (245, 'f_Lr3u74F2xN7BpSIFb_ig', 109), (246, 'Fi8O--oVgpLgXUOIQlgs4w', 47), (247, 'SCI0ZqHj7n_zKts9T_tsEA', 38), (248, 'Cnq1volOwOWq_o2c4fnVdA', 1), (249, 'qTO5FdZVRbHYwLmivjxdog', 15), (250, 'om59YhqVsAvluMSwVj6mYw', 39), (251, 'HLRC1s5M2UIWdZ-cmIV6BQ', 37), (252, 'KLaPbQCOXOWw7CUq5Xsf2w', 8), (253, 'TnvmWTLMl9gzloCh47pAXw', 27), (254, 'hCa9kdR0LOluahT3W9ujxw', 75), (255, 'bYGOB9D4CfxCO0tD7rfATg', 6), (256, 'O_bFg3RtrRIk5J0JozkzKQ', 9), (257, 'gTOEg_2baewfY33saF2twA', 6), (258, 'zgMAfVCGp3DtJHCq57GMyw', 17), (259, 'P-gLhB0mfZF4xYr-SE4UZA', 36), (260, 'QswsIF2HfPCdbUbAK76Y3A', 10), (261, 'DC0p5F73tqQoqhOsgBAQEw', 3), (262, 'hlh1ddertWQkEhYVth99Fw', 21), (263, 'oUnUQq18dVtipx_AscJYKg', 54), (264, 'IGZCDULrONVvLYwhKZt2MQ', 2), (265, 'FpXiztN0g8jAjDl3LGA25g', 26), (266, 'd1oQPhZKiU5bxWQYkGxiwQ', 21), (267, 'R6w19MrtslEO7QVIhytnvw', 1), (268, 'eHkwD62cIUhAftITOPNJHA', 31), (269, '1ui4NwkXZk5Y9aYPKTFdRA', 16), (270, 'QnvEBWuY8hy8FG4J7eFSTw', 20), (271, 'CL7bVkUDKouxY2G2HFNrkA', 11), (272, '1ed6KcAFIEmhlbw_FMxmtg', 177), (273, 'AkAqVk9o9BsqtGKBnjPszw', 26), (274, 'F2B4mjX4I2MKdW8aF2EtRw', 3), (275, '6qBGCFHxQSJpDHzsEFtq9w', 23), (276, 'UIJ9zv348V190l5BDCb3tQ', 14), (277, 'wCgqyL9FyGMktDYRGgxlHw', 117), (278, 'Y1sZMQOl0spO1m3bIHmhxg', 29), (279, '8KOmmZGCVC9XwhyRR3cUPg', 70), (280, 'IJRu9mVCRqzxR-Tl6iHSXw', 10), (281, 'yEykwRbogFNzSoRzYVvtbQ', 12), (282, 'DL-KW73oKYwmuQV2LW-unQ', 43), (283, 'VX6GpdZZLXvbINokZ3W_Aw', 4), (284, 'N7J4D7oFZvPVfIM7ktPA3w', 66), (285, '0Dd0nlaARdDk677ggK_NOw', 8), (286, 'r5-KXmiZy7-OWQIso2hbXw', 1), (287, '_6qzYTyQ3lV9DJqoep7_og', 1024), (288, 'u-PX1x5GvykToQEaNFtv2Q', 45), (289, 'VVb3lFwAIGxvxcHSI3rAFw', 2), (290, 'Ecy2E-CwDcipbaFmvJ7INQ', 7), (291, 'QFdEHWRSpBQJNQeMxnh8lQ', 80), (292, 'PT70dEoIJ8rMhI6qdG5bVA', 21), (293, 'AFzv7kZSR7m5-U1Tl5xmsw', 24), (294, 'mBdiqpmjfD1TH3UDKGuQNw', 66), (295, 'Y28hANXk_63vmsra_Q0weA', 64), (296, 'R45lgMjaoDzXwO15MGgO3w', 27), (297, 'o-DJFPnSjX0YOYsN_6OgBA', 22), (298, 'JeyEyXgQgUMrU3R4RoRwkA', 21), (299, 'GCi2PqHHF7TNTpUGIT6n_g', 16), (300, 'uIZAKnmqCZgDmIJn53EhGA', 54), (301, 'ZHBA6GISMGJ0KvF5geIkHg', 10), (302, 'XJcv_VcJQ-TZjMGEKc8cOA', 4), (303, 'YRAzvUs5VvCakSqSveLygQ', 113), (304, 'Lan1TyQ_r_3gfSb29UYpsQ', 4), (305, 'xQEg5gEpgmpWqmcTn2sPTQ', 1), (306, 'kYl83v5Coy-vmNMpmILapg', 3), (307, 'VuXZ7GmmhjbW-n07D0egJA', 24), (308, 'TyvDPsVaEKayjclbaXnWww', 23), (309, 'Znw632U2b4Skl5wbfxs9_g', 1), (310, 'IjtWFymfDInAXvm0N02kAw', 1), (311, '7q4-l-4ljaxSFwVuR_u26Q', 65), (312, 'nSw6YUGxjGFyiwhMxDSdWg', 331), (313, 'PqoelYStfD6ldmKzBeF0Zg', 77), (314, '_BaaiKqMxMN6OzBV2NAdiw', 88), (315, 'IDA0-1qvvOuw21FMxjfeWw', 95), (316, '3uhrUjaXkQXhGDexyfBIhA', 64), (317, 'sLV2KV78AIN969eN827rhw', 2), (318, 'DoWm8rkOThPcmwkFb5GYWQ', 75), (319, 'zkpV-_otQU4qfjhlDDraLQ', 14), (320, 'pvY21ZqvMAEAIpaFp1Najg', 7), (321, 'HSnqDZg76cZOhajCXfI7lQ', 37), (322, 'iCRlOuXZu0SSHxw2nUOArQ', 324), (323, 'FbhFWV9IeU6aIrEgT2DqYQ', 15), (324, 'GYoephPHv0RwwcSnOzjN2g', 7), (325, 'A2iqNjRtinfleV5YJvF3cg', 3), (326, 'G6_ke7Ez-NWvEMLkUnbVgg', 87), (327, 'bqWqal7FZFWp982t_3Bzig', 27), (328, 'gKNNFuwUmtbPPB5ybKangA', 7), (329, 'Wu1RcJsucgzYTFncdYkXHQ', 4), (330, 'GKMpV1aM-4C9h67uZClkww', 34), (331, 'wXMXWOX3WpjiKUKHgaC7Qg', 13), (332, 'g2yBpHbr2zwiJfyM8oJpyA', 68), (333, 'XxtmYT980iXXJyTAhd-Hcw', 38), (334, 'e5i0Iy2jPAYLLPvduezGgw', 14), (335, 'wEqRA4kQs02P85IgHDBzkw', 38), (336, 'kfmL8-LRJec-DVL9OhLU-Q', 62), (337, 'ILk4dRvuBf6Axfq3qBkoxw', 2710), (338, 'cOrLBOavg-UTCpD7XK--wA', 142), (339, '7ZeQnO0lgUBsfnPzMDOtsA', 16), (340, 'xSOVjYLvxwPEGW8kLCTxLA', 12), (341, 'zgdhjYl10_huVtMr3JLDhw', 9), (342, 'cMegySbHGJb_URIaR5k2eA', 6), (343, 'xz5eSEsd8aQnPuP0SYghxg', 2), (344, 'IrcuN4TKWkPBPyDaQ_VTHw', 3), (345, '9MDXAKT9BVeiMSDC1C5zNQ', 4), (346, 'eaYKRai5SF0sraREUSRlww', 52), (347, 'WNk5hCBOaCYMH-RYl6sJog', 9), (348, 'TMXo2Om1f1om9aTp6vg3BA', 2), (349, 'BgpB-3zA4k3zfX0UHgbBTg', 15), (350, 'uAmkK9_mmGf0zOCTb0OC1g', 9), (351, 'W6J5JXn_ihLDe-MheTg2iQ', 11), (352, 'wbxyLJXf1tJPimfYgPp46g', 18)]\n"
          ],
          "name": "stdout"
        }
      ]
    }
  ]
}