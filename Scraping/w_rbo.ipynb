{
  "nbformat": 4,
  "nbformat_minor": 0,
  "metadata": {
    "colab": {
      "name": "Untitled3.ipynb",
      "provenance": [],
      "authorship_tag": "ABX9TyMmR44iLUK/VXnd5PDz+gJv",
      "include_colab_link": true
    },
    "kernelspec": {
      "name": "python3",
      "display_name": "Python 3"
    }
  },
  "cells": [
    {
      "cell_type": "markdown",
      "metadata": {
        "id": "view-in-github",
        "colab_type": "text"
      },
      "source": [
        "<a href=\"https://colab.research.google.com/github/EleonoraBartolomucci/Fairness/blob/master/Scraping/w_rbo.ipynb\" target=\"_parent\"><img src=\"https://colab.research.google.com/assets/colab-badge.svg\" alt=\"Open In Colab\"/></a>"
      ]
    },
    {
      "cell_type": "code",
      "metadata": {
        "id": "Qjhi4EOnpLtS",
        "colab_type": "code",
        "colab": {}
      },
      "source": [
        "from __future__ import division\n",
        "import numpy as np"
      ],
      "execution_count": 0,
      "outputs": []
    },
    {
      "cell_type": "code",
      "metadata": {
        "id": "tMeFSW-Dz0yx",
        "colab_type": "code",
        "colab": {}
      },
      "source": [
        "# Questa funzione ci serve per capire quale p assegnare alla funzione RBO in base a quanto peso vogliamo assegnare ai primi d elementi"
      ],
      "execution_count": 0,
      "outputs": []
    },
    {
      "cell_type": "code",
      "metadata": {
        "id": "Ip4VvycjpRrE",
        "colab_type": "code",
        "colab": {}
      },
      "source": [
        "def w_rbo(p,d):\n",
        "    \"\"\"Calculate weight of first d rankings with parameter p\"\"\"\n",
        "    w = 1 - p**(d - 1) + ((1 - p) / p) * d * (np.log(1 / (1 - p)) - sum(p**i / i for i in range(1, d)))\n",
        "    return w"
      ],
      "execution_count": 0,
      "outputs": []
    },
    {
      "cell_type": "code",
      "metadata": {
        "id": "lsrkHFxHpSRh",
        "colab_type": "code",
        "colab": {
          "base_uri": "https://localhost:8080/",
          "height": 51
        },
        "outputId": "dd749443-b520-414a-e0a9-3883d0a794cc"
      },
      "source": [
        "print(w_rbo(p=0.98, d=20)) \n",
        "print(w_rbo(p=0.93, d=20))"
      ],
      "execution_count": 26,
      "outputs": [
        {
          "output_type": "stream",
          "text": [
            "0.6095916491370756\n",
            "0.9190274016811066\n"
          ],
          "name": "stdout"
        }
      ]
    }
  ]
}