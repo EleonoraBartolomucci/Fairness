{
  "nbformat": 4,
  "nbformat_minor": 0,
  "metadata": {
    "colab": {
      "name": "Untitled1.ipynb",
      "provenance": [],
      "include_colab_link": true
    },
    "kernelspec": {
      "name": "python3",
      "display_name": "Python 3"
    }
  },
  "cells": [
    {
      "cell_type": "markdown",
      "metadata": {
        "id": "view-in-github",
        "colab_type": "text"
      },
      "source": [
        "<a href=\"https://colab.research.google.com/github/EleonoraBartolomucci/Fairness/blob/master/Scraping/main_rankings.ipynb\" target=\"_parent\"><img src=\"https://colab.research.google.com/assets/colab-badge.svg\" alt=\"Open In Colab\"/></a>"
      ]
    },
    {
      "cell_type": "code",
      "metadata": {
        "id": "dSseOUuzc58f",
        "colab_type": "code",
        "colab": {}
      },
      "source": [
        "import requests\n",
        "\n",
        "def get_ranking_from_call(url_business, lang, sort, query):\n",
        "    headers = [{\"name\": \"Accept\", \"value\": \"*/*\"}, {\"name\": \"Accept-Encoding\", \"value\": \"gzip, deflate, br\"},\n",
        "               {\"name\": \"Accept-Language\", \"value\": \"it-IT,it;q=0.8,en-US;q=0.5,en;q=0.3\"},\n",
        "               {\"name\": \"Connection\", \"value\": \"keep-alive\"},\n",
        "               {\"name\": \"Content-Type\", \"value\": \"application/x-www-form-urlencoded; charset=utf-8\"}, {\"name\": \"Cookie\",\n",
        "                                                                                                       \"value\": \"qntcst=D; hl=en_US; wdi=1|3C26116D69138F61|0x1.78d019f71a444p+30|a7756ff94751d3a9; _ga=GA1.2.3C26116D69138F61; location=%7B%22city%22%3A+%22New+York%22%2C+%22state%22%3A+%22NY%22%2C+%22country%22%3A+%22US%22%2C+%22latitude%22%3A+40.713%2C+%22longitude%22%3A+-74.0072%2C+%22max_latitude%22%3A+40.8523%2C+%22min_latitude%22%3A+40.5597%2C+%22max_longitude%22%3A+-73.7938%2C+%22min_longitude%22%3A+-74.1948%2C+%22zip%22%3A+%22%22%2C+%22address1%22%3A+%22%22%2C+%22address2%22%3A+%22%22%2C+%22address3%22%3A+null%2C+%22neighborhood%22%3A+null%2C+%22borough%22%3A+null%2C+%22provenance%22%3A+%22YELP_GEOCODING_ENGINE%22%2C+%22display%22%3A+%22New+York%2C+NY%22%2C+%22unformatted%22%3A+%22New+York%2C+NY%2C+US%22%2C+%22accuracy%22%3A+4.0%2C+%22language%22%3A+null%7D; xcj=1|Ptt9P03gfc75x_PBT9zmqCkUuSuyB7PR-wWUBvABNi4; __qca=P0-60561249-1581956668708; G_ENABLED_IDPS=google; __cfduid=db8764ff59d8028a6c2e1b214867927d81583160194; _gid=GA1.2.2014867238.1583835527; bse=05dcd9d5de304ef0b1d9a76fa768b10f; sc=8a1ca0dbc2; pid=505721aa4569e7bb\"},\n",
        "               {\"name\": \"Host\", \"value\": \"www.yelp.com\"},\n",
        "               {\"name\": \"Referer\", \"value\": \"https://www.yelp.com/biz/noche-de-margaritas-new-york\"},\n",
        "               {\"name\": \"TE\", \"value\": \"Trailers\"}, {\"name\": \"User-Agent\",\n",
        "                                                     \"value\": \"Mozilla/5.0 (X11; Ubuntu; Linux x86_64; rv:73.0) Gecko/20100101 Firefox/73.0\"},\n",
        "               {\"name\": \"X-Requested-By-React\", \"value\": \"true\"},\n",
        "               {\"name\": \"X-Requested-With\", \"value\": \"XMLHttpRequest\"}]\n",
        "    headers_ok = {}\n",
        "    for header in headers:\n",
        "        temp = {\n",
        "            header['name']: header['value']\n",
        "        }\n",
        "        headers_ok.update(temp)\n",
        "\n",
        "    x = 0\n",
        "    reviews_list = []\n",
        "    position = 1\n",
        "    url = url_business + \"/review_feed?rl=\" + lang + \"&sort_by=\" + sort + \"&q=\" + query\n",
        "\n",
        "    while 1:\n",
        "        if x == 0:\n",
        "            page_load = requests.get(url + '&start=', headers=headers_ok)\n",
        "        else:\n",
        "            page_load = requests.get(url + '&start=' + str(x), headers=headers_ok)\n",
        "        x = x + 20\n",
        "        reviews = page_load.json()['reviews']\n",
        "        # print(json.dumps(reviews, indent=4, sort_keys=True))\n",
        "        if not reviews:\n",
        "            break\n",
        "        for review in reviews:\n",
        "\n",
        "            # Qui potete modificare, prendendovi tutti i dati che volete e scegliete anche in che tipo di struttura dati\n",
        "            # metterli. Io ho usato una semplice lista, ma se dovete prendere tanti dati di tante review vi consiglio un\n",
        "            # dataframe\n",
        "            #reviews_list.append((position, review['userId'], review['user']['reviewCount']))\n",
        "            reviews_list.append(review['userId'])\n",
        "\n",
        "            position = position + 1\n",
        "    print(reviews_list)\n",
        "    return reviews_list"
      ],
      "execution_count": 0,
      "outputs": []
    },
    {
      "cell_type": "code",
      "metadata": {
        "id": "VE5JWqvf1Snr",
        "colab_type": "code",
        "colab": {}
      },
      "source": [
        "def RBO(l1, l2, p):\n",
        "    \"\"\"\n",
        "        Calculates Ranked Biased Overlap (RBO) score. \n",
        "        l1 -- Ranked List 1\n",
        "        l2 -- Ranked List 2\n",
        "    \"\"\"\n",
        "    if l1 == None: l1 = []\n",
        "    if l2 == None: l2 = []\n",
        "    \n",
        "    sl,ll = sorted([(len(l1), l1),(len(l2),l2)])\n",
        "    s, S = sl # s = length of smaller list, S = Smaller List\n",
        "    l, L = ll # l = length of longer list, L = Longer list\n",
        "    if s == 0: return 0\n",
        "\n",
        "    # Calculate the overlaps at ranks 1 through l \n",
        "    # (the longer of the two lists)\n",
        "    ss = set([]) # contains elements from the smaller list till depth i\n",
        "    ls = set([]) # contains elements from the longer list till depth i\n",
        "    x_d = {0: 0} # overlap holds number of common elements at depth d\n",
        "    sum1 = 0.0\n",
        "    for i in range(l):\n",
        "        x = L[i]\n",
        "        y = S[i] if i < s else None\n",
        "        d = i + 1\n",
        "        \n",
        "        # if two elements are same then \n",
        "        # we don't need to add to either of the set\n",
        "        if x == y: \n",
        "            x_d[d] = x_d[d-1] + 1.0\n",
        "        # else add items to respective list\n",
        "        # and calculate overlap\n",
        "        else: \n",
        "            ls.add(x) \n",
        "            if y != None: ss.add(y)\n",
        "            x_d[d] = x_d[d-1] + (1.0 if x in ss else 0.0) + (1.0 if y in ls else 0.0)     \n",
        "        #calculate average overlap\n",
        "        sum1 += x_d[d]/d * pow(p, d)\n",
        "        \n",
        "    sum2 = 0.0\n",
        "    for i in range(l-s):\n",
        "        d = s+i+1\n",
        "        sum2 += x_d[d]*(d-s)/(d*s)*pow(p,d)\n",
        "\n",
        "    sum3 = ((x_d[l]-x_d[s])/l+x_d[s]/s)*pow(p,l)\n",
        "\n",
        "    # Equation 32\n",
        "    rbo_ext = (1-p)/p*(sum1+sum2)+sum3\n",
        "    return rbo_ext"
      ],
      "execution_count": 0,
      "outputs": []
    },
    {
      "cell_type": "code",
      "metadata": {
        "id": "5WtjtSBidF9C",
        "colab_type": "code",
        "colab": {}
      },
      "source": [
        "# ESEMPIO DI CHIAMATA AL METODO\n",
        "def compare_ranking_restaurant(business_id):\n",
        "  #business_id = 'ci0-GO_iMb0NdTCUYWjocQ'\n",
        "  language = 'en'\n",
        "\n",
        "  sorting = 'relevance_desc'  # relevance è l'ordinamento di default di Yelp, descending\n",
        "                              # altri valori possibili: date_desc, date_asc, relevance_asc\n",
        "  query = ''\n",
        "  ranking = get_ranking_from_call(\"https://www.yelp.com/biz/\" + business_id, language, sorting, query)\n",
        "\n",
        "  sorting = 'date_desc'  # relevance è l'ordinamento di default di Yelp, descending\n",
        "                        # altri valori possibili: date_desc, date_asc, relevance_asc\n",
        "  ranking2 = get_ranking_from_call(\"https://www.yelp.com/biz/\" + business_id, language, sorting, query)\n",
        "\n",
        "  return RBO(ranking,ranking2,p = 0.93)"
      ],
      "execution_count": 0,
      "outputs": []
    },
    {
      "cell_type": "code",
      "metadata": {
        "id": "hJzKfdZSIFTC",
        "colab_type": "code",
        "colab": {
          "base_uri": "https://localhost:8080/",
          "height": 71
        },
        "outputId": "0e1bea49-8550-4c61-c448-13ee7bed6342"
      },
      "source": [
        "import csv\n",
        "#creo e apro un file .csv per scrivere\n",
        "restaurant_RBO = open('Restaurant_RBO.csv', 'w')\n",
        "\n",
        "#creo il writer\n",
        "writer = csv.writer(restaurant_RBO)\n",
        "\n",
        "#creo header del csv\n",
        "header = ['business_id', 'business_name', 'rbo']\n",
        "writer.writerow(header)\n",
        "\n",
        "writer.writerow(['ci0-GO_iMb0NdTCUYWjocQ',\n",
        "                 'Noche De Margaritas',\n",
        "                 compare_ranking_restaurant('ci0-GO_iMb0NdTCUYWjocQ')])\n",
        "#salvo e chiudo il file .csv\n",
        "restaurant_RBO.close()"
      ],
      "execution_count": 6,
      "outputs": [
        {
          "output_type": "stream",
          "text": [
            "['RJH925_Ci598EuRx9JoGwA', 'cd2eHx12PMHIws65ChDfYQ', 'nRV0VIm-7fwB-_UgL5PQjA', 'SziKmSU5nW1TYnQE1s-zGA', 'xpDVPSLlZnU8MQaOS2HAwA', 'E6-NNryKZzt0eBlQFvqtYw', 'ouODopBKF3AqfCkuQEnrDg', 'uDBnapEGywTQ0ovaCu7Orw', 'rnvljaN99l4ZcjH69rKLzQ', 'KRs1_BWofrey9L2jL5xeeA', 'OpkcCxKVQEi1eTtpCho87Q', 'WwZrmap7gLB5Bm_5l-L9LA', 'xtVcWcIKVORcBKhmdbrFiA', 'Qy0zhduJMSLeOaqDaXYGJQ', 'BSat-Dsl5CDCgcX6INo83w', 'Z-w8e86U76_-UHmnR_on2g', 'bV9IYVYOkbm8gEyBd8Gq5g', 'sMfzdYpg2oUYUUd-9EnnIQ', 'OEdWrFmr01T9pfDb6Auu4g', 'hxknn8DNhg7XDFCFQFuzpQ', 'aVRPfNY7aaR3DZtAkQY_Hw', 't0Y_Hgg7H8W030BNcQvl1A', 'rahkAG8IZ9sqZPA2gPRDwg', 'uuJ-QTsCXe69ABdxOWKNOg', 'LiA3AUNmTH9ALw6PWR45JA', 'HwIIv3dU2bjh36XXUecxog', 'Xqo1ru1F7srvbUJaCNHkvQ', 'Zq6uLNtQ_LSbiDk1BNewQg', 'nxO6hC_qtFkKYe07I5bPAQ', 'qRB3eBE7dm1uEe6VBxxC1Q', '7iruCfIKVc7sIIW84vbgMw', '4E8xk4Q4npb5QhvVu7jQ1A', 'BO5uPZqVspbOLsDLE5c5jQ', '4E6WGB8XZrSa_26UcVTSvQ', 'whp2b_6melUtfkTMr0Rs3A', 'qsZ6hRVKb7HaWu2lOz4YEw', 'NLnxvTdm5MC8JBzlRZYtug', 'qEhqu0XB-ius765_EsVWFw', 'h2w160yqcEVKVYRQ-1Maog', 'TVNjhBFC96XtfvJOwpLsJw', 'vXMzPNKRkec1jFBsz24wjA', 'rukix1QxEpNH2Epj2FG0IA', 'xWvCNWJoNo5fNRkJDbR1tg', 'fkzDDUW5TYHhnX_lCtkhOw', 'WvY708qLHJ7mjp1h1v_cXg', 'cFZWTC2NGMDvkmSNT-R4jg', '84D-jzt9QhDlaKwETIBv5A', 'n7kdeoh6diQICW1YJh6N_A', 'Hh7ZLceB64UeFx5YhTih3g', 's7ZUHG-Kh1dDx1Q8GaLWhg', 'uuUHt5E6SbWjP3TKkB8bDQ', 'WvO9c0jdp6bCrKaS4rjVeQ', 'tq9-CpDo60Jqx4YsJeBNoA', 'PWuMY7QvAOH9JoTucUR1ww', 'tu2XGdn2dR1VGqTVsCxSHg', '7O1_x_3IlgjpY9BkiZ16xQ', 'Kii5j7FOLnHqT4vOEvAGqQ', '9vVQKryP8mrFYFOfxj7Vtg', 'jxMw-oGOplY-0xnyo6t_Lg', 'y22jM83qCgsNGryv9328gQ', 'OJhmpYw0Q5QIiehks-O0sQ', 'McInV4tgKiBUBFSyJWzJaw', 'a9nryBZwyv814VO5EE-1gQ', 'hcgtYw4L83SNTvQG5Wf7aA', '8fzZu3fM0L-moXwag-zdJw', 'b4IR7Qs8PCk0VRU4UK88RQ', 'nAuv9MCcHzhF5hcJQ9Xdfw', 'E0SGM5SS-I98lmQrPmFsuw', 'hKxuzKKl15c6vIUMjCKYAA', 'cS1zo880UKC7NTZ4FjrpKA', '_JGcUXwKGyQHBJjLkhMz7w', '_eNyjcH0VA847pfU-3GZsQ', '7isR_looV-0S04XK-H3xDQ', '4i2muT4yfbJYVB-_9A9yvQ', '0JN2Ur07CN2LaZzvSj3jYA', 'LGl727K-OEacErvC-SZamQ', 'YttDgOC9AlM4HcAlDsbB2A', 'hT1myDgcfJZjUXJ4lGp75A', 'XQlyMWzvgt0t62xAUY0fWg', 'CQyN4MMEq25X1yl5nONxIQ', 'TIHyAJK7IwUQheBzEmg3Bg', 'Kf5PVQUdDvQYf-MXoeWqZA', 'HDpa2XhycKLAssuVuzoiFg', '8Qn7g6i6S1z7PoKhRs5yWg', 'ZkVmvzSgePDfYKZAthRjEA', 'LJfRSQmgZmhtsTE0xzQeDA', 'hPZAJe_YLDekQ4lANYjH9Q', 'QchEBSoT2oK8xFvFqYEQiQ', 'IdKe2TV1Ngb0DWS3Z_rjvQ', '4m5r38m8ucnM9dlARsIK5A', 'ZKAGw2rQKpKrsC-vjyvBTw', 'Lgld-Q6z8zOGdm4E_dLCzw', 't0BJOllrqq7bus0eZN_wjQ', 'dfzfFP4pdX2TICk0ouDukg', 'Qt8Sx9IHgutRARmOZ4zccA', 'DvkkNm6I3iNYVAKzEl2WgQ', 'hA0EYw3weyjFl2CYVPbvTA', 'QeH41D9kHhbqp1JUsB60ug', 'IVPNqzvW1oYVWUuHpiJS3Q', 'GYyeimuUR1f7ePTQC2-eOg', 'tw1bpY0N7f0RPktmaddyrA', 'EvrT_21w6SsR7c5No-QcLQ', 'JLX6s_BzWu6DK7vzuS35sg', 'PGPl3X59BXwoTRntKophqg', 'GzjO23BRWh88VmWhePVBLw', 'YXlM6x1Jk_qWBWMXpFt9cg', 'KjR6WnRacwJgALjSNe0Tlw', 'JRq5IvruD4pXQYaDEVDFKQ', 'Zzki9YMObPa19AmjetqMOg', '8nXPIfCdJ3xYw-UmAz7oKg', 'MjzfXh2r-wFyofYW0PN9Vg', 'DbQnWxwY6or04Ig4KcmWyQ', 'WqtZprA_J818PWc9RYJIkQ', 'OyAfSC4KjjlsT0AorOySqg', 'UHZ1UGRQtfNMyanoOIpOog', 'vGMW9PMAHu-mVWAZ91hRqQ', 'VbETnc4oAS7IQNAnTzfXeg', 'YoxE57KlR5-FORNjuN0m5Q', 'ieuA3VYIgGX02eyadSeXcQ', 'bPVn3zHqqXRUc-39HqK9tg', 'HZwPKGb161MpC-Ts4nNgeQ', '0320AR_gf0RDuSIgrW-Rgg', 'rgE7iUN2ibB56GNcgxesTg', 'tsnH60AmDpkIR_Rv3VZaMw', '_-qFnxE8aANMHh3htZyIPA', 'E4pnEtFO1C4BUV0-KVZJWA', 'o22xETPxIrrEEs9yeLVxDA', 'MPVEnMhiOAeafBb01Zcjww', 'H1FsC1pgc3tqoLwWw7Z5gA', 'Le9KD2nTc1VR8vGykR6qLg', 'qKXRHRJF21GXx-ckB9rN6w', '96z4r5CZSLz2bxuZZVKQIg', 'SLBnjSVxsMQI5c-87FNKJw', '_Pm3yFq75_1ByEJ7GcSFvA', 'vZk5V9PfiT9Rk9nKWS3Rng', '5I-1ty2qem8DZgUAsJMQ_A', 'eG_uSruj6-P4sDYFmGevAg', 'iVDpYkWyPSpEYAgF2DcDnQ', 'fkR8e6qKaVXkGo-sTvGxLw', 'HxTo5WAO02jk46eS4mKRdw', '43R4H_HkWK31tmVAwXT2Yg', 'mxyzKmpVXMJv6X3RiSQIMg', 'NLq3qEt7jxJSnaErSZUvzg', 'vj8bIwLtKj9Y2ld8h5WYQg', 'RSWhYc6vUsRdl5I8F5NAgA', '1RJQthzZLfYgZF0eEa2C-w', 'Kpqoi4PNJgeCIcweWoG95w', 'YyFOc5_43EEcBZTY32UMuw', 'CRQEQBs_Gj_BZx7bJjR_pA', 'bGab5DdUG8CkUotrfWWUKQ', 'GsmyHWft3TLhRP-8jrgGgg', 'zXA4T4N7Inr9HRjePp8maw', 'emn4976zbR7_GRE4xca_gQ', '9cq8nwIZ1G9vtlz_kN5DcQ', 'MqcD0Cyq4ruHSLYZ_xdLYQ', '6E3Z4yiajuHAd_NKBPiROA', 'Y5jKEbn36RQGQGtLdG8wUA', 'sB1DZOWU3EwMf9xOFuMP_Q', 'ABgQuo2VN-46P3mV7g0-KA', 'Jjguos0kRKYE-6QCxWuSeA', 'MLJeAE7A5hESZwOEkQZt3w', '98VqqV1CkTz0s9_XedIEZg', 'KiTJ2c_UPJHJJWZBF3m8aA', 'YOFgysFQ1M7RXpg4iFrk3A', 'DQvPclL0knM8qkdc69nkyQ', 'id_hkieK2Tylo7FMqJ8P6A', 'd3nSAzx6yToCzMX6kdjibg', 'Im6zQeB8NnTJTLpzc90O5g', 'sO7K4jCOfjATweHQcQQsig', 'tRaBEG8_H4zatxCHkjdiFw', 'ogDYeAMFRzqWiUZ2lNHGCg', 'ax9fx2Um_jqBRElvxQ7zSA', 'FS9ZizeHpffS-KjTWxTjnA', 'DxH2yuHDeMPUnDQ8F-AONA', 'lHjIVvRw-90gtbu6-rhNHA', 'jfvnYrSR_KsIGOEXFCFBlQ', '1S5qWrpmhzpdJjQxcJcQEA', 'dbjEu3C5nMqL7w5wkAajSg', 'fZ9NqK_2qtmUm9ZSPyxFkA', 'EwYlgLnvnqAWRh-5c7pAvg', 'KAUC-JNDSoXfr12tI2sQcg', 'pC2AHLCpmEiNfjrWpqaUfQ', 'JL7pHf6Pwri73KSALyrNKg', 'iKt-CC9llnZ7sztNr2sKIg', 'Zk0-wvM40P8F7tSah2v61w', 'jmO5-dQuNZVUqPTw2XdBdw', 'LcHVGxDKd_dtE2eBppWS_Q', 'pLY_0W0cXMdohVqx8jCDrA', 'FufWBAK6ycLaQgl_v3FAlQ', 'oIQPQtOux-XaZIj9Q2_uTA', '6IKblDsCVAez3XmfNZQ3Yg', 'L1A0QKeZQOSGj2YagZ_Yyw', 'yjFzUiYy5RNeNW0ZUQFGcQ', 'kf03V1n6cs-wVT_Q7u6h0A', 'FekacfLT0iJv6fn6T1xTOg', 'hJpr_QtTQ8w2p8_Yr1u4Ew', 'b8aH4DPTbmxgYnEjGHhnNw', 'BaZ5Ibj2hrFG8mjDqa3YdQ', 'OpOtrroGu4fYEtl5tHXphQ', 'p-siPnHgAaLf3V7_ar7ENA', 'kK_gOGH3oQ_zW2kg2VU-Bg', 'N-sZEJFyGx5UmEWXUlIGsg', 'W0MN0Gg-seVa2DEjzBD1uw', '0RIUAeNAGw9qIZN-K4_W2A', 'u4IpL4LnF4s-LLA_DD316g', 'LIOHf0V8EGEDxmMkApIFHg', 'q-APNc37nxe3fxhTFIDb1g', 'caleqpVU2a9Eyx3o3tsuAw', 'yebTxXdgm84WGtQv6GjUgQ', 'sIAmhIlTDE6eab3aeAUA1A', 'bFW0XzWGKSf5HLVUls6BvA', 'AG2Nbx6T4vGEsmk_Z7TZfA', 'hzxNsUt7KstnH7qbpsWuUg', 'wW8vT7XKP3zdRnrsRJrkUw', 'irpTgAX4sefrOrrJmxe-mw', 'w0eAONuIcXREB_vd_VyUmA', 'mUlaw6B_c6QJ3yNVGc4wiQ', 'BvyIaF9FbopBBbft0n3P0A', 'YqXL0YzXX-dkpPtSM6BfYA', 'cT3yiCrUC6CLjFvga7W2HA', 'MIDUK97UMuGKOido3cxjHg', 'aB4OJReCk4vEJA00phGGpw', '50auN62gWdWM4POhHMEvyg', 'mNnLyoRxqC89daUzW-IdwA', 'i8GxbsSWb8tBFNaI_NroEQ', 'AZgyoSrdkNvJZHs7Un5pww', 'juGKuWbdkhAdfaZgKA2ktw', 'IxpLdHE0nfnmKkXd4pcZ2g', 'BGD4nEIgCdk6m01_DUrYcw', 'J_ZWdDmxDrYGH8l7SPPoGw', 'EnZq8bgQ6_GuCu2dJIiKAQ', 'bVyKT8zwd_tY2FxOonDh2w', 'OWYZe9Mda_LXgSkP-jXOmQ', '4f7dugDU4UQpdAsP68rdTQ', 'r-0lkLKqtxiKLK_xOTdblA', 'ZcWFX49Rq-3S0IaG0F0fyw', 'epYMhaGnfM6dUhGU_XXTHw', 'n27qmXI0WZ94-ot83bUeUQ', 'Pvw2m_grxW0K03osu33uVA', 'hVgMjKCDMWRix-1PVDtVfg', 'qi1UXJuS6MaP3w-Ocl1L0Q', 'h_Jphi7ddsBCJTC72K_NaA', 'k9RSz-Di97EwfwG5vQCMLw', 'k4DWNIfC9g1n0N4fzTSy_g', 'f_Lr3u74F2xN7BpSIFb_ig', 'Fi8O--oVgpLgXUOIQlgs4w', 'SCI0ZqHj7n_zKts9T_tsEA', 'Cnq1volOwOWq_o2c4fnVdA', 'qTO5FdZVRbHYwLmivjxdog', 'om59YhqVsAvluMSwVj6mYw', 'HLRC1s5M2UIWdZ-cmIV6BQ', 'KLaPbQCOXOWw7CUq5Xsf2w', 'TnvmWTLMl9gzloCh47pAXw', 'hCa9kdR0LOluahT3W9ujxw', 'bYGOB9D4CfxCO0tD7rfATg', 'gTOEg_2baewfY33saF2twA', 'O_bFg3RtrRIk5J0JozkzKQ', 'zgMAfVCGp3DtJHCq57GMyw', 'P-gLhB0mfZF4xYr-SE4UZA', 'QswsIF2HfPCdbUbAK76Y3A', 'DC0p5F73tqQoqhOsgBAQEw', 'hlh1ddertWQkEhYVth99Fw', 'oUnUQq18dVtipx_AscJYKg', 'IGZCDULrONVvLYwhKZt2MQ', 'FpXiztN0g8jAjDl3LGA25g', 'd1oQPhZKiU5bxWQYkGxiwQ', 'R6w19MrtslEO7QVIhytnvw', 'eHkwD62cIUhAftITOPNJHA', '1ui4NwkXZk5Y9aYPKTFdRA', 'QnvEBWuY8hy8FG4J7eFSTw', 'CL7bVkUDKouxY2G2HFNrkA', '1ed6KcAFIEmhlbw_FMxmtg', 'AkAqVk9o9BsqtGKBnjPszw', 'F2B4mjX4I2MKdW8aF2EtRw', '6qBGCFHxQSJpDHzsEFtq9w', 'wCgqyL9FyGMktDYRGgxlHw', 'UIJ9zv348V190l5BDCb3tQ', 'Y1sZMQOl0spO1m3bIHmhxg', '8KOmmZGCVC9XwhyRR3cUPg', 'IJRu9mVCRqzxR-Tl6iHSXw', 'yEykwRbogFNzSoRzYVvtbQ', 'DL-KW73oKYwmuQV2LW-unQ', 'VX6GpdZZLXvbINokZ3W_Aw', 'N7J4D7oFZvPVfIM7ktPA3w', '0Dd0nlaARdDk677ggK_NOw', 'r5-KXmiZy7-OWQIso2hbXw', '_6qzYTyQ3lV9DJqoep7_og', 'u-PX1x5GvykToQEaNFtv2Q', 'VVb3lFwAIGxvxcHSI3rAFw', 'Ecy2E-CwDcipbaFmvJ7INQ', 'QFdEHWRSpBQJNQeMxnh8lQ', 'PT70dEoIJ8rMhI6qdG5bVA', 'mBdiqpmjfD1TH3UDKGuQNw', 'AFzv7kZSR7m5-U1Tl5xmsw', 'Y28hANXk_63vmsra_Q0weA', 'o-DJFPnSjX0YOYsN_6OgBA', 'R45lgMjaoDzXwO15MGgO3w', 'JeyEyXgQgUMrU3R4RoRwkA', 'GCi2PqHHF7TNTpUGIT6n_g', 'uIZAKnmqCZgDmIJn53EhGA', 'ZHBA6GISMGJ0KvF5geIkHg', 'XJcv_VcJQ-TZjMGEKc8cOA', 'Lan1TyQ_r_3gfSb29UYpsQ', 'xQEg5gEpgmpWqmcTn2sPTQ', 'YRAzvUs5VvCakSqSveLygQ', 'kYl83v5Coy-vmNMpmILapg', 'VuXZ7GmmhjbW-n07D0egJA', 'TyvDPsVaEKayjclbaXnWww', 'Znw632U2b4Skl5wbfxs9_g', 'IjtWFymfDInAXvm0N02kAw', '7q4-l-4ljaxSFwVuR_u26Q', 'nSw6YUGxjGFyiwhMxDSdWg', 'PqoelYStfD6ldmKzBeF0Zg', '_BaaiKqMxMN6OzBV2NAdiw', 'IDA0-1qvvOuw21FMxjfeWw', '3uhrUjaXkQXhGDexyfBIhA', 'sLV2KV78AIN969eN827rhw', 'DoWm8rkOThPcmwkFb5GYWQ', 'zkpV-_otQU4qfjhlDDraLQ', 'pvY21ZqvMAEAIpaFp1Najg', 'HSnqDZg76cZOhajCXfI7lQ', 'iCRlOuXZu0SSHxw2nUOArQ', 'FbhFWV9IeU6aIrEgT2DqYQ', 'GYoephPHv0RwwcSnOzjN2g', 'A2iqNjRtinfleV5YJvF3cg', 'G6_ke7Ez-NWvEMLkUnbVgg', 'bqWqal7FZFWp982t_3Bzig', 'gKNNFuwUmtbPPB5ybKangA', 'Wu1RcJsucgzYTFncdYkXHQ', 'GKMpV1aM-4C9h67uZClkww', 'wXMXWOX3WpjiKUKHgaC7Qg', 'g2yBpHbr2zwiJfyM8oJpyA', 'XxtmYT980iXXJyTAhd-Hcw', 'e5i0Iy2jPAYLLPvduezGgw', 'wEqRA4kQs02P85IgHDBzkw', 'kfmL8-LRJec-DVL9OhLU-Q', 'ILk4dRvuBf6Axfq3qBkoxw', 'cOrLBOavg-UTCpD7XK--wA', '7ZeQnO0lgUBsfnPzMDOtsA', 'xSOVjYLvxwPEGW8kLCTxLA', 'zgdhjYl10_huVtMr3JLDhw', 'cMegySbHGJb_URIaR5k2eA', 'xz5eSEsd8aQnPuP0SYghxg', 'IrcuN4TKWkPBPyDaQ_VTHw', '9MDXAKT9BVeiMSDC1C5zNQ', 'eaYKRai5SF0sraREUSRlww', 'WNk5hCBOaCYMH-RYl6sJog', 'TMXo2Om1f1om9aTp6vg3BA', 'BgpB-3zA4k3zfX0UHgbBTg', 'uAmkK9_mmGf0zOCTb0OC1g', 'W6J5JXn_ihLDe-MheTg2iQ', 'wbxyLJXf1tJPimfYgPp46g']\n",
            "['E6-NNryKZzt0eBlQFvqtYw', 'nRV0VIm-7fwB-_UgL5PQjA', 'OEdWrFmr01T9pfDb6Auu4g', 'cd2eHx12PMHIws65ChDfYQ', '4E8xk4Q4npb5QhvVu7jQ1A', 'qsZ6hRVKb7HaWu2lOz4YEw', 'rahkAG8IZ9sqZPA2gPRDwg', 'rnvljaN99l4ZcjH69rKLzQ', 'nxO6hC_qtFkKYe07I5bPAQ', 'RJH925_Ci598EuRx9JoGwA', 'BO5uPZqVspbOLsDLE5c5jQ', 'uuJ-QTsCXe69ABdxOWKNOg', 'WwZrmap7gLB5Bm_5l-L9LA', 'h2w160yqcEVKVYRQ-1Maog', '4E6WGB8XZrSa_26UcVTSvQ', 'hcgtYw4L83SNTvQG5Wf7aA', 'Kii5j7FOLnHqT4vOEvAGqQ', 't0Y_Hgg7H8W030BNcQvl1A', 'jxMw-oGOplY-0xnyo6t_Lg', 'WvY708qLHJ7mjp1h1v_cXg', 'KRs1_BWofrey9L2jL5xeeA', 'TVNjhBFC96XtfvJOwpLsJw', 'NLnxvTdm5MC8JBzlRZYtug', 'OpkcCxKVQEi1eTtpCho87Q', 'HwIIv3dU2bjh36XXUecxog', 'bV9IYVYOkbm8gEyBd8Gq5g', 'n7kdeoh6diQICW1YJh6N_A', 'cFZWTC2NGMDvkmSNT-R4jg', '4i2muT4yfbJYVB-_9A9yvQ', 'HDpa2XhycKLAssuVuzoiFg', 'Z-w8e86U76_-UHmnR_on2g', 'BSat-Dsl5CDCgcX6INo83w', 'SziKmSU5nW1TYnQE1s-zGA', 'ZkVmvzSgePDfYKZAthRjEA', 'tu2XGdn2dR1VGqTVsCxSHg', 'rukix1QxEpNH2Epj2FG0IA', 'WvO9c0jdp6bCrKaS4rjVeQ', 'xpDVPSLlZnU8MQaOS2HAwA', 'Zq6uLNtQ_LSbiDk1BNewQg', 'tq9-CpDo60Jqx4YsJeBNoA', '8fzZu3fM0L-moXwag-zdJw', 'ouODopBKF3AqfCkuQEnrDg', 'aVRPfNY7aaR3DZtAkQY_Hw', 'hKxuzKKl15c6vIUMjCKYAA', 'qRB3eBE7dm1uEe6VBxxC1Q', 'cS1zo880UKC7NTZ4FjrpKA', 'whp2b_6melUtfkTMr0Rs3A', 'PGPl3X59BXwoTRntKophqg', 'a9nryBZwyv814VO5EE-1gQ', 'xtVcWcIKVORcBKhmdbrFiA', 'uuUHt5E6SbWjP3TKkB8bDQ', 'LiA3AUNmTH9ALw6PWR45JA', 'LGl727K-OEacErvC-SZamQ', 'Qy0zhduJMSLeOaqDaXYGJQ', 'qEhqu0XB-ius765_EsVWFw', '_JGcUXwKGyQHBJjLkhMz7w', 'CQyN4MMEq25X1yl5nONxIQ', '7iruCfIKVc7sIIW84vbgMw', 'iVDpYkWyPSpEYAgF2DcDnQ', 'vXMzPNKRkec1jFBsz24wjA', 'PWuMY7QvAOH9JoTucUR1ww', 'hxknn8DNhg7XDFCFQFuzpQ', 'qKXRHRJF21GXx-ckB9rN6w', 'uDBnapEGywTQ0ovaCu7Orw', '84D-jzt9QhDlaKwETIBv5A', 'Qt8Sx9IHgutRARmOZ4zccA', '1RJQthzZLfYgZF0eEa2C-w', 'IdKe2TV1Ngb0DWS3Z_rjvQ', 'sB1DZOWU3EwMf9xOFuMP_Q', 'emn4976zbR7_GRE4xca_gQ', 'KjR6WnRacwJgALjSNe0Tlw', 'E0SGM5SS-I98lmQrPmFsuw', '8Qn7g6i6S1z7PoKhRs5yWg', '96z4r5CZSLz2bxuZZVKQIg', 'YOFgysFQ1M7RXpg4iFrk3A', 'LJfRSQmgZmhtsTE0xzQeDA', 'OJhmpYw0Q5QIiehks-O0sQ', 'eG_uSruj6-P4sDYFmGevAg', '8nXPIfCdJ3xYw-UmAz7oKg', 'fZ9NqK_2qtmUm9ZSPyxFkA', 'JRq5IvruD4pXQYaDEVDFKQ', 'H1FsC1pgc3tqoLwWw7Z5gA', '7isR_looV-0S04XK-H3xDQ', 'McInV4tgKiBUBFSyJWzJaw', 'HZwPKGb161MpC-Ts4nNgeQ', 'XQlyMWzvgt0t62xAUY0fWg', 'E4pnEtFO1C4BUV0-KVZJWA', 'xWvCNWJoNo5fNRkJDbR1tg', '0JN2Ur07CN2LaZzvSj3jYA', 'sMfzdYpg2oUYUUd-9EnnIQ', 'b8aH4DPTbmxgYnEjGHhnNw', '_-qFnxE8aANMHh3htZyIPA', 'ZKAGw2rQKpKrsC-vjyvBTw', '_Pm3yFq75_1ByEJ7GcSFvA', '43R4H_HkWK31tmVAwXT2Yg', 'fkzDDUW5TYHhnX_lCtkhOw', 'aB4OJReCk4vEJA00phGGpw', 'Hh7ZLceB64UeFx5YhTih3g', 's7ZUHG-Kh1dDx1Q8GaLWhg', '4m5r38m8ucnM9dlARsIK5A', 'HxTo5WAO02jk46eS4mKRdw', 'QeH41D9kHhbqp1JUsB60ug', 'dfzfFP4pdX2TICk0ouDukg', 'GYyeimuUR1f7ePTQC2-eOg', 'cT3yiCrUC6CLjFvga7W2HA', 'tw1bpY0N7f0RPktmaddyrA', 'Xqo1ru1F7srvbUJaCNHkvQ', 'CRQEQBs_Gj_BZx7bJjR_pA', 'EnZq8bgQ6_GuCu2dJIiKAQ', 'Lgld-Q6z8zOGdm4E_dLCzw', 'hPZAJe_YLDekQ4lANYjH9Q', 'i8GxbsSWb8tBFNaI_NroEQ', 'NLq3qEt7jxJSnaErSZUvzg', 'DvkkNm6I3iNYVAKzEl2WgQ', 'JLX6s_BzWu6DK7vzuS35sg', 'IVPNqzvW1oYVWUuHpiJS3Q', 'yjFzUiYy5RNeNW0ZUQFGcQ', '1S5qWrpmhzpdJjQxcJcQEA', 'YXlM6x1Jk_qWBWMXpFt9cg', 'n27qmXI0WZ94-ot83bUeUQ', 'LcHVGxDKd_dtE2eBppWS_Q', 'b4IR7Qs8PCk0VRU4UK88RQ', '9cq8nwIZ1G9vtlz_kN5DcQ', 'id_hkieK2Tylo7FMqJ8P6A', 'jfvnYrSR_KsIGOEXFCFBlQ', 'Im6zQeB8NnTJTLpzc90O5g', 'DC0p5F73tqQoqhOsgBAQEw', 'UHZ1UGRQtfNMyanoOIpOog', 'KAUC-JNDSoXfr12tI2sQcg', 'KiTJ2c_UPJHJJWZBF3m8aA', 'pC2AHLCpmEiNfjrWpqaUfQ', 'Kpqoi4PNJgeCIcweWoG95w', 'Zzki9YMObPa19AmjetqMOg', 'KLaPbQCOXOWw7CUq5Xsf2w', 'tsnH60AmDpkIR_Rv3VZaMw', 'mxyzKmpVXMJv6X3RiSQIMg', '98VqqV1CkTz0s9_XedIEZg', 'nAuv9MCcHzhF5hcJQ9Xdfw', 'FufWBAK6ycLaQgl_v3FAlQ', 'oIQPQtOux-XaZIj9Q2_uTA', 'EvrT_21w6SsR7c5No-QcLQ', 'hT1myDgcfJZjUXJ4lGp75A', 'MjzfXh2r-wFyofYW0PN9Vg', 'R6w19MrtslEO7QVIhytnvw', 'zXA4T4N7Inr9HRjePp8maw', 'W0MN0Gg-seVa2DEjzBD1uw', 'ogDYeAMFRzqWiUZ2lNHGCg', 'FekacfLT0iJv6fn6T1xTOg', 'F2B4mjX4I2MKdW8aF2EtRw', 'caleqpVU2a9Eyx3o3tsuAw', 'lHjIVvRw-90gtbu6-rhNHA', '0Dd0nlaARdDk677ggK_NOw', 'o22xETPxIrrEEs9yeLVxDA', 'zgMAfVCGp3DtJHCq57GMyw', 'OpOtrroGu4fYEtl5tHXphQ', 'FpXiztN0g8jAjDl3LGA25g', '5I-1ty2qem8DZgUAsJMQ_A', 'yEykwRbogFNzSoRzYVvtbQ', 'OyAfSC4KjjlsT0AorOySqg', '_eNyjcH0VA847pfU-3GZsQ', 'q-APNc37nxe3fxhTFIDb1g', 'YqXL0YzXX-dkpPtSM6BfYA', 'UIJ9zv348V190l5BDCb3tQ', 'ieuA3VYIgGX02eyadSeXcQ', 'jmO5-dQuNZVUqPTw2XdBdw', 'w0eAONuIcXREB_vd_VyUmA', 'DxH2yuHDeMPUnDQ8F-AONA', 'yebTxXdgm84WGtQv6GjUgQ', 'R45lgMjaoDzXwO15MGgO3w', 'SLBnjSVxsMQI5c-87FNKJw', '0RIUAeNAGw9qIZN-K4_W2A', 'tRaBEG8_H4zatxCHkjdiFw', '0320AR_gf0RDuSIgrW-Rgg', 'MLJeAE7A5hESZwOEkQZt3w', 'XJcv_VcJQ-TZjMGEKc8cOA', 'EwYlgLnvnqAWRh-5c7pAvg', 'VuXZ7GmmhjbW-n07D0egJA', 'hzxNsUt7KstnH7qbpsWuUg', 'QchEBSoT2oK8xFvFqYEQiQ', 'fkR8e6qKaVXkGo-sTvGxLw', 'AZgyoSrdkNvJZHs7Un5pww', 'irpTgAX4sefrOrrJmxe-mw', 'sO7K4jCOfjATweHQcQQsig', 'IxpLdHE0nfnmKkXd4pcZ2g', 'h_Jphi7ddsBCJTC72K_NaA', 'hA0EYw3weyjFl2CYVPbvTA', 'PT70dEoIJ8rMhI6qdG5bVA', 'Jjguos0kRKYE-6QCxWuSeA', 'RSWhYc6vUsRdl5I8F5NAgA', 'JeyEyXgQgUMrU3R4RoRwkA', 'IjtWFymfDInAXvm0N02kAw', 'MIDUK97UMuGKOido3cxjHg', 'Cnq1volOwOWq_o2c4fnVdA', 'ABgQuo2VN-46P3mV7g0-KA', 'OWYZe9Mda_LXgSkP-jXOmQ', 't0BJOllrqq7bus0eZN_wjQ', '4f7dugDU4UQpdAsP68rdTQ', '9vVQKryP8mrFYFOfxj7Vtg', 'bYGOB9D4CfxCO0tD7rfATg', '7O1_x_3IlgjpY9BkiZ16xQ', 'vGMW9PMAHu-mVWAZ91hRqQ', 'P-gLhB0mfZF4xYr-SE4UZA', 'MqcD0Cyq4ruHSLYZ_xdLYQ', 'BGD4nEIgCdk6m01_DUrYcw', 'QswsIF2HfPCdbUbAK76Y3A', 'y22jM83qCgsNGryv9328gQ', 'WqtZprA_J818PWc9RYJIkQ', 'AFzv7kZSR7m5-U1Tl5xmsw', 'hCa9kdR0LOluahT3W9ujxw', 'YyFOc5_43EEcBZTY32UMuw', 'vZk5V9PfiT9Rk9nKWS3Rng', 'GsmyHWft3TLhRP-8jrgGgg', 'VbETnc4oAS7IQNAnTzfXeg', 'qTO5FdZVRbHYwLmivjxdog', 'Pvw2m_grxW0K03osu33uVA', 'GzjO23BRWh88VmWhePVBLw', 'k4DWNIfC9g1n0N4fzTSy_g', 'om59YhqVsAvluMSwVj6mYw', 'AkAqVk9o9BsqtGKBnjPszw', 'DbQnWxwY6or04Ig4KcmWyQ', 'qi1UXJuS6MaP3w-Ocl1L0Q', 'O_bFg3RtrRIk5J0JozkzKQ', 'YoxE57KlR5-FORNjuN0m5Q', 'IJRu9mVCRqzxR-Tl6iHSXw', '6E3Z4yiajuHAd_NKBPiROA', 'HSnqDZg76cZOhajCXfI7lQ', 'u4IpL4LnF4s-LLA_DD316g', 'bGab5DdUG8CkUotrfWWUKQ', 'YRAzvUs5VvCakSqSveLygQ', 'MPVEnMhiOAeafBb01Zcjww', 'PqoelYStfD6ldmKzBeF0Zg', 'pLY_0W0cXMdohVqx8jCDrA', 'FbhFWV9IeU6aIrEgT2DqYQ', 'bPVn3zHqqXRUc-39HqK9tg', 'ax9fx2Um_jqBRElvxQ7zSA', 'd3nSAzx6yToCzMX6kdjibg', 'Y5jKEbn36RQGQGtLdG8wUA', 'DQvPclL0knM8qkdc69nkyQ', 'N-sZEJFyGx5UmEWXUlIGsg', 'L1A0QKeZQOSGj2YagZ_Yyw', 'ILk4dRvuBf6Axfq3qBkoxw', 'YttDgOC9AlM4HcAlDsbB2A', 'iKt-CC9llnZ7sztNr2sKIg', '1ui4NwkXZk5Y9aYPKTFdRA', 'r-0lkLKqtxiKLK_xOTdblA', 'QnvEBWuY8hy8FG4J7eFSTw', 'e5i0Iy2jPAYLLPvduezGgw', 'epYMhaGnfM6dUhGU_XXTHw', 'JL7pHf6Pwri73KSALyrNKg', 'BaZ5Ibj2hrFG8mjDqa3YdQ', 'wEqRA4kQs02P85IgHDBzkw', 'uIZAKnmqCZgDmIJn53EhGA', '6IKblDsCVAez3XmfNZQ3Yg', 'VVb3lFwAIGxvxcHSI3rAFw', 'Le9KD2nTc1VR8vGykR6qLg', 'FS9ZizeHpffS-KjTWxTjnA', 'Ecy2E-CwDcipbaFmvJ7INQ', 'k9RSz-Di97EwfwG5vQCMLw', 'GKMpV1aM-4C9h67uZClkww', 'SCI0ZqHj7n_zKts9T_tsEA', 'kfmL8-LRJec-DVL9OhLU-Q', 'kf03V1n6cs-wVT_Q7u6h0A', 'CL7bVkUDKouxY2G2HFNrkA', 'rgE7iUN2ibB56GNcgxesTg', 'hJpr_QtTQ8w2p8_Yr1u4Ew', 'f_Lr3u74F2xN7BpSIFb_ig', 'TIHyAJK7IwUQheBzEmg3Bg', 'r5-KXmiZy7-OWQIso2hbXw', '8KOmmZGCVC9XwhyRR3cUPg', 'u-PX1x5GvykToQEaNFtv2Q', 'dbjEu3C5nMqL7w5wkAajSg', 'zgdhjYl10_huVtMr3JLDhw', 'Zk0-wvM40P8F7tSah2v61w', 'Kf5PVQUdDvQYf-MXoeWqZA', 'wXMXWOX3WpjiKUKHgaC7Qg', 'cMegySbHGJb_URIaR5k2eA', 'xz5eSEsd8aQnPuP0SYghxg', 'XxtmYT980iXXJyTAhd-Hcw', 'p-siPnHgAaLf3V7_ar7ENA', 'AG2Nbx6T4vGEsmk_Z7TZfA', 'bVyKT8zwd_tY2FxOonDh2w', 'xQEg5gEpgmpWqmcTn2sPTQ', 'N7J4D7oFZvPVfIM7ktPA3w', 'kYl83v5Coy-vmNMpmILapg', '1ed6KcAFIEmhlbw_FMxmtg', 'IGZCDULrONVvLYwhKZt2MQ', 'A2iqNjRtinfleV5YJvF3cg', 'Znw632U2b4Skl5wbfxs9_g', 'sIAmhIlTDE6eab3aeAUA1A', 'GYoephPHv0RwwcSnOzjN2g', 'mBdiqpmjfD1TH3UDKGuQNw', 'BvyIaF9FbopBBbft0n3P0A', 'ZHBA6GISMGJ0KvF5geIkHg', 'sLV2KV78AIN969eN827rhw', 'DoWm8rkOThPcmwkFb5GYWQ', '6qBGCFHxQSJpDHzsEFtq9w', 'xSOVjYLvxwPEGW8kLCTxLA', 'wW8vT7XKP3zdRnrsRJrkUw', 'LIOHf0V8EGEDxmMkApIFHg', 'TyvDPsVaEKayjclbaXnWww', 'vj8bIwLtKj9Y2ld8h5WYQg', '_6qzYTyQ3lV9DJqoep7_og', 'o-DJFPnSjX0YOYsN_6OgBA', 'VX6GpdZZLXvbINokZ3W_Aw', 'mUlaw6B_c6QJ3yNVGc4wiQ', 'kK_gOGH3oQ_zW2kg2VU-Bg', '7q4-l-4ljaxSFwVuR_u26Q', '3uhrUjaXkQXhGDexyfBIhA', '50auN62gWdWM4POhHMEvyg', 'mNnLyoRxqC89daUzW-IdwA', 'cOrLBOavg-UTCpD7XK--wA', '9MDXAKT9BVeiMSDC1C5zNQ', 'Fi8O--oVgpLgXUOIQlgs4w', 'gTOEg_2baewfY33saF2twA', 'juGKuWbdkhAdfaZgKA2ktw', '_BaaiKqMxMN6OzBV2NAdiw', 'Y28hANXk_63vmsra_Q0weA', 'eaYKRai5SF0sraREUSRlww', 'HLRC1s5M2UIWdZ-cmIV6BQ', 'oUnUQq18dVtipx_AscJYKg', 'Wu1RcJsucgzYTFncdYkXHQ', 'ZcWFX49Rq-3S0IaG0F0fyw', 'eHkwD62cIUhAftITOPNJHA', 'Lan1TyQ_r_3gfSb29UYpsQ', 'J_ZWdDmxDrYGH8l7SPPoGw', 'IDA0-1qvvOuw21FMxjfeWw', '7ZeQnO0lgUBsfnPzMDOtsA', 'bFW0XzWGKSf5HLVUls6BvA', 'TnvmWTLMl9gzloCh47pAXw', 'hlh1ddertWQkEhYVth99Fw', 'bqWqal7FZFWp982t_3Bzig', 'hVgMjKCDMWRix-1PVDtVfg', 'wbxyLJXf1tJPimfYgPp46g', 'QFdEHWRSpBQJNQeMxnh8lQ', 'nSw6YUGxjGFyiwhMxDSdWg', 'pvY21ZqvMAEAIpaFp1Najg', 'BgpB-3zA4k3zfX0UHgbBTg', 'g2yBpHbr2zwiJfyM8oJpyA', 'IrcuN4TKWkPBPyDaQ_VTHw', 'G6_ke7Ez-NWvEMLkUnbVgg', 'iCRlOuXZu0SSHxw2nUOArQ', 'uAmkK9_mmGf0zOCTb0OC1g', 'DL-KW73oKYwmuQV2LW-unQ', 'Y1sZMQOl0spO1m3bIHmhxg', 'zkpV-_otQU4qfjhlDDraLQ', 'wCgqyL9FyGMktDYRGgxlHw', 'W6J5JXn_ihLDe-MheTg2iQ', 'WNk5hCBOaCYMH-RYl6sJog', 'd1oQPhZKiU5bxWQYkGxiwQ', 'GCi2PqHHF7TNTpUGIT6n_g', 'TMXo2Om1f1om9aTp6vg3BA', 'gKNNFuwUmtbPPB5ybKangA']\n"
          ],
          "name": "stdout"
        }
      ]
    }
  ]
}