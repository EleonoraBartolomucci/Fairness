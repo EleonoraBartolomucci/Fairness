{
  "nbformat": 4,
  "nbformat_minor": 0,
  "metadata": {
    "colab": {
      "name": "Untitled2.ipynb",
      "provenance": [],
      "authorship_tag": "ABX9TyO0Cbqyb2OK+IhOP49quJY4",
      "include_colab_link": true
    },
    "kernelspec": {
      "name": "python3",
      "display_name": "Python 3"
    }
  },
  "cells": [
    {
      "cell_type": "markdown",
      "metadata": {
        "id": "view-in-github",
        "colab_type": "text"
      },
      "source": [
        "<a href=\"https://colab.research.google.com/github/EleonoraBartolomucci/Fairness/blob/master/Scraping/Rbo.ipynb\" target=\"_parent\"><img src=\"https://colab.research.google.com/assets/colab-badge.svg\" alt=\"Open In Colab\"/></a>"
      ]
    },
    {
      "cell_type": "code",
      "metadata": {
        "id": "IIeT1T0ogJNo",
        "colab_type": "code",
        "colab": {}
      },
      "source": [
        "#\n",
        "# @author: Ritesh Agrawal\n",
        "# @Date: 13 Feb 2013\n",
        "# @Description: This is an implementation of rank biased overlap score \n",
        "# (Refererence: http://www.umiacs.umd.edu/~wew/papers/wmz10_tois.pdf). \n",
        "# This is a modified implementation of  https://github.com/maslinych/linis-scripts/blob/master/rbo_calc.py\n",
        "# It is a linear implementation of the RBO and assumes there are no\n",
        "# duplicates and doesn't handle for ties. \n",
        "#\n",
        "\n",
        "def RBO(l1, l2, p):\n",
        "    \"\"\"\n",
        "        Calculates Ranked Biased Overlap (RBO) score. \n",
        "        l1 -- Ranked List 1\n",
        "        l2 -- Ranked List 2\n",
        "    \"\"\"\n",
        "    if l1 == None: l1 = []\n",
        "    if l2 == None: l2 = []\n",
        "    \n",
        "    sl,ll = sorted([(len(l1), l1),(len(l2),l2)])\n",
        "    s, S = sl\n",
        "    l, L = ll\n",
        "    if s == 0: return 0\n",
        "\n",
        "    # Calculate the overlaps at ranks 1 through l \n",
        "    # (the longer of the two lists)\n",
        "    ss = set([]) # contains elements from the smaller list till depth i\n",
        "    ls = set([]) # contains elements from the longer list till depth i\n",
        "    x_d = {0: 0}\n",
        "    sum1 = 0.0\n",
        "    for i in range(l):\n",
        "        x = L[i]\n",
        "        y = S[i] if i < s else None\n",
        "        d = i + 1\n",
        "        \n",
        "        # if two elements are same then \n",
        "        # we don't need to add to either of the set\n",
        "        if x == y: \n",
        "            x_d[d] = x_d[d-1] + 1.0\n",
        "        # else add items to respective list\n",
        "        # and calculate overlap\n",
        "        else: \n",
        "            ls.add(x) \n",
        "            if y != None: ss.add(y)\n",
        "            x_d[d] = x_d[d-1] + (1.0 if x in ss else 0.0) + (1.0 if y in ls else 0.0)     \n",
        "        #calculate average overlap\n",
        "        sum1 += x_d[d]/d * pow(p, d)\n",
        "        \n",
        "    sum2 = 0.0\n",
        "    for i in range(l-s):\n",
        "        d = s+i+1\n",
        "        sum2 += x_d[d]*(d-s)/(d*s)*pow(p,d)\n",
        "\n",
        "    sum3 = ((x_d[l]-x_d[s])/l+x_d[s]/s)*pow(p,l)\n",
        "\n",
        "    # Equation 32\n",
        "    rbo_ext = (1-p)/p*(sum1+sum2)+sum3\n",
        "    return rbo_ext"
      ],
      "execution_count": 0,
      "outputs": []
    }
  ]
}