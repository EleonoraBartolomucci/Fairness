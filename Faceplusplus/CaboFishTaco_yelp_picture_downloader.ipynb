{
  "nbformat": 4,
  "nbformat_minor": 0,
  "metadata": {
    "colab": {
      "name": "Untitled0.ipynb",
      "provenance": [],
      "include_colab_link": true
    },
    "kernelspec": {
      "name": "python3",
      "display_name": "Python 3"
    }
  },
  "cells": [
    {
      "cell_type": "markdown",
      "metadata": {
        "id": "view-in-github",
        "colab_type": "text"
      },
      "source": [
        "<a href=\"https://colab.research.google.com/github/EleonoraBartolomucci/Fairness/blob/master/Faceplusplus/CaboFishTaco_yelp_picture_downloader.ipynb\" target=\"_parent\"><img src=\"https://colab.research.google.com/assets/colab-badge.svg\" alt=\"Open In Colab\"/></a>"
      ]
    },
    {
      "cell_type": "code",
      "metadata": {
        "id": "Jl0nPnD7VUxo",
        "colab_type": "code",
        "colab": {}
      },
      "source": [
        "#da cambiare:\n",
        "# folder_id \n",
        "import requests\n",
        "from lxml import html\n",
        "import shutil\n",
        "import os\n",
        "import json\n",
        "\n",
        "def downloadUser(user_id, counter):\n",
        "\n",
        "    #Creare la cartella sul Drive dove andranno le foto (in data > face_data > Foto_User > (nomeRistorante)10%(strategia))\n",
        "    folder_id = '1sDTp0cUpFcZ2aOoJiKGsjbz5RLCxakyi'  # folder ID = CaboFishTaco_10%Random\n",
        "    filename = user_id + '.jpg'\n",
        "    url = 'https://www.yelp.com/user_details?userid=' + user_id\n",
        "\n",
        "    try:\n",
        "        # Find user picture from web page\n",
        "        page_content = requests.get(url)\n",
        "        tree = html.fromstring(page_content.content)\n",
        "        if len(tree.xpath('//*[@id=\"wrap\"]/div[2]/div[1]/div/div[2]/div[1]/div/div/div/a/img/@src')) != 0:  # Picture found\n",
        "            image_url = tree.xpath('//*[@id=\"wrap\"]/div[2]/div[1]/div/div[2]/div[1]/div/div/div/a/img/@src')[0]\n",
        "\n",
        "            # View all folders and file in your folder\n",
        "            fileList = drive.ListFile({'q': \"'\" + folder_id + \"' in parents and trashed=false\"}).GetList()\n",
        "\n",
        "            # Create file on Google Drive\n",
        "            # param id = ID of Fairness/face_data folder in my Google Drive\n",
        "            drive_file = drive.CreateFile({'title': filename, 'parents': [{'id': folder_id}]})\n",
        "\n",
        "            # Check if file already exists in Google Drive (prevents duplicates)\n",
        "            for file in fileList:\n",
        "                # print('Title: %s, ID: %s' % (file['title'], file['id']))\n",
        "                if file['title'] == filename:  # The file already exists, then overwrite it\n",
        "                    fileID = file['id']\n",
        "                    drive_file = drive.CreateFile({'id': fileID, 'title': filename, 'parents': [{'id': folder_id}]})\n",
        "\n",
        "            response = requests.get(image_url, stream=True)\n",
        "\n",
        "            # Create a local copy of user picture\n",
        "            with open(filename, 'wb') as out_file:\n",
        "                shutil.copyfileobj(response.raw, out_file)\n",
        "            del response\n",
        "\n",
        "            # Upload user picture on Google Drive\n",
        "            drive_file.SetContentFile(filename)  # path of local file content\n",
        "            drive_file.Upload()  # Upload the file.\n",
        "            # print('title: %s, mimeType: %s' % (drive_file['title'], drive_file['mimeType']))\n",
        "\n",
        "            # Delete local user pictures\n",
        "            if os.path.exists(filename):\n",
        "                os.remove(filename)\n",
        "                return True\n",
        "\n",
        "            else:\n",
        "                print(\"The file does not exist\")\n",
        "                return False\n",
        "    except:\n",
        "        print(\"Si è verificato un errore alla riga \" + str(counter) + \" del file user.json\")\n",
        "        return False"
      ],
      "execution_count": 0,
      "outputs": []
    },
    {
      "cell_type": "code",
      "metadata": {
        "colab_type": "code",
        "id": "prhJYmSLmP0U",
        "outputId": "f8cf4749-792d-4881-c293-3263dfa8b709",
        "colab": {
          "base_uri": "https://localhost:8080/",
          "height": 34
        }
      },
      "source": [
        "#Da cambiare:\n",
        "# users_restaurant_id, il nome del csv e quante foto prendere (10% del totale delle recensioni)\n",
        "# file_list mettere l'id della cartella da dove prendere le foto\n",
        "\n",
        "#10% foto di utenti random per ristorante\n",
        "from pydrive.auth import GoogleAuth\n",
        "from pydrive.drive import GoogleDrive\n",
        "from oauth2client.client import GoogleCredentials\n",
        "from google.colab import auth\n",
        "import json\n",
        "import csv\n",
        "import random\n",
        "import pandas as pd\n",
        "\n",
        "# Connect to Google Account\n",
        "auth.authenticate_user()\n",
        "gauth = GoogleAuth()\n",
        "gauth.credentials = GoogleCredentials.get_application_default()\n",
        "drive = GoogleDrive(gauth)\n",
        "\n",
        "# DOWNLOAD Restaurant.csv FROM DRIVE\n",
        "# users_restaurant_id = id del file csv del ristorante (si trova in data > Scraping > Reviews_Relevance > (nomeRistorante)_relevance_desc.csv)\n",
        "users_restaurant_id = '1HMiEkysal_A6edG19k5PykgIAe9NYW-a'  # FILE ID, got on google drive with condivision link\n",
        "download = drive.CreateFile({'id': users_restaurant_id})\n",
        "download.GetContentFile('Cabo Fish Taco_relevance_desc.csv')\n",
        "\n",
        "# DOWNLOAD my_users.csv FROM DRIVE\n",
        "users_dataset_id = '1mDvkSI919Gr6FfvrvuDW1E9KkgMKJaos'  # FILE ID, got on google drive with condivision link\n",
        "download = drive.CreateFile({'id': users_dataset_id})\n",
        "download.GetContentFile('my_users.csv')\n",
        "\n",
        "#leggo i due csv\n",
        "restaurant = pd.read_csv('Cabo Fish Taco_relevance_desc.csv')\n",
        "dataset_users = pd.read_csv('my_users.csv')\n",
        "\n",
        "#(si trova in data > face_data > Foto_User > (nomeRistorante)_10%Random)\n",
        "file_list = drive.ListFile({'q': \"'1sDTp0cUpFcZ2aOoJiKGsjbz5RLCxakyi' in parents and trashed=false\"}).GetList()\n",
        "listaVecchia = []\n",
        "for file1 in file_list:\n",
        "  id = file1['title']\n",
        "  listaVecchia.append(id[0:22])\n",
        "\n",
        "#user_list = lista id utenti che ci sono anche nel dataset\n",
        "user_list = []\n",
        "for riga in restaurant[restaurant.user_id.isin(dataset_users.user_id)]['user_id']:\n",
        "  if riga not in listaVecchia:\n",
        "    user_list.append(riga)\n",
        "\n",
        "#random_user = lista id utenti random (10% del totale)\n",
        "random_user = random.choices(user_list, k=200)\n",
        "cnt = 0\n",
        "foto_elaborate = 0\n",
        "#Passo ogni id di random_user in downloadUser per scaricare le foto degli utenti\n",
        "for user_id in random_user:\n",
        "  id = '%s' % user_id\n",
        "  if downloadUser(id,cnt):\n",
        "    foto_elaborate = foto_elaborate + 1\n",
        "  cnt = cnt + 1\n",
        "\n",
        "print(foto_elaborate)\n",
        "\n",
        "#for cnt, line in enumerate(fp):\n",
        " # json_data = json.loads(line)\n",
        "  #user_id = json_data['user_id']\n",
        "  #downloadUser(user_id, cnt)"
      ],
      "execution_count": 5,
      "outputs": [
        {
          "output_type": "stream",
          "text": [
            "0\n"
          ],
          "name": "stdout"
        }
      ]
    }
  ]
}