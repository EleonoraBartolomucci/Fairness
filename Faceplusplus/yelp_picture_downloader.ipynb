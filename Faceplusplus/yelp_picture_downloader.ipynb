{
  "nbformat": 4,
  "nbformat_minor": 0,
  "metadata": {
    "colab": {
      "name": "Untitled0.ipynb",
      "provenance": [],
      "include_colab_link": true
    },
    "kernelspec": {
      "name": "python3",
      "display_name": "Python 3"
    }
  },
  "cells": [
    {
      "cell_type": "markdown",
      "metadata": {
        "id": "view-in-github",
        "colab_type": "text"
      },
      "source": [
        "<a href=\"https://colab.research.google.com/github/EleonoraBartolomucci/Fairness/blob/master/Faceplusplus/yelp_picture_downloader.ipynb\" target=\"_parent\"><img src=\"https://colab.research.google.com/assets/colab-badge.svg\" alt=\"Open In Colab\"/></a>"
      ]
    },
    {
      "cell_type": "code",
      "metadata": {
        "id": "Jl0nPnD7VUxo",
        "colab_type": "code",
        "colab": {}
      },
      "source": [
        "import requests\n",
        "from lxml import html\n",
        "import shutil\n",
        "import os\n",
        "import json\n",
        "\n",
        "def downloadUser(user_id, counter):\n",
        "\n",
        "    folder_id = '1jn_TA3D_mLdPLZJ6C_yL8cwTt7ic5qLA'  # folder ID = face_data/101-\n",
        "    filename = user_id + '.jpg'\n",
        "    url = 'https://www.yelp.com/user_details?userid=' + user_id\n",
        "\n",
        "    try:\n",
        "        # Find user picture from web page\n",
        "        page_content = requests.get(url)\n",
        "        tree = html.fromstring(page_content.content)\n",
        "        if len(tree.xpath('//*[@id=\"wrap\"]/div[2]/div[1]/div/div[2]/div[1]/div/div/div/a/img/@src')) != 0:  # Picture found\n",
        "            image_url = tree.xpath('//*[@id=\"wrap\"]/div[2]/div[1]/div/div[2]/div[1]/div/div/div/a/img/@src')[0]\n",
        "\n",
        "            # View all folders and file in your folder\n",
        "            fileList = drive.ListFile({'q': \"'\" + folder_id + \"' in parents and trashed=false\"}).GetList()\n",
        "\n",
        "            # Create file on Google Drive\n",
        "            # param id = ID of Fairness/face_data folder in my Google Drive\n",
        "            drive_file = drive.CreateFile({'title': filename, 'parents': [{'id': folder_id}]})\n",
        "\n",
        "            # Check if file already exists in Google Drive (prevents duplicates)\n",
        "            for file in fileList:\n",
        "                # print('Title: %s, ID: %s' % (file['title'], file['id']))\n",
        "                if file['title'] == filename:  # The file already exists, then overwrite it\n",
        "                    fileID = file['id']\n",
        "                    drive_file = drive.CreateFile({'id': fileID, 'title': filename, 'parents': [{'id': folder_id}]})\n",
        "\n",
        "            response = requests.get(image_url, stream=True)\n",
        "\n",
        "            # Create a local copy of user picture\n",
        "            with open(filename, 'wb') as out_file:\n",
        "                shutil.copyfileobj(response.raw, out_file)\n",
        "            del response\n",
        "\n",
        "            # Upload user picture on Google Drive\n",
        "            drive_file.SetContentFile(filename)  # path of local file content\n",
        "            drive_file.Upload()  # Upload the file.\n",
        "            # print('title: %s, mimeType: %s' % (drive_file['title'], drive_file['mimeType']))\n",
        "\n",
        "            # Delete local user pictures\n",
        "            if os.path.exists(filename):\n",
        "                os.remove(filename)\n",
        "            else:\n",
        "                print(\"The file does not exist\")\n",
        "    except:\n",
        "        print(\"Si è verificato un errore alla riga \" + str(counter) + \" del file user.json\")"
      ],
      "execution_count": 0,
      "outputs": []
    },
    {
      "cell_type": "code",
      "metadata": {
        "id": "rj43Y82QVrm1",
        "colab_type": "code",
        "colab": {}
      },
      "source": [
        "from pydrive.auth import GoogleAuth\n",
        "from pydrive.drive import GoogleDrive\n",
        "from oauth2client.client import GoogleCredentials\n",
        "from google.colab import auth\n",
        "import json\n",
        "\n",
        "# Connect to Google Account\n",
        "auth.authenticate_user()\n",
        "gauth = GoogleAuth()\n",
        "gauth.credentials = GoogleCredentials.get_application_default()\n",
        "drive = GoogleDrive(gauth)\n",
        "\n",
        "# DOWNLOAD user.json FROM DRIVE\n",
        "users_dataset_id = '1LDEAV312YlaCWVdpDUAdi5mn93Axn6wC'  # FILE ID, got on google drive with condivision link\n",
        "download = drive.CreateFile({'id': users_dataset_id})\n",
        "download.GetContentFile('10lines_user.json')\n",
        "\n",
        "with open(\"10lines_user.json\", 'r') as fp:\n",
        "    for cnt, line in enumerate(fp):\n",
        "        json_data = json.loads(line)\n",
        "        user_id = json_data['user_id']\n",
        "        downloadUser(user_id, cnt)"
      ],
      "execution_count": 0,
      "outputs": []
    }
  ]
}