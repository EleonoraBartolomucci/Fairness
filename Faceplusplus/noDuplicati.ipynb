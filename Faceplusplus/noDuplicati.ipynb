{
  "nbformat": 4,
  "nbformat_minor": 0,
  "metadata": {
    "colab": {
      "name": "Untitled4.ipynb",
      "provenance": [],
      "include_colab_link": true
    },
    "kernelspec": {
      "name": "python3",
      "display_name": "Python 3"
    }
  },
  "cells": [
    {
      "cell_type": "markdown",
      "metadata": {
        "id": "view-in-github",
        "colab_type": "text"
      },
      "source": [
        "<a href=\"https://colab.research.google.com/github/EleonoraBartolomucci/Fairness/blob/master/Faceplusplus/noDuplicati.ipynb\" target=\"_parent\"><img src=\"https://colab.research.google.com/assets/colab-badge.svg\" alt=\"Open In Colab\"/></a>"
      ]
    },
    {
      "cell_type": "code",
      "metadata": {
        "id": "Tbk6Ps8zkkHD",
        "colab_type": "code",
        "colab": {}
      },
      "source": [
        "#da cambiare:\n",
        "#nome_ristorante\n",
        "#nome_ristorante_staccato_sort con il sort (del file scraping)\n",
        "#nome_ristorante_sort con il sort \n",
        "#users_restaurant_id (link condivisibile del csv con tutte le review)\n",
        "#sentiment_id (link condivisibile del csv con il sentiment RANDOM)\n",
        "#file_list (cartella da cui prendo le foto)\n",
        "from pydrive.auth import GoogleAuth\n",
        "from pydrive.drive import GoogleDrive\n",
        "from oauth2client.client import GoogleCredentials\n",
        "from google.colab import auth\n",
        "import json\n",
        "import pandas as pd\n",
        "import csv\n",
        "\n",
        "auth.authenticate_user()\n",
        "gauth = GoogleAuth()\n",
        "gauth.credentials = GoogleCredentials.get_application_default()\n",
        "drive = GoogleDrive(gauth)\n",
        "\n",
        "nome_ristorante = 'TupeloHoney'\n",
        "\n",
        "# users_restaurant_id = id del file csv del ristorante (si trova in data > face_data > Clarifai > (nomeRistorante) > (nomeRistorante)_Random_UsersData.csv)\n",
        "#File dove ci sono id e recensione\n",
        "users_restaurant_id = '1uuA0QH-DJklvtiekxS-7yaXfKRi9ux06'  # FILE ID, got on google drive with condivision link \n",
        "download = drive.CreateFile({'id': users_restaurant_id})\n",
        "download.GetContentFile('%s' % nome_ristorante + '_Random_UsersData.csv')\n",
        "\n",
        "#leggo il file csv del ristorante\n",
        "clarifai = pd.read_csv('%s' % nome_ristorante + '_Random_UsersData.csv')\n",
        "\n",
        "df = clarifai.sort_values(['id', 'age'], ascending=[True, False])\n",
        "df = df.drop_duplicates('id',keep='first').reset_index(drop=True)\n",
        "\n",
        "#csv contenente user_id e review\n",
        "df.to_csv('%s' % nome_ristorante + '_NoDuplicati_Random_UsersData.csv', index=False)\n",
        "\n",
        "folder_id = '1IzKxj9S7BBipH2y832oGcAWPPQmxzTFs'    #cartella dove metto il csv\n",
        "file_metadata = {'title': '%s' % nome_ristorante + '_NoDuplicati_Random_UsersData.csv',\"parents\":[{\"id\": folder_id,\"kind\":\"drive#childList\"}]}\n",
        "folder = drive.CreateFile(file_metadata)\n",
        "folder.SetContentFile('%s' % nome_ristorante + '_NoDuplicati_Random_UsersData.csv') #The contents of the file\n",
        "folder.Upload()"
      ],
      "execution_count": 0,
      "outputs": []
    }
  ]
}