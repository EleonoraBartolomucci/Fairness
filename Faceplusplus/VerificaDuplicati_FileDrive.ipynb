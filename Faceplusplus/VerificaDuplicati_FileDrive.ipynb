{
  "nbformat": 4,
  "nbformat_minor": 0,
  "metadata": {
    "colab": {
      "name": "Untitled0.ipynb",
      "provenance": [],
      "include_colab_link": true
    },
    "kernelspec": {
      "name": "python3",
      "display_name": "Python 3"
    }
  },
  "cells": [
    {
      "cell_type": "markdown",
      "metadata": {
        "id": "view-in-github",
        "colab_type": "text"
      },
      "source": [
        "<a href=\"https://colab.research.google.com/github/EleonoraBartolomucci/Fairness/blob/master/Faceplusplus/VerificaDuplicati_FileDrive.ipynb\" target=\"_parent\"><img src=\"https://colab.research.google.com/assets/colab-badge.svg\" alt=\"Open In Colab\"/></a>"
      ]
    },
    {
      "cell_type": "code",
      "metadata": {
        "id": "aJ2heG9kxD7F",
        "colab_type": "code",
        "outputId": "355a7e15-6cbf-4f81-cb17-031a359547bf",
        "colab": {
          "base_uri": "https://localhost:8080/",
          "height": 51
        }
      },
      "source": [
        "from pydrive.auth import GoogleAuth\n",
        "from pydrive.drive import GoogleDrive\n",
        "from oauth2client.client import GoogleCredentials\n",
        "from google.colab import auth\n",
        "\n",
        "# Connect to Google Account\n",
        "auth.authenticate_user()\n",
        "gauth = GoogleAuth()\n",
        "gauth.credentials = GoogleCredentials.get_application_default()\n",
        "drive = GoogleDrive(gauth)\n",
        "\n",
        "#foto_drive = cartella dove ci sono le foto (data -> face_data -> Foto_User -> (nomeRistornate)10%(strategia))\n",
        "foto_drive = drive.ListFile({'q': \"'1sDTp0cUpFcZ2aOoJiKGsjbz5RLCxakyi' in parents and trashed=false\"}).GetList()\n",
        "lista_utenti_drive = []\n",
        "for file1 in foto_drive:\n",
        "  id = file1['title']\n",
        "  lista_utenti_drive.append(id[0:22])\n",
        "\n",
        "seen = set()\n",
        "duplicati = []\n",
        "for x in lista_utenti_drive:\n",
        "    if x not in seen:\n",
        "      seen.add(x)\n",
        "    else:\n",
        "      duplicati.append(x)\n",
        "\n",
        "print(len(lista_utenti_drive))\n",
        "print(duplicati)  "
      ],
      "execution_count": 0,
      "outputs": [
        {
          "output_type": "stream",
          "text": [
            "878\n",
            "[]\n"
          ],
          "name": "stdout"
        }
      ]
    }
  ]
}