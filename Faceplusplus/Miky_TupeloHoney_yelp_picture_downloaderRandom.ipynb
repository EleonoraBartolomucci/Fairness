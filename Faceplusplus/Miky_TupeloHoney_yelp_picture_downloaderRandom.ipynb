{
  "nbformat": 4,
  "nbformat_minor": 0,
  "metadata": {
    "colab": {
      "name": "Untitled0.ipynb",
      "provenance": [],
      "include_colab_link": true
    },
    "kernelspec": {
      "name": "python3",
      "display_name": "Python 3"
    }
  },
  "cells": [
    {
      "cell_type": "markdown",
      "metadata": {
        "id": "view-in-github",
        "colab_type": "text"
      },
      "source": [
        "<a href=\"https://colab.research.google.com/github/EleonoraBartolomucci/Fairness/blob/master/Faceplusplus/Miky_TupeloHoney_yelp_picture_downloaderRandom.ipynb\" target=\"_parent\"><img src=\"https://colab.research.google.com/assets/colab-badge.svg\" alt=\"Open In Colab\"/></a>"
      ]
    },
    {
      "cell_type": "code",
      "metadata": {
        "id": "Jl0nPnD7VUxo",
        "colab_type": "code",
        "colab": {}
      },
      "source": [
        "#da cambiare:\n",
        "# folder_id \n",
        "import requests\n",
        "from lxml import html\n",
        "import shutil\n",
        "import os\n",
        "import json\n",
        "\n",
        "def downloadUser(user_id, counter):\n",
        "\n",
        "    #Creare la cartella sul Drive dove andranno le foto (in data > face_data > Foto_User > (nomeRistorante)10%(strategia))\n",
        "    folder_id = '1Y4kVSFpVyLUA6uIAE9pAN12U82KNRZ6-'  # folder ID = CaboFishTaco_10%Random\n",
        "    filename = user_id + '.jpg'\n",
        "    url = 'https://www.yelp.com/user_details?userid=' + user_id\n",
        "\n",
        "    try:\n",
        "        # Find user picture from web page\n",
        "        page_content = requests.get(url)\n",
        "        tree = html.fromstring(page_content.content)\n",
        "        if len(tree.xpath('//*[@id=\"wrap\"]/div[2]/div[1]/div/div[2]/div[1]/div/div/div/a/img/@src')) != 0:  # Picture found\n",
        "            image_url = tree.xpath('//*[@id=\"wrap\"]/div[2]/div[1]/div/div[2]/div[1]/div/div/div/a/img/@src')[0]\n",
        "\n",
        "            # View all folders and file in your folder\n",
        "            fileList = drive.ListFile({'q': \"'\" + folder_id + \"' in parents and trashed=false\"}).GetList()\n",
        "\n",
        "            # Create file on Google Drive\n",
        "            # param id = ID of Fairness/face_data folder in my Google Drive\n",
        "            drive_file = drive.CreateFile({'title': filename, 'parents': [{'id': folder_id}]})\n",
        "\n",
        "            # Check if file already exists in Google Drive (prevents duplicates)\n",
        "            for file in fileList:\n",
        "                # print('Title: %s, ID: %s' % (file['title'], file['id']))\n",
        "                if file['title'] == filename:  # The file already exists, then overwrite it\n",
        "                    fileID = file['id']\n",
        "                    drive_file = drive.CreateFile({'id': fileID, 'title': filename, 'parents': [{'id': folder_id}]})\n",
        "\n",
        "            response = requests.get(image_url, stream=True)\n",
        "\n",
        "            # Create a local copy of user picture\n",
        "            with open(filename, 'wb') as out_file:\n",
        "                shutil.copyfileobj(response.raw, out_file)\n",
        "            del response\n",
        "\n",
        "            # Upload user picture on Google Drive\n",
        "            drive_file.SetContentFile(filename)  # path of local file content\n",
        "            drive_file.Upload()  # Upload the file.\n",
        "            # print('title: %s, mimeType: %s' % (drive_file['title'], drive_file['mimeType']))\n",
        "\n",
        "            # Delete local user pictures\n",
        "            if os.path.exists(filename):\n",
        "                os.remove(filename)\n",
        "            else:\n",
        "                print(\"The file does not exist\")\n",
        "\n",
        "    except:\n",
        "        print(\"Si è verificato un errore alla riga \" + str(counter) + \" del file user.json\")"
      ],
      "execution_count": 0,
      "outputs": []
    },
    {
      "cell_type": "code",
      "metadata": {
        "colab_type": "code",
        "id": "prhJYmSLmP0U",
        "colab": {}
      },
      "source": [
        "#Da cambiare:\n",
        "# users_restaurant_id, il nome del csv e quante foto prendere (10% del totale delle recensioni)\n",
        "# file_list mettere l'id della cartella da dove prendere le foto\n",
        "\n",
        "#10% foto di utenti random per ristorante\n",
        "from pydrive.auth import GoogleAuth\n",
        "from pydrive.drive import GoogleDrive\n",
        "from oauth2client.client import GoogleCredentials\n",
        "from google.colab import auth\n",
        "import json\n",
        "import csv\n",
        "import random\n",
        "import pandas as pd\n",
        "\n",
        "# Connect to Google Account\n",
        "auth.authenticate_user()\n",
        "gauth = GoogleAuth()\n",
        "gauth.credentials = GoogleCredentials.get_application_default()\n",
        "drive = GoogleDrive(gauth)\n",
        "\n",
        "nomeRistorante = 'Tupelo Honey'\n",
        "# DOWNLOAD Restaurant.csv FROM DRIVE\n",
        "# users_restaurant_id = id del file csv del ristorante (si trova in data > Scraping > Reviews_Relevance > (nomeRistorante)_relevance_desc.csv)\n",
        "users_restaurant_id = '1aOTHWSNdkjzW7EyyaomdXxgnzjXdqN7S'  # FILE ID, got on google drive with condivision link\n",
        "download = drive.CreateFile({'id': users_restaurant_id})\n",
        "download.GetContentFile('%s' % nomeRistorante + '_relevance_desc.csv')\n",
        "\n",
        "#leggo il csv\n",
        "restaurant = pd.read_csv('%s' % nomeRistorante + '_relevance_desc.csv')\n",
        "\n",
        "file_list = drive.ListFile({'q': \"'1Y4kVSFpVyLUA6uIAE9pAN12U82KNRZ6-' in parents and trashed=false\"}).GetList()\n",
        "listaVecchia = []\n",
        "for file1 in file_list:\n",
        "  id = file1['title']\n",
        "  listaVecchia.append(id[0:22])\n",
        "\n",
        "#user_list = lista id utenti che ci sono anche nel dataset\n",
        "user_list = []\n",
        "for riga in restaurant['user_id']:\n",
        "  if riga not in listaVecchia:\n",
        "    user_list.append(riga)\n",
        "\n",
        "\n",
        "#random_user = lista id utenti random (10% del totale)\n",
        "#random_user = random.choices(user_list, k=300)\n",
        "#cnt = 0\n",
        "#Passo ogni id di random_user in downloadUser per scaricare le foto degli utenti\n",
        "#for user_id in random_user:\n",
        "  #id = '%s' % user_id\n",
        "  #downloadUser(id,cnt)\n",
        "  #print(cnt)\n",
        "  #cnt = cnt + 1"
      ],
      "execution_count": 0,
      "outputs": []
    },
    {
      "cell_type": "code",
      "metadata": {
        "id": "fnlPC-GI6eMC",
        "colab_type": "code",
        "colab": {}
      },
      "source": [
        "#random_user = lista id utenti random (10% del totale)\n",
        "#random_user = random.choices(user_list, k=50)\n",
        "\n",
        "cnt = 0\n",
        "foto_elaborate = 0\n",
        "#Passo ogni id di random_user in downloadUser per scaricare le foto degli utenti\n",
        "for user_id in user_list:\n",
        "  id = '%s' % user_id\n",
        "  downloadUser(id,cnt)\n",
        "  print(cnt)\n",
        "  cnt = cnt + 1"
      ],
      "execution_count": 0,
      "outputs": []
    },
    {
      "cell_type": "code",
      "metadata": {
        "id": "aJ2heG9kxD7F",
        "colab_type": "code",
        "outputId": "3d0b8f02-69f7-4012-e741-d501405a7a04",
        "colab": {
          "base_uri": "https://localhost:8080/",
          "height": 51
        }
      },
      "source": [
        "foto_drive = drive.ListFile({'q': \"'1Y4kVSFpVyLUA6uIAE9pAN12U82KNRZ6-' in parents and trashed=false\"}).GetList()\n",
        "lista_utenti_drive = []\n",
        "for file1 in foto_drive:\n",
        "  id = file1['title']\n",
        "  lista_utenti_drive.append(id[0:22])\n",
        "\n",
        "seen = set()\n",
        "duplicati = []\n",
        "for x in lista_utenti_drive:\n",
        "    if x not in seen:\n",
        "      seen.add(x)\n",
        "    else:\n",
        "      duplicati.append(x)\n",
        "\n",
        "print(len(lista_utenti_drive))\n",
        "print(duplicati)  "
      ],
      "execution_count": 3,
      "outputs": [
        {
          "output_type": "stream",
          "text": [
            "2093\n",
            "['-1qsCgSntypM0SP0w62Lpg', 'wlTd-6M1pkO7zs5CgopQOQ']\n"
          ],
          "name": "stdout"
        }
      ]
    }
  ]
}