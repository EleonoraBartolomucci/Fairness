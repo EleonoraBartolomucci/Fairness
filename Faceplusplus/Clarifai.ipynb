{
  "nbformat": 4,
  "nbformat_minor": 0,
  "metadata": {
    "colab": {
      "name": "Untitled2.ipynb",
      "provenance": [],
      "include_colab_link": true
    },
    "kernelspec": {
      "name": "python3",
      "display_name": "Python 3"
    }
  },
  "cells": [
    {
      "cell_type": "markdown",
      "metadata": {
        "id": "view-in-github",
        "colab_type": "text"
      },
      "source": [
        "<a href=\"https://colab.research.google.com/github/EleonoraBartolomucci/Fairness/blob/master/Faceplusplus/Clarifai.ipynb\" target=\"_parent\"><img src=\"https://colab.research.google.com/assets/colab-badge.svg\" alt=\"Open In Colab\"/></a>"
      ]
    },
    {
      "cell_type": "code",
      "metadata": {
        "id": "GFcSAhmZKgc0",
        "colab_type": "code",
        "outputId": "248ca6c3-c238-4aae-bb9e-1b82ad2aac8a",
        "colab": {
          "base_uri": "https://localhost:8080/",
          "height": 255
        }
      },
      "source": [
        "!pip install clarifai"
      ],
      "execution_count": 0,
      "outputs": [
        {
          "output_type": "stream",
          "text": [
            "Requirement already satisfied: clarifai in /usr/local/lib/python3.6/dist-packages (2.6.2)\n",
            "Requirement already satisfied: future<2,>=0.15 in /usr/local/lib/python3.6/dist-packages (from clarifai) (0.16.0)\n",
            "Requirement already satisfied: configparser<4,>=3.5 in /usr/local/lib/python3.6/dist-packages (from clarifai) (3.8.1)\n",
            "Requirement already satisfied: protobuf<4,>=3.6 in /usr/local/lib/python3.6/dist-packages (from clarifai) (3.10.0)\n",
            "Requirement already satisfied: googleapis-common-protos<2,>=1.5.0 in /usr/local/lib/python3.6/dist-packages (from clarifai) (1.51.0)\n",
            "Requirement already satisfied: requests<3,>=2.13 in /usr/local/lib/python3.6/dist-packages (from clarifai) (2.21.0)\n",
            "Requirement already satisfied: jsonschema<3,>=2.5 in /usr/local/lib/python3.6/dist-packages (from clarifai) (2.6.0)\n",
            "Requirement already satisfied: grpcio<2,>=1.13.0 in /usr/local/lib/python3.6/dist-packages (from clarifai) (1.27.1)\n",
            "Requirement already satisfied: six>=1.9 in /usr/local/lib/python3.6/dist-packages (from protobuf<4,>=3.6->clarifai) (1.12.0)\n",
            "Requirement already satisfied: setuptools in /usr/local/lib/python3.6/dist-packages (from protobuf<4,>=3.6->clarifai) (45.2.0)\n",
            "Requirement already satisfied: idna<2.9,>=2.5 in /usr/local/lib/python3.6/dist-packages (from requests<3,>=2.13->clarifai) (2.8)\n",
            "Requirement already satisfied: certifi>=2017.4.17 in /usr/local/lib/python3.6/dist-packages (from requests<3,>=2.13->clarifai) (2019.11.28)\n",
            "Requirement already satisfied: chardet<3.1.0,>=3.0.2 in /usr/local/lib/python3.6/dist-packages (from requests<3,>=2.13->clarifai) (3.0.4)\n",
            "Requirement already satisfied: urllib3<1.25,>=1.21.1 in /usr/local/lib/python3.6/dist-packages (from requests<3,>=2.13->clarifai) (1.24.3)\n"
          ],
          "name": "stdout"
        }
      ]
    },
    {
      "cell_type": "code",
      "metadata": {
        "id": "gzaOUar0JTrE",
        "colab_type": "code",
        "outputId": "31fae796-f731-42c1-8019-9732dcdbb2d1",
        "colab": {
          "base_uri": "https://localhost:8080/",
          "height": 54
        }
      },
      "source": [
        "from clarifai.rest import ClarifaiApp\n",
        "\n",
        "app = ClarifaiApp(api_key='6651c2b2e8d64d3291238ef15277c18c')\n",
        "model = app.models.get(model_id=\"c0c0ac362b03416da06ab3fa36fb58e3\")\n",
        "response = model.predict_by_url(url='https://samples.clarifai.com/demographics.jpg')\n",
        "print(response) #file json completo"
      ],
      "execution_count": 0,
      "outputs": [
        {
          "output_type": "stream",
          "text": [
            "{'status': {'code': 10000, 'description': 'Ok', 'req_id': 'ef8a331bce50469a86317cf91fc8a5b5'}, 'outputs': [{'id': '5aad23bb1b9b45489663a9823c007610', 'status': {'code': 10000, 'description': 'Ok'}, 'created_at': '2020-03-16T17:20:05.816303568Z', 'model': {'id': 'c0c0ac362b03416da06ab3fa36fb58e3', 'name': 'demographics', 'created_at': '2016-12-23T06:08:44.271674Z', 'app_id': 'main', 'output_info': {'message': 'Show output_info with: GET /models/{model_id}/output_info', 'type': 'detect-concept', 'type_ext': 'detect-concept'}, 'model_version': {'id': 'f783f0807c52474c8c6ad20c8cf45fc0', 'created_at': '2016-12-23T06:08:44.271674Z', 'status': {'code': 21100, 'description': 'Model is trained and ready'}}, 'display_name': 'Demographics'}, 'input': {'id': '20baa05cd6ea4cd8a489752709a72ef9', 'data': {'image': {'url': 'https://samples.clarifai.com/demographics.jpg'}}}, 'data': {'regions': [{'id': 'f2z3dkedhliy', 'region_info': {'bounding_box': {'top_row': 0.16826200485229492, 'left_col': 0.7487860321998596, 'bottom_row': 0.2844538390636444, 'right_col': 0.8262648582458496}}, 'data': {'concepts': [{'id': 'ai_KFWpWmRk', 'name': '36', 'value': 0.6132742166519165, 'app_id': 'main'}, {'id': 'ai_pm9dFGXp', 'name': '37', 'value': 0.5915167331695557, 'app_id': 'main'}, {'id': 'ai_Jn5sPpjV', 'name': '38', 'value': 0.5733829736709595, 'app_id': 'main'}, {'id': 'ai_3QlM0LQG', 'name': '35', 'value': 0.5590670108795166, 'app_id': 'main'}, {'id': 'ai_XCS0ZXlc', 'name': '39', 'value': 0.5464569330215454, 'app_id': 'main'}, {'id': 'ai_prhRGPd1', 'name': '34', 'value': 0.5370725393295288, 'app_id': 'main'}, {'id': 'ai_9SgNdvCZ', 'name': '33', 'value': 0.4970899224281311, 'app_id': 'main'}, {'id': 'ai_t7C4Hfmm', 'name': '29', 'value': 0.3988211154937744, 'app_id': 'main'}, {'id': 'ai_tzZdX8VP', 'name': '30', 'value': 0.3977455198764801, 'app_id': 'main'}, {'id': 'ai_wpbCDvCQ', 'name': '40', 'value': 0.39458900690078735, 'app_id': 'main'}, {'id': 'ai_J5NgRLQ1', 'name': '28', 'value': 0.38507524132728577, 'app_id': 'main'}, {'id': 'ai_z2K094hx', 'name': '31', 'value': 0.385055273771286, 'app_id': 'main'}, {'id': 'ai_1qNCjBCW', 'name': '27', 'value': 0.35720303654670715, 'app_id': 'main'}, {'id': 'ai_KG4tcMLc', 'name': '32', 'value': 0.354087233543396, 'app_id': 'main'}, {'id': 'ai_Lq29DpjP', 'name': '41', 'value': 0.2750159800052643, 'app_id': 'main'}, {'id': 'ai_hCkCX508', 'name': '26', 'value': 0.25001394748687744, 'app_id': 'main'}, {'id': 'ai_81J6NJF3', 'name': '25', 'value': 0.19896858930587769, 'app_id': 'main'}, {'id': 'ai_VtPhMhJv', 'name': '42', 'value': 0.182942196726799, 'app_id': 'main'}, {'id': 'ai_fFJR7TwD', 'name': '24', 'value': 0.15591956675052643, 'app_id': 'main'}, {'id': 'ai_DK5PKzTt', 'name': '44', 'value': 0.11876405775547028, 'app_id': 'main'}, {'id': 'ai_zgR2BBt0', 'name': 'masculine', 'value': 0.9998948574066162, 'app_id': 'main'}, {'id': 'ai_cVWr8NK5', 'name': 'feminine', 'value': 0.0001051470753736794, 'app_id': 'main'}, {'id': 'ai_l9ngrR28', 'name': 'hispanic, latino, or spanish origin', 'value': 0.3021068871021271, 'app_id': 'main'}, {'id': 'ai_r5F00Gqn', 'name': 'white', 'value': 0.296861857175827, 'app_id': 'main'}, {'id': 'ai_659b6V0v', 'name': 'asian', 'value': 0.10615414381027222, 'app_id': 'main'}, {'id': 'ai_bZft5m0H', 'name': 'middle eastern or north african', 'value': 0.08029557764530182, 'app_id': 'main'}, {'id': 'ai_WWxnB3mw', 'name': 'american indian or alaska native', 'value': 0.0696873664855957, 'app_id': 'main'}, {'id': 'ai_wScNwk9Z', 'name': 'black or african american', 'value': 0.0053947847336530685, 'app_id': 'main'}, {'id': 'ai_1qp01psl', 'name': 'native hawaiian or pacific islander', 'value': 0.002894020639359951, 'app_id': 'main'}], 'face': {'age_appearance': {'concepts': [{'id': 'ai_KFWpWmRk', 'name': '36', 'value': 0.6132742166519165, 'app_id': 'main'}, {'id': 'ai_pm9dFGXp', 'name': '37', 'value': 0.5915167331695557, 'app_id': 'main'}, {'id': 'ai_Jn5sPpjV', 'name': '38', 'value': 0.5733829736709595, 'app_id': 'main'}, {'id': 'ai_3QlM0LQG', 'name': '35', 'value': 0.5590670108795166, 'app_id': 'main'}, {'id': 'ai_XCS0ZXlc', 'name': '39', 'value': 0.5464569330215454, 'app_id': 'main'}, {'id': 'ai_prhRGPd1', 'name': '34', 'value': 0.5370725393295288, 'app_id': 'main'}, {'id': 'ai_9SgNdvCZ', 'name': '33', 'value': 0.4970899224281311, 'app_id': 'main'}, {'id': 'ai_t7C4Hfmm', 'name': '29', 'value': 0.3988211154937744, 'app_id': 'main'}, {'id': 'ai_tzZdX8VP', 'name': '30', 'value': 0.3977455198764801, 'app_id': 'main'}, {'id': 'ai_wpbCDvCQ', 'name': '40', 'value': 0.39458900690078735, 'app_id': 'main'}, {'id': 'ai_J5NgRLQ1', 'name': '28', 'value': 0.38507524132728577, 'app_id': 'main'}, {'id': 'ai_z2K094hx', 'name': '31', 'value': 0.385055273771286, 'app_id': 'main'}, {'id': 'ai_1qNCjBCW', 'name': '27', 'value': 0.35720303654670715, 'app_id': 'main'}, {'id': 'ai_KG4tcMLc', 'name': '32', 'value': 0.354087233543396, 'app_id': 'main'}, {'id': 'ai_Lq29DpjP', 'name': '41', 'value': 0.2750159800052643, 'app_id': 'main'}, {'id': 'ai_hCkCX508', 'name': '26', 'value': 0.25001394748687744, 'app_id': 'main'}, {'id': 'ai_81J6NJF3', 'name': '25', 'value': 0.19896858930587769, 'app_id': 'main'}, {'id': 'ai_VtPhMhJv', 'name': '42', 'value': 0.182942196726799, 'app_id': 'main'}, {'id': 'ai_fFJR7TwD', 'name': '24', 'value': 0.15591956675052643, 'app_id': 'main'}, {'id': 'ai_DK5PKzTt', 'name': '44', 'value': 0.11876405775547028, 'app_id': 'main'}]}, 'gender_appearance': {'concepts': [{'id': 'ai_zgR2BBt0', 'name': 'masculine', 'value': 0.9998948574066162, 'app_id': 'main'}, {'id': 'ai_cVWr8NK5', 'name': 'feminine', 'value': 0.0001051470753736794, 'app_id': 'main'}]}, 'multicultural_appearance': {'concepts': [{'id': 'ai_l9ngrR28', 'name': 'hispanic, latino, or spanish origin', 'value': 0.3021068871021271, 'app_id': 'main'}, {'id': 'ai_r5F00Gqn', 'name': 'white', 'value': 0.296861857175827, 'app_id': 'main'}, {'id': 'ai_659b6V0v', 'name': 'asian', 'value': 0.10615414381027222, 'app_id': 'main'}, {'id': 'ai_bZft5m0H', 'name': 'middle eastern or north african', 'value': 0.08029557764530182, 'app_id': 'main'}, {'id': 'ai_WWxnB3mw', 'name': 'american indian or alaska native', 'value': 0.0696873664855957, 'app_id': 'main'}, {'id': 'ai_wScNwk9Z', 'name': 'black or african american', 'value': 0.0053947847336530685, 'app_id': 'main'}, {'id': 'ai_1qp01psl', 'name': 'native hawaiian or pacific islander', 'value': 0.002894020639359951, 'app_id': 'main'}]}}}}, {'id': 'xmj7viz01o0j', 'region_info': {'bounding_box': {'top_row': 0.2453182488679886, 'left_col': 0.42262884974479675, 'bottom_row': 0.36598825454711914, 'right_col': 0.503084659576416}}, 'data': {'concepts': [{'id': 'ai_XCS0ZXlc', 'name': '39', 'value': 0.5286370515823364, 'app_id': 'main'}, {'id': 'ai_Jn5sPpjV', 'name': '38', 'value': 0.5226890444755554, 'app_id': 'main'}, {'id': 'ai_pm9dFGXp', 'name': '37', 'value': 0.5160263776779175, 'app_id': 'main'}, {'id': 'ai_KFWpWmRk', 'name': '36', 'value': 0.49979168176651, 'app_id': 'main'}, {'id': 'ai_wpbCDvCQ', 'name': '40', 'value': 0.44763147830963135, 'app_id': 'main'}, {'id': 'ai_3QlM0LQG', 'name': '35', 'value': 0.42345520853996277, 'app_id': 'main'}, {'id': 'ai_prhRGPd1', 'name': '34', 'value': 0.40141475200653076, 'app_id': 'main'}, {'id': 'ai_Lq29DpjP', 'name': '41', 'value': 0.3825654983520508, 'app_id': 'main'}, {'id': 'ai_9SgNdvCZ', 'name': '33', 'value': 0.3664429485797882, 'app_id': 'main'}, {'id': 'ai_VtPhMhJv', 'name': '42', 'value': 0.3310455083847046, 'app_id': 'main'}, {'id': 'ai_tzZdX8VP', 'name': '30', 'value': 0.29550355672836304, 'app_id': 'main'}, {'id': 'ai_t7C4Hfmm', 'name': '29', 'value': 0.2916153073310852, 'app_id': 'main'}, {'id': 'ai_z2K094hx', 'name': '31', 'value': 0.28260159492492676, 'app_id': 'main'}, {'id': 'ai_DK5PKzTt', 'name': '44', 'value': 0.28136882185935974, 'app_id': 'main'}, {'id': 'ai_J5NgRLQ1', 'name': '28', 'value': 0.2748938798904419, 'app_id': 'main'}, {'id': 'ai_9f5g2Wgg', 'name': '43', 'value': 0.2715728282928467, 'app_id': 'main'}, {'id': 'ai_KG4tcMLc', 'name': '32', 'value': 0.2636330723762512, 'app_id': 'main'}, {'id': 'ai_1qNCjBCW', 'name': '27', 'value': 0.24894534051418304, 'app_id': 'main'}, {'id': 'ai_4w8KM6Rd', 'name': '45', 'value': 0.23205749690532684, 'app_id': 'main'}, {'id': 'ai_fbRxTRbd', 'name': '46', 'value': 0.1792202889919281, 'app_id': 'main'}, {'id': 'ai_zgR2BBt0', 'name': 'masculine', 'value': 0.9976248741149902, 'app_id': 'main'}, {'id': 'ai_cVWr8NK5', 'name': 'feminine', 'value': 0.002375138457864523, 'app_id': 'main'}, {'id': 'ai_r5F00Gqn', 'name': 'white', 'value': 0.9655011892318726, 'app_id': 'main'}, {'id': 'ai_WWxnB3mw', 'name': 'american indian or alaska native', 'value': 0.03944612294435501, 'app_id': 'main'}, {'id': 'ai_l9ngrR28', 'name': 'hispanic, latino, or spanish origin', 'value': 0.010661370120942593, 'app_id': 'main'}, {'id': 'ai_wScNwk9Z', 'name': 'black or african american', 'value': 0.0023196968249976635, 'app_id': 'main'}, {'id': 'ai_659b6V0v', 'name': 'asian', 'value': 0.0017330977134406567, 'app_id': 'main'}, {'id': 'ai_bZft5m0H', 'name': 'middle eastern or north african', 'value': 0.0017138686962425709, 'app_id': 'main'}, {'id': 'ai_1qp01psl', 'name': 'native hawaiian or pacific islander', 'value': 0.0002500249247532338, 'app_id': 'main'}], 'face': {'age_appearance': {'concepts': [{'id': 'ai_XCS0ZXlc', 'name': '39', 'value': 0.5286370515823364, 'app_id': 'main'}, {'id': 'ai_Jn5sPpjV', 'name': '38', 'value': 0.5226890444755554, 'app_id': 'main'}, {'id': 'ai_pm9dFGXp', 'name': '37', 'value': 0.5160263776779175, 'app_id': 'main'}, {'id': 'ai_KFWpWmRk', 'name': '36', 'value': 0.49979168176651, 'app_id': 'main'}, {'id': 'ai_wpbCDvCQ', 'name': '40', 'value': 0.44763147830963135, 'app_id': 'main'}, {'id': 'ai_3QlM0LQG', 'name': '35', 'value': 0.42345520853996277, 'app_id': 'main'}, {'id': 'ai_prhRGPd1', 'name': '34', 'value': 0.40141475200653076, 'app_id': 'main'}, {'id': 'ai_Lq29DpjP', 'name': '41', 'value': 0.3825654983520508, 'app_id': 'main'}, {'id': 'ai_9SgNdvCZ', 'name': '33', 'value': 0.3664429485797882, 'app_id': 'main'}, {'id': 'ai_VtPhMhJv', 'name': '42', 'value': 0.3310455083847046, 'app_id': 'main'}, {'id': 'ai_tzZdX8VP', 'name': '30', 'value': 0.29550355672836304, 'app_id': 'main'}, {'id': 'ai_t7C4Hfmm', 'name': '29', 'value': 0.2916153073310852, 'app_id': 'main'}, {'id': 'ai_z2K094hx', 'name': '31', 'value': 0.28260159492492676, 'app_id': 'main'}, {'id': 'ai_DK5PKzTt', 'name': '44', 'value': 0.28136882185935974, 'app_id': 'main'}, {'id': 'ai_J5NgRLQ1', 'name': '28', 'value': 0.2748938798904419, 'app_id': 'main'}, {'id': 'ai_9f5g2Wgg', 'name': '43', 'value': 0.2715728282928467, 'app_id': 'main'}, {'id': 'ai_KG4tcMLc', 'name': '32', 'value': 0.2636330723762512, 'app_id': 'main'}, {'id': 'ai_1qNCjBCW', 'name': '27', 'value': 0.24894534051418304, 'app_id': 'main'}, {'id': 'ai_4w8KM6Rd', 'name': '45', 'value': 0.23205749690532684, 'app_id': 'main'}, {'id': 'ai_fbRxTRbd', 'name': '46', 'value': 0.1792202889919281, 'app_id': 'main'}]}, 'gender_appearance': {'concepts': [{'id': 'ai_zgR2BBt0', 'name': 'masculine', 'value': 0.9976248741149902, 'app_id': 'main'}, {'id': 'ai_cVWr8NK5', 'name': 'feminine', 'value': 0.002375138457864523, 'app_id': 'main'}]}, 'multicultural_appearance': {'concepts': [{'id': 'ai_r5F00Gqn', 'name': 'white', 'value': 0.9655011892318726, 'app_id': 'main'}, {'id': 'ai_WWxnB3mw', 'name': 'american indian or alaska native', 'value': 0.03944612294435501, 'app_id': 'main'}, {'id': 'ai_l9ngrR28', 'name': 'hispanic, latino, or spanish origin', 'value': 0.010661370120942593, 'app_id': 'main'}, {'id': 'ai_wScNwk9Z', 'name': 'black or african american', 'value': 0.0023196968249976635, 'app_id': 'main'}, {'id': 'ai_659b6V0v', 'name': 'asian', 'value': 0.0017330977134406567, 'app_id': 'main'}, {'id': 'ai_bZft5m0H', 'name': 'middle eastern or north african', 'value': 0.0017138686962425709, 'app_id': 'main'}, {'id': 'ai_1qp01psl', 'name': 'native hawaiian or pacific islander', 'value': 0.0002500249247532338, 'app_id': 'main'}]}}}}, {'id': 'ss53yqdic9kh', 'region_info': {'bounding_box': {'top_row': 0.23698313534259796, 'left_col': 0.09574883431196213, 'bottom_row': 0.4019778072834015, 'right_col': 0.20562440156936646}}, 'data': {'concepts': [{'id': 'ai_XCS0ZXlc', 'name': '39', 'value': 0.42991113662719727, 'app_id': 'main'}, {'id': 'ai_4w8KM6Rd', 'name': '45', 'value': 0.4250197410583496, 'app_id': 'main'}, {'id': 'ai_wpbCDvCQ', 'name': '40', 'value': 0.411471962928772, 'app_id': 'main'}, {'id': 'ai_DK5PKzTt', 'name': '44', 'value': 0.4056009352207184, 'app_id': 'main'}, {'id': 'ai_Lq29DpjP', 'name': '41', 'value': 0.39849400520324707, 'app_id': 'main'}, {'id': 'ai_Jn5sPpjV', 'name': '38', 'value': 0.39460110664367676, 'app_id': 'main'}, {'id': 'ai_fbRxTRbd', 'name': '46', 'value': 0.3871912956237793, 'app_id': 'main'}, {'id': 'ai_VtPhMhJv', 'name': '42', 'value': 0.38662660121917725, 'app_id': 'main'}, {'id': 'ai_9f5g2Wgg', 'name': '43', 'value': 0.3664883077144623, 'app_id': 'main'}, {'id': 'ai_9stlV794', 'name': '47', 'value': 0.34968477487564087, 'app_id': 'main'}, {'id': 'ai_pm9dFGXp', 'name': '37', 'value': 0.3415319323539734, 'app_id': 'main'}, {'id': 'ai_4124wHvG', 'name': '48', 'value': 0.32477712631225586, 'app_id': 'main'}, {'id': 'ai_B42sCp6t', 'name': '49', 'value': 0.3130453824996948, 'app_id': 'main'}, {'id': 'ai_wDDRSlqF', 'name': '50', 'value': 0.2935182452201843, 'app_id': 'main'}, {'id': 'ai_KFWpWmRk', 'name': '36', 'value': 0.29123425483703613, 'app_id': 'main'}, {'id': 'ai_9DCQKqhJ', 'name': '51', 'value': 0.2729595899581909, 'app_id': 'main'}, {'id': 'ai_cPX160mW', 'name': '52', 'value': 0.25836706161499023, 'app_id': 'main'}, {'id': 'ai_0MwHlcbx', 'name': '53', 'value': 0.2286309003829956, 'app_id': 'main'}, {'id': 'ai_38qJ9qlS', 'name': '55', 'value': 0.22450681030750275, 'app_id': 'main'}, {'id': 'ai_Mp3n0xln', 'name': '54', 'value': 0.21414393186569214, 'app_id': 'main'}, {'id': 'ai_zgR2BBt0', 'name': 'masculine', 'value': 0.9859321713447571, 'app_id': 'main'}, {'id': 'ai_cVWr8NK5', 'name': 'feminine', 'value': 0.014067832380533218, 'app_id': 'main'}, {'id': 'ai_wScNwk9Z', 'name': 'black or african american', 'value': 0.8419432640075684, 'app_id': 'main'}, {'id': 'ai_659b6V0v', 'name': 'asian', 'value': 0.10326102375984192, 'app_id': 'main'}, {'id': 'ai_l9ngrR28', 'name': 'hispanic, latino, or spanish origin', 'value': 0.037210218608379364, 'app_id': 'main'}, {'id': 'ai_bZft5m0H', 'name': 'middle eastern or north african', 'value': 0.020018914714455605, 'app_id': 'main'}, {'id': 'ai_WWxnB3mw', 'name': 'american indian or alaska native', 'value': 0.014615972526371479, 'app_id': 'main'}, {'id': 'ai_1qp01psl', 'name': 'native hawaiian or pacific islander', 'value': 0.005231883842498064, 'app_id': 'main'}, {'id': 'ai_r5F00Gqn', 'name': 'white', 'value': 0.004046425223350525, 'app_id': 'main'}], 'face': {'age_appearance': {'concepts': [{'id': 'ai_XCS0ZXlc', 'name': '39', 'value': 0.42991113662719727, 'app_id': 'main'}, {'id': 'ai_4w8KM6Rd', 'name': '45', 'value': 0.4250197410583496, 'app_id': 'main'}, {'id': 'ai_wpbCDvCQ', 'name': '40', 'value': 0.411471962928772, 'app_id': 'main'}, {'id': 'ai_DK5PKzTt', 'name': '44', 'value': 0.4056009352207184, 'app_id': 'main'}, {'id': 'ai_Lq29DpjP', 'name': '41', 'value': 0.39849400520324707, 'app_id': 'main'}, {'id': 'ai_Jn5sPpjV', 'name': '38', 'value': 0.39460110664367676, 'app_id': 'main'}, {'id': 'ai_fbRxTRbd', 'name': '46', 'value': 0.3871912956237793, 'app_id': 'main'}, {'id': 'ai_VtPhMhJv', 'name': '42', 'value': 0.38662660121917725, 'app_id': 'main'}, {'id': 'ai_9f5g2Wgg', 'name': '43', 'value': 0.3664883077144623, 'app_id': 'main'}, {'id': 'ai_9stlV794', 'name': '47', 'value': 0.34968477487564087, 'app_id': 'main'}, {'id': 'ai_pm9dFGXp', 'name': '37', 'value': 0.3415319323539734, 'app_id': 'main'}, {'id': 'ai_4124wHvG', 'name': '48', 'value': 0.32477712631225586, 'app_id': 'main'}, {'id': 'ai_B42sCp6t', 'name': '49', 'value': 0.3130453824996948, 'app_id': 'main'}, {'id': 'ai_wDDRSlqF', 'name': '50', 'value': 0.2935182452201843, 'app_id': 'main'}, {'id': 'ai_KFWpWmRk', 'name': '36', 'value': 0.29123425483703613, 'app_id': 'main'}, {'id': 'ai_9DCQKqhJ', 'name': '51', 'value': 0.2729595899581909, 'app_id': 'main'}, {'id': 'ai_cPX160mW', 'name': '52', 'value': 0.25836706161499023, 'app_id': 'main'}, {'id': 'ai_0MwHlcbx', 'name': '53', 'value': 0.2286309003829956, 'app_id': 'main'}, {'id': 'ai_38qJ9qlS', 'name': '55', 'value': 0.22450681030750275, 'app_id': 'main'}, {'id': 'ai_Mp3n0xln', 'name': '54', 'value': 0.21414393186569214, 'app_id': 'main'}]}, 'gender_appearance': {'concepts': [{'id': 'ai_zgR2BBt0', 'name': 'masculine', 'value': 0.9859321713447571, 'app_id': 'main'}, {'id': 'ai_cVWr8NK5', 'name': 'feminine', 'value': 0.014067832380533218, 'app_id': 'main'}]}, 'multicultural_appearance': {'concepts': [{'id': 'ai_wScNwk9Z', 'name': 'black or african american', 'value': 0.8419432640075684, 'app_id': 'main'}, {'id': 'ai_659b6V0v', 'name': 'asian', 'value': 0.10326102375984192, 'app_id': 'main'}, {'id': 'ai_l9ngrR28', 'name': 'hispanic, latino, or spanish origin', 'value': 0.037210218608379364, 'app_id': 'main'}, {'id': 'ai_bZft5m0H', 'name': 'middle eastern or north african', 'value': 0.020018914714455605, 'app_id': 'main'}, {'id': 'ai_WWxnB3mw', 'name': 'american indian or alaska native', 'value': 0.014615972526371479, 'app_id': 'main'}, {'id': 'ai_1qp01psl', 'name': 'native hawaiian or pacific islander', 'value': 0.005231883842498064, 'app_id': 'main'}, {'id': 'ai_r5F00Gqn', 'name': 'white', 'value': 0.004046425223350525, 'app_id': 'main'}]}}}}]}}]}\n"
          ],
          "name": "stdout"
        }
      ]
    },
    {
      "cell_type": "code",
      "metadata": {
        "id": "gs0RTYzoCaNm",
        "colab_type": "code",
        "outputId": "39feac8d-213f-4003-9753-0bdb8f0d6d35",
        "colab": {
          "base_uri": "https://localhost:8080/",
          "height": 54
        }
      },
      "source": [
        "concepts = response['outputs'][0]['data']['regions'][0]['data']\n",
        "print(concepts)  #file json tagliato "
      ],
      "execution_count": 0,
      "outputs": [
        {
          "output_type": "stream",
          "text": [
            "{'concepts': [{'id': 'ai_KFWpWmRk', 'name': '36', 'value': 0.6132742166519165, 'app_id': 'main'}, {'id': 'ai_pm9dFGXp', 'name': '37', 'value': 0.5915167331695557, 'app_id': 'main'}, {'id': 'ai_Jn5sPpjV', 'name': '38', 'value': 0.5733829736709595, 'app_id': 'main'}, {'id': 'ai_3QlM0LQG', 'name': '35', 'value': 0.5590670108795166, 'app_id': 'main'}, {'id': 'ai_XCS0ZXlc', 'name': '39', 'value': 0.5464569330215454, 'app_id': 'main'}, {'id': 'ai_prhRGPd1', 'name': '34', 'value': 0.5370725393295288, 'app_id': 'main'}, {'id': 'ai_9SgNdvCZ', 'name': '33', 'value': 0.4970899224281311, 'app_id': 'main'}, {'id': 'ai_t7C4Hfmm', 'name': '29', 'value': 0.3988211154937744, 'app_id': 'main'}, {'id': 'ai_tzZdX8VP', 'name': '30', 'value': 0.3977455198764801, 'app_id': 'main'}, {'id': 'ai_wpbCDvCQ', 'name': '40', 'value': 0.39458900690078735, 'app_id': 'main'}, {'id': 'ai_J5NgRLQ1', 'name': '28', 'value': 0.38507524132728577, 'app_id': 'main'}, {'id': 'ai_z2K094hx', 'name': '31', 'value': 0.385055273771286, 'app_id': 'main'}, {'id': 'ai_1qNCjBCW', 'name': '27', 'value': 0.35720303654670715, 'app_id': 'main'}, {'id': 'ai_KG4tcMLc', 'name': '32', 'value': 0.354087233543396, 'app_id': 'main'}, {'id': 'ai_Lq29DpjP', 'name': '41', 'value': 0.2750159800052643, 'app_id': 'main'}, {'id': 'ai_hCkCX508', 'name': '26', 'value': 0.25001394748687744, 'app_id': 'main'}, {'id': 'ai_81J6NJF3', 'name': '25', 'value': 0.19896858930587769, 'app_id': 'main'}, {'id': 'ai_VtPhMhJv', 'name': '42', 'value': 0.182942196726799, 'app_id': 'main'}, {'id': 'ai_fFJR7TwD', 'name': '24', 'value': 0.15591956675052643, 'app_id': 'main'}, {'id': 'ai_DK5PKzTt', 'name': '44', 'value': 0.11876405775547028, 'app_id': 'main'}, {'id': 'ai_zgR2BBt0', 'name': 'masculine', 'value': 0.9998948574066162, 'app_id': 'main'}, {'id': 'ai_cVWr8NK5', 'name': 'feminine', 'value': 0.0001051470753736794, 'app_id': 'main'}, {'id': 'ai_l9ngrR28', 'name': 'hispanic, latino, or spanish origin', 'value': 0.3021068871021271, 'app_id': 'main'}, {'id': 'ai_r5F00Gqn', 'name': 'white', 'value': 0.296861857175827, 'app_id': 'main'}, {'id': 'ai_659b6V0v', 'name': 'asian', 'value': 0.10615414381027222, 'app_id': 'main'}, {'id': 'ai_bZft5m0H', 'name': 'middle eastern or north african', 'value': 0.08029557764530182, 'app_id': 'main'}, {'id': 'ai_WWxnB3mw', 'name': 'american indian or alaska native', 'value': 0.0696873664855957, 'app_id': 'main'}, {'id': 'ai_wScNwk9Z', 'name': 'black or african american', 'value': 0.0053947847336530685, 'app_id': 'main'}, {'id': 'ai_1qp01psl', 'name': 'native hawaiian or pacific islander', 'value': 0.002894020639359951, 'app_id': 'main'}], 'face': {'age_appearance': {'concepts': [{'id': 'ai_KFWpWmRk', 'name': '36', 'value': 0.6132742166519165, 'app_id': 'main'}, {'id': 'ai_pm9dFGXp', 'name': '37', 'value': 0.5915167331695557, 'app_id': 'main'}, {'id': 'ai_Jn5sPpjV', 'name': '38', 'value': 0.5733829736709595, 'app_id': 'main'}, {'id': 'ai_3QlM0LQG', 'name': '35', 'value': 0.5590670108795166, 'app_id': 'main'}, {'id': 'ai_XCS0ZXlc', 'name': '39', 'value': 0.5464569330215454, 'app_id': 'main'}, {'id': 'ai_prhRGPd1', 'name': '34', 'value': 0.5370725393295288, 'app_id': 'main'}, {'id': 'ai_9SgNdvCZ', 'name': '33', 'value': 0.4970899224281311, 'app_id': 'main'}, {'id': 'ai_t7C4Hfmm', 'name': '29', 'value': 0.3988211154937744, 'app_id': 'main'}, {'id': 'ai_tzZdX8VP', 'name': '30', 'value': 0.3977455198764801, 'app_id': 'main'}, {'id': 'ai_wpbCDvCQ', 'name': '40', 'value': 0.39458900690078735, 'app_id': 'main'}, {'id': 'ai_J5NgRLQ1', 'name': '28', 'value': 0.38507524132728577, 'app_id': 'main'}, {'id': 'ai_z2K094hx', 'name': '31', 'value': 0.385055273771286, 'app_id': 'main'}, {'id': 'ai_1qNCjBCW', 'name': '27', 'value': 0.35720303654670715, 'app_id': 'main'}, {'id': 'ai_KG4tcMLc', 'name': '32', 'value': 0.354087233543396, 'app_id': 'main'}, {'id': 'ai_Lq29DpjP', 'name': '41', 'value': 0.2750159800052643, 'app_id': 'main'}, {'id': 'ai_hCkCX508', 'name': '26', 'value': 0.25001394748687744, 'app_id': 'main'}, {'id': 'ai_81J6NJF3', 'name': '25', 'value': 0.19896858930587769, 'app_id': 'main'}, {'id': 'ai_VtPhMhJv', 'name': '42', 'value': 0.182942196726799, 'app_id': 'main'}, {'id': 'ai_fFJR7TwD', 'name': '24', 'value': 0.15591956675052643, 'app_id': 'main'}, {'id': 'ai_DK5PKzTt', 'name': '44', 'value': 0.11876405775547028, 'app_id': 'main'}]}, 'gender_appearance': {'concepts': [{'id': 'ai_zgR2BBt0', 'name': 'masculine', 'value': 0.9998948574066162, 'app_id': 'main'}, {'id': 'ai_cVWr8NK5', 'name': 'feminine', 'value': 0.0001051470753736794, 'app_id': 'main'}]}, 'multicultural_appearance': {'concepts': [{'id': 'ai_l9ngrR28', 'name': 'hispanic, latino, or spanish origin', 'value': 0.3021068871021271, 'app_id': 'main'}, {'id': 'ai_r5F00Gqn', 'name': 'white', 'value': 0.296861857175827, 'app_id': 'main'}, {'id': 'ai_659b6V0v', 'name': 'asian', 'value': 0.10615414381027222, 'app_id': 'main'}, {'id': 'ai_bZft5m0H', 'name': 'middle eastern or north african', 'value': 0.08029557764530182, 'app_id': 'main'}, {'id': 'ai_WWxnB3mw', 'name': 'american indian or alaska native', 'value': 0.0696873664855957, 'app_id': 'main'}, {'id': 'ai_wScNwk9Z', 'name': 'black or african american', 'value': 0.0053947847336530685, 'app_id': 'main'}, {'id': 'ai_1qp01psl', 'name': 'native hawaiian or pacific islander', 'value': 0.002894020639359951, 'app_id': 'main'}]}}}\n"
          ],
          "name": "stdout"
        }
      ]
    },
    {
      "cell_type": "code",
      "metadata": {
        "id": "iC2fh34LXPIz",
        "colab_type": "code",
        "outputId": "ce576762-a11a-4d18-ee99-b0cbef800246",
        "colab": {
          "base_uri": "https://localhost:8080/",
          "height": 510
        }
      },
      "source": [
        "#Risultato\n",
        "for concept in concepts['concepts']:\n",
        "  print([concept['name']], concept['value'])"
      ],
      "execution_count": 0,
      "outputs": [
        {
          "output_type": "stream",
          "text": [
            "['36'] 0.6132742166519165\n",
            "['37'] 0.5915167331695557\n",
            "['38'] 0.5733829736709595\n",
            "['35'] 0.5590670108795166\n",
            "['39'] 0.5464569330215454\n",
            "['34'] 0.5370725393295288\n",
            "['33'] 0.4970899224281311\n",
            "['29'] 0.3988211154937744\n",
            "['30'] 0.3977455198764801\n",
            "['40'] 0.39458900690078735\n",
            "['28'] 0.38507524132728577\n",
            "['31'] 0.385055273771286\n",
            "['27'] 0.35720303654670715\n",
            "['32'] 0.354087233543396\n",
            "['41'] 0.2750159800052643\n",
            "['26'] 0.25001394748687744\n",
            "['25'] 0.19896858930587769\n",
            "['42'] 0.182942196726799\n",
            "['24'] 0.15591956675052643\n",
            "['44'] 0.11876405775547028\n",
            "['masculine'] 0.9998948574066162\n",
            "['feminine'] 0.0001051470753736794\n",
            "['hispanic, latino, or spanish origin'] 0.3021068871021271\n",
            "['white'] 0.296861857175827\n",
            "['asian'] 0.10615414381027222\n",
            "['middle eastern or north african'] 0.08029557764530182\n",
            "['american indian or alaska native'] 0.0696873664855957\n",
            "['black or african american'] 0.0053947847336530685\n",
            "['native hawaiian or pacific islander'] 0.002894020639359951\n"
          ],
          "name": "stdout"
        }
      ]
    }
  ]
}