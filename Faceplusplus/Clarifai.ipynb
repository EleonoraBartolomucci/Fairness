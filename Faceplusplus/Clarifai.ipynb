{
  "nbformat": 4,
  "nbformat_minor": 0,
  "metadata": {
    "colab": {
      "name": "Untitled2.ipynb",
      "provenance": [],
      "include_colab_link": true
    },
    "kernelspec": {
      "name": "python3",
      "display_name": "Python 3"
    }
  },
  "cells": [
    {
      "cell_type": "markdown",
      "metadata": {
        "id": "view-in-github",
        "colab_type": "text"
      },
      "source": [
        "<a href=\"https://colab.research.google.com/github/EleonoraBartolomucci/Fairness/blob/master/Faceplusplus/Clarifai.ipynb\" target=\"_parent\"><img src=\"https://colab.research.google.com/assets/colab-badge.svg\" alt=\"Open In Colab\"/></a>"
      ]
    },
    {
      "cell_type": "code",
      "metadata": {
        "id": "GFcSAhmZKgc0",
        "colab_type": "code",
        "outputId": "e46aa2c4-b338-4420-801e-df427e48a88e",
        "colab": {
          "base_uri": "https://localhost:8080/",
          "height": 425
        }
      },
      "source": [
        "!pip install clarifai"
      ],
      "execution_count": 1,
      "outputs": [
        {
          "output_type": "stream",
          "text": [
            "Collecting clarifai\n",
            "\u001b[?25l  Downloading https://files.pythonhosted.org/packages/7a/1b/b7718c29f54ba7545551724461a8c2891304b7e68e5f415c30b49499f5e1/clarifai-2.6.2.tar.gz (125kB)\n",
            "\r\u001b[K     |██▋                             | 10kB 17.4MB/s eta 0:00:01\r\u001b[K     |█████▏                          | 20kB 1.8MB/s eta 0:00:01\r\u001b[K     |███████▉                        | 30kB 2.4MB/s eta 0:00:01\r\u001b[K     |██████████▍                     | 40kB 1.7MB/s eta 0:00:01\r\u001b[K     |█████████████                   | 51kB 2.0MB/s eta 0:00:01\r\u001b[K     |███████████████▋                | 61kB 2.4MB/s eta 0:00:01\r\u001b[K     |██████████████████▎             | 71kB 2.5MB/s eta 0:00:01\r\u001b[K     |████████████████████▉           | 81kB 2.7MB/s eta 0:00:01\r\u001b[K     |███████████████████████▌        | 92kB 3.1MB/s eta 0:00:01\r\u001b[K     |██████████████████████████      | 102kB 2.8MB/s eta 0:00:01\r\u001b[K     |████████████████████████████▊   | 112kB 2.8MB/s eta 0:00:01\r\u001b[K     |███████████████████████████████▎| 122kB 2.8MB/s eta 0:00:01\r\u001b[K     |████████████████████████████████| 133kB 2.8MB/s \n",
            "\u001b[?25hRequirement already satisfied: future<2,>=0.15 in /usr/local/lib/python3.6/dist-packages (from clarifai) (0.16.0)\n",
            "Requirement already satisfied: requests<3,>=2.13 in /usr/local/lib/python3.6/dist-packages (from clarifai) (2.21.0)\n",
            "Collecting configparser<4,>=3.5\n",
            "  Downloading https://files.pythonhosted.org/packages/ab/1a/ec151e5e703ac80041eaccef923611bbcec2b667c20383655a06962732e9/configparser-3.8.1-py2.py3-none-any.whl\n",
            "Requirement already satisfied: jsonschema<3,>=2.5 in /usr/local/lib/python3.6/dist-packages (from clarifai) (2.6.0)\n",
            "Requirement already satisfied: grpcio<2,>=1.13.0 in /usr/local/lib/python3.6/dist-packages (from clarifai) (1.24.3)\n",
            "Requirement already satisfied: protobuf<4,>=3.6 in /usr/local/lib/python3.6/dist-packages (from clarifai) (3.10.0)\n",
            "Requirement already satisfied: googleapis-common-protos<2,>=1.5.0 in /usr/local/lib/python3.6/dist-packages (from clarifai) (1.51.0)\n",
            "Requirement already satisfied: urllib3<1.25,>=1.21.1 in /usr/local/lib/python3.6/dist-packages (from requests<3,>=2.13->clarifai) (1.24.3)\n",
            "Requirement already satisfied: certifi>=2017.4.17 in /usr/local/lib/python3.6/dist-packages (from requests<3,>=2.13->clarifai) (2019.11.28)\n",
            "Requirement already satisfied: idna<2.9,>=2.5 in /usr/local/lib/python3.6/dist-packages (from requests<3,>=2.13->clarifai) (2.8)\n",
            "Requirement already satisfied: chardet<3.1.0,>=3.0.2 in /usr/local/lib/python3.6/dist-packages (from requests<3,>=2.13->clarifai) (3.0.4)\n",
            "Requirement already satisfied: six>=1.5.2 in /usr/local/lib/python3.6/dist-packages (from grpcio<2,>=1.13.0->clarifai) (1.12.0)\n",
            "Requirement already satisfied: setuptools in /usr/local/lib/python3.6/dist-packages (from protobuf<4,>=3.6->clarifai) (45.2.0)\n",
            "Building wheels for collected packages: clarifai\n",
            "  Building wheel for clarifai (setup.py) ... \u001b[?25l\u001b[?25hdone\n",
            "  Created wheel for clarifai: filename=clarifai-2.6.2-cp36-none-any.whl size=188403 sha256=bb74c2fbbd89bc512c7a9790e696801e370a3dca5b97c19d51cb07e618ccd1a6\n",
            "  Stored in directory: /root/.cache/pip/wheels/17/2c/3b/d89ffd4572633f70872165cedf61813ac8047461ed5e1e3768\n",
            "Successfully built clarifai\n",
            "Installing collected packages: configparser, clarifai\n",
            "Successfully installed clarifai-2.6.2 configparser-3.8.1\n"
          ],
          "name": "stdout"
        }
      ]
    },
    {
      "cell_type": "code",
      "metadata": {
        "id": "gzaOUar0JTrE",
        "colab_type": "code",
        "outputId": "6289ebd1-1b42-444b-edb7-0302d06d7d28",
        "colab": {
          "base_uri": "https://localhost:8080/",
          "height": 54
        }
      },
      "source": [
        "from clarifai.rest import ClarifaiApp\n",
        "def detect_clarifai(id,url_photo):\n",
        "  app = ClarifaiApp(api_key='6651c2b2e8d64d3291238ef15277c18c')\n",
        "  model = app.models.get(model_id=\"c0c0ac362b03416da06ab3fa36fb58e3\")\n",
        "  response = model.predict_by_url(url= 'url_photo')\n",
        "  print(response) #file json completo"
      ],
      "execution_count": 10,
      "outputs": [
        {
          "output_type": "stream",
          "text": [
            "{'status': {'code': 10000, 'description': 'Ok', 'req_id': '3d6c00b45f8549ceb2425eacb9323801'}, 'outputs': [{'id': '77f0ac3e19974977a6bb9d3a6c6d4bec', 'status': {'code': 10000, 'description': 'Ok'}, 'created_at': '2020-03-18T10:47:58.765464227Z', 'model': {'id': 'c0c0ac362b03416da06ab3fa36fb58e3', 'name': 'demographics', 'created_at': '2016-12-23T06:08:44.271674Z', 'app_id': 'main', 'output_info': {'message': 'Show output_info with: GET /models/{model_id}/output_info', 'type': 'detect-concept', 'type_ext': 'detect-concept'}, 'model_version': {'id': 'f783f0807c52474c8c6ad20c8cf45fc0', 'created_at': '2016-12-23T06:08:44.271674Z', 'status': {'code': 21100, 'description': 'Model is trained and ready'}}, 'display_name': 'Demographics'}, 'input': {'id': 'a1ab2a9251e943d797ad1978e6f8e727', 'data': {'image': {'url': 'https://lh3.googleusercontent.com/IwATNE7I3j6iiW2VeO6aQj5-oJQs1edZrUgZot0o843jSgM17o6e_ARkVD1EgY7Fe78nzFfvKeo=s220'}}}, 'data': {'regions': [{'id': 'qz8qe78z1y35', 'region_info': {'bounding_box': {'top_row': 0.3171969950199127, 'left_col': 0.13562777638435364, 'bottom_row': 0.7074633240699768, 'right_col': 0.5262326002120972}}, 'data': {'concepts': [{'id': 'ai_cPX160mW', 'name': '52', 'value': 0.6850416660308838, 'app_id': 'main'}, {'id': 'ai_9DCQKqhJ', 'name': '51', 'value': 0.6827975511550903, 'app_id': 'main'}, {'id': 'ai_0MwHlcbx', 'name': '53', 'value': 0.6690899729728699, 'app_id': 'main'}, {'id': 'ai_38qJ9qlS', 'name': '55', 'value': 0.6592981815338135, 'app_id': 'main'}, {'id': 'ai_wDDRSlqF', 'name': '50', 'value': 0.6531433463096619, 'app_id': 'main'}, {'id': 'ai_Mp3n0xln', 'name': '54', 'value': 0.6364090442657471, 'app_id': 'main'}, {'id': 'ai_B42sCp6t', 'name': '49', 'value': 0.6099613904953003, 'app_id': 'main'}, {'id': 'ai_8Q4lxPgg', 'name': '56', 'value': 0.5608260035514832, 'app_id': 'main'}, {'id': 'ai_4124wHvG', 'name': '48', 'value': 0.559678316116333, 'app_id': 'main'}, {'id': 'ai_9stlV794', 'name': '47', 'value': 0.4788022041320801, 'app_id': 'main'}, {'id': 'ai_BWHSRMnQ', 'name': '57', 'value': 0.4481740891933441, 'app_id': 'main'}, {'id': 'ai_fbRxTRbd', 'name': '46', 'value': 0.3775045573711395, 'app_id': 'main'}, {'id': 'ai_ztBhNXKg', 'name': '58', 'value': 0.3516906797885895, 'app_id': 'main'}, {'id': 'ai_4w8KM6Rd', 'name': '45', 'value': 0.3014126420021057, 'app_id': 'main'}, {'id': 'ai_ClJqfzwF', 'name': '59', 'value': 0.25853416323661804, 'app_id': 'main'}, {'id': 'ai_n6HdHV1l', 'name': '60', 'value': 0.1647646129131317, 'app_id': 'main'}, {'id': 'ai_DK5PKzTt', 'name': '44', 'value': 0.1605406403541565, 'app_id': 'main'}, {'id': 'ai_9f5g2Wgg', 'name': '43', 'value': 0.12119157612323761, 'app_id': 'main'}, {'id': 'ai_xJdkKgQB', 'name': '61', 'value': 0.10458327829837799, 'app_id': 'main'}, {'id': 'ai_VtPhMhJv', 'name': '42', 'value': 0.09509535878896713, 'app_id': 'main'}, {'id': 'ai_zgR2BBt0', 'name': 'masculine', 'value': 0.9947828054428101, 'app_id': 'main'}, {'id': 'ai_cVWr8NK5', 'name': 'feminine', 'value': 0.005217220168560743, 'app_id': 'main'}, {'id': 'ai_r5F00Gqn', 'name': 'white', 'value': 0.9714446663856506, 'app_id': 'main'}, {'id': 'ai_WWxnB3mw', 'name': 'american indian or alaska native', 'value': 0.020563272759318352, 'app_id': 'main'}, {'id': 'ai_l9ngrR28', 'name': 'hispanic, latino, or spanish origin', 'value': 0.015728143975138664, 'app_id': 'main'}, {'id': 'ai_659b6V0v', 'name': 'asian', 'value': 0.00028316842508502305, 'app_id': 'main'}, {'id': 'ai_bZft5m0H', 'name': 'middle eastern or north african', 'value': 7.117456698324531e-05, 'app_id': 'main'}, {'id': 'ai_wScNwk9Z', 'name': 'black or african american', 'value': 2.469619175826665e-05, 'app_id': 'main'}, {'id': 'ai_1qp01psl', 'name': 'native hawaiian or pacific islander', 'value': 1.0853012099687476e-05, 'app_id': 'main'}], 'face': {'age_appearance': {'concepts': [{'id': 'ai_cPX160mW', 'name': '52', 'value': 0.6850416660308838, 'app_id': 'main'}, {'id': 'ai_9DCQKqhJ', 'name': '51', 'value': 0.6827975511550903, 'app_id': 'main'}, {'id': 'ai_0MwHlcbx', 'name': '53', 'value': 0.6690899729728699, 'app_id': 'main'}, {'id': 'ai_38qJ9qlS', 'name': '55', 'value': 0.6592981815338135, 'app_id': 'main'}, {'id': 'ai_wDDRSlqF', 'name': '50', 'value': 0.6531433463096619, 'app_id': 'main'}, {'id': 'ai_Mp3n0xln', 'name': '54', 'value': 0.6364090442657471, 'app_id': 'main'}, {'id': 'ai_B42sCp6t', 'name': '49', 'value': 0.6099613904953003, 'app_id': 'main'}, {'id': 'ai_8Q4lxPgg', 'name': '56', 'value': 0.5608260035514832, 'app_id': 'main'}, {'id': 'ai_4124wHvG', 'name': '48', 'value': 0.559678316116333, 'app_id': 'main'}, {'id': 'ai_9stlV794', 'name': '47', 'value': 0.4788022041320801, 'app_id': 'main'}, {'id': 'ai_BWHSRMnQ', 'name': '57', 'value': 0.4481740891933441, 'app_id': 'main'}, {'id': 'ai_fbRxTRbd', 'name': '46', 'value': 0.3775045573711395, 'app_id': 'main'}, {'id': 'ai_ztBhNXKg', 'name': '58', 'value': 0.3516906797885895, 'app_id': 'main'}, {'id': 'ai_4w8KM6Rd', 'name': '45', 'value': 0.3014126420021057, 'app_id': 'main'}, {'id': 'ai_ClJqfzwF', 'name': '59', 'value': 0.25853416323661804, 'app_id': 'main'}, {'id': 'ai_n6HdHV1l', 'name': '60', 'value': 0.1647646129131317, 'app_id': 'main'}, {'id': 'ai_DK5PKzTt', 'name': '44', 'value': 0.1605406403541565, 'app_id': 'main'}, {'id': 'ai_9f5g2Wgg', 'name': '43', 'value': 0.12119157612323761, 'app_id': 'main'}, {'id': 'ai_xJdkKgQB', 'name': '61', 'value': 0.10458327829837799, 'app_id': 'main'}, {'id': 'ai_VtPhMhJv', 'name': '42', 'value': 0.09509535878896713, 'app_id': 'main'}]}, 'gender_appearance': {'concepts': [{'id': 'ai_zgR2BBt0', 'name': 'masculine', 'value': 0.9947828054428101, 'app_id': 'main'}, {'id': 'ai_cVWr8NK5', 'name': 'feminine', 'value': 0.005217220168560743, 'app_id': 'main'}]}, 'multicultural_appearance': {'concepts': [{'id': 'ai_r5F00Gqn', 'name': 'white', 'value': 0.9714446663856506, 'app_id': 'main'}, {'id': 'ai_WWxnB3mw', 'name': 'american indian or alaska native', 'value': 0.020563272759318352, 'app_id': 'main'}, {'id': 'ai_l9ngrR28', 'name': 'hispanic, latino, or spanish origin', 'value': 0.015728143975138664, 'app_id': 'main'}, {'id': 'ai_659b6V0v', 'name': 'asian', 'value': 0.00028316842508502305, 'app_id': 'main'}, {'id': 'ai_bZft5m0H', 'name': 'middle eastern or north african', 'value': 7.117456698324531e-05, 'app_id': 'main'}, {'id': 'ai_wScNwk9Z', 'name': 'black or african american', 'value': 2.469619175826665e-05, 'app_id': 'main'}, {'id': 'ai_1qp01psl', 'name': 'native hawaiian or pacific islander', 'value': 1.0853012099687476e-05, 'app_id': 'main'}]}}}}, {'id': '66ji7jvrpu2c', 'region_info': {'bounding_box': {'top_row': 0.3965461254119873, 'left_col': 0.6698111295700073, 'bottom_row': 0.65992271900177, 'right_col': 0.9330466389656067}}, 'data': {'concepts': [{'id': 'ai_b5Qg1xcW', 'name': '66', 'value': 0.529079020023346, 'app_id': 'main'}, {'id': 'ai_l33Jh9cM', 'name': '64', 'value': 0.5075134634971619, 'app_id': 'main'}, {'id': 'ai_b9v88xq1', 'name': '63', 'value': 0.5059168338775635, 'app_id': 'main'}, {'id': 'ai_mrh2P5KX', 'name': '65', 'value': 0.49722009897232056, 'app_id': 'main'}, {'id': 'ai_K8S0FQcR', 'name': '67', 'value': 0.49587422609329224, 'app_id': 'main'}, {'id': 'ai_9FKMLRtR', 'name': '68', 'value': 0.45819878578186035, 'app_id': 'main'}, {'id': 'ai_pmFn7q1v', 'name': '62', 'value': 0.4376533627510071, 'app_id': 'main'}, {'id': 'ai_xJdkKgQB', 'name': '61', 'value': 0.4192776679992676, 'app_id': 'main'}, {'id': 'ai_gcsLZVfk', 'name': '69', 'value': 0.41147488355636597, 'app_id': 'main'}, {'id': 'ai_sQNVGFR3', 'name': '70', 'value': 0.39985254406929016, 'app_id': 'main'}, {'id': 'ai_n6HdHV1l', 'name': '60', 'value': 0.38044247031211853, 'app_id': 'main'}, {'id': 'ai_ZTwpfdqF', 'name': '71', 'value': 0.35444673895835876, 'app_id': 'main'}, {'id': 'ai_ClJqfzwF', 'name': '59', 'value': 0.34120503067970276, 'app_id': 'main'}, {'id': 'ai_ztBhNXKg', 'name': '58', 'value': 0.3178236782550812, 'app_id': 'main'}, {'id': 'ai_38qJ9qlS', 'name': '55', 'value': 0.31071001291275024, 'app_id': 'main'}, {'id': 'ai_8Q4lxPgg', 'name': '56', 'value': 0.310341477394104, 'app_id': 'main'}, {'id': 'ai_zR25gMvv', 'name': '72', 'value': 0.3051140308380127, 'app_id': 'main'}, {'id': 'ai_BWHSRMnQ', 'name': '57', 'value': 0.3013100326061249, 'app_id': 'main'}, {'id': 'ai_Mp3n0xln', 'name': '54', 'value': 0.2724447250366211, 'app_id': 'main'}, {'id': 'ai_DFTkCLXX', 'name': '73', 'value': 0.2511778771877289, 'app_id': 'main'}, {'id': 'ai_cVWr8NK5', 'name': 'feminine', 'value': 0.9607143402099609, 'app_id': 'main'}, {'id': 'ai_zgR2BBt0', 'name': 'masculine', 'value': 0.03928568214178085, 'app_id': 'main'}, {'id': 'ai_r5F00Gqn', 'name': 'white', 'value': 0.9881002306938171, 'app_id': 'main'}, {'id': 'ai_WWxnB3mw', 'name': 'american indian or alaska native', 'value': 0.0131681514903903, 'app_id': 'main'}, {'id': 'ai_wScNwk9Z', 'name': 'black or african american', 'value': 0.0015999195165932178, 'app_id': 'main'}, {'id': 'ai_bZft5m0H', 'name': 'middle eastern or north african', 'value': 0.0012348989257588983, 'app_id': 'main'}, {'id': 'ai_659b6V0v', 'name': 'asian', 'value': 0.0009761552209965885, 'app_id': 'main'}, {'id': 'ai_l9ngrR28', 'name': 'hispanic, latino, or spanish origin', 'value': 0.0005828887224197388, 'app_id': 'main'}, {'id': 'ai_1qp01psl', 'name': 'native hawaiian or pacific islander', 'value': 3.841850411845371e-05, 'app_id': 'main'}], 'face': {'age_appearance': {'concepts': [{'id': 'ai_b5Qg1xcW', 'name': '66', 'value': 0.529079020023346, 'app_id': 'main'}, {'id': 'ai_l33Jh9cM', 'name': '64', 'value': 0.5075134634971619, 'app_id': 'main'}, {'id': 'ai_b9v88xq1', 'name': '63', 'value': 0.5059168338775635, 'app_id': 'main'}, {'id': 'ai_mrh2P5KX', 'name': '65', 'value': 0.49722009897232056, 'app_id': 'main'}, {'id': 'ai_K8S0FQcR', 'name': '67', 'value': 0.49587422609329224, 'app_id': 'main'}, {'id': 'ai_9FKMLRtR', 'name': '68', 'value': 0.45819878578186035, 'app_id': 'main'}, {'id': 'ai_pmFn7q1v', 'name': '62', 'value': 0.4376533627510071, 'app_id': 'main'}, {'id': 'ai_xJdkKgQB', 'name': '61', 'value': 0.4192776679992676, 'app_id': 'main'}, {'id': 'ai_gcsLZVfk', 'name': '69', 'value': 0.41147488355636597, 'app_id': 'main'}, {'id': 'ai_sQNVGFR3', 'name': '70', 'value': 0.39985254406929016, 'app_id': 'main'}, {'id': 'ai_n6HdHV1l', 'name': '60', 'value': 0.38044247031211853, 'app_id': 'main'}, {'id': 'ai_ZTwpfdqF', 'name': '71', 'value': 0.35444673895835876, 'app_id': 'main'}, {'id': 'ai_ClJqfzwF', 'name': '59', 'value': 0.34120503067970276, 'app_id': 'main'}, {'id': 'ai_ztBhNXKg', 'name': '58', 'value': 0.3178236782550812, 'app_id': 'main'}, {'id': 'ai_38qJ9qlS', 'name': '55', 'value': 0.31071001291275024, 'app_id': 'main'}, {'id': 'ai_8Q4lxPgg', 'name': '56', 'value': 0.310341477394104, 'app_id': 'main'}, {'id': 'ai_zR25gMvv', 'name': '72', 'value': 0.3051140308380127, 'app_id': 'main'}, {'id': 'ai_BWHSRMnQ', 'name': '57', 'value': 0.3013100326061249, 'app_id': 'main'}, {'id': 'ai_Mp3n0xln', 'name': '54', 'value': 0.2724447250366211, 'app_id': 'main'}, {'id': 'ai_DFTkCLXX', 'name': '73', 'value': 0.2511778771877289, 'app_id': 'main'}]}, 'gender_appearance': {'concepts': [{'id': 'ai_cVWr8NK5', 'name': 'feminine', 'value': 0.9607143402099609, 'app_id': 'main'}, {'id': 'ai_zgR2BBt0', 'name': 'masculine', 'value': 0.03928568214178085, 'app_id': 'main'}]}, 'multicultural_appearance': {'concepts': [{'id': 'ai_r5F00Gqn', 'name': 'white', 'value': 0.9881002306938171, 'app_id': 'main'}, {'id': 'ai_WWxnB3mw', 'name': 'american indian or alaska native', 'value': 0.0131681514903903, 'app_id': 'main'}, {'id': 'ai_wScNwk9Z', 'name': 'black or african american', 'value': 0.0015999195165932178, 'app_id': 'main'}, {'id': 'ai_bZft5m0H', 'name': 'middle eastern or north african', 'value': 0.0012348989257588983, 'app_id': 'main'}, {'id': 'ai_659b6V0v', 'name': 'asian', 'value': 0.0009761552209965885, 'app_id': 'main'}, {'id': 'ai_l9ngrR28', 'name': 'hispanic, latino, or spanish origin', 'value': 0.0005828887224197388, 'app_id': 'main'}, {'id': 'ai_1qp01psl', 'name': 'native hawaiian or pacific islander', 'value': 3.841850411845371e-05, 'app_id': 'main'}]}}}}]}}]}\n"
          ],
          "name": "stdout"
        }
      ]
    },
    {
      "cell_type": "code",
      "metadata": {
        "id": "gs0RTYzoCaNm",
        "colab_type": "code",
        "outputId": "5eea2aed-6107-440f-a7f6-5394a3fca593",
        "colab": {
          "base_uri": "https://localhost:8080/",
          "height": 68
        }
      },
      "source": [
        "age = response['outputs'][0]['data']['regions'][0]['data']['face']['age_appearance']['concepts'][0]['name']\n",
        "gender = response['outputs'][0]['data']['regions'][0]['data']['face']['gender_appearance']['concepts'][0]['name']\n",
        "ethnicity = response['outputs'][0]['data']['regions'][0]['data']['face']['multicultural_appearance']['concepts'][0]['name']\n",
        "print(age)  #file json tagliato \n",
        "print(gender)\n",
        "print(ethnicity)"
      ],
      "execution_count": 16,
      "outputs": [
        {
          "output_type": "stream",
          "text": [
            "52\n",
            "masculine\n",
            "white\n"
          ],
          "name": "stdout"
        }
      ]
    }
  ]
}