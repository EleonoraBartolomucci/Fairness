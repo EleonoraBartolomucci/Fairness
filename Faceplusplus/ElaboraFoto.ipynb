{
  "nbformat": 4,
  "nbformat_minor": 0,
  "metadata": {
    "colab": {
      "name": "Untitled3.ipynb",
      "provenance": [],
      "collapsed_sections": [],
      "toc_visible": true,
      "include_colab_link": true
    },
    "kernelspec": {
      "name": "python3",
      "display_name": "Python 3"
    }
  },
  "cells": [
    {
      "cell_type": "markdown",
      "metadata": {
        "id": "view-in-github",
        "colab_type": "text"
      },
      "source": [
        "<a href=\"https://colab.research.google.com/github/EleonoraBartolomucci/Fairness/blob/master/Faceplusplus/ElaboraFoto.ipynb\" target=\"_parent\"><img src=\"https://colab.research.google.com/assets/colab-badge.svg\" alt=\"Open In Colab\"/></a>"
      ]
    },
    {
      "cell_type": "code",
      "metadata": {
        "id": "GZ8zUz4CSy_8",
        "colab_type": "code",
        "outputId": "3083f99c-deb6-42d8-9ab5-9a86c164602c",
        "colab": {
          "base_uri": "https://localhost:8080/",
          "height": 445
        }
      },
      "source": [
        "!pip install clarifai"
      ],
      "execution_count": 1,
      "outputs": [
        {
          "output_type": "stream",
          "text": [
            "Collecting clarifai\n",
            "\u001b[?25l  Downloading https://files.pythonhosted.org/packages/7a/1b/b7718c29f54ba7545551724461a8c2891304b7e68e5f415c30b49499f5e1/clarifai-2.6.2.tar.gz (125kB)\n",
            "\r\u001b[K     |██▋                             | 10kB 21.2MB/s eta 0:00:01\r\u001b[K     |█████▏                          | 20kB 3.2MB/s eta 0:00:01\r\u001b[K     |███████▉                        | 30kB 4.3MB/s eta 0:00:01\r\u001b[K     |██████████▍                     | 40kB 3.0MB/s eta 0:00:01\r\u001b[K     |█████████████                   | 51kB 3.4MB/s eta 0:00:01\r\u001b[K     |███████████████▋                | 61kB 4.0MB/s eta 0:00:01\r\u001b[K     |██████████████████▎             | 71kB 4.3MB/s eta 0:00:01\r\u001b[K     |████████████████████▉           | 81kB 4.6MB/s eta 0:00:01\r\u001b[K     |███████████████████████▌        | 92kB 5.2MB/s eta 0:00:01\r\u001b[K     |██████████████████████████      | 102kB 4.9MB/s eta 0:00:01\r\u001b[K     |████████████████████████████▊   | 112kB 4.9MB/s eta 0:00:01\r\u001b[K     |███████████████████████████████▎| 122kB 4.9MB/s eta 0:00:01\r\u001b[K     |████████████████████████████████| 133kB 4.9MB/s \n",
            "\u001b[?25hRequirement already satisfied: future<2,>=0.15 in /usr/local/lib/python3.6/dist-packages (from clarifai) (0.16.0)\n",
            "Requirement already satisfied: requests<3,>=2.13 in /usr/local/lib/python3.6/dist-packages (from clarifai) (2.21.0)\n",
            "Collecting configparser<4,>=3.5\n",
            "  Downloading https://files.pythonhosted.org/packages/ab/1a/ec151e5e703ac80041eaccef923611bbcec2b667c20383655a06962732e9/configparser-3.8.1-py2.py3-none-any.whl\n",
            "Requirement already satisfied: jsonschema<3,>=2.5 in /usr/local/lib/python3.6/dist-packages (from clarifai) (2.6.0)\n",
            "Requirement already satisfied: grpcio<2,>=1.13.0 in /usr/local/lib/python3.6/dist-packages (from clarifai) (1.24.3)\n",
            "Requirement already satisfied: protobuf<4,>=3.6 in /usr/local/lib/python3.6/dist-packages (from clarifai) (3.10.0)\n",
            "Requirement already satisfied: googleapis-common-protos<2,>=1.5.0 in /usr/local/lib/python3.6/dist-packages (from clarifai) (1.51.0)\n",
            "Requirement already satisfied: urllib3<1.25,>=1.21.1 in /usr/local/lib/python3.6/dist-packages (from requests<3,>=2.13->clarifai) (1.24.3)\n",
            "Requirement already satisfied: certifi>=2017.4.17 in /usr/local/lib/python3.6/dist-packages (from requests<3,>=2.13->clarifai) (2019.11.28)\n",
            "Requirement already satisfied: chardet<3.1.0,>=3.0.2 in /usr/local/lib/python3.6/dist-packages (from requests<3,>=2.13->clarifai) (3.0.4)\n",
            "Requirement already satisfied: idna<2.9,>=2.5 in /usr/local/lib/python3.6/dist-packages (from requests<3,>=2.13->clarifai) (2.8)\n",
            "Requirement already satisfied: six>=1.5.2 in /usr/local/lib/python3.6/dist-packages (from grpcio<2,>=1.13.0->clarifai) (1.12.0)\n",
            "Requirement already satisfied: setuptools in /usr/local/lib/python3.6/dist-packages (from protobuf<4,>=3.6->clarifai) (46.0.0)\n",
            "Building wheels for collected packages: clarifai\n",
            "  Building wheel for clarifai (setup.py) ... \u001b[?25l\u001b[?25hdone\n",
            "  Created wheel for clarifai: filename=clarifai-2.6.2-cp36-none-any.whl size=188403 sha256=d11667b7de000ba390f64700dda16e6e58755bc73019f0613e1a217a1620e20c\n",
            "  Stored in directory: /root/.cache/pip/wheels/17/2c/3b/d89ffd4572633f70872165cedf61813ac8047461ed5e1e3768\n",
            "Successfully built clarifai\n",
            "Installing collected packages: configparser, clarifai\n",
            "Successfully installed clarifai-2.6.2 configparser-3.8.1\n"
          ],
          "name": "stdout"
        }
      ]
    },
    {
      "cell_type": "code",
      "metadata": {
        "id": "uS7QEFTvTIgR",
        "colab_type": "code",
        "colab": {}
      },
      "source": [
        "import json\n",
        "import csv\n",
        "\n",
        "# apro e parso il file .json\n",
        "def convert(response):\n",
        "\n",
        "  with open('utenti.txt', 'w') as outfile:\n",
        "    json.dump(response, outfile) \n",
        "        \n",
        "  # apro e parso il file .json\n",
        "  data = open('utenti.txt').read()\n",
        "  data_parsed = json.loads(data)\n",
        "  \n",
        "  #creo e apro un file .csv per scrivere\n",
        "  file_parsed = open('File_Parsered.csv', 'w')\n",
        "    \n",
        "  #creo il writer\n",
        "  writer = csv.writer(file_parsed)\n",
        "\n",
        "  #creo header del csv\n",
        "  header = ['id', 'age', 'gender', 'ethnicity']\n",
        "  writer.writerow(header)\n",
        "\n",
        "  #ciclo per estrarre dal file json i valori di id, età, genere ed etnia\n",
        "  for person in data_parsed['user']:\n",
        "     writer.writerow([person['id'],\n",
        "                      person['age'],\n",
        "                      person['gender'],\n",
        "                      person['ethnicity']])\n",
        "     \n",
        "  \n",
        "  #salvo e chiudo il file .csv\n",
        "  file_parsed.close()"
      ],
      "execution_count": 0,
      "outputs": []
    },
    {
      "cell_type": "code",
      "metadata": {
        "id": "fcVAkxEuS4gf",
        "colab_type": "code",
        "colab": {}
      },
      "source": [
        "from clarifai.rest import ClarifaiApp\n",
        "import time\n",
        "\n",
        "def detect_clarifai(id, url_photo, data):\n",
        "  app = ClarifaiApp(api_key='6651c2b2e8d64d3291238ef15277c18c')\n",
        "  model = app.models.get(model_id=\"c0c0ac362b03416da06ab3fa36fb58e3\")\n",
        "  response = model.predict_by_url(url = '%s' % url_photo)\n",
        "\n",
        "  if response['outputs'][0]['data'] != {}:\n",
        "    x = 0\n",
        "    while (x < len(response['outputs'][0]['data']['regions'])):\n",
        "      age = response['outputs'][0]['data']['regions'][x]['data']['face']['age_appearance']['concepts'][0]['name']\n",
        "      gender = response['outputs'][0]['data']['regions'][x]['data']['face']['gender_appearance']['concepts'][0]['name']\n",
        "      ethnicity = response['outputs'][0]['data']['regions'][x]['data']['face']['multicultural_appearance']['concepts'][0]['name']\n",
        "\n",
        "      data['user'].append({\n",
        "         'id' : '%s' % id,\n",
        "         'age' : '%s' % age,\n",
        "         'gender' : '%s' % gender,\n",
        "         'ethnicity' : '%s' % ethnicity,\n",
        "      })\n",
        "      x = x + 1\n",
        "  else:\n",
        "    return"
      ],
      "execution_count": 0,
      "outputs": []
    },
    {
      "cell_type": "code",
      "metadata": {
        "id": "UGnktF9JTBfi",
        "colab_type": "code",
        "colab": {}
      },
      "source": [
        "from pydrive.auth import GoogleAuth\n",
        "from pydrive.drive import GoogleDrive\n",
        "from oauth2client.client import GoogleCredentials\n",
        "from google.colab import auth\n",
        "from clarifai.rest import ApiError\n",
        "import json\n",
        "\n",
        "auth.authenticate_user()\n",
        "gauth = GoogleAuth()\n",
        "gauth.credentials = GoogleCredentials.get_application_default()\n",
        "drive = GoogleDrive(gauth)\n",
        "\n",
        "#Auto-iterate through all files that matches this query\n",
        "file_list = drive.ListFile({'q': \"'18gjR0tXLt6ET54X-EcUZFBkS2u8Sn1R1' in parents and trashed=false\"}).GetList()\n",
        "\n",
        "data = {}\n",
        "data['user'] = []\n",
        "for file1 in file_list:\n",
        "  id = file1['title'] \n",
        "  detect_clarifai(id.rstrip('.jpg'), file1['thumbnailLink'], data)\n",
        "\n",
        "convert(data)"
      ],
      "execution_count": 0,
      "outputs": []
    }
  ]
}