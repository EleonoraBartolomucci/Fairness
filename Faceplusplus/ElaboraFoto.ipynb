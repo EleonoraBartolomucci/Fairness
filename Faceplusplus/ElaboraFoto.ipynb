{
  "nbformat": 4,
  "nbformat_minor": 0,
  "metadata": {
    "colab": {
      "name": "Untitled3.ipynb",
      "provenance": [],
      "collapsed_sections": [],
      "include_colab_link": true
    },
    "kernelspec": {
      "name": "python3",
      "display_name": "Python 3"
    }
  },
  "cells": [
    {
      "cell_type": "markdown",
      "metadata": {
        "id": "view-in-github",
        "colab_type": "text"
      },
      "source": [
        "<a href=\"https://colab.research.google.com/github/EleonoraBartolomucci/Fairness/blob/master/Faceplusplus/ElaboraFoto.ipynb\" target=\"_parent\"><img src=\"https://colab.research.google.com/assets/colab-badge.svg\" alt=\"Open In Colab\"/></a>"
      ]
    },
    {
      "cell_type": "code",
      "metadata": {
        "id": "GZ8zUz4CSy_8",
        "colab_type": "code",
        "outputId": "1180cf63-e347-4e28-d6d8-9c595b968ae9",
        "colab": {
          "base_uri": "https://localhost:8080/",
          "height": 271
        }
      },
      "source": [
        "!pip install clarifai"
      ],
      "execution_count": 49,
      "outputs": [
        {
          "output_type": "stream",
          "text": [
            "Requirement already satisfied: clarifai in /usr/local/lib/python3.6/dist-packages (2.6.2)\n",
            "Requirement already satisfied: configparser<4,>=3.5 in /usr/local/lib/python3.6/dist-packages (from clarifai) (3.8.1)\n",
            "Requirement already satisfied: jsonschema<3,>=2.5 in /usr/local/lib/python3.6/dist-packages (from clarifai) (2.6.0)\n",
            "Requirement already satisfied: googleapis-common-protos<2,>=1.5.0 in /usr/local/lib/python3.6/dist-packages (from clarifai) (1.51.0)\n",
            "Requirement already satisfied: grpcio<2,>=1.13.0 in /usr/local/lib/python3.6/dist-packages (from clarifai) (1.28.1)\n",
            "Requirement already satisfied: protobuf<4,>=3.6 in /usr/local/lib/python3.6/dist-packages (from clarifai) (3.10.0)\n",
            "Requirement already satisfied: requests<3,>=2.13 in /usr/local/lib/python3.6/dist-packages (from clarifai) (2.21.0)\n",
            "Requirement already satisfied: future<2,>=0.15 in /usr/local/lib/python3.6/dist-packages (from clarifai) (0.16.0)\n",
            "Requirement already satisfied: six>=1.5.2 in /usr/local/lib/python3.6/dist-packages (from grpcio<2,>=1.13.0->clarifai) (1.12.0)\n",
            "Requirement already satisfied: setuptools in /usr/local/lib/python3.6/dist-packages (from protobuf<4,>=3.6->clarifai) (46.1.3)\n",
            "Requirement already satisfied: urllib3<1.25,>=1.21.1 in /usr/local/lib/python3.6/dist-packages (from requests<3,>=2.13->clarifai) (1.24.3)\n",
            "Requirement already satisfied: idna<2.9,>=2.5 in /usr/local/lib/python3.6/dist-packages (from requests<3,>=2.13->clarifai) (2.8)\n",
            "Requirement already satisfied: certifi>=2017.4.17 in /usr/local/lib/python3.6/dist-packages (from requests<3,>=2.13->clarifai) (2020.4.5.1)\n",
            "Requirement already satisfied: chardet<3.1.0,>=3.0.2 in /usr/local/lib/python3.6/dist-packages (from requests<3,>=2.13->clarifai) (3.0.4)\n"
          ],
          "name": "stdout"
        }
      ]
    },
    {
      "cell_type": "code",
      "metadata": {
        "id": "uS7QEFTvTIgR",
        "colab_type": "code",
        "colab": {}
      },
      "source": [
        "import json\n",
        "import csv\n",
        "from pydrive.auth import GoogleAuth \n",
        "from pydrive.drive import GoogleDrive\n",
        "\n",
        "# apro e parso il file .json\n",
        "def convert(response):\n",
        "\n",
        "  with open('utenti.txt', 'w') as outfile:\n",
        "    json.dump(response, outfile) \n",
        "        \n",
        "  # apro e parso il file .json\n",
        "  data = open('utenti.txt').read()\n",
        "  data_parsed = json.loads(data)\n",
        "\n",
        "  #creo e apro un file .csv per scrivere\n",
        "  file_parsed = open('TupeloHoney_Users_Data.csv', 'w')\n",
        "    \n",
        "  #creo il writer\n",
        "  writer = csv.writer(file_parsed)\n",
        "\n",
        "  #creo header del csv\n",
        "  header = ['id', 'age', 'gender', 'ethnicity']\n",
        "  writer.writerow(header)\n",
        "\n",
        "  #ciclo per estrarre dal file json i valori di id, età, genere ed etnia\n",
        "  for person in data_parsed['user']:\n",
        "     writer.writerow([person['id'],\n",
        "                      person['age'],\n",
        "                      person['gender'],\n",
        "                      person['ethnicity']])\n",
        "     \n",
        "  \n",
        "  #salvo e chiudo il file .csv\n",
        "  file_parsed.close()\n",
        "\n",
        "  folder_id = '1YZbV52-LOU_cuRby0miQqneaRDXwTxX2'\n",
        "  file_metadata = {'title': 'TupeloHoney_Users_Data.csv',\"parents\":[{\"id\": folder_id,\"kind\":\"drive#childList\"}]}\n",
        "  folder = drive.CreateFile(file_metadata)\n",
        "  folder.SetContentFile('TupeloHoney_Users_Data.csv') #The contents of the file\n",
        "  folder.Upload()"
      ],
      "execution_count": 0,
      "outputs": []
    },
    {
      "cell_type": "code",
      "metadata": {
        "id": "fcVAkxEuS4gf",
        "colab_type": "code",
        "colab": {}
      },
      "source": [
        "from clarifai.rest import ClarifaiApp\n",
        "import time\n",
        "\n",
        "def detect_clarifai(id, url_photo, data):\n",
        "  app = ClarifaiApp(api_key='6651c2b2e8d64d3291238ef15277c18c')\n",
        "  model = app.models.get(model_id=\"c0c0ac362b03416da06ab3fa36fb58e3\")\n",
        "  response = model.predict_by_url(url = '%s' % url_photo)\n",
        "  \n",
        "  if response['outputs'][0]['data'] != {}:\n",
        "    x = 0\n",
        "    while (x < len(response['outputs'][0]['data']['regions'])):\n",
        "      age = response['outputs'][0]['data']['regions'][x]['data']['concepts'][0]['name']\n",
        "      gender = response['outputs'][0]['data']['regions'][x]['data']['concepts'][20]['name']\n",
        "      ethnicity = response['outputs'][0]['data']['regions'][x]['data']['concepts'][22]['name']\n",
        "\n",
        "      data['user'].append({\n",
        "          'id' : '%s' % id,\n",
        "          'age' : '%s' % age,\n",
        "          'gender' : '%s' % gender,\n",
        "          'ethnicity' : '%s' % ethnicity,\n",
        "      })\n",
        "      x = x + 1\n",
        "  else:\n",
        "    return"
      ],
      "execution_count": 0,
      "outputs": []
    },
    {
      "cell_type": "code",
      "metadata": {
        "id": "UGnktF9JTBfi",
        "colab_type": "code",
        "colab": {}
      },
      "source": [
        "from pydrive.auth import GoogleAuth\n",
        "from pydrive.drive import GoogleDrive\n",
        "from oauth2client.client import GoogleCredentials\n",
        "from google.colab import auth\n",
        "from clarifai.rest import ApiError\n",
        "import json\n",
        "\n",
        "auth.authenticate_user()\n",
        "gauth = GoogleAuth()\n",
        "gauth.credentials = GoogleCredentials.get_application_default()\n",
        "drive = GoogleDrive(gauth)\n",
        "\n",
        "#Auto-iterate through all files that matches this query\n",
        "file_list = drive.ListFile({'q': \"'1jn_TA3D_mLdPLZJ6C_yL8cwTt7ic5qLA' in parents and trashed=false\"}).GetList()\n",
        "\n",
        "data = {}\n",
        "data['user'] = []\n",
        "for file1 in file_list:\n",
        "  id = file1['title'] \n",
        "  detect_clarifai(id[0:22], file1['thumbnailLink'], data)\n",
        "\n",
        "convert(data)"
      ],
      "execution_count": 0,
      "outputs": []
    }
  ]
}