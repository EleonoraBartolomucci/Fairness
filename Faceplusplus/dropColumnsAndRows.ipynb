{
  "nbformat": 4,
  "nbformat_minor": 0,
  "metadata": {
    "colab": {
      "name": "Untitled7.ipynb",
      "provenance": [],
      "include_colab_link": true
    },
    "kernelspec": {
      "name": "python3",
      "display_name": "Python 3"
    }
  },
  "cells": [
    {
      "cell_type": "markdown",
      "metadata": {
        "id": "view-in-github",
        "colab_type": "text"
      },
      "source": [
        "<a href=\"https://colab.research.google.com/github/EleonoraBartolomucci/Fairness/blob/master/Faceplusplus/dropColumnsAndRows.ipynb\" target=\"_parent\"><img src=\"https://colab.research.google.com/assets/colab-badge.svg\" alt=\"Open In Colab\"/></a>"
      ]
    },
    {
      "cell_type": "code",
      "metadata": {
        "id": "fyyV5TC9w672",
        "colab_type": "code",
        "colab": {}
      },
      "source": [
        "from pydrive.auth import GoogleAuth\n",
        "from pydrive.drive import GoogleDrive\n",
        "from oauth2client.client import GoogleCredentials\n",
        "from google.colab import auth\n",
        "import csv\n",
        "import pandas as pd\n",
        "\n",
        "auth.authenticate_user()\n",
        "gauth = GoogleAuth()\n",
        "gauth.credentials = GoogleCredentials.get_application_default()\n",
        "drive = GoogleDrive(gauth)\n",
        "\n",
        "nome_ristorante = 'TupeloHoney_Random_UsersData'\n",
        "\n",
        "# DOWNLOAD Restaurant.csv FROM DRIVE\n",
        "# users_restaurant_id = id del file csv del ristorante (si trova in data > Scraping > Reviews_Relevance > (nomeRistorante)_relevance_desc.csv)\n",
        "f = '1uuA0QH-DJklvtiekxS-7yaXfKRi9ux06'  # FILE ID, got on google drive with condivision link\n",
        "download = drive.CreateFile({'id': f})\n",
        "download.GetContentFile('%s' % nome_ristorante + '.csv')\n",
        "\n",
        "df = pd.read_csv('%s' % nome_ristorante + '.csv')\n",
        "\n",
        "df1 = df.drop(df.columns[[0]], axis=1)\n",
        "\n",
        "#df.drop(df.tail(3).index, inplace=True)\n",
        "\n",
        "df1.to_csv('%s' % nome_ristorante + '.csv', index=False)\n",
        "\n",
        "download.SetContentFile('%s' % nome_ristorante + '.csv') #The contents of the file\n",
        "download.Upload()"
      ],
      "execution_count": 0,
      "outputs": []
    }
  ]
}